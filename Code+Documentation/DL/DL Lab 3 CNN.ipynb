{
 "cells": [
  {
   "cell_type": "code",
   "execution_count": 1,
   "metadata": {
    "id": "ooPxoMVP4a15"
   },
   "outputs": [],
   "source": [
    "import numpy as np\n",
    "import pandas as pd\n",
    "import matplotlib.pyplot as plt\n",
    "import seaborn as sns"
   ]
  },
  {
   "cell_type": "code",
   "execution_count": 2,
   "metadata": {
    "id": "nCqfwJ1k4tvn"
   },
   "outputs": [],
   "source": [
    "%matplotlib inline"
   ]
  },
  {
   "cell_type": "code",
   "execution_count": 3,
   "metadata": {
    "id": "08_sTJgv4zNh"
   },
   "outputs": [],
   "source": [
    "fashion_train_df= pd.read_csv('fashion-mnist_train.csv')"
   ]
  },
  {
   "cell_type": "code",
   "execution_count": 4,
   "metadata": {
    "id": "nzH17Opt48GA"
   },
   "outputs": [],
   "source": [
    "fashion_test_df = pd.read_csv('fashion-mnist_test.csv')"
   ]
  },
  {
   "cell_type": "code",
   "execution_count": 5,
   "metadata": {
    "colab": {
     "base_uri": "https://localhost:8080/",
     "height": 300
    },
    "id": "S8Jn0K9e5BsI",
    "outputId": "e093c30e-255e-4baa-87e3-27e99ce672b4"
   },
   "outputs": [
    {
     "data": {
      "text/html": [
       "<div>\n",
       "<style scoped>\n",
       "    .dataframe tbody tr th:only-of-type {\n",
       "        vertical-align: middle;\n",
       "    }\n",
       "\n",
       "    .dataframe tbody tr th {\n",
       "        vertical-align: top;\n",
       "    }\n",
       "\n",
       "    .dataframe thead th {\n",
       "        text-align: right;\n",
       "    }\n",
       "</style>\n",
       "<table border=\"1\" class=\"dataframe\">\n",
       "  <thead>\n",
       "    <tr style=\"text-align: right;\">\n",
       "      <th></th>\n",
       "      <th>label</th>\n",
       "      <th>pixel1</th>\n",
       "      <th>pixel2</th>\n",
       "      <th>pixel3</th>\n",
       "      <th>pixel4</th>\n",
       "      <th>pixel5</th>\n",
       "      <th>pixel6</th>\n",
       "      <th>pixel7</th>\n",
       "      <th>pixel8</th>\n",
       "      <th>pixel9</th>\n",
       "      <th>...</th>\n",
       "      <th>pixel775</th>\n",
       "      <th>pixel776</th>\n",
       "      <th>pixel777</th>\n",
       "      <th>pixel778</th>\n",
       "      <th>pixel779</th>\n",
       "      <th>pixel780</th>\n",
       "      <th>pixel781</th>\n",
       "      <th>pixel782</th>\n",
       "      <th>pixel783</th>\n",
       "      <th>pixel784</th>\n",
       "    </tr>\n",
       "  </thead>\n",
       "  <tbody>\n",
       "    <tr>\n",
       "      <th>0</th>\n",
       "      <td>2</td>\n",
       "      <td>0</td>\n",
       "      <td>0</td>\n",
       "      <td>0</td>\n",
       "      <td>0</td>\n",
       "      <td>0</td>\n",
       "      <td>0</td>\n",
       "      <td>0</td>\n",
       "      <td>0</td>\n",
       "      <td>0</td>\n",
       "      <td>...</td>\n",
       "      <td>0</td>\n",
       "      <td>0</td>\n",
       "      <td>0</td>\n",
       "      <td>0</td>\n",
       "      <td>0</td>\n",
       "      <td>0</td>\n",
       "      <td>0</td>\n",
       "      <td>0</td>\n",
       "      <td>0</td>\n",
       "      <td>0</td>\n",
       "    </tr>\n",
       "    <tr>\n",
       "      <th>1</th>\n",
       "      <td>9</td>\n",
       "      <td>0</td>\n",
       "      <td>0</td>\n",
       "      <td>0</td>\n",
       "      <td>0</td>\n",
       "      <td>0</td>\n",
       "      <td>0</td>\n",
       "      <td>0</td>\n",
       "      <td>0</td>\n",
       "      <td>0</td>\n",
       "      <td>...</td>\n",
       "      <td>0</td>\n",
       "      <td>0</td>\n",
       "      <td>0</td>\n",
       "      <td>0</td>\n",
       "      <td>0</td>\n",
       "      <td>0</td>\n",
       "      <td>0</td>\n",
       "      <td>0</td>\n",
       "      <td>0</td>\n",
       "      <td>0</td>\n",
       "    </tr>\n",
       "    <tr>\n",
       "      <th>2</th>\n",
       "      <td>6</td>\n",
       "      <td>0</td>\n",
       "      <td>0</td>\n",
       "      <td>0</td>\n",
       "      <td>0</td>\n",
       "      <td>0</td>\n",
       "      <td>0</td>\n",
       "      <td>0</td>\n",
       "      <td>5</td>\n",
       "      <td>0</td>\n",
       "      <td>...</td>\n",
       "      <td>0</td>\n",
       "      <td>0</td>\n",
       "      <td>0</td>\n",
       "      <td>30</td>\n",
       "      <td>43</td>\n",
       "      <td>0</td>\n",
       "      <td>0</td>\n",
       "      <td>0</td>\n",
       "      <td>0</td>\n",
       "      <td>0</td>\n",
       "    </tr>\n",
       "    <tr>\n",
       "      <th>3</th>\n",
       "      <td>0</td>\n",
       "      <td>0</td>\n",
       "      <td>0</td>\n",
       "      <td>0</td>\n",
       "      <td>1</td>\n",
       "      <td>2</td>\n",
       "      <td>0</td>\n",
       "      <td>0</td>\n",
       "      <td>0</td>\n",
       "      <td>0</td>\n",
       "      <td>...</td>\n",
       "      <td>3</td>\n",
       "      <td>0</td>\n",
       "      <td>0</td>\n",
       "      <td>0</td>\n",
       "      <td>0</td>\n",
       "      <td>1</td>\n",
       "      <td>0</td>\n",
       "      <td>0</td>\n",
       "      <td>0</td>\n",
       "      <td>0</td>\n",
       "    </tr>\n",
       "    <tr>\n",
       "      <th>4</th>\n",
       "      <td>3</td>\n",
       "      <td>0</td>\n",
       "      <td>0</td>\n",
       "      <td>0</td>\n",
       "      <td>0</td>\n",
       "      <td>0</td>\n",
       "      <td>0</td>\n",
       "      <td>0</td>\n",
       "      <td>0</td>\n",
       "      <td>0</td>\n",
       "      <td>...</td>\n",
       "      <td>0</td>\n",
       "      <td>0</td>\n",
       "      <td>0</td>\n",
       "      <td>0</td>\n",
       "      <td>0</td>\n",
       "      <td>0</td>\n",
       "      <td>0</td>\n",
       "      <td>0</td>\n",
       "      <td>0</td>\n",
       "      <td>0</td>\n",
       "    </tr>\n",
       "  </tbody>\n",
       "</table>\n",
       "<p>5 rows × 785 columns</p>\n",
       "</div>"
      ],
      "text/plain": [
       "   label  pixel1  pixel2  pixel3  pixel4  pixel5  pixel6  pixel7  pixel8  \\\n",
       "0      2       0       0       0       0       0       0       0       0   \n",
       "1      9       0       0       0       0       0       0       0       0   \n",
       "2      6       0       0       0       0       0       0       0       5   \n",
       "3      0       0       0       0       1       2       0       0       0   \n",
       "4      3       0       0       0       0       0       0       0       0   \n",
       "\n",
       "   pixel9  ...  pixel775  pixel776  pixel777  pixel778  pixel779  pixel780  \\\n",
       "0       0  ...         0         0         0         0         0         0   \n",
       "1       0  ...         0         0         0         0         0         0   \n",
       "2       0  ...         0         0         0        30        43         0   \n",
       "3       0  ...         3         0         0         0         0         1   \n",
       "4       0  ...         0         0         0         0         0         0   \n",
       "\n",
       "   pixel781  pixel782  pixel783  pixel784  \n",
       "0         0         0         0         0  \n",
       "1         0         0         0         0  \n",
       "2         0         0         0         0  \n",
       "3         0         0         0         0  \n",
       "4         0         0         0         0  \n",
       "\n",
       "[5 rows x 785 columns]"
      ]
     },
     "execution_count": 5,
     "metadata": {},
     "output_type": "execute_result"
    }
   ],
   "source": [
    "fashion_train_df.head()"
   ]
  },
  {
   "cell_type": "code",
   "execution_count": 6,
   "metadata": {
    "colab": {
     "base_uri": "https://localhost:8080/",
     "height": 300
    },
    "id": "KWVUF3NW5E5w",
    "outputId": "edc0dd7b-b2f5-4956-dd11-f442e8904f26"
   },
   "outputs": [
    {
     "data": {
      "text/html": [
       "<div>\n",
       "<style scoped>\n",
       "    .dataframe tbody tr th:only-of-type {\n",
       "        vertical-align: middle;\n",
       "    }\n",
       "\n",
       "    .dataframe tbody tr th {\n",
       "        vertical-align: top;\n",
       "    }\n",
       "\n",
       "    .dataframe thead th {\n",
       "        text-align: right;\n",
       "    }\n",
       "</style>\n",
       "<table border=\"1\" class=\"dataframe\">\n",
       "  <thead>\n",
       "    <tr style=\"text-align: right;\">\n",
       "      <th></th>\n",
       "      <th>label</th>\n",
       "      <th>pixel1</th>\n",
       "      <th>pixel2</th>\n",
       "      <th>pixel3</th>\n",
       "      <th>pixel4</th>\n",
       "      <th>pixel5</th>\n",
       "      <th>pixel6</th>\n",
       "      <th>pixel7</th>\n",
       "      <th>pixel8</th>\n",
       "      <th>pixel9</th>\n",
       "      <th>...</th>\n",
       "      <th>pixel775</th>\n",
       "      <th>pixel776</th>\n",
       "      <th>pixel777</th>\n",
       "      <th>pixel778</th>\n",
       "      <th>pixel779</th>\n",
       "      <th>pixel780</th>\n",
       "      <th>pixel781</th>\n",
       "      <th>pixel782</th>\n",
       "      <th>pixel783</th>\n",
       "      <th>pixel784</th>\n",
       "    </tr>\n",
       "  </thead>\n",
       "  <tbody>\n",
       "    <tr>\n",
       "      <th>59995</th>\n",
       "      <td>9</td>\n",
       "      <td>0</td>\n",
       "      <td>0</td>\n",
       "      <td>0</td>\n",
       "      <td>0</td>\n",
       "      <td>0</td>\n",
       "      <td>0</td>\n",
       "      <td>0</td>\n",
       "      <td>0</td>\n",
       "      <td>0</td>\n",
       "      <td>...</td>\n",
       "      <td>0</td>\n",
       "      <td>0</td>\n",
       "      <td>0</td>\n",
       "      <td>0</td>\n",
       "      <td>0</td>\n",
       "      <td>0</td>\n",
       "      <td>0</td>\n",
       "      <td>0</td>\n",
       "      <td>0</td>\n",
       "      <td>0</td>\n",
       "    </tr>\n",
       "    <tr>\n",
       "      <th>59996</th>\n",
       "      <td>1</td>\n",
       "      <td>0</td>\n",
       "      <td>0</td>\n",
       "      <td>0</td>\n",
       "      <td>0</td>\n",
       "      <td>0</td>\n",
       "      <td>0</td>\n",
       "      <td>0</td>\n",
       "      <td>0</td>\n",
       "      <td>0</td>\n",
       "      <td>...</td>\n",
       "      <td>73</td>\n",
       "      <td>0</td>\n",
       "      <td>0</td>\n",
       "      <td>0</td>\n",
       "      <td>0</td>\n",
       "      <td>0</td>\n",
       "      <td>0</td>\n",
       "      <td>0</td>\n",
       "      <td>0</td>\n",
       "      <td>0</td>\n",
       "    </tr>\n",
       "    <tr>\n",
       "      <th>59997</th>\n",
       "      <td>8</td>\n",
       "      <td>0</td>\n",
       "      <td>0</td>\n",
       "      <td>0</td>\n",
       "      <td>0</td>\n",
       "      <td>0</td>\n",
       "      <td>0</td>\n",
       "      <td>0</td>\n",
       "      <td>0</td>\n",
       "      <td>0</td>\n",
       "      <td>...</td>\n",
       "      <td>160</td>\n",
       "      <td>162</td>\n",
       "      <td>163</td>\n",
       "      <td>135</td>\n",
       "      <td>94</td>\n",
       "      <td>0</td>\n",
       "      <td>0</td>\n",
       "      <td>0</td>\n",
       "      <td>0</td>\n",
       "      <td>0</td>\n",
       "    </tr>\n",
       "    <tr>\n",
       "      <th>59998</th>\n",
       "      <td>8</td>\n",
       "      <td>0</td>\n",
       "      <td>0</td>\n",
       "      <td>0</td>\n",
       "      <td>0</td>\n",
       "      <td>0</td>\n",
       "      <td>0</td>\n",
       "      <td>0</td>\n",
       "      <td>0</td>\n",
       "      <td>0</td>\n",
       "      <td>...</td>\n",
       "      <td>0</td>\n",
       "      <td>0</td>\n",
       "      <td>0</td>\n",
       "      <td>0</td>\n",
       "      <td>0</td>\n",
       "      <td>0</td>\n",
       "      <td>0</td>\n",
       "      <td>0</td>\n",
       "      <td>0</td>\n",
       "      <td>0</td>\n",
       "    </tr>\n",
       "    <tr>\n",
       "      <th>59999</th>\n",
       "      <td>7</td>\n",
       "      <td>0</td>\n",
       "      <td>0</td>\n",
       "      <td>0</td>\n",
       "      <td>0</td>\n",
       "      <td>0</td>\n",
       "      <td>0</td>\n",
       "      <td>0</td>\n",
       "      <td>0</td>\n",
       "      <td>0</td>\n",
       "      <td>...</td>\n",
       "      <td>0</td>\n",
       "      <td>0</td>\n",
       "      <td>0</td>\n",
       "      <td>0</td>\n",
       "      <td>0</td>\n",
       "      <td>0</td>\n",
       "      <td>0</td>\n",
       "      <td>0</td>\n",
       "      <td>0</td>\n",
       "      <td>0</td>\n",
       "    </tr>\n",
       "  </tbody>\n",
       "</table>\n",
       "<p>5 rows × 785 columns</p>\n",
       "</div>"
      ],
      "text/plain": [
       "       label  pixel1  pixel2  pixel3  pixel4  pixel5  pixel6  pixel7  pixel8  \\\n",
       "59995      9       0       0       0       0       0       0       0       0   \n",
       "59996      1       0       0       0       0       0       0       0       0   \n",
       "59997      8       0       0       0       0       0       0       0       0   \n",
       "59998      8       0       0       0       0       0       0       0       0   \n",
       "59999      7       0       0       0       0       0       0       0       0   \n",
       "\n",
       "       pixel9  ...  pixel775  pixel776  pixel777  pixel778  pixel779  \\\n",
       "59995       0  ...         0         0         0         0         0   \n",
       "59996       0  ...        73         0         0         0         0   \n",
       "59997       0  ...       160       162       163       135        94   \n",
       "59998       0  ...         0         0         0         0         0   \n",
       "59999       0  ...         0         0         0         0         0   \n",
       "\n",
       "       pixel780  pixel781  pixel782  pixel783  pixel784  \n",
       "59995         0         0         0         0         0  \n",
       "59996         0         0         0         0         0  \n",
       "59997         0         0         0         0         0  \n",
       "59998         0         0         0         0         0  \n",
       "59999         0         0         0         0         0  \n",
       "\n",
       "[5 rows x 785 columns]"
      ]
     },
     "execution_count": 6,
     "metadata": {},
     "output_type": "execute_result"
    }
   ],
   "source": [
    "fashion_train_df.tail()"
   ]
  },
  {
   "cell_type": "code",
   "execution_count": 7,
   "metadata": {
    "colab": {
     "base_uri": "https://localhost:8080/"
    },
    "id": "5Bd1uKEw5In4",
    "outputId": "bd0c2bf1-9a96-4b44-ec24-69f9fca2ad12"
   },
   "outputs": [
    {
     "data": {
      "text/plain": [
       "(60000, 785)"
      ]
     },
     "execution_count": 7,
     "metadata": {},
     "output_type": "execute_result"
    }
   ],
   "source": [
    "fashion_train_df.shape"
   ]
  },
  {
   "cell_type": "code",
   "execution_count": 8,
   "metadata": {
    "colab": {
     "base_uri": "https://localhost:8080/"
    },
    "id": "1ImHKcZB5LgY",
    "outputId": "0770744d-dc2c-4f28-9ade-1f6e2d4a9178"
   },
   "outputs": [
    {
     "data": {
      "text/plain": [
       "(10000, 785)"
      ]
     },
     "execution_count": 8,
     "metadata": {},
     "output_type": "execute_result"
    }
   ],
   "source": [
    "fashion_test_df.shape"
   ]
  },
  {
   "cell_type": "code",
   "execution_count": 9,
   "metadata": {
    "id": "8yzRp-K15PsQ"
   },
   "outputs": [],
   "source": [
    "training = np.array(fashion_train_df,dtype='float32')\n",
    "testing = np.array(fashion_test_df,dtype='float32')"
   ]
  },
  {
   "cell_type": "code",
   "execution_count": 10,
   "metadata": {
    "colab": {
     "base_uri": "https://localhost:8080/"
    },
    "id": "Mj9EpBV25SNY",
    "outputId": "5f4b1dfd-2363-4850-b875-6ea6e32a7a3a"
   },
   "outputs": [
    {
     "data": {
      "text/plain": [
       "(60000, 785)"
      ]
     },
     "execution_count": 10,
     "metadata": {},
     "output_type": "execute_result"
    }
   ],
   "source": [
    "training.shape"
   ]
  },
  {
   "cell_type": "code",
   "execution_count": 11,
   "metadata": {
    "id": "AutVqnL_5VCw"
   },
   "outputs": [],
   "source": [
    "import random"
   ]
  },
  {
   "cell_type": "code",
   "execution_count": 12,
   "metadata": {
    "colab": {
     "base_uri": "https://localhost:8080/",
     "height": 282
    },
    "id": "QqE3ecVbMHOq",
    "outputId": "af0dd2e6-2f41-4229-e788-2b97dee7d0cd"
   },
   "outputs": [
    {
     "data": {
      "text/plain": [
       "0.0"
      ]
     },
     "execution_count": 12,
     "metadata": {},
     "output_type": "execute_result"
    },
    {
     "data": {
      "image/png": "[encoded data removed]",
      "text/plain": [
       "<Figure size 432x288 with 1 Axes>"
      ]
     },
     "metadata": {
      "needs_background": "light"
     },
     "output_type": "display_data"
    }
   ],
   "source": [
    "i = random.randint(0,60001) \n",
    "plt.imshow(training[i,1:].reshape(28,28)) \n",
    "label = training[i,1] \n",
    "label"
   ]
  },
  {
   "cell_type": "markdown",
   "metadata": {
    "id": "pohsjSwb5YkZ"
   },
   "source": [
    "**i** = random.randint(0,60001)\n",
    "plt.imshow(training[i,1:].reshape(28,28))\n",
    "label = training[i,1] \n",
    "label"
   ]
  },
  {
   "cell_type": "code",
   "execution_count": 13,
   "metadata": {
    "colab": {
     "base_uri": "https://localhost:8080/",
     "height": 966
    },
    "id": "TVwvULA15gRA",
    "outputId": "080a4c5b-5855-4930-ed80-c1532bd40ea8"
   },
   "outputs": [
    {
     "data": {
      "image/png": "[encoded data removed]",
      "text/plain": [
       "<Figure size 1224x1224 with 49 Axes>"
      ]
     },
     "metadata": {
      "needs_background": "light"
     },
     "output_type": "display_data"
    }
   ],
   "source": [
    "W_grid = 7\n",
    "L_grid = 7\n",
    "\n",
    "fig,axes = plt.subplots(L_grid,W_grid,figsize =(17,17))\n",
    "\n",
    "axes = axes.ravel() \n",
    "n_training = len(training) \n",
    "\n",
    "\n",
    "\n",
    "for i in np.arange(0,W_grid*L_grid):\n",
    "        index = np.random.randint(0,n_training)\n",
    "        axes[i].imshow(training[index,1:].reshape((28,28)))\n",
    "        axes[i].set_title(training[index,0],fontsize = 8)\n",
    "        axes[i].axis('off')\n",
    "        \n",
    "plt.subplots_adjust(hspace=0.4)  "
   ]
  },
  {
   "cell_type": "code",
   "execution_count": 14,
   "metadata": {
    "id": "C-0rO0Uu5keI"
   },
   "outputs": [],
   "source": [
    "X_train = training[:,1:]/255\n",
    "y_train = training[:,0]\n",
    "X_test = testing[:,1:]/255\n",
    "y_test = testing[:,0]"
   ]
  },
  {
   "cell_type": "code",
   "execution_count": 15,
   "metadata": {
    "id": "J9cSUEiU5sKZ"
   },
   "outputs": [],
   "source": [
    "from sklearn.model_selection import train_test_split\n",
    "X_train, X_validate, y_train, y_validate = train_test_split(X_train, y_train,test_size = 0.2,random_state = 12345) "
   ]
  },
  {
   "cell_type": "code",
   "execution_count": 16,
   "metadata": {
    "id": "bPQfPGZs5w1H"
   },
   "outputs": [],
   "source": [
    "X_train = X_train.reshape(X_train.shape[0],*(28,28,1))\n",
    "X_test = X_test.reshape(X_test.shape[0],*(28,28,1))\n",
    "X_validate = X_validate.reshape(X_validate.shape[0],*(28,28,1))"
   ]
  },
  {
   "cell_type": "code",
   "execution_count": 17,
   "metadata": {
    "colab": {
     "base_uri": "https://localhost:8080/"
    },
    "id": "tozw48m551s5",
    "outputId": "6ff6ba33-e885-4825-9346-d5a4ffc42c32"
   },
   "outputs": [
    {
     "data": {
      "text/plain": [
       "(48000, 28, 28, 1)"
      ]
     },
     "execution_count": 17,
     "metadata": {},
     "output_type": "execute_result"
    }
   ],
   "source": [
    "X_train.shape\n"
   ]
  },
  {
   "cell_type": "code",
   "execution_count": 18,
   "metadata": {
    "colab": {
     "base_uri": "https://localhost:8080/"
    },
    "id": "Gu-96aNG591o",
    "outputId": "79580ce7-7f0c-4044-c4bb-0aded3289908"
   },
   "outputs": [
    {
     "data": {
      "text/plain": [
       "(10000, 28, 28, 1)"
      ]
     },
     "execution_count": 18,
     "metadata": {},
     "output_type": "execute_result"
    }
   ],
   "source": [
    "X_test.shape"
   ]
  },
  {
   "cell_type": "code",
   "execution_count": 19,
   "metadata": {
    "colab": {
     "base_uri": "https://localhost:8080/"
    },
    "id": "LDGYbFcm6ALB",
    "outputId": "da616432-f524-40a2-9a95-7407967c9481"
   },
   "outputs": [
    {
     "data": {
      "text/plain": [
       "(12000, 28, 28, 1)"
      ]
     },
     "execution_count": 19,
     "metadata": {},
     "output_type": "execute_result"
    }
   ],
   "source": [
    "X_validate.shape"
   ]
  },
  {
   "cell_type": "code",
   "execution_count": 20,
   "metadata": {
    "id": "GCCnNuCj6DmA"
   },
   "outputs": [],
   "source": [
    "import tensorflow as tf\n",
    "from tensorflow import keras\n",
    "from tensorflow.keras.models import Sequential\n",
    "from tensorflow.keras.layers import Conv2D,MaxPooling2D,Dense,Flatten,Dropout\n",
    "from tensorflow.keras.optimizers import Adam\n",
    "from tensorflow.keras.callbacks import TensorBoard"
   ]
  },
  {
   "cell_type": "code",
   "execution_count": 21,
   "metadata": {
    "id": "zHYu_wiP6IAp"
   },
   "outputs": [],
   "source": [
    "cnn_model = Sequential()\n",
    "cnn_model.add(Conv2D(32,3,3,input_shape = (28,28,1),activation = 'relu'))\n",
    "cnn_model.add(MaxPooling2D(pool_size= (2,2)))\n",
    "cnn_model.add(Flatten())\n",
    "cnn_model.add(Dense(32,activation = 'relu'))\n",
    "cnn_model.add(Dense(10,activation = 'sigmoid'))\n",
    "cnn_model.compile(loss ='sparse_categorical_crossentropy',optimizer = Adam(learning_rate=0.001),metrics= ['accuracy'])\n"
   ]
  },
  {
   "cell_type": "code",
   "execution_count": 22,
   "metadata": {
    "id": "7GtLdxcj6g1B"
   },
   "outputs": [],
   "source": [
    "epochs = 200\n"
   ]
  },
  {
   "cell_type": "code",
   "execution_count": 23,
   "metadata": {
    "colab": {
     "base_uri": "https://localhost:8080/"
    },
    "id": "kkc-K1QY6kLA",
    "outputId": "4c9cfda8-cd4a-41e0-e552-3e2dce3ac182"
   },
   "outputs": [
    {
     "name": "stdout",
     "output_type": "stream",
     "text": [
      "Epoch 1/200\n",
      "94/94 [==============================] - 2s 11ms/step - loss: 1.4002 - accuracy: 0.5534 - val_loss: 0.7877 - val_accuracy: 0.7128\n",
      "Epoch 2/200\n",
      "94/94 [==============================] - 1s 10ms/step - loss: 0.6950 - accuracy: 0.7445 - val_loss: 0.6256 - val_accuracy: 0.7700\n",
      "Epoch 3/200\n",
      "94/94 [==============================] - 1s 9ms/step - loss: 0.5918 - accuracy: 0.7847 - val_loss: 0.5623 - val_accuracy: 0.7952\n",
      "Epoch 4/200\n",
      "94/94 [==============================] - 1s 9ms/step - loss: 0.5389 - accuracy: 0.8036 - val_loss: 0.5238 - val_accuracy: 0.8091\n",
      "Epoch 5/200\n",
      "94/94 [==============================] - 1s 9ms/step - loss: 0.5060 - accuracy: 0.8147 - val_loss: 0.4958 - val_accuracy: 0.8212\n",
      "Epoch 6/200\n",
      "94/94 [==============================] - 1s 9ms/step - loss: 0.4828 - accuracy: 0.8231 - val_loss: 0.4755 - val_accuracy: 0.8282\n",
      "Epoch 7/200\n",
      "94/94 [==============================] - 1s 9ms/step - loss: 0.4680 - accuracy: 0.8278 - val_loss: 0.4614 - val_accuracy: 0.8334\n",
      "Epoch 8/200\n",
      "94/94 [==============================] - 1s 9ms/step - loss: 0.4534 - accuracy: 0.8347 - val_loss: 0.4541 - val_accuracy: 0.8337\n",
      "Epoch 9/200\n",
      "94/94 [==============================] - 1s 9ms/step - loss: 0.4436 - accuracy: 0.8373 - val_loss: 0.4421 - val_accuracy: 0.8416\n",
      "Epoch 10/200\n",
      "94/94 [==============================] - 1s 10ms/step - loss: 0.4351 - accuracy: 0.8410 - val_loss: 0.4369 - val_accuracy: 0.8418\n",
      "Epoch 11/200\n",
      "94/94 [==============================] - 1s 10ms/step - loss: 0.4267 - accuracy: 0.8451 - val_loss: 0.4314 - val_accuracy: 0.8439\n",
      "Epoch 12/200\n",
      "94/94 [==============================] - 1s 10ms/step - loss: 0.4192 - accuracy: 0.8469 - val_loss: 0.4279 - val_accuracy: 0.8450\n",
      "Epoch 13/200\n",
      "94/94 [==============================] - 1s 11ms/step - loss: 0.4129 - accuracy: 0.8489 - val_loss: 0.4160 - val_accuracy: 0.8487\n",
      "Epoch 14/200\n",
      "94/94 [==============================] - 1s 12ms/step - loss: 0.4080 - accuracy: 0.8520 - val_loss: 0.4123 - val_accuracy: 0.8506\n",
      "Epoch 15/200\n",
      "94/94 [==============================] - 1s 10ms/step - loss: 0.4019 - accuracy: 0.8539 - val_loss: 0.4123 - val_accuracy: 0.8493\n",
      "Epoch 16/200\n",
      "94/94 [==============================] - 1s 10ms/step - loss: 0.3990 - accuracy: 0.8547 - val_loss: 0.4075 - val_accuracy: 0.8521\n",
      "Epoch 17/200\n",
      "94/94 [==============================] - 1s 10ms/step - loss: 0.3926 - accuracy: 0.8570 - val_loss: 0.4043 - val_accuracy: 0.8545\n",
      "Epoch 18/200\n",
      "94/94 [==============================] - 1s 10ms/step - loss: 0.3901 - accuracy: 0.8581 - val_loss: 0.4030 - val_accuracy: 0.8529\n",
      "Epoch 19/200\n",
      "94/94 [==============================] - 1s 10ms/step - loss: 0.3876 - accuracy: 0.8585 - val_loss: 0.4030 - val_accuracy: 0.8527\n",
      "Epoch 20/200\n",
      "94/94 [==============================] - 1s 10ms/step - loss: 0.3829 - accuracy: 0.8614 - val_loss: 0.4028 - val_accuracy: 0.8540\n",
      "Epoch 21/200\n",
      "94/94 [==============================] - 1s 9ms/step - loss: 0.3811 - accuracy: 0.8620 - val_loss: 0.3957 - val_accuracy: 0.8565\n",
      "Epoch 22/200\n",
      "94/94 [==============================] - 1s 9ms/step - loss: 0.3789 - accuracy: 0.8630 - val_loss: 0.3941 - val_accuracy: 0.8559\n",
      "Epoch 23/200\n",
      "94/94 [==============================] - 1s 9ms/step - loss: 0.3743 - accuracy: 0.8636 - val_loss: 0.3936 - val_accuracy: 0.8563\n",
      "Epoch 24/200\n",
      "94/94 [==============================] - 1s 9ms/step - loss: 0.3740 - accuracy: 0.8641 - val_loss: 0.3910 - val_accuracy: 0.8581\n",
      "Epoch 25/200\n",
      "94/94 [==============================] - 1s 9ms/step - loss: 0.3678 - accuracy: 0.8672 - val_loss: 0.3874 - val_accuracy: 0.8587\n",
      "Epoch 26/200\n",
      "94/94 [==============================] - 1s 9ms/step - loss: 0.3647 - accuracy: 0.8676 - val_loss: 0.3854 - val_accuracy: 0.8618\n",
      "Epoch 27/200\n",
      "94/94 [==============================] - 1s 10ms/step - loss: 0.3618 - accuracy: 0.8685 - val_loss: 0.3810 - val_accuracy: 0.8635\n",
      "Epoch 28/200\n",
      "94/94 [==============================] - 1s 10ms/step - loss: 0.3629 - accuracy: 0.8680 - val_loss: 0.3799 - val_accuracy: 0.8623\n",
      "Epoch 29/200\n",
      "94/94 [==============================] - 1s 10ms/step - loss: 0.3591 - accuracy: 0.8705 - val_loss: 0.3803 - val_accuracy: 0.8624\n",
      "Epoch 30/200\n",
      "94/94 [==============================] - 1s 9ms/step - loss: 0.3570 - accuracy: 0.8717 - val_loss: 0.3815 - val_accuracy: 0.8591\n",
      "Epoch 31/200\n",
      "94/94 [==============================] - 1s 10ms/step - loss: 0.3535 - accuracy: 0.8719 - val_loss: 0.3792 - val_accuracy: 0.8595\n",
      "Epoch 32/200\n",
      "94/94 [==============================] - 1s 10ms/step - loss: 0.3516 - accuracy: 0.8724 - val_loss: 0.3755 - val_accuracy: 0.8633\n",
      "Epoch 33/200\n",
      "94/94 [==============================] - 1s 10ms/step - loss: 0.3527 - accuracy: 0.8719 - val_loss: 0.3726 - val_accuracy: 0.8633\n",
      "Epoch 34/200\n",
      "94/94 [==============================] - 1s 10ms/step - loss: 0.3470 - accuracy: 0.8739 - val_loss: 0.3707 - val_accuracy: 0.8644\n",
      "Epoch 35/200\n",
      "94/94 [==============================] - 1s 11ms/step - loss: 0.3449 - accuracy: 0.8745 - val_loss: 0.3763 - val_accuracy: 0.8627\n",
      "Epoch 36/200\n",
      "94/94 [==============================] - 1s 11ms/step - loss: 0.3437 - accuracy: 0.8752 - val_loss: 0.3692 - val_accuracy: 0.8638\n",
      "Epoch 37/200\n",
      "94/94 [==============================] - 1s 12ms/step - loss: 0.3431 - accuracy: 0.8750 - val_loss: 0.3665 - val_accuracy: 0.8669\n",
      "Epoch 38/200\n",
      "94/94 [==============================] - 1s 10ms/step - loss: 0.3405 - accuracy: 0.8765 - val_loss: 0.3739 - val_accuracy: 0.8629\n",
      "Epoch 39/200\n",
      "94/94 [==============================] - 1s 11ms/step - loss: 0.3421 - accuracy: 0.8756 - val_loss: 0.3681 - val_accuracy: 0.8649\n",
      "Epoch 40/200\n",
      "94/94 [==============================] - 1s 12ms/step - loss: 0.3382 - accuracy: 0.8763 - val_loss: 0.3634 - val_accuracy: 0.8676\n",
      "Epoch 41/200\n",
      "94/94 [==============================] - 1s 12ms/step - loss: 0.3350 - accuracy: 0.8777 - val_loss: 0.3635 - val_accuracy: 0.8686\n",
      "Epoch 42/200\n",
      "94/94 [==============================] - 1s 10ms/step - loss: 0.3341 - accuracy: 0.8779 - val_loss: 0.3658 - val_accuracy: 0.8662\n",
      "Epoch 43/200\n",
      "94/94 [==============================] - 1s 11ms/step - loss: 0.3338 - accuracy: 0.8788 - val_loss: 0.3628 - val_accuracy: 0.8662\n",
      "Epoch 44/200\n",
      "94/94 [==============================] - 1s 11ms/step - loss: 0.3330 - accuracy: 0.8792 - val_loss: 0.3704 - val_accuracy: 0.8630\n",
      "Epoch 45/200\n",
      "94/94 [==============================] - 1s 11ms/step - loss: 0.3303 - accuracy: 0.8801 - val_loss: 0.3656 - val_accuracy: 0.8669\n",
      "Epoch 46/200\n",
      "94/94 [==============================] - 1s 11ms/step - loss: 0.3293 - accuracy: 0.8806 - val_loss: 0.3599 - val_accuracy: 0.8683\n",
      "Epoch 47/200\n",
      "94/94 [==============================] - 1s 11ms/step - loss: 0.3277 - accuracy: 0.8814 - val_loss: 0.3615 - val_accuracy: 0.8699\n",
      "Epoch 48/200\n",
      "94/94 [==============================] - 1s 10ms/step - loss: 0.3256 - accuracy: 0.8818 - val_loss: 0.3590 - val_accuracy: 0.8677\n",
      "Epoch 49/200\n",
      "94/94 [==============================] - 1s 11ms/step - loss: 0.3235 - accuracy: 0.8837 - val_loss: 0.3562 - val_accuracy: 0.8697\n",
      "Epoch 50/200\n",
      "94/94 [==============================] - 1s 10ms/step - loss: 0.3235 - accuracy: 0.8828 - val_loss: 0.3551 - val_accuracy: 0.8719\n",
      "Epoch 51/200\n",
      "94/94 [==============================] - 1s 10ms/step - loss: 0.3215 - accuracy: 0.8838 - val_loss: 0.3594 - val_accuracy: 0.8690\n",
      "Epoch 52/200\n",
      "94/94 [==============================] - 1s 10ms/step - loss: 0.3211 - accuracy: 0.8841 - val_loss: 0.3664 - val_accuracy: 0.8654\n",
      "Epoch 53/200\n",
      "94/94 [==============================] - 1s 10ms/step - loss: 0.3214 - accuracy: 0.8820 - val_loss: 0.3598 - val_accuracy: 0.8692\n",
      "Epoch 54/200\n",
      "94/94 [==============================] - 1s 10ms/step - loss: 0.3159 - accuracy: 0.8863 - val_loss: 0.3553 - val_accuracy: 0.8684\n",
      "Epoch 55/200\n",
      "94/94 [==============================] - 1s 10ms/step - loss: 0.3153 - accuracy: 0.8852 - val_loss: 0.3525 - val_accuracy: 0.8730\n",
      "Epoch 56/200\n",
      "94/94 [==============================] - 1s 10ms/step - loss: 0.3145 - accuracy: 0.8866 - val_loss: 0.3524 - val_accuracy: 0.8723\n",
      "Epoch 57/200\n",
      "94/94 [==============================] - 1s 10ms/step - loss: 0.3138 - accuracy: 0.8864 - val_loss: 0.3508 - val_accuracy: 0.8738\n",
      "Epoch 58/200\n"
     ]
    },
    {
     "name": "stdout",
     "output_type": "stream",
     "text": [
      "94/94 [==============================] - 1s 10ms/step - loss: 0.3125 - accuracy: 0.8877 - val_loss: 0.3571 - val_accuracy: 0.8702\n",
      "Epoch 59/200\n",
      "94/94 [==============================] - 1s 10ms/step - loss: 0.3119 - accuracy: 0.8873 - val_loss: 0.3601 - val_accuracy: 0.8703\n",
      "Epoch 60/200\n",
      "94/94 [==============================] - 1s 10ms/step - loss: 0.3113 - accuracy: 0.8874 - val_loss: 0.3551 - val_accuracy: 0.8703\n",
      "Epoch 61/200\n",
      "94/94 [==============================] - 1s 10ms/step - loss: 0.3079 - accuracy: 0.8878 - val_loss: 0.3593 - val_accuracy: 0.8686\n",
      "Epoch 62/200\n",
      "94/94 [==============================] - 1s 10ms/step - loss: 0.3075 - accuracy: 0.8892 - val_loss: 0.3496 - val_accuracy: 0.8737\n",
      "Epoch 63/200\n",
      "94/94 [==============================] - 1s 10ms/step - loss: 0.3058 - accuracy: 0.8892 - val_loss: 0.3487 - val_accuracy: 0.8727\n",
      "Epoch 64/200\n",
      "94/94 [==============================] - 1s 10ms/step - loss: 0.3049 - accuracy: 0.8904 - val_loss: 0.3580 - val_accuracy: 0.8684\n",
      "Epoch 65/200\n",
      "94/94 [==============================] - 1s 10ms/step - loss: 0.3045 - accuracy: 0.8902 - val_loss: 0.3478 - val_accuracy: 0.8741\n",
      "Epoch 66/200\n",
      "94/94 [==============================] - 1s 10ms/step - loss: 0.3036 - accuracy: 0.8911 - val_loss: 0.3538 - val_accuracy: 0.8703\n",
      "Epoch 67/200\n",
      "94/94 [==============================] - 1s 10ms/step - loss: 0.3033 - accuracy: 0.8898 - val_loss: 0.3476 - val_accuracy: 0.8740\n",
      "Epoch 68/200\n",
      "94/94 [==============================] - 1s 10ms/step - loss: 0.3023 - accuracy: 0.8908 - val_loss: 0.3460 - val_accuracy: 0.8741\n",
      "Epoch 69/200\n",
      "94/94 [==============================] - 1s 10ms/step - loss: 0.3008 - accuracy: 0.8909 - val_loss: 0.3485 - val_accuracy: 0.8742\n",
      "Epoch 70/200\n",
      "94/94 [==============================] - 1s 10ms/step - loss: 0.2977 - accuracy: 0.8923 - val_loss: 0.3481 - val_accuracy: 0.8727\n",
      "Epoch 71/200\n",
      "94/94 [==============================] - 1s 10ms/step - loss: 0.2998 - accuracy: 0.8917 - val_loss: 0.3450 - val_accuracy: 0.8737\n",
      "Epoch 72/200\n",
      "94/94 [==============================] - 1s 10ms/step - loss: 0.2965 - accuracy: 0.8936 - val_loss: 0.3444 - val_accuracy: 0.8746\n",
      "Epoch 73/200\n",
      "94/94 [==============================] - 1s 10ms/step - loss: 0.2949 - accuracy: 0.8941 - val_loss: 0.3450 - val_accuracy: 0.8748\n",
      "Epoch 74/200\n",
      "94/94 [==============================] - 1s 10ms/step - loss: 0.2967 - accuracy: 0.8925 - val_loss: 0.3476 - val_accuracy: 0.8741\n",
      "Epoch 75/200\n",
      "94/94 [==============================] - 1s 10ms/step - loss: 0.2943 - accuracy: 0.8930 - val_loss: 0.3450 - val_accuracy: 0.8737\n",
      "Epoch 76/200\n",
      "94/94 [==============================] - 1s 10ms/step - loss: 0.2928 - accuracy: 0.8944 - val_loss: 0.3430 - val_accuracy: 0.8753\n",
      "Epoch 77/200\n",
      "94/94 [==============================] - 1s 10ms/step - loss: 0.2924 - accuracy: 0.8942 - val_loss: 0.3561 - val_accuracy: 0.8687\n",
      "Epoch 78/200\n",
      "94/94 [==============================] - 1s 11ms/step - loss: 0.2924 - accuracy: 0.8944 - val_loss: 0.3628 - val_accuracy: 0.8668\n",
      "Epoch 79/200\n",
      "94/94 [==============================] - 1s 10ms/step - loss: 0.2910 - accuracy: 0.8932 - val_loss: 0.3445 - val_accuracy: 0.8769\n",
      "Epoch 80/200\n",
      "94/94 [==============================] - 1s 12ms/step - loss: 0.2899 - accuracy: 0.8942 - val_loss: 0.3425 - val_accuracy: 0.8744\n",
      "Epoch 81/200\n",
      "94/94 [==============================] - 1s 11ms/step - loss: 0.2900 - accuracy: 0.8949 - val_loss: 0.3440 - val_accuracy: 0.8760\n",
      "Epoch 82/200\n",
      "94/94 [==============================] - 1s 11ms/step - loss: 0.2882 - accuracy: 0.8956 - val_loss: 0.3491 - val_accuracy: 0.8737\n",
      "Epoch 83/200\n",
      "94/94 [==============================] - 1s 12ms/step - loss: 0.2871 - accuracy: 0.8953 - val_loss: 0.3452 - val_accuracy: 0.8735\n",
      "Epoch 84/200\n",
      "94/94 [==============================] - 1s 11ms/step - loss: 0.2866 - accuracy: 0.8961 - val_loss: 0.3408 - val_accuracy: 0.8771\n",
      "Epoch 85/200\n",
      "94/94 [==============================] - 1s 10ms/step - loss: 0.2867 - accuracy: 0.8958 - val_loss: 0.3429 - val_accuracy: 0.8744\n",
      "Epoch 86/200\n",
      "94/94 [==============================] - 1s 10ms/step - loss: 0.2852 - accuracy: 0.8975 - val_loss: 0.3417 - val_accuracy: 0.8756\n",
      "Epoch 87/200\n",
      "94/94 [==============================] - 1s 10ms/step - loss: 0.2849 - accuracy: 0.8967 - val_loss: 0.3469 - val_accuracy: 0.8736\n",
      "Epoch 88/200\n",
      "94/94 [==============================] - 1s 10ms/step - loss: 0.2836 - accuracy: 0.8975 - val_loss: 0.3423 - val_accuracy: 0.8758\n",
      "Epoch 89/200\n",
      "94/94 [==============================] - 1s 10ms/step - loss: 0.2808 - accuracy: 0.8979 - val_loss: 0.3437 - val_accuracy: 0.8752\n",
      "Epoch 90/200\n",
      "94/94 [==============================] - 1s 10ms/step - loss: 0.2814 - accuracy: 0.8981 - val_loss: 0.3523 - val_accuracy: 0.8721\n",
      "Epoch 91/200\n",
      "94/94 [==============================] - 1s 10ms/step - loss: 0.2828 - accuracy: 0.8961 - val_loss: 0.3400 - val_accuracy: 0.8767\n",
      "Epoch 92/200\n",
      "94/94 [==============================] - 1s 10ms/step - loss: 0.2777 - accuracy: 0.8990 - val_loss: 0.3447 - val_accuracy: 0.8765\n",
      "Epoch 93/200\n",
      "94/94 [==============================] - 1s 10ms/step - loss: 0.2794 - accuracy: 0.8974 - val_loss: 0.3467 - val_accuracy: 0.8730\n",
      "Epoch 94/200\n",
      "94/94 [==============================] - 1s 10ms/step - loss: 0.2812 - accuracy: 0.8976 - val_loss: 0.3405 - val_accuracy: 0.8768\n",
      "Epoch 95/200\n",
      "94/94 [==============================] - 1s 10ms/step - loss: 0.2778 - accuracy: 0.8989 - val_loss: 0.3417 - val_accuracy: 0.8776\n",
      "Epoch 96/200\n",
      "94/94 [==============================] - 1s 10ms/step - loss: 0.2759 - accuracy: 0.8992 - val_loss: 0.3459 - val_accuracy: 0.8769\n",
      "Epoch 97/200\n",
      "94/94 [==============================] - 1s 11ms/step - loss: 0.2763 - accuracy: 0.8999 - val_loss: 0.3456 - val_accuracy: 0.8759\n",
      "Epoch 98/200\n",
      "94/94 [==============================] - 1s 11ms/step - loss: 0.2751 - accuracy: 0.8992 - val_loss: 0.3410 - val_accuracy: 0.8768\n",
      "Epoch 99/200\n",
      "94/94 [==============================] - 1s 11ms/step - loss: 0.2743 - accuracy: 0.9000 - val_loss: 0.3442 - val_accuracy: 0.8763\n",
      "Epoch 100/200\n",
      "94/94 [==============================] - 1s 11ms/step - loss: 0.2743 - accuracy: 0.8999 - val_loss: 0.3450 - val_accuracy: 0.8752\n",
      "Epoch 101/200\n",
      "94/94 [==============================] - 1s 13ms/step - loss: 0.2757 - accuracy: 0.8994 - val_loss: 0.3407 - val_accuracy: 0.8789\n",
      "Epoch 102/200\n",
      "94/94 [==============================] - 1s 13ms/step - loss: 0.2737 - accuracy: 0.8996 - val_loss: 0.3474 - val_accuracy: 0.8731\n",
      "Epoch 103/200\n",
      "94/94 [==============================] - 1s 11ms/step - loss: 0.2705 - accuracy: 0.9016 - val_loss: 0.3403 - val_accuracy: 0.8764\n",
      "Epoch 104/200\n",
      "94/94 [==============================] - 1s 11ms/step - loss: 0.2721 - accuracy: 0.9013 - val_loss: 0.3429 - val_accuracy: 0.8759\n",
      "Epoch 105/200\n",
      "94/94 [==============================] - 1s 10ms/step - loss: 0.2746 - accuracy: 0.8998 - val_loss: 0.3416 - val_accuracy: 0.8797\n",
      "Epoch 106/200\n",
      "94/94 [==============================] - 1s 10ms/step - loss: 0.2693 - accuracy: 0.9030 - val_loss: 0.3396 - val_accuracy: 0.8781\n",
      "Epoch 107/200\n",
      "94/94 [==============================] - 1s 10ms/step - loss: 0.2696 - accuracy: 0.9032 - val_loss: 0.3446 - val_accuracy: 0.8763\n",
      "Epoch 108/200\n",
      "94/94 [==============================] - 1s 10ms/step - loss: 0.2680 - accuracy: 0.9023 - val_loss: 0.3507 - val_accuracy: 0.8730\n",
      "Epoch 109/200\n",
      "94/94 [==============================] - 1s 10ms/step - loss: 0.2686 - accuracy: 0.9024 - val_loss: 0.3436 - val_accuracy: 0.8774\n",
      "Epoch 110/200\n",
      "94/94 [==============================] - 1s 11ms/step - loss: 0.2680 - accuracy: 0.9024 - val_loss: 0.3523 - val_accuracy: 0.8720\n",
      "Epoch 111/200\n",
      "94/94 [==============================] - 1s 11ms/step - loss: 0.2677 - accuracy: 0.9017 - val_loss: 0.3415 - val_accuracy: 0.8794\n",
      "Epoch 112/200\n",
      "94/94 [==============================] - 1s 10ms/step - loss: 0.2657 - accuracy: 0.9036 - val_loss: 0.3496 - val_accuracy: 0.8723\n",
      "Epoch 113/200\n",
      "94/94 [==============================] - 1s 10ms/step - loss: 0.2657 - accuracy: 0.9032 - val_loss: 0.3480 - val_accuracy: 0.8756\n",
      "Epoch 114/200\n",
      "94/94 [==============================] - 1s 11ms/step - loss: 0.2640 - accuracy: 0.9042 - val_loss: 0.3406 - val_accuracy: 0.8783\n",
      "Epoch 115/200\n"
     ]
    },
    {
     "name": "stdout",
     "output_type": "stream",
     "text": [
      "94/94 [==============================] - 1s 11ms/step - loss: 0.2646 - accuracy: 0.9043 - val_loss: 0.3494 - val_accuracy: 0.8750\n",
      "Epoch 116/200\n",
      "94/94 [==============================] - 1s 10ms/step - loss: 0.2623 - accuracy: 0.9053 - val_loss: 0.3488 - val_accuracy: 0.8736\n",
      "Epoch 117/200\n",
      "94/94 [==============================] - 1s 10ms/step - loss: 0.2627 - accuracy: 0.9041 - val_loss: 0.3473 - val_accuracy: 0.8755\n",
      "Epoch 118/200\n",
      "94/94 [==============================] - 1s 10ms/step - loss: 0.2627 - accuracy: 0.9045 - val_loss: 0.3482 - val_accuracy: 0.8736\n",
      "Epoch 119/200\n",
      "94/94 [==============================] - 1s 10ms/step - loss: 0.2612 - accuracy: 0.9054 - val_loss: 0.3531 - val_accuracy: 0.8735\n",
      "Epoch 120/200\n",
      "94/94 [==============================] - 1s 10ms/step - loss: 0.2615 - accuracy: 0.9058 - val_loss: 0.3498 - val_accuracy: 0.8743\n",
      "Epoch 121/200\n",
      "94/94 [==============================] - 1s 10ms/step - loss: 0.2617 - accuracy: 0.9038 - val_loss: 0.3441 - val_accuracy: 0.8766\n",
      "Epoch 122/200\n",
      "94/94 [==============================] - 1s 11ms/step - loss: 0.2572 - accuracy: 0.9067 - val_loss: 0.3483 - val_accuracy: 0.8758\n",
      "Epoch 123/200\n",
      "94/94 [==============================] - 1s 10ms/step - loss: 0.2578 - accuracy: 0.9060 - val_loss: 0.3474 - val_accuracy: 0.8777\n",
      "Epoch 124/200\n",
      "94/94 [==============================] - 1s 10ms/step - loss: 0.2579 - accuracy: 0.9066 - val_loss: 0.3417 - val_accuracy: 0.8759\n",
      "Epoch 125/200\n",
      "94/94 [==============================] - 1s 11ms/step - loss: 0.2573 - accuracy: 0.9064 - val_loss: 0.3449 - val_accuracy: 0.8773\n",
      "Epoch 126/200\n",
      "94/94 [==============================] - 1s 13ms/step - loss: 0.2567 - accuracy: 0.9064 - val_loss: 0.3456 - val_accuracy: 0.8780\n",
      "Epoch 127/200\n",
      "94/94 [==============================] - 1s 13ms/step - loss: 0.2565 - accuracy: 0.9062 - val_loss: 0.3408 - val_accuracy: 0.8773\n",
      "Epoch 128/200\n",
      "94/94 [==============================] - 1s 13ms/step - loss: 0.2536 - accuracy: 0.9085 - val_loss: 0.3415 - val_accuracy: 0.8780\n",
      "Epoch 129/200\n",
      "94/94 [==============================] - 1s 13ms/step - loss: 0.2544 - accuracy: 0.9081 - val_loss: 0.3461 - val_accuracy: 0.8766\n",
      "Epoch 130/200\n",
      "94/94 [==============================] - 1s 14ms/step - loss: 0.2575 - accuracy: 0.9066 - val_loss: 0.3490 - val_accuracy: 0.8762\n",
      "Epoch 131/200\n",
      "94/94 [==============================] - 1s 11ms/step - loss: 0.2551 - accuracy: 0.9071 - val_loss: 0.3415 - val_accuracy: 0.8799\n",
      "Epoch 132/200\n",
      "94/94 [==============================] - 1s 11ms/step - loss: 0.2547 - accuracy: 0.9070 - val_loss: 0.3449 - val_accuracy: 0.8758\n",
      "Epoch 133/200\n",
      "94/94 [==============================] - 1s 11ms/step - loss: 0.2539 - accuracy: 0.9078 - val_loss: 0.3415 - val_accuracy: 0.8772\n",
      "Epoch 134/200\n",
      "94/94 [==============================] - 1s 11ms/step - loss: 0.2521 - accuracy: 0.9089 - val_loss: 0.3447 - val_accuracy: 0.8804\n",
      "Epoch 135/200\n",
      "94/94 [==============================] - 1s 11ms/step - loss: 0.2507 - accuracy: 0.9095 - val_loss: 0.3512 - val_accuracy: 0.8767\n",
      "Epoch 136/200\n",
      "94/94 [==============================] - 1s 12ms/step - loss: 0.2505 - accuracy: 0.9092 - val_loss: 0.3445 - val_accuracy: 0.8805\n",
      "Epoch 137/200\n",
      "94/94 [==============================] - 1s 11ms/step - loss: 0.2491 - accuracy: 0.9100 - val_loss: 0.3505 - val_accuracy: 0.8754\n",
      "Epoch 138/200\n",
      "94/94 [==============================] - 1s 11ms/step - loss: 0.2502 - accuracy: 0.9097 - val_loss: 0.3484 - val_accuracy: 0.8785\n",
      "Epoch 139/200\n",
      "94/94 [==============================] - 1s 10ms/step - loss: 0.2496 - accuracy: 0.9082 - val_loss: 0.3480 - val_accuracy: 0.8771\n",
      "Epoch 140/200\n",
      "94/94 [==============================] - 1s 10ms/step - loss: 0.2504 - accuracy: 0.9093 - val_loss: 0.3472 - val_accuracy: 0.8777\n",
      "Epoch 141/200\n",
      "94/94 [==============================] - 1s 11ms/step - loss: 0.2477 - accuracy: 0.9097 - val_loss: 0.3491 - val_accuracy: 0.8763\n",
      "Epoch 142/200\n",
      "94/94 [==============================] - 1s 11ms/step - loss: 0.2472 - accuracy: 0.9101 - val_loss: 0.3436 - val_accuracy: 0.8801\n",
      "Epoch 143/200\n",
      "94/94 [==============================] - 1s 12ms/step - loss: 0.2472 - accuracy: 0.9090 - val_loss: 0.3510 - val_accuracy: 0.8773\n",
      "Epoch 144/200\n",
      "94/94 [==============================] - 1s 11ms/step - loss: 0.2476 - accuracy: 0.9094 - val_loss: 0.3474 - val_accuracy: 0.8796\n",
      "Epoch 145/200\n",
      "94/94 [==============================] - 1s 11ms/step - loss: 0.2441 - accuracy: 0.9121 - val_loss: 0.3450 - val_accuracy: 0.8782\n",
      "Epoch 146/200\n",
      "94/94 [==============================] - 1s 12ms/step - loss: 0.2448 - accuracy: 0.9109 - val_loss: 0.3473 - val_accuracy: 0.8763\n",
      "Epoch 147/200\n",
      "94/94 [==============================] - 1s 12ms/step - loss: 0.2446 - accuracy: 0.9115 - val_loss: 0.3463 - val_accuracy: 0.8794\n",
      "Epoch 148/200\n",
      "94/94 [==============================] - 1s 13ms/step - loss: 0.2430 - accuracy: 0.9122 - val_loss: 0.3462 - val_accuracy: 0.8812\n",
      "Epoch 149/200\n",
      "94/94 [==============================] - 1s 11ms/step - loss: 0.2429 - accuracy: 0.9117 - val_loss: 0.3427 - val_accuracy: 0.8820\n",
      "Epoch 150/200\n",
      "94/94 [==============================] - 1s 10ms/step - loss: 0.2415 - accuracy: 0.9120 - val_loss: 0.3486 - val_accuracy: 0.8803\n",
      "Epoch 151/200\n",
      "94/94 [==============================] - 1s 10ms/step - loss: 0.2436 - accuracy: 0.9122 - val_loss: 0.3540 - val_accuracy: 0.8780\n",
      "Epoch 152/200\n",
      "94/94 [==============================] - 1s 10ms/step - loss: 0.2421 - accuracy: 0.9124 - val_loss: 0.3453 - val_accuracy: 0.8787\n",
      "Epoch 153/200\n",
      "94/94 [==============================] - 1s 10ms/step - loss: 0.2399 - accuracy: 0.9131 - val_loss: 0.3449 - val_accuracy: 0.8803\n",
      "Epoch 154/200\n",
      "94/94 [==============================] - 1s 10ms/step - loss: 0.2403 - accuracy: 0.9137 - val_loss: 0.3493 - val_accuracy: 0.8792\n",
      "Epoch 155/200\n",
      "94/94 [==============================] - 1s 10ms/step - loss: 0.2422 - accuracy: 0.9122 - val_loss: 0.3495 - val_accuracy: 0.8804\n",
      "Epoch 156/200\n",
      "94/94 [==============================] - 1s 11ms/step - loss: 0.2385 - accuracy: 0.9146 - val_loss: 0.3499 - val_accuracy: 0.8806\n",
      "Epoch 157/200\n",
      "94/94 [==============================] - 1s 11ms/step - loss: 0.2411 - accuracy: 0.9115 - val_loss: 0.3523 - val_accuracy: 0.8772\n",
      "Epoch 158/200\n",
      "94/94 [==============================] - 1s 10ms/step - loss: 0.2389 - accuracy: 0.9141 - val_loss: 0.3528 - val_accuracy: 0.8769\n",
      "Epoch 159/200\n",
      "94/94 [==============================] - 1s 10ms/step - loss: 0.2409 - accuracy: 0.9120 - val_loss: 0.3495 - val_accuracy: 0.8793\n",
      "Epoch 160/200\n",
      "94/94 [==============================] - 1s 11ms/step - loss: 0.2379 - accuracy: 0.9135 - val_loss: 0.3495 - val_accuracy: 0.8812\n",
      "Epoch 161/200\n",
      "94/94 [==============================] - 1s 11ms/step - loss: 0.2368 - accuracy: 0.9138 - val_loss: 0.3542 - val_accuracy: 0.8763\n",
      "Epoch 162/200\n",
      "94/94 [==============================] - 1s 14ms/step - loss: 0.2366 - accuracy: 0.9144 - val_loss: 0.3487 - val_accuracy: 0.8813\n",
      "Epoch 163/200\n",
      "94/94 [==============================] - 1s 12ms/step - loss: 0.2364 - accuracy: 0.9138 - val_loss: 0.3491 - val_accuracy: 0.8803\n",
      "Epoch 164/200\n",
      "94/94 [==============================] - 1s 13ms/step - loss: 0.2373 - accuracy: 0.9143 - val_loss: 0.3504 - val_accuracy: 0.8763\n",
      "Epoch 165/200\n",
      "94/94 [==============================] - 1s 12ms/step - loss: 0.2385 - accuracy: 0.9134 - val_loss: 0.3596 - val_accuracy: 0.8758\n",
      "Epoch 166/200\n",
      "94/94 [==============================] - 1s 11ms/step - loss: 0.2351 - accuracy: 0.9143 - val_loss: 0.3533 - val_accuracy: 0.8778\n",
      "Epoch 167/200\n",
      "94/94 [==============================] - 1s 10ms/step - loss: 0.2336 - accuracy: 0.9156 - val_loss: 0.3514 - val_accuracy: 0.8779\n",
      "Epoch 168/200\n",
      "94/94 [==============================] - 1s 11ms/step - loss: 0.2340 - accuracy: 0.9153 - val_loss: 0.3576 - val_accuracy: 0.8761\n",
      "Epoch 169/200\n",
      "94/94 [==============================] - 1s 11ms/step - loss: 0.2350 - accuracy: 0.9150 - val_loss: 0.3504 - val_accuracy: 0.8811\n",
      "Epoch 170/200\n",
      "94/94 [==============================] - 1s 10ms/step - loss: 0.2334 - accuracy: 0.9154 - val_loss: 0.3548 - val_accuracy: 0.8794\n",
      "Epoch 171/200\n",
      "94/94 [==============================] - 1s 12ms/step - loss: 0.2331 - accuracy: 0.9159 - val_loss: 0.3505 - val_accuracy: 0.8814\n"
     ]
    },
    {
     "name": "stdout",
     "output_type": "stream",
     "text": [
      "Epoch 172/200\n",
      "94/94 [==============================] - 1s 11ms/step - loss: 0.2316 - accuracy: 0.9159 - val_loss: 0.3640 - val_accuracy: 0.8758\n",
      "Epoch 173/200\n",
      "94/94 [==============================] - 1s 11ms/step - loss: 0.2303 - accuracy: 0.9170 - val_loss: 0.3519 - val_accuracy: 0.8818\n",
      "Epoch 174/200\n",
      "94/94 [==============================] - 1s 11ms/step - loss: 0.2308 - accuracy: 0.9167 - val_loss: 0.3501 - val_accuracy: 0.8798\n",
      "Epoch 175/200\n",
      "94/94 [==============================] - 1s 11ms/step - loss: 0.2317 - accuracy: 0.9154 - val_loss: 0.3534 - val_accuracy: 0.8805\n",
      "Epoch 176/200\n",
      "94/94 [==============================] - 1s 11ms/step - loss: 0.2302 - accuracy: 0.9163 - val_loss: 0.3532 - val_accuracy: 0.8808\n",
      "Epoch 177/200\n",
      "94/94 [==============================] - 1s 11ms/step - loss: 0.2296 - accuracy: 0.9165 - val_loss: 0.3510 - val_accuracy: 0.8815\n",
      "Epoch 178/200\n",
      "94/94 [==============================] - 1s 11ms/step - loss: 0.2298 - accuracy: 0.9174 - val_loss: 0.3630 - val_accuracy: 0.8741\n",
      "Epoch 179/200\n",
      "94/94 [==============================] - 1s 11ms/step - loss: 0.2288 - accuracy: 0.9172 - val_loss: 0.3574 - val_accuracy: 0.8803\n",
      "Epoch 180/200\n",
      "94/94 [==============================] - 1s 11ms/step - loss: 0.2274 - accuracy: 0.9179 - val_loss: 0.3551 - val_accuracy: 0.8795\n",
      "Epoch 181/200\n",
      "94/94 [==============================] - 1s 11ms/step - loss: 0.2291 - accuracy: 0.9159 - val_loss: 0.3517 - val_accuracy: 0.8812\n",
      "Epoch 182/200\n",
      "94/94 [==============================] - 1s 10ms/step - loss: 0.2284 - accuracy: 0.9180 - val_loss: 0.3550 - val_accuracy: 0.8801\n",
      "Epoch 183/200\n",
      "94/94 [==============================] - 1s 11ms/step - loss: 0.2276 - accuracy: 0.9174 - val_loss: 0.3541 - val_accuracy: 0.8821\n",
      "Epoch 184/200\n",
      "94/94 [==============================] - 1s 11ms/step - loss: 0.2283 - accuracy: 0.9158 - val_loss: 0.3607 - val_accuracy: 0.8745\n",
      "Epoch 185/200\n",
      "94/94 [==============================] - 1s 10ms/step - loss: 0.2284 - accuracy: 0.9174 - val_loss: 0.3573 - val_accuracy: 0.8802\n",
      "Epoch 186/200\n",
      "94/94 [==============================] - 1s 10ms/step - loss: 0.2268 - accuracy: 0.9174 - val_loss: 0.3609 - val_accuracy: 0.8792\n",
      "Epoch 187/200\n",
      "94/94 [==============================] - 1s 10ms/step - loss: 0.2257 - accuracy: 0.9185 - val_loss: 0.3548 - val_accuracy: 0.8788\n",
      "Epoch 188/200\n",
      "94/94 [==============================] - 1s 10ms/step - loss: 0.2263 - accuracy: 0.9178 - val_loss: 0.3593 - val_accuracy: 0.8783\n",
      "Epoch 189/200\n",
      "94/94 [==============================] - 1s 11ms/step - loss: 0.2250 - accuracy: 0.9181 - val_loss: 0.3616 - val_accuracy: 0.8767\n",
      "Epoch 190/200\n",
      "94/94 [==============================] - 1s 10ms/step - loss: 0.2232 - accuracy: 0.9196 - val_loss: 0.3652 - val_accuracy: 0.8746\n",
      "Epoch 191/200\n",
      "94/94 [==============================] - 1s 12ms/step - loss: 0.2237 - accuracy: 0.9190 - val_loss: 0.3577 - val_accuracy: 0.8764\n",
      "Epoch 192/200\n",
      "94/94 [==============================] - 1s 10ms/step - loss: 0.2241 - accuracy: 0.9181 - val_loss: 0.3610 - val_accuracy: 0.8788\n",
      "Epoch 193/200\n",
      "94/94 [==============================] - 1s 10ms/step - loss: 0.2215 - accuracy: 0.9197 - val_loss: 0.3622 - val_accuracy: 0.8798\n",
      "Epoch 194/200\n",
      "94/94 [==============================] - 1s 13ms/step - loss: 0.2226 - accuracy: 0.9188 - val_loss: 0.3593 - val_accuracy: 0.8813\n",
      "Epoch 195/200\n",
      "94/94 [==============================] - 1s 12ms/step - loss: 0.2223 - accuracy: 0.9196 - val_loss: 0.3594 - val_accuracy: 0.8784\n",
      "Epoch 196/200\n",
      "94/94 [==============================] - 1s 13ms/step - loss: 0.2212 - accuracy: 0.9203 - val_loss: 0.3722 - val_accuracy: 0.8767\n",
      "Epoch 197/200\n",
      "94/94 [==============================] - 1s 12ms/step - loss: 0.2227 - accuracy: 0.9193 - val_loss: 0.3575 - val_accuracy: 0.8795\n",
      "Epoch 198/200\n",
      "94/94 [==============================] - 1s 11ms/step - loss: 0.2229 - accuracy: 0.9190 - val_loss: 0.3577 - val_accuracy: 0.8796\n",
      "Epoch 199/200\n",
      "94/94 [==============================] - 1s 10ms/step - loss: 0.2186 - accuracy: 0.9210 - val_loss: 0.3605 - val_accuracy: 0.8795\n",
      "Epoch 200/200\n",
      "94/94 [==============================] - 1s 10ms/step - loss: 0.2204 - accuracy: 0.9195 - val_loss: 0.3660 - val_accuracy: 0.8762\n"
     ]
    },
    {
     "data": {
      "text/plain": [
       "<keras.callbacks.History at 0x23d5ec37e50>"
      ]
     },
     "execution_count": 23,
     "metadata": {},
     "output_type": "execute_result"
    }
   ],
   "source": [
    "\n",
    "cnn_model.fit(X_train,y_train,batch_size =512,epochs = epochs,verbose = 1,validation_data = (X_validate,y_validate) )"
   ]
  },
  {
   "cell_type": "code",
   "execution_count": 24,
   "metadata": {
    "colab": {
     "base_uri": "https://localhost:8080/"
    },
    "id": "OdPP1tCx7yXa",
    "outputId": "804a407c-7d47-4af4-fc84-b69b610c33ce"
   },
   "outputs": [
    {
     "name": "stdout",
     "output_type": "stream",
     "text": [
      "313/313 [==============================] - 0s 1ms/step - loss: 0.3593 - accuracy: 0.8805\n",
      "Test Accuracy : 0.881\n"
     ]
    }
   ],
   "source": [
    "evaluation = cnn_model.evaluate(X_test,y_test)\n",
    "print('Test Accuracy : {:.3f}'.format(evaluation[1]))"
   ]
  },
  {
   "cell_type": "code",
   "execution_count": 25,
   "metadata": {
    "colab": {
     "base_uri": "https://localhost:8080/"
    },
    "id": "upogqyEZ76TZ",
    "outputId": "35ada5cd-9f2c-4fdf-d534-79af9291c4e1"
   },
   "outputs": [
    {
     "name": "stdout",
     "output_type": "stream",
     "text": [
      "313/313 [==============================] - 0s 988us/step\n"
     ]
    }
   ],
   "source": [
    "predicted_classes = np.argmax(cnn_model.predict(X_test),axis=-1)\n"
   ]
  },
  {
   "cell_type": "code",
   "execution_count": 26,
   "metadata": {
    "colab": {
     "base_uri": "https://localhost:8080/"
    },
    "id": "LmJsMlvr86e5",
    "outputId": "142586bb-d722-449d-c122-e426e5697763"
   },
   "outputs": [
    {
     "data": {
      "text/plain": [
       "array([0, 1, 2, ..., 8, 8, 1], dtype=int64)"
      ]
     },
     "execution_count": 26,
     "metadata": {},
     "output_type": "execute_result"
    }
   ],
   "source": [
    "predicted_classes"
   ]
  },
  {
   "cell_type": "code",
   "execution_count": 27,
   "metadata": {
    "colab": {
     "base_uri": "https://localhost:8080/",
     "height": 697
    },
    "id": "E5AyGxXc8_aH",
    "outputId": "f17d603b-1be7-4345-fbc5-0c34f53e0b92"
   },
   "outputs": [
    {
     "data": {
      "image/png": "[encoded data removed]",
      "text/plain": [
       "<Figure size 864x864 with 25 Axes>"
      ]
     },
     "metadata": {
      "needs_background": "light"
     },
     "output_type": "display_data"
    }
   ],
   "source": [
    "L = 5\n",
    "W = 5\n",
    "\n",
    "fig,axes = plt.subplots(L,W,figsize = (12,12))\n",
    "axes = axes.ravel()\n",
    "for i in np.arange(0,L*W):\n",
    "    axes[i].imshow(X_test[i].reshape(28,28))\n",
    "    axes[i].set_title('Prediction Class:{1} \\n true class: {1}'.format(predicted_classes[i],y_test[i]))\n",
    "    axes[i].axis('off')\n",
    "plt.subplots_adjust(wspace = 0.5)  "
   ]
  },
  {
   "cell_type": "code",
   "execution_count": 28,
   "metadata": {
    "colab": {
     "base_uri": "https://localhost:8080/"
    },
    "id": "1j24BwIxPdeR",
    "outputId": "21b80c6e-99c4-4e22-fb17-f504e5682e32"
   },
   "outputs": [
    {
     "name": "stdout",
     "output_type": "stream",
     "text": [
      "              precision    recall  f1-score   support\n",
      "\n",
      "     Class 0       0.88      0.77      0.82      1000\n",
      "     Class 1       0.97      0.98      0.98      1000\n",
      "     Class 2       0.84      0.80      0.82      1000\n",
      "     Class 3       0.87      0.90      0.89      1000\n",
      "     Class 4       0.83      0.80      0.81      1000\n",
      "     Class 5       0.96      0.96      0.96      1000\n",
      "     Class 6       0.65      0.75      0.70      1000\n",
      "     Class 7       0.95      0.89      0.92      1000\n",
      "     Class 8       0.96      0.98      0.97      1000\n",
      "     Class 9       0.92      0.97      0.94      1000\n",
      "\n",
      "    accuracy                           0.88     10000\n",
      "   macro avg       0.88      0.88      0.88     10000\n",
      "weighted avg       0.88      0.88      0.88     10000\n",
      "\n"
     ]
    }
   ],
   "source": [
    "from sklearn.metrics import classification_report\n",
    "\n",
    "classes = 10\n",
    "targets = [\"Class {}\".format(i) for i in range(classes)]\n",
    "print(classification_report(y_test, predicted_classes, target_names = targets))"
   ]
  }
 ],
 "metadata": {
  "colab": {
   "provenance": []
  },
  "kernelspec": {
   "display_name": "Python 3",
   "language": "python",
   "name": "python3"
  },
  "language_info": {
   "codemirror_mode": {
    "name": "ipython",
    "version": 3
   },
   "file_extension": ".py",
   "mimetype": "text/x-python",
   "name": "python",
   "nbconvert_exporter": "python",
   "pygments_lexer": "ipython3",
   "version": "3.8.8"
  }
 },
 "nbformat": 4,
 "nbformat_minor": 1
}
