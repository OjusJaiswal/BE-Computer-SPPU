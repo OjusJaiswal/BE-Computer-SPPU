{
 "cells": [
  {
   "cell_type": "code",
   "execution_count": 1,
   "metadata": {
    "id": "ooPxoMVP4a15"
   },
   "outputs": [],
   "source": [
    "import numpy as np\n",
    "import pandas as pd\n",
    "import matplotlib.pyplot as plt\n",
    "import seaborn as sns"
   ]
  },
  {
   "cell_type": "code",
   "execution_count": 2,
   "metadata": {
    "id": "nCqfwJ1k4tvn"
   },
   "outputs": [],
   "source": [
    "%matplotlib inline"
   ]
  },
  {
   "cell_type": "code",
   "execution_count": 3,
   "metadata": {
    "id": "08_sTJgv4zNh"
   },
   "outputs": [],
   "source": [
    "fashion_train_df= pd.read_csv('fashion-mnist_train.csv')"
   ]
  },
  {
   "cell_type": "code",
   "execution_count": 4,
   "metadata": {
    "id": "nzH17Opt48GA"
   },
   "outputs": [],
   "source": [
    "fashion_test_df = pd.read_csv('fashion-mnist_test.csv')"
   ]
  },
  {
   "cell_type": "code",
   "execution_count": 5,
   "metadata": {
    "colab": {
     "base_uri": "https://localhost:8080/",
     "height": 300
    },
    "id": "S8Jn0K9e5BsI",
    "outputId": "e093c30e-255e-4baa-87e3-27e99ce672b4"
   },
   "outputs": [
    {
     "data": {
      "text/html": [
       "<div>\n",
       "<style scoped>\n",
       "    .dataframe tbody tr th:only-of-type {\n",
       "        vertical-align: middle;\n",
       "    }\n",
       "\n",
       "    .dataframe tbody tr th {\n",
       "        vertical-align: top;\n",
       "    }\n",
       "\n",
       "    .dataframe thead th {\n",
       "        text-align: right;\n",
       "    }\n",
       "</style>\n",
       "<table border=\"1\" class=\"dataframe\">\n",
       "  <thead>\n",
       "    <tr style=\"text-align: right;\">\n",
       "      <th></th>\n",
       "      <th>label</th>\n",
       "      <th>pixel1</th>\n",
       "      <th>pixel2</th>\n",
       "      <th>pixel3</th>\n",
       "      <th>pixel4</th>\n",
       "      <th>pixel5</th>\n",
       "      <th>pixel6</th>\n",
       "      <th>pixel7</th>\n",
       "      <th>pixel8</th>\n",
       "      <th>pixel9</th>\n",
       "      <th>...</th>\n",
       "      <th>pixel775</th>\n",
       "      <th>pixel776</th>\n",
       "      <th>pixel777</th>\n",
       "      <th>pixel778</th>\n",
       "      <th>pixel779</th>\n",
       "      <th>pixel780</th>\n",
       "      <th>pixel781</th>\n",
       "      <th>pixel782</th>\n",
       "      <th>pixel783</th>\n",
       "      <th>pixel784</th>\n",
       "    </tr>\n",
       "  </thead>\n",
       "  <tbody>\n",
       "    <tr>\n",
       "      <th>0</th>\n",
       "      <td>2</td>\n",
       "      <td>0</td>\n",
       "      <td>0</td>\n",
       "      <td>0</td>\n",
       "      <td>0</td>\n",
       "      <td>0</td>\n",
       "      <td>0</td>\n",
       "      <td>0</td>\n",
       "      <td>0</td>\n",
       "      <td>0</td>\n",
       "      <td>...</td>\n",
       "      <td>0</td>\n",
       "      <td>0</td>\n",
       "      <td>0</td>\n",
       "      <td>0</td>\n",
       "      <td>0</td>\n",
       "      <td>0</td>\n",
       "      <td>0</td>\n",
       "      <td>0</td>\n",
       "      <td>0</td>\n",
       "      <td>0</td>\n",
       "    </tr>\n",
       "    <tr>\n",
       "      <th>1</th>\n",
       "      <td>9</td>\n",
       "      <td>0</td>\n",
       "      <td>0</td>\n",
       "      <td>0</td>\n",
       "      <td>0</td>\n",
       "      <td>0</td>\n",
       "      <td>0</td>\n",
       "      <td>0</td>\n",
       "      <td>0</td>\n",
       "      <td>0</td>\n",
       "      <td>...</td>\n",
       "      <td>0</td>\n",
       "      <td>0</td>\n",
       "      <td>0</td>\n",
       "      <td>0</td>\n",
       "      <td>0</td>\n",
       "      <td>0</td>\n",
       "      <td>0</td>\n",
       "      <td>0</td>\n",
       "      <td>0</td>\n",
       "      <td>0</td>\n",
       "    </tr>\n",
       "    <tr>\n",
       "      <th>2</th>\n",
       "      <td>6</td>\n",
       "      <td>0</td>\n",
       "      <td>0</td>\n",
       "      <td>0</td>\n",
       "      <td>0</td>\n",
       "      <td>0</td>\n",
       "      <td>0</td>\n",
       "      <td>0</td>\n",
       "      <td>5</td>\n",
       "      <td>0</td>\n",
       "      <td>...</td>\n",
       "      <td>0</td>\n",
       "      <td>0</td>\n",
       "      <td>0</td>\n",
       "      <td>30</td>\n",
       "      <td>43</td>\n",
       "      <td>0</td>\n",
       "      <td>0</td>\n",
       "      <td>0</td>\n",
       "      <td>0</td>\n",
       "      <td>0</td>\n",
       "    </tr>\n",
       "    <tr>\n",
       "      <th>3</th>\n",
       "      <td>0</td>\n",
       "      <td>0</td>\n",
       "      <td>0</td>\n",
       "      <td>0</td>\n",
       "      <td>1</td>\n",
       "      <td>2</td>\n",
       "      <td>0</td>\n",
       "      <td>0</td>\n",
       "      <td>0</td>\n",
       "      <td>0</td>\n",
       "      <td>...</td>\n",
       "      <td>3</td>\n",
       "      <td>0</td>\n",
       "      <td>0</td>\n",
       "      <td>0</td>\n",
       "      <td>0</td>\n",
       "      <td>1</td>\n",
       "      <td>0</td>\n",
       "      <td>0</td>\n",
       "      <td>0</td>\n",
       "      <td>0</td>\n",
       "    </tr>\n",
       "    <tr>\n",
       "      <th>4</th>\n",
       "      <td>3</td>\n",
       "      <td>0</td>\n",
       "      <td>0</td>\n",
       "      <td>0</td>\n",
       "      <td>0</td>\n",
       "      <td>0</td>\n",
       "      <td>0</td>\n",
       "      <td>0</td>\n",
       "      <td>0</td>\n",
       "      <td>0</td>\n",
       "      <td>...</td>\n",
       "      <td>0</td>\n",
       "      <td>0</td>\n",
       "      <td>0</td>\n",
       "      <td>0</td>\n",
       "      <td>0</td>\n",
       "      <td>0</td>\n",
       "      <td>0</td>\n",
       "      <td>0</td>\n",
       "      <td>0</td>\n",
       "      <td>0</td>\n",
       "    </tr>\n",
       "  </tbody>\n",
       "</table>\n",
       "<p>5 rows × 785 columns</p>\n",
       "</div>"
      ],
      "text/plain": [
       "   label  pixel1  pixel2  pixel3  pixel4  pixel5  pixel6  pixel7  pixel8  \\\n",
       "0      2       0       0       0       0       0       0       0       0   \n",
       "1      9       0       0       0       0       0       0       0       0   \n",
       "2      6       0       0       0       0       0       0       0       5   \n",
       "3      0       0       0       0       1       2       0       0       0   \n",
       "4      3       0       0       0       0       0       0       0       0   \n",
       "\n",
       "   pixel9  ...  pixel775  pixel776  pixel777  pixel778  pixel779  pixel780  \\\n",
       "0       0  ...         0         0         0         0         0         0   \n",
       "1       0  ...         0         0         0         0         0         0   \n",
       "2       0  ...         0         0         0        30        43         0   \n",
       "3       0  ...         3         0         0         0         0         1   \n",
       "4       0  ...         0         0         0         0         0         0   \n",
       "\n",
       "   pixel781  pixel782  pixel783  pixel784  \n",
       "0         0         0         0         0  \n",
       "1         0         0         0         0  \n",
       "2         0         0         0         0  \n",
       "3         0         0         0         0  \n",
       "4         0         0         0         0  \n",
       "\n",
       "[5 rows x 785 columns]"
      ]
     },
     "execution_count": 5,
     "metadata": {},
     "output_type": "execute_result"
    }
   ],
   "source": [
    "fashion_train_df.head()"
   ]
  },
  {
   "cell_type": "code",
   "execution_count": 6,
   "metadata": {
    "colab": {
     "base_uri": "https://localhost:8080/",
     "height": 300
    },
    "id": "KWVUF3NW5E5w",
    "outputId": "edc0dd7b-b2f5-4956-dd11-f442e8904f26"
   },
   "outputs": [
    {
     "data": {
      "text/html": [
       "<div>\n",
       "<style scoped>\n",
       "    .dataframe tbody tr th:only-of-type {\n",
       "        vertical-align: middle;\n",
       "    }\n",
       "\n",
       "    .dataframe tbody tr th {\n",
       "        vertical-align: top;\n",
       "    }\n",
       "\n",
       "    .dataframe thead th {\n",
       "        text-align: right;\n",
       "    }\n",
       "</style>\n",
       "<table border=\"1\" class=\"dataframe\">\n",
       "  <thead>\n",
       "    <tr style=\"text-align: right;\">\n",
       "      <th></th>\n",
       "      <th>label</th>\n",
       "      <th>pixel1</th>\n",
       "      <th>pixel2</th>\n",
       "      <th>pixel3</th>\n",
       "      <th>pixel4</th>\n",
       "      <th>pixel5</th>\n",
       "      <th>pixel6</th>\n",
       "      <th>pixel7</th>\n",
       "      <th>pixel8</th>\n",
       "      <th>pixel9</th>\n",
       "      <th>...</th>\n",
       "      <th>pixel775</th>\n",
       "      <th>pixel776</th>\n",
       "      <th>pixel777</th>\n",
       "      <th>pixel778</th>\n",
       "      <th>pixel779</th>\n",
       "      <th>pixel780</th>\n",
       "      <th>pixel781</th>\n",
       "      <th>pixel782</th>\n",
       "      <th>pixel783</th>\n",
       "      <th>pixel784</th>\n",
       "    </tr>\n",
       "  </thead>\n",
       "  <tbody>\n",
       "    <tr>\n",
       "      <th>59995</th>\n",
       "      <td>9</td>\n",
       "      <td>0</td>\n",
       "      <td>0</td>\n",
       "      <td>0</td>\n",
       "      <td>0</td>\n",
       "      <td>0</td>\n",
       "      <td>0</td>\n",
       "      <td>0</td>\n",
       "      <td>0</td>\n",
       "      <td>0</td>\n",
       "      <td>...</td>\n",
       "      <td>0</td>\n",
       "      <td>0</td>\n",
       "      <td>0</td>\n",
       "      <td>0</td>\n",
       "      <td>0</td>\n",
       "      <td>0</td>\n",
       "      <td>0</td>\n",
       "      <td>0</td>\n",
       "      <td>0</td>\n",
       "      <td>0</td>\n",
       "    </tr>\n",
       "    <tr>\n",
       "      <th>59996</th>\n",
       "      <td>1</td>\n",
       "      <td>0</td>\n",
       "      <td>0</td>\n",
       "      <td>0</td>\n",
       "      <td>0</td>\n",
       "      <td>0</td>\n",
       "      <td>0</td>\n",
       "      <td>0</td>\n",
       "      <td>0</td>\n",
       "      <td>0</td>\n",
       "      <td>...</td>\n",
       "      <td>73</td>\n",
       "      <td>0</td>\n",
       "      <td>0</td>\n",
       "      <td>0</td>\n",
       "      <td>0</td>\n",
       "      <td>0</td>\n",
       "      <td>0</td>\n",
       "      <td>0</td>\n",
       "      <td>0</td>\n",
       "      <td>0</td>\n",
       "    </tr>\n",
       "    <tr>\n",
       "      <th>59997</th>\n",
       "      <td>8</td>\n",
       "      <td>0</td>\n",
       "      <td>0</td>\n",
       "      <td>0</td>\n",
       "      <td>0</td>\n",
       "      <td>0</td>\n",
       "      <td>0</td>\n",
       "      <td>0</td>\n",
       "      <td>0</td>\n",
       "      <td>0</td>\n",
       "      <td>...</td>\n",
       "      <td>160</td>\n",
       "      <td>162</td>\n",
       "      <td>163</td>\n",
       "      <td>135</td>\n",
       "      <td>94</td>\n",
       "      <td>0</td>\n",
       "      <td>0</td>\n",
       "      <td>0</td>\n",
       "      <td>0</td>\n",
       "      <td>0</td>\n",
       "    </tr>\n",
       "    <tr>\n",
       "      <th>59998</th>\n",
       "      <td>8</td>\n",
       "      <td>0</td>\n",
       "      <td>0</td>\n",
       "      <td>0</td>\n",
       "      <td>0</td>\n",
       "      <td>0</td>\n",
       "      <td>0</td>\n",
       "      <td>0</td>\n",
       "      <td>0</td>\n",
       "      <td>0</td>\n",
       "      <td>...</td>\n",
       "      <td>0</td>\n",
       "      <td>0</td>\n",
       "      <td>0</td>\n",
       "      <td>0</td>\n",
       "      <td>0</td>\n",
       "      <td>0</td>\n",
       "      <td>0</td>\n",
       "      <td>0</td>\n",
       "      <td>0</td>\n",
       "      <td>0</td>\n",
       "    </tr>\n",
       "    <tr>\n",
       "      <th>59999</th>\n",
       "      <td>7</td>\n",
       "      <td>0</td>\n",
       "      <td>0</td>\n",
       "      <td>0</td>\n",
       "      <td>0</td>\n",
       "      <td>0</td>\n",
       "      <td>0</td>\n",
       "      <td>0</td>\n",
       "      <td>0</td>\n",
       "      <td>0</td>\n",
       "      <td>...</td>\n",
       "      <td>0</td>\n",
       "      <td>0</td>\n",
       "      <td>0</td>\n",
       "      <td>0</td>\n",
       "      <td>0</td>\n",
       "      <td>0</td>\n",
       "      <td>0</td>\n",
       "      <td>0</td>\n",
       "      <td>0</td>\n",
       "      <td>0</td>\n",
       "    </tr>\n",
       "  </tbody>\n",
       "</table>\n",
       "<p>5 rows × 785 columns</p>\n",
       "</div>"
      ],
      "text/plain": [
       "       label  pixel1  pixel2  pixel3  pixel4  pixel5  pixel6  pixel7  pixel8  \\\n",
       "59995      9       0       0       0       0       0       0       0       0   \n",
       "59996      1       0       0       0       0       0       0       0       0   \n",
       "59997      8       0       0       0       0       0       0       0       0   \n",
       "59998      8       0       0       0       0       0       0       0       0   \n",
       "59999      7       0       0       0       0       0       0       0       0   \n",
       "\n",
       "       pixel9  ...  pixel775  pixel776  pixel777  pixel778  pixel779  \\\n",
       "59995       0  ...         0         0         0         0         0   \n",
       "59996       0  ...        73         0         0         0         0   \n",
       "59997       0  ...       160       162       163       135        94   \n",
       "59998       0  ...         0         0         0         0         0   \n",
       "59999       0  ...         0         0         0         0         0   \n",
       "\n",
       "       pixel780  pixel781  pixel782  pixel783  pixel784  \n",
       "59995         0         0         0         0         0  \n",
       "59996         0         0         0         0         0  \n",
       "59997         0         0         0         0         0  \n",
       "59998         0         0         0         0         0  \n",
       "59999         0         0         0         0         0  \n",
       "\n",
       "[5 rows x 785 columns]"
      ]
     },
     "execution_count": 6,
     "metadata": {},
     "output_type": "execute_result"
    }
   ],
   "source": [
    "fashion_train_df.tail()"
   ]
  },
  {
   "cell_type": "code",
   "execution_count": 7,
   "metadata": {
    "colab": {
     "base_uri": "https://localhost:8080/"
    },
    "id": "5Bd1uKEw5In4",
    "outputId": "bd0c2bf1-9a96-4b44-ec24-69f9fca2ad12"
   },
   "outputs": [
    {
     "data": {
      "text/plain": [
       "(60000, 785)"
      ]
     },
     "execution_count": 7,
     "metadata": {},
     "output_type": "execute_result"
    }
   ],
   "source": [
    "fashion_train_df.shape"
   ]
  },
  {
   "cell_type": "code",
   "execution_count": 8,
   "metadata": {
    "colab": {
     "base_uri": "https://localhost:8080/"
    },
    "id": "1ImHKcZB5LgY",
    "outputId": "0770744d-dc2c-4f28-9ade-1f6e2d4a9178"
   },
   "outputs": [
    {
     "data": {
      "text/plain": [
       "(10000, 785)"
      ]
     },
     "execution_count": 8,
     "metadata": {},
     "output_type": "execute_result"
    }
   ],
   "source": [
    "fashion_test_df.shape"
   ]
  },
  {
   "cell_type": "code",
   "execution_count": 9,
   "metadata": {
    "id": "8yzRp-K15PsQ"
   },
   "outputs": [],
   "source": [
    "training = np.array(fashion_train_df,dtype='float32')\n",
    "testing = np.array(fashion_test_df,dtype='float32')"
   ]
  },
  {
   "cell_type": "code",
   "execution_count": 10,
   "metadata": {
    "colab": {
     "base_uri": "https://localhost:8080/"
    },
    "id": "Mj9EpBV25SNY",
    "outputId": "5f4b1dfd-2363-4850-b875-6ea6e32a7a3a"
   },
   "outputs": [
    {
     "data": {
      "text/plain": [
       "(60000, 785)"
      ]
     },
     "execution_count": 10,
     "metadata": {},
     "output_type": "execute_result"
    }
   ],
   "source": [
    "training.shape"
   ]
  },
  {
   "cell_type": "code",
   "execution_count": 11,
   "metadata": {
    "id": "AutVqnL_5VCw"
   },
   "outputs": [],
   "source": [
    "import random"
   ]
  },
  {
   "cell_type": "code",
   "execution_count": 12,
   "metadata": {
    "colab": {
     "base_uri": "https://localhost:8080/",
     "height": 282
    },
    "id": "QqE3ecVbMHOq",
    "outputId": "af0dd2e6-2f41-4229-e788-2b97dee7d0cd"
   },
   "outputs": [
    {
     "data": {
      "text/plain": [
       "0.0"
      ]
     },
     "execution_count": 12,
     "metadata": {},
     "output_type": "execute_result"
    },
    {
     "data": {
      "image/png": "[encoded data removed]",
      "text/plain": [
       "<Figure size 432x288 with 1 Axes>"
      ]
     },
     "metadata": {
      "needs_background": "light"
     },
     "output_type": "display_data"
    }
   ],
   "source": [
    "i = random.randint(0,60001) \n",
    "plt.imshow(training[i,1:].reshape(28,28)) \n",
    "label = training[i,1] \n",
    "label"
   ]
  },
  {
   "cell_type": "markdown",
   "metadata": {
    "id": "pohsjSwb5YkZ"
   },
   "source": [
    "**i** = random.randint(0,60001)\n",
    "plt.imshow(training[i,1:].reshape(28,28))\n",
    "label = training[i,1] \n",
    "label"
   ]
  },
  {
   "cell_type": "code",
   "execution_count": 13,
   "metadata": {
    "colab": {
     "base_uri": "https://localhost:8080/",
     "height": 966
    },
    "id": "TVwvULA15gRA",
    "outputId": "080a4c5b-5855-4930-ed80-c1532bd40ea8"
   },
   "outputs": [
    {
     "data": {
      "image/png": "[encoded data removed]",
      "text/plain": [
       "<Figure size 1224x1224 with 49 Axes>"
      ]
     },
     "metadata": {
      "needs_background": "light"
     },
     "output_type": "display_data"
    }
   ],
   "source": [
    "W_grid = 7\n",
    "L_grid = 7\n",
    "\n",
    "fig,axes = plt.subplots(L_grid,W_grid,figsize =(17,17))\n",
    "\n",
    "axes = axes.ravel() \n",
    "n_training = len(training) \n",
    "\n",
    "\n",
    "\n",
    "for i in np.arange(0,W_grid*L_grid):\n",
    "        index = np.random.randint(0,n_training)\n",
    "        axes[i].imshow(training[index,1:].reshape((28,28)))\n",
    "        axes[i].set_title(training[index,0],fontsize = 8)\n",
    "        axes[i].axis('off')\n",
    "        \n",
    "plt.subplots_adjust(hspace=0.4)  "
   ]
  },
  {
   "cell_type": "code",
   "execution_count": 14,
   "metadata": {
    "id": "C-0rO0Uu5keI"
   },
   "outputs": [],
   "source": [
    "X_train = training[:,1:]/255\n",
    "y_train = training[:,0]\n",
    "X_test = testing[:,1:]/255\n",
    "y_test = testing[:,0]"
   ]
  },
  {
   "cell_type": "code",
   "execution_count": 15,
   "metadata": {
    "id": "J9cSUEiU5sKZ"
   },
   "outputs": [],
   "source": [
    "from sklearn.model_selection import train_test_split\n",
    "X_train, X_validate, y_train, y_validate = train_test_split(X_train, y_train,test_size = 0.2,random_state = 12345) "
   ]
  },
  {
   "cell_type": "code",
   "execution_count": 16,
   "metadata": {
    "id": "bPQfPGZs5w1H"
   },
   "outputs": [],
   "source": [
    "X_train = X_train.reshape(X_train.shape[0],*(28,28,1))\n",
    "X_test = X_test.reshape(X_test.shape[0],*(28,28,1))\n",
    "X_validate = X_validate.reshape(X_validate.shape[0],*(28,28,1))"
   ]
  },
  {
   "cell_type": "code",
   "execution_count": 17,
   "metadata": {
    "colab": {
     "base_uri": "https://localhost:8080/"
    },
    "id": "tozw48m551s5",
    "outputId": "6ff6ba33-e885-4825-9346-d5a4ffc42c32"
   },
   "outputs": [
    {
     "data": {
      "text/plain": [
       "(48000, 28, 28, 1)"
      ]
     },
     "execution_count": 17,
     "metadata": {},
     "output_type": "execute_result"
    }
   ],
   "source": [
    "X_train.shape\n"
   ]
  },
  {
   "cell_type": "code",
   "execution_count": 18,
   "metadata": {
    "colab": {
     "base_uri": "https://localhost:8080/"
    },
    "id": "Gu-96aNG591o",
    "outputId": "79580ce7-7f0c-4044-c4bb-0aded3289908"
   },
   "outputs": [
    {
     "data": {
      "text/plain": [
       "(10000, 28, 28, 1)"
      ]
     },
     "execution_count": 18,
     "metadata": {},
     "output_type": "execute_result"
    }
   ],
   "source": [
    "X_test.shape"
   ]
  },
  {
   "cell_type": "code",
   "execution_count": 19,
   "metadata": {
    "colab": {
     "base_uri": "https://localhost:8080/"
    },
    "id": "LDGYbFcm6ALB",
    "outputId": "da616432-f524-40a2-9a95-7407967c9481"
   },
   "outputs": [
    {
     "data": {
      "text/plain": [
       "(12000, 28, 28, 1)"
      ]
     },
     "execution_count": 19,
     "metadata": {},
     "output_type": "execute_result"
    }
   ],
   "source": [
    "X_validate.shape"
   ]
  },
  {
   "cell_type": "code",
   "execution_count": 20,
   "metadata": {
    "id": "GCCnNuCj6DmA"
   },
   "outputs": [],
   "source": [
    "import tensorflow as tf\n",
    "from tensorflow import keras\n",
    "from tensorflow.keras.models import Sequential\n",
    "from tensorflow.keras.layers import Conv2D,MaxPooling2D,Dense,Flatten,Dropout\n",
    "from tensorflow.keras.optimizers import Adam\n",
    "from tensorflow.keras.callbacks import TensorBoard"
   ]
  },
  {
   "cell_type": "code",
   "execution_count": 21,
   "metadata": {
    "id": "zHYu_wiP6IAp"
   },
   "outputs": [],
   "source": [
    "cnn_model = Sequential()\n",
    "cnn_model.add(Conv2D(32,3,3,input_shape = (28,28,1),activation = 'relu'))\n",
    "cnn_model.add(MaxPooling2D(pool_size= (2,2)))\n",
    "cnn_model.add(Flatten())\n",
    "cnn_model.add(Dense(32,activation = 'relu'))\n",
    "cnn_model.add(Dense(10,activation = 'sigmoid'))\n",
    "cnn_model.compile(loss ='sparse_categorical_crossentropy',optimizer = Adam(learning_rate=0.001),metrics= ['accuracy'])\n"
   ]
  },
  {
   "cell_type": "code",
   "execution_count": 22,
   "metadata": {
    "id": "7GtLdxcj6g1B"
   },
   "outputs": [],
   "source": [
    "epochs = 200\n"
   ]
  },
  {
   "cell_type": "code",
   "execution_count": 23,
   "metadata": {
    "colab": {
     "base_uri": "https://localhost:8080/"
    },
    "id": "kkc-K1QY6kLA",
    "outputId": "4c9cfda8-cd4a-41e0-e552-3e2dce3ac182"
   },
   "outputs": [
    {
     "name": "stdout",
     "output_type": "stream",
     "text": [
      "Epoch 1/200\n",
      "94/94 [==============================] - 2s 12ms/step - loss: 1.3900 - accuracy: 0.5820 - val_loss: 0.7855 - val_accuracy: 0.7256\n",
      "Epoch 2/200\n",
      "94/94 [==============================] - 1s 9ms/step - loss: 0.6848 - accuracy: 0.7535 - val_loss: 0.6168 - val_accuracy: 0.7744\n",
      "Epoch 3/200\n",
      "94/94 [==============================] - 1s 9ms/step - loss: 0.5819 - accuracy: 0.7889 - val_loss: 0.5550 - val_accuracy: 0.8021\n",
      "Epoch 4/200\n",
      "94/94 [==============================] - 1s 9ms/step - loss: 0.5311 - accuracy: 0.8065 - val_loss: 0.5156 - val_accuracy: 0.8148\n",
      "Epoch 5/200\n",
      "94/94 [==============================] - 1s 9ms/step - loss: 0.5023 - accuracy: 0.8161 - val_loss: 0.4916 - val_accuracy: 0.8238\n",
      "Epoch 6/200\n",
      "94/94 [==============================] - 1s 8ms/step - loss: 0.4793 - accuracy: 0.8253 - val_loss: 0.4733 - val_accuracy: 0.8345\n",
      "Epoch 7/200\n",
      "94/94 [==============================] - 1s 9ms/step - loss: 0.4648 - accuracy: 0.8309 - val_loss: 0.4611 - val_accuracy: 0.8378\n",
      "Epoch 8/200\n",
      "94/94 [==============================] - 1s 9ms/step - loss: 0.4521 - accuracy: 0.8371 - val_loss: 0.4518 - val_accuracy: 0.8397\n",
      "Epoch 9/200\n",
      "94/94 [==============================] - 1s 9ms/step - loss: 0.4403 - accuracy: 0.8410 - val_loss: 0.4420 - val_accuracy: 0.8432\n",
      "Epoch 10/200\n",
      "94/94 [==============================] - 1s 9ms/step - loss: 0.4323 - accuracy: 0.8429 - val_loss: 0.4411 - val_accuracy: 0.8429\n",
      "Epoch 11/200\n",
      "94/94 [==============================] - 1s 10ms/step - loss: 0.4305 - accuracy: 0.8441 - val_loss: 0.4318 - val_accuracy: 0.8452\n",
      "Epoch 12/200\n",
      "94/94 [==============================] - 1s 9ms/step - loss: 0.4197 - accuracy: 0.8474 - val_loss: 0.4247 - val_accuracy: 0.8482\n",
      "Epoch 13/200\n",
      "94/94 [==============================] - 1s 9ms/step - loss: 0.4141 - accuracy: 0.8495 - val_loss: 0.4204 - val_accuracy: 0.8489\n",
      "Epoch 14/200\n",
      "94/94 [==============================] - 1s 9ms/step - loss: 0.4097 - accuracy: 0.8507 - val_loss: 0.4262 - val_accuracy: 0.8463\n",
      "Epoch 15/200\n",
      "94/94 [==============================] - 1s 9ms/step - loss: 0.4054 - accuracy: 0.8535 - val_loss: 0.4132 - val_accuracy: 0.8522\n",
      "Epoch 16/200\n",
      "94/94 [==============================] - 1s 9ms/step - loss: 0.4009 - accuracy: 0.8544 - val_loss: 0.4085 - val_accuracy: 0.8534\n",
      "Epoch 17/200\n",
      "94/94 [==============================] - 1s 9ms/step - loss: 0.3983 - accuracy: 0.8551 - val_loss: 0.4113 - val_accuracy: 0.8505\n",
      "Epoch 18/200\n",
      "94/94 [==============================] - 1s 9ms/step - loss: 0.3946 - accuracy: 0.8562 - val_loss: 0.4038 - val_accuracy: 0.8525\n",
      "Epoch 19/200\n",
      "94/94 [==============================] - 1s 10ms/step - loss: 0.3893 - accuracy: 0.8577 - val_loss: 0.4008 - val_accuracy: 0.8554\n",
      "Epoch 20/200\n",
      "94/94 [==============================] - 1s 9ms/step - loss: 0.3861 - accuracy: 0.8598 - val_loss: 0.3974 - val_accuracy: 0.8570\n",
      "Epoch 21/200\n",
      "94/94 [==============================] - 1s 10ms/step - loss: 0.3833 - accuracy: 0.8604 - val_loss: 0.4026 - val_accuracy: 0.8539\n",
      "Epoch 22/200\n",
      "94/94 [==============================] - 1s 9ms/step - loss: 0.3811 - accuracy: 0.8610 - val_loss: 0.4014 - val_accuracy: 0.8547\n",
      "Epoch 23/200\n",
      "94/94 [==============================] - 1s 9ms/step - loss: 0.3791 - accuracy: 0.8629 - val_loss: 0.3893 - val_accuracy: 0.8591\n",
      "Epoch 24/200\n",
      "94/94 [==============================] - 1s 9ms/step - loss: 0.3771 - accuracy: 0.8622 - val_loss: 0.3914 - val_accuracy: 0.8581\n",
      "Epoch 25/200\n",
      "94/94 [==============================] - 1s 10ms/step - loss: 0.3732 - accuracy: 0.8647 - val_loss: 0.3894 - val_accuracy: 0.8597\n",
      "Epoch 26/200\n",
      "94/94 [==============================] - 1s 9ms/step - loss: 0.3704 - accuracy: 0.8654 - val_loss: 0.3854 - val_accuracy: 0.8595\n",
      "Epoch 27/200\n",
      "94/94 [==============================] - 1s 9ms/step - loss: 0.3695 - accuracy: 0.8650 - val_loss: 0.3901 - val_accuracy: 0.8586\n",
      "Epoch 28/200\n",
      "94/94 [==============================] - 1s 9ms/step - loss: 0.3657 - accuracy: 0.8662 - val_loss: 0.3811 - val_accuracy: 0.8618\n",
      "Epoch 29/200\n",
      "94/94 [==============================] - 1s 9ms/step - loss: 0.3630 - accuracy: 0.8680 - val_loss: 0.3849 - val_accuracy: 0.8602\n",
      "Epoch 30/200\n",
      "94/94 [==============================] - 1s 9ms/step - loss: 0.3620 - accuracy: 0.8669 - val_loss: 0.3784 - val_accuracy: 0.8632\n",
      "Epoch 31/200\n",
      "94/94 [==============================] - 1s 9ms/step - loss: 0.3607 - accuracy: 0.8687 - val_loss: 0.3819 - val_accuracy: 0.8621\n",
      "Epoch 32/200\n",
      "94/94 [==============================] - 1s 10ms/step - loss: 0.3582 - accuracy: 0.8682 - val_loss: 0.3781 - val_accuracy: 0.8613\n",
      "Epoch 33/200\n",
      "94/94 [==============================] - 1s 9ms/step - loss: 0.3577 - accuracy: 0.8697 - val_loss: 0.3778 - val_accuracy: 0.8612\n",
      "Epoch 34/200\n",
      "94/94 [==============================] - 1s 10ms/step - loss: 0.3551 - accuracy: 0.8695 - val_loss: 0.3750 - val_accuracy: 0.8641\n",
      "Epoch 35/200\n",
      "94/94 [==============================] - 1s 9ms/step - loss: 0.3531 - accuracy: 0.8714 - val_loss: 0.3720 - val_accuracy: 0.8658\n",
      "Epoch 36/200\n",
      "94/94 [==============================] - 1s 9ms/step - loss: 0.3502 - accuracy: 0.8721 - val_loss: 0.3764 - val_accuracy: 0.8623\n",
      "Epoch 37/200\n",
      "94/94 [==============================] - 1s 9ms/step - loss: 0.3488 - accuracy: 0.8728 - val_loss: 0.3701 - val_accuracy: 0.8666\n",
      "Epoch 38/200\n",
      "94/94 [==============================] - 1s 9ms/step - loss: 0.3485 - accuracy: 0.8715 - val_loss: 0.3743 - val_accuracy: 0.8642\n",
      "Epoch 39/200\n",
      "94/94 [==============================] - 1s 9ms/step - loss: 0.3459 - accuracy: 0.8744 - val_loss: 0.3675 - val_accuracy: 0.8679\n",
      "Epoch 40/200\n",
      "94/94 [==============================] - 1s 9ms/step - loss: 0.3426 - accuracy: 0.8750 - val_loss: 0.3680 - val_accuracy: 0.8649\n",
      "Epoch 41/200\n",
      "94/94 [==============================] - 1s 9ms/step - loss: 0.3436 - accuracy: 0.8746 - val_loss: 0.3655 - val_accuracy: 0.8672\n",
      "Epoch 42/200\n",
      "94/94 [==============================] - 1s 9ms/step - loss: 0.3421 - accuracy: 0.8757 - val_loss: 0.3720 - val_accuracy: 0.8653\n",
      "Epoch 43/200\n",
      "94/94 [==============================] - 1s 9ms/step - loss: 0.3400 - accuracy: 0.8761 - val_loss: 0.3639 - val_accuracy: 0.8683\n",
      "Epoch 44/200\n",
      "94/94 [==============================] - 1s 9ms/step - loss: 0.3364 - accuracy: 0.8774 - val_loss: 0.3634 - val_accuracy: 0.8685\n",
      "Epoch 45/200\n",
      "94/94 [==============================] - 1s 8ms/step - loss: 0.3356 - accuracy: 0.8782 - val_loss: 0.3626 - val_accuracy: 0.8683\n",
      "Epoch 46/200\n",
      "94/94 [==============================] - 1s 9ms/step - loss: 0.3353 - accuracy: 0.8776 - val_loss: 0.3605 - val_accuracy: 0.8689\n",
      "Epoch 47/200\n",
      "94/94 [==============================] - 1s 9ms/step - loss: 0.3316 - accuracy: 0.8790 - val_loss: 0.3649 - val_accuracy: 0.8680\n",
      "Epoch 48/200\n",
      "94/94 [==============================] - 1s 8ms/step - loss: 0.3312 - accuracy: 0.8794 - val_loss: 0.3611 - val_accuracy: 0.8692\n",
      "Epoch 49/200\n",
      "94/94 [==============================] - 1s 9ms/step - loss: 0.3317 - accuracy: 0.8782 - val_loss: 0.3636 - val_accuracy: 0.8670\n",
      "Epoch 50/200\n",
      "94/94 [==============================] - 1s 9ms/step - loss: 0.3289 - accuracy: 0.8791 - val_loss: 0.3623 - val_accuracy: 0.8698\n",
      "Epoch 51/200\n",
      "94/94 [==============================] - 1s 10ms/step - loss: 0.3261 - accuracy: 0.8806 - val_loss: 0.3589 - val_accuracy: 0.8702\n",
      "Epoch 52/200\n",
      "94/94 [==============================] - 1s 9ms/step - loss: 0.3278 - accuracy: 0.8800 - val_loss: 0.3604 - val_accuracy: 0.8684\n",
      "Epoch 53/200\n",
      "94/94 [==============================] - 1s 9ms/step - loss: 0.3269 - accuracy: 0.8809 - val_loss: 0.3607 - val_accuracy: 0.8702\n",
      "Epoch 54/200\n",
      "94/94 [==============================] - 1s 9ms/step - loss: 0.3232 - accuracy: 0.8811 - val_loss: 0.3539 - val_accuracy: 0.8709\n",
      "Epoch 55/200\n",
      "94/94 [==============================] - 1s 10ms/step - loss: 0.3226 - accuracy: 0.8827 - val_loss: 0.3552 - val_accuracy: 0.8708\n",
      "Epoch 56/200\n",
      "94/94 [==============================] - 1s 10ms/step - loss: 0.3227 - accuracy: 0.8818 - val_loss: 0.3614 - val_accuracy: 0.8709\n",
      "Epoch 57/200\n",
      "94/94 [==============================] - 1s 9ms/step - loss: 0.3209 - accuracy: 0.8825 - val_loss: 0.3534 - val_accuracy: 0.8699\n",
      "Epoch 58/200\n",
      "94/94 [==============================] - 1s 9ms/step - loss: 0.3181 - accuracy: 0.8831 - val_loss: 0.3565 - val_accuracy: 0.8719\n"
     ]
    },
    {
     "name": "stdout",
     "output_type": "stream",
     "text": [
      "Epoch 59/200\n",
      "94/94 [==============================] - 1s 10ms/step - loss: 0.3175 - accuracy: 0.8837 - val_loss: 0.3515 - val_accuracy: 0.8723\n",
      "Epoch 60/200\n",
      "94/94 [==============================] - 1s 9ms/step - loss: 0.3157 - accuracy: 0.8844 - val_loss: 0.3502 - val_accuracy: 0.8717\n",
      "Epoch 61/200\n",
      "94/94 [==============================] - 1s 9ms/step - loss: 0.3166 - accuracy: 0.8844 - val_loss: 0.3499 - val_accuracy: 0.8724\n",
      "Epoch 62/200\n",
      "94/94 [==============================] - 1s 9ms/step - loss: 0.3126 - accuracy: 0.8855 - val_loss: 0.3551 - val_accuracy: 0.8732\n",
      "Epoch 63/200\n",
      "94/94 [==============================] - 1s 10ms/step - loss: 0.3149 - accuracy: 0.8848 - val_loss: 0.3505 - val_accuracy: 0.8714\n",
      "Epoch 64/200\n",
      "94/94 [==============================] - 1s 9ms/step - loss: 0.3110 - accuracy: 0.8864 - val_loss: 0.3513 - val_accuracy: 0.8727\n",
      "Epoch 65/200\n",
      "94/94 [==============================] - 1s 10ms/step - loss: 0.3125 - accuracy: 0.8851 - val_loss: 0.3571 - val_accuracy: 0.8686\n",
      "Epoch 66/200\n",
      "94/94 [==============================] - 1s 9ms/step - loss: 0.3087 - accuracy: 0.8869 - val_loss: 0.3546 - val_accuracy: 0.8708\n",
      "Epoch 67/200\n",
      "94/94 [==============================] - 1s 9ms/step - loss: 0.3079 - accuracy: 0.8875 - val_loss: 0.3491 - val_accuracy: 0.8726\n",
      "Epoch 68/200\n",
      "94/94 [==============================] - 1s 9ms/step - loss: 0.3071 - accuracy: 0.8874 - val_loss: 0.3516 - val_accuracy: 0.8703\n",
      "Epoch 69/200\n",
      "94/94 [==============================] - 1s 9ms/step - loss: 0.3064 - accuracy: 0.8885 - val_loss: 0.3518 - val_accuracy: 0.8717\n",
      "Epoch 70/200\n",
      "94/94 [==============================] - 1s 9ms/step - loss: 0.3049 - accuracy: 0.8881 - val_loss: 0.3585 - val_accuracy: 0.8696\n",
      "Epoch 71/200\n",
      "94/94 [==============================] - 1s 9ms/step - loss: 0.3037 - accuracy: 0.8882 - val_loss: 0.3515 - val_accuracy: 0.8697\n",
      "Epoch 72/200\n",
      "94/94 [==============================] - 1s 9ms/step - loss: 0.3038 - accuracy: 0.8891 - val_loss: 0.3443 - val_accuracy: 0.8737\n",
      "Epoch 73/200\n",
      "94/94 [==============================] - 1s 10ms/step - loss: 0.3008 - accuracy: 0.8904 - val_loss: 0.3483 - val_accuracy: 0.8725\n",
      "Epoch 74/200\n",
      "94/94 [==============================] - 1s 9ms/step - loss: 0.3000 - accuracy: 0.8902 - val_loss: 0.3449 - val_accuracy: 0.8718\n",
      "Epoch 75/200\n",
      "94/94 [==============================] - 1s 9ms/step - loss: 0.3006 - accuracy: 0.8891 - val_loss: 0.3526 - val_accuracy: 0.8712\n",
      "Epoch 76/200\n",
      "94/94 [==============================] - 1s 9ms/step - loss: 0.3008 - accuracy: 0.8883 - val_loss: 0.3493 - val_accuracy: 0.8723\n",
      "Epoch 77/200\n",
      "94/94 [==============================] - 1s 9ms/step - loss: 0.2980 - accuracy: 0.8905 - val_loss: 0.3459 - val_accuracy: 0.8734\n",
      "Epoch 78/200\n",
      "94/94 [==============================] - 1s 9ms/step - loss: 0.2968 - accuracy: 0.8913 - val_loss: 0.3482 - val_accuracy: 0.8737\n",
      "Epoch 79/200\n",
      "94/94 [==============================] - 1s 8ms/step - loss: 0.2965 - accuracy: 0.8911 - val_loss: 0.3434 - val_accuracy: 0.8736\n",
      "Epoch 80/200\n",
      "94/94 [==============================] - 1s 8ms/step - loss: 0.2942 - accuracy: 0.8916 - val_loss: 0.3436 - val_accuracy: 0.8742\n",
      "Epoch 81/200\n",
      "94/94 [==============================] - 1s 8ms/step - loss: 0.2956 - accuracy: 0.8911 - val_loss: 0.3566 - val_accuracy: 0.8697\n",
      "Epoch 82/200\n",
      "94/94 [==============================] - 1s 8ms/step - loss: 0.2956 - accuracy: 0.8913 - val_loss: 0.3509 - val_accuracy: 0.8752\n",
      "Epoch 83/200\n",
      "94/94 [==============================] - 1s 9ms/step - loss: 0.2940 - accuracy: 0.8918 - val_loss: 0.3542 - val_accuracy: 0.8720\n",
      "Epoch 84/200\n",
      "94/94 [==============================] - 1s 9ms/step - loss: 0.2904 - accuracy: 0.8935 - val_loss: 0.3433 - val_accuracy: 0.8747\n",
      "Epoch 85/200\n",
      "94/94 [==============================] - 1s 10ms/step - loss: 0.2917 - accuracy: 0.8926 - val_loss: 0.3451 - val_accuracy: 0.8729\n",
      "Epoch 86/200\n",
      "94/94 [==============================] - 1s 10ms/step - loss: 0.2901 - accuracy: 0.8935 - val_loss: 0.3448 - val_accuracy: 0.8768\n",
      "Epoch 87/200\n",
      "94/94 [==============================] - 1s 10ms/step - loss: 0.2900 - accuracy: 0.8938 - val_loss: 0.3555 - val_accuracy: 0.8703\n",
      "Epoch 88/200\n",
      "94/94 [==============================] - 1s 9ms/step - loss: 0.2908 - accuracy: 0.8930 - val_loss: 0.3590 - val_accuracy: 0.8681\n",
      "Epoch 89/200\n",
      "94/94 [==============================] - 1s 9ms/step - loss: 0.2871 - accuracy: 0.8940 - val_loss: 0.3449 - val_accuracy: 0.8758\n",
      "Epoch 90/200\n",
      "94/94 [==============================] - 1s 10ms/step - loss: 0.2867 - accuracy: 0.8949 - val_loss: 0.3436 - val_accuracy: 0.8760\n",
      "Epoch 91/200\n",
      "94/94 [==============================] - 1s 9ms/step - loss: 0.2869 - accuracy: 0.8941 - val_loss: 0.3414 - val_accuracy: 0.8759\n",
      "Epoch 92/200\n",
      "94/94 [==============================] - 1s 10ms/step - loss: 0.2852 - accuracy: 0.8952 - val_loss: 0.3477 - val_accuracy: 0.8748\n",
      "Epoch 93/200\n",
      "94/94 [==============================] - 1s 9ms/step - loss: 0.2861 - accuracy: 0.8952 - val_loss: 0.3414 - val_accuracy: 0.8771\n",
      "Epoch 94/200\n",
      "94/94 [==============================] - 1s 9ms/step - loss: 0.2826 - accuracy: 0.8964 - val_loss: 0.3431 - val_accuracy: 0.8742\n",
      "Epoch 95/200\n",
      "94/94 [==============================] - 1s 9ms/step - loss: 0.2838 - accuracy: 0.8959 - val_loss: 0.3400 - val_accuracy: 0.8761\n",
      "Epoch 96/200\n",
      "94/94 [==============================] - 1s 9ms/step - loss: 0.2809 - accuracy: 0.8967 - val_loss: 0.3443 - val_accuracy: 0.8754\n",
      "Epoch 97/200\n",
      "94/94 [==============================] - 1s 10ms/step - loss: 0.2824 - accuracy: 0.8957 - val_loss: 0.3426 - val_accuracy: 0.8771\n",
      "Epoch 98/200\n",
      "94/94 [==============================] - 1s 9ms/step - loss: 0.2824 - accuracy: 0.8965 - val_loss: 0.3396 - val_accuracy: 0.8773\n",
      "Epoch 99/200\n",
      "94/94 [==============================] - 1s 10ms/step - loss: 0.2799 - accuracy: 0.8975 - val_loss: 0.3390 - val_accuracy: 0.8780\n",
      "Epoch 100/200\n",
      "94/94 [==============================] - 1s 9ms/step - loss: 0.2788 - accuracy: 0.8973 - val_loss: 0.3445 - val_accuracy: 0.8752\n",
      "Epoch 101/200\n",
      "94/94 [==============================] - 1s 9ms/step - loss: 0.2787 - accuracy: 0.8971 - val_loss: 0.3407 - val_accuracy: 0.8770\n",
      "Epoch 102/200\n",
      "94/94 [==============================] - 1s 9ms/step - loss: 0.2786 - accuracy: 0.8976 - val_loss: 0.3397 - val_accuracy: 0.8795\n",
      "Epoch 103/200\n",
      "94/94 [==============================] - 1s 9ms/step - loss: 0.2795 - accuracy: 0.8972 - val_loss: 0.3448 - val_accuracy: 0.8764\n",
      "Epoch 104/200\n",
      "94/94 [==============================] - 1s 10ms/step - loss: 0.2770 - accuracy: 0.8977 - val_loss: 0.3460 - val_accuracy: 0.8764\n",
      "Epoch 105/200\n",
      "94/94 [==============================] - 1s 9ms/step - loss: 0.2755 - accuracy: 0.8987 - val_loss: 0.3404 - val_accuracy: 0.8761\n",
      "Epoch 106/200\n",
      "94/94 [==============================] - 1s 10ms/step - loss: 0.2762 - accuracy: 0.8987 - val_loss: 0.3439 - val_accuracy: 0.8752\n",
      "Epoch 107/200\n",
      "94/94 [==============================] - 1s 9ms/step - loss: 0.2760 - accuracy: 0.8983 - val_loss: 0.3463 - val_accuracy: 0.8774\n",
      "Epoch 108/200\n",
      "94/94 [==============================] - 1s 10ms/step - loss: 0.2765 - accuracy: 0.8969 - val_loss: 0.3436 - val_accuracy: 0.8774\n",
      "Epoch 109/200\n",
      "94/94 [==============================] - 1s 10ms/step - loss: 0.2739 - accuracy: 0.8996 - val_loss: 0.3375 - val_accuracy: 0.8783\n",
      "Epoch 110/200\n",
      "94/94 [==============================] - 1s 9ms/step - loss: 0.2714 - accuracy: 0.9008 - val_loss: 0.3514 - val_accuracy: 0.8734\n",
      "Epoch 111/200\n",
      "94/94 [==============================] - 1s 10ms/step - loss: 0.2724 - accuracy: 0.9005 - val_loss: 0.3393 - val_accuracy: 0.8780\n",
      "Epoch 112/200\n",
      "94/94 [==============================] - 1s 9ms/step - loss: 0.2716 - accuracy: 0.9000 - val_loss: 0.3464 - val_accuracy: 0.8739\n",
      "Epoch 113/200\n",
      "94/94 [==============================] - 1s 9ms/step - loss: 0.2701 - accuracy: 0.9003 - val_loss: 0.3416 - val_accuracy: 0.8781\n",
      "Epoch 114/200\n",
      "94/94 [==============================] - 1s 9ms/step - loss: 0.2728 - accuracy: 0.8989 - val_loss: 0.3423 - val_accuracy: 0.8790\n",
      "Epoch 115/200\n",
      "94/94 [==============================] - 1s 9ms/step - loss: 0.2698 - accuracy: 0.9009 - val_loss: 0.3440 - val_accuracy: 0.8777\n",
      "Epoch 116/200\n"
     ]
    },
    {
     "name": "stdout",
     "output_type": "stream",
     "text": [
      "94/94 [==============================] - 1s 9ms/step - loss: 0.2715 - accuracy: 0.9006 - val_loss: 0.3466 - val_accuracy: 0.8773\n",
      "Epoch 117/200\n",
      "94/94 [==============================] - 1s 9ms/step - loss: 0.2688 - accuracy: 0.9011 - val_loss: 0.3472 - val_accuracy: 0.8765\n",
      "Epoch 118/200\n",
      "94/94 [==============================] - 1s 9ms/step - loss: 0.2682 - accuracy: 0.9019 - val_loss: 0.3435 - val_accuracy: 0.8777\n",
      "Epoch 119/200\n",
      "94/94 [==============================] - 1s 8ms/step - loss: 0.2662 - accuracy: 0.9024 - val_loss: 0.3440 - val_accuracy: 0.8767\n",
      "Epoch 120/200\n",
      "94/94 [==============================] - 1s 8ms/step - loss: 0.2660 - accuracy: 0.9025 - val_loss: 0.3405 - val_accuracy: 0.8788\n",
      "Epoch 121/200\n",
      "94/94 [==============================] - 1s 9ms/step - loss: 0.2663 - accuracy: 0.9020 - val_loss: 0.3389 - val_accuracy: 0.8793\n",
      "Epoch 122/200\n",
      "94/94 [==============================] - 1s 9ms/step - loss: 0.2672 - accuracy: 0.9012 - val_loss: 0.3423 - val_accuracy: 0.8762\n",
      "Epoch 123/200\n",
      "94/94 [==============================] - 1s 9ms/step - loss: 0.2655 - accuracy: 0.9032 - val_loss: 0.3409 - val_accuracy: 0.8802\n",
      "Epoch 124/200\n",
      "94/94 [==============================] - 1s 9ms/step - loss: 0.2629 - accuracy: 0.9041 - val_loss: 0.3427 - val_accuracy: 0.8801\n",
      "Epoch 125/200\n",
      "94/94 [==============================] - 1s 9ms/step - loss: 0.2629 - accuracy: 0.9030 - val_loss: 0.3458 - val_accuracy: 0.8758\n",
      "Epoch 126/200\n",
      "94/94 [==============================] - 1s 9ms/step - loss: 0.2646 - accuracy: 0.9031 - val_loss: 0.3441 - val_accuracy: 0.8764\n",
      "Epoch 127/200\n",
      "94/94 [==============================] - 1s 9ms/step - loss: 0.2627 - accuracy: 0.9044 - val_loss: 0.3420 - val_accuracy: 0.8794\n",
      "Epoch 128/200\n",
      "94/94 [==============================] - 1s 9ms/step - loss: 0.2613 - accuracy: 0.9038 - val_loss: 0.3447 - val_accuracy: 0.8759\n",
      "Epoch 129/200\n",
      "94/94 [==============================] - 1s 9ms/step - loss: 0.2597 - accuracy: 0.9048 - val_loss: 0.3442 - val_accuracy: 0.8743\n",
      "Epoch 130/200\n",
      "94/94 [==============================] - 1s 10ms/step - loss: 0.2586 - accuracy: 0.9053 - val_loss: 0.3511 - val_accuracy: 0.8758\n",
      "Epoch 131/200\n",
      "94/94 [==============================] - 1s 9ms/step - loss: 0.2615 - accuracy: 0.9026 - val_loss: 0.3468 - val_accuracy: 0.8768\n",
      "Epoch 132/200\n",
      "94/94 [==============================] - 1s 9ms/step - loss: 0.2606 - accuracy: 0.9040 - val_loss: 0.3402 - val_accuracy: 0.8803\n",
      "Epoch 133/200\n",
      "94/94 [==============================] - 1s 10ms/step - loss: 0.2623 - accuracy: 0.9033 - val_loss: 0.3418 - val_accuracy: 0.8769\n",
      "Epoch 134/200\n",
      "94/94 [==============================] - 1s 10ms/step - loss: 0.2590 - accuracy: 0.9054 - val_loss: 0.3447 - val_accuracy: 0.8755\n",
      "Epoch 135/200\n",
      "94/94 [==============================] - 1s 9ms/step - loss: 0.2609 - accuracy: 0.9037 - val_loss: 0.3457 - val_accuracy: 0.8780\n",
      "Epoch 136/200\n",
      "94/94 [==============================] - 1s 9ms/step - loss: 0.2590 - accuracy: 0.9039 - val_loss: 0.3434 - val_accuracy: 0.8783\n",
      "Epoch 137/200\n",
      "94/94 [==============================] - 1s 9ms/step - loss: 0.2566 - accuracy: 0.9062 - val_loss: 0.3427 - val_accuracy: 0.8783\n",
      "Epoch 138/200\n",
      "94/94 [==============================] - 1s 9ms/step - loss: 0.2554 - accuracy: 0.9070 - val_loss: 0.3452 - val_accuracy: 0.8772\n",
      "Epoch 139/200\n",
      "94/94 [==============================] - 1s 9ms/step - loss: 0.2565 - accuracy: 0.9046 - val_loss: 0.3469 - val_accuracy: 0.8768\n",
      "Epoch 140/200\n",
      "94/94 [==============================] - 1s 9ms/step - loss: 0.2557 - accuracy: 0.9067 - val_loss: 0.3447 - val_accuracy: 0.8789\n",
      "Epoch 141/200\n",
      "94/94 [==============================] - 1s 9ms/step - loss: 0.2557 - accuracy: 0.9062 - val_loss: 0.3443 - val_accuracy: 0.8789\n",
      "Epoch 142/200\n",
      "94/94 [==============================] - 1s 9ms/step - loss: 0.2546 - accuracy: 0.9075 - val_loss: 0.3405 - val_accuracy: 0.8796\n",
      "Epoch 143/200\n",
      "94/94 [==============================] - 1s 9ms/step - loss: 0.2557 - accuracy: 0.9056 - val_loss: 0.3489 - val_accuracy: 0.8782\n",
      "Epoch 144/200\n",
      "94/94 [==============================] - 1s 10ms/step - loss: 0.2531 - accuracy: 0.9073 - val_loss: 0.3440 - val_accuracy: 0.8798\n",
      "Epoch 145/200\n",
      "94/94 [==============================] - 1s 9ms/step - loss: 0.2528 - accuracy: 0.9076 - val_loss: 0.3474 - val_accuracy: 0.8775\n",
      "Epoch 146/200\n",
      "94/94 [==============================] - 1s 9ms/step - loss: 0.2540 - accuracy: 0.9083 - val_loss: 0.3436 - val_accuracy: 0.8758\n",
      "Epoch 147/200\n",
      "94/94 [==============================] - 1s 9ms/step - loss: 0.2522 - accuracy: 0.9083 - val_loss: 0.3456 - val_accuracy: 0.8774\n",
      "Epoch 148/200\n",
      "94/94 [==============================] - 1s 9ms/step - loss: 0.2536 - accuracy: 0.9071 - val_loss: 0.3483 - val_accuracy: 0.8771\n",
      "Epoch 149/200\n",
      "94/94 [==============================] - 1s 8ms/step - loss: 0.2534 - accuracy: 0.9067 - val_loss: 0.3435 - val_accuracy: 0.8789\n",
      "Epoch 150/200\n",
      "94/94 [==============================] - 1s 9ms/step - loss: 0.2507 - accuracy: 0.9074 - val_loss: 0.3478 - val_accuracy: 0.8777\n",
      "Epoch 151/200\n",
      "94/94 [==============================] - 1s 10ms/step - loss: 0.2509 - accuracy: 0.9073 - val_loss: 0.3455 - val_accuracy: 0.8783\n",
      "Epoch 152/200\n",
      "94/94 [==============================] - 1s 10ms/step - loss: 0.2510 - accuracy: 0.9081 - val_loss: 0.3469 - val_accuracy: 0.8791\n",
      "Epoch 153/200\n",
      "94/94 [==============================] - 1s 10ms/step - loss: 0.2487 - accuracy: 0.9099 - val_loss: 0.3492 - val_accuracy: 0.8773\n",
      "Epoch 154/200\n",
      "94/94 [==============================] - 1s 9ms/step - loss: 0.2484 - accuracy: 0.9093 - val_loss: 0.3516 - val_accuracy: 0.8769\n",
      "Epoch 155/200\n",
      "94/94 [==============================] - 1s 9ms/step - loss: 0.2490 - accuracy: 0.9089 - val_loss: 0.3442 - val_accuracy: 0.8802\n",
      "Epoch 156/200\n",
      "94/94 [==============================] - 1s 10ms/step - loss: 0.2467 - accuracy: 0.9099 - val_loss: 0.3495 - val_accuracy: 0.8773\n",
      "Epoch 157/200\n",
      "94/94 [==============================] - 1s 9ms/step - loss: 0.2469 - accuracy: 0.9099 - val_loss: 0.3471 - val_accuracy: 0.8786\n",
      "Epoch 158/200\n",
      "94/94 [==============================] - 1s 10ms/step - loss: 0.2479 - accuracy: 0.9098 - val_loss: 0.3449 - val_accuracy: 0.8791\n",
      "Epoch 159/200\n",
      "94/94 [==============================] - 1s 10ms/step - loss: 0.2491 - accuracy: 0.9089 - val_loss: 0.3466 - val_accuracy: 0.8786\n",
      "Epoch 160/200\n",
      "94/94 [==============================] - 1s 9ms/step - loss: 0.2458 - accuracy: 0.9106 - val_loss: 0.3465 - val_accuracy: 0.8767\n",
      "Epoch 161/200\n",
      "94/94 [==============================] - 1s 9ms/step - loss: 0.2466 - accuracy: 0.9104 - val_loss: 0.3511 - val_accuracy: 0.8767\n",
      "Epoch 162/200\n",
      "94/94 [==============================] - 1s 10ms/step - loss: 0.2444 - accuracy: 0.9111 - val_loss: 0.3505 - val_accuracy: 0.8773\n",
      "Epoch 163/200\n",
      "94/94 [==============================] - 1s 9ms/step - loss: 0.2446 - accuracy: 0.9114 - val_loss: 0.3467 - val_accuracy: 0.8792\n",
      "Epoch 164/200\n",
      "94/94 [==============================] - 1s 8ms/step - loss: 0.2442 - accuracy: 0.9100 - val_loss: 0.3536 - val_accuracy: 0.8760\n",
      "Epoch 165/200\n",
      "94/94 [==============================] - 1s 10ms/step - loss: 0.2446 - accuracy: 0.9105 - val_loss: 0.3558 - val_accuracy: 0.8780\n",
      "Epoch 166/200\n",
      "94/94 [==============================] - 1s 10ms/step - loss: 0.2447 - accuracy: 0.9105 - val_loss: 0.3491 - val_accuracy: 0.8788\n",
      "Epoch 167/200\n",
      "94/94 [==============================] - 1s 10ms/step - loss: 0.2434 - accuracy: 0.9118 - val_loss: 0.3471 - val_accuracy: 0.8790\n",
      "Epoch 168/200\n",
      "94/94 [==============================] - 1s 9ms/step - loss: 0.2417 - accuracy: 0.9126 - val_loss: 0.3470 - val_accuracy: 0.8817\n",
      "Epoch 169/200\n",
      "94/94 [==============================] - 1s 10ms/step - loss: 0.2431 - accuracy: 0.9113 - val_loss: 0.3458 - val_accuracy: 0.8796\n",
      "Epoch 170/200\n",
      "94/94 [==============================] - 1s 9ms/step - loss: 0.2423 - accuracy: 0.9106 - val_loss: 0.3499 - val_accuracy: 0.8789\n",
      "Epoch 171/200\n",
      "94/94 [==============================] - 1s 9ms/step - loss: 0.2412 - accuracy: 0.9116 - val_loss: 0.3605 - val_accuracy: 0.8737\n",
      "Epoch 172/200\n",
      "94/94 [==============================] - 1s 10ms/step - loss: 0.2453 - accuracy: 0.9103 - val_loss: 0.3507 - val_accuracy: 0.8773\n",
      "Epoch 173/200\n"
     ]
    },
    {
     "name": "stdout",
     "output_type": "stream",
     "text": [
      "94/94 [==============================] - 1s 10ms/step - loss: 0.2392 - accuracy: 0.9133 - val_loss: 0.3492 - val_accuracy: 0.8798\n",
      "Epoch 174/200\n",
      "94/94 [==============================] - 1s 10ms/step - loss: 0.2398 - accuracy: 0.9118 - val_loss: 0.3471 - val_accuracy: 0.8786\n",
      "Epoch 175/200\n",
      "94/94 [==============================] - 1s 10ms/step - loss: 0.2417 - accuracy: 0.9116 - val_loss: 0.3475 - val_accuracy: 0.8798\n",
      "Epoch 176/200\n",
      "94/94 [==============================] - 1s 10ms/step - loss: 0.2396 - accuracy: 0.9129 - val_loss: 0.3537 - val_accuracy: 0.8773\n",
      "Epoch 177/200\n",
      "94/94 [==============================] - 1s 10ms/step - loss: 0.2416 - accuracy: 0.9116 - val_loss: 0.3467 - val_accuracy: 0.8810\n",
      "Epoch 178/200\n",
      "94/94 [==============================] - 1s 10ms/step - loss: 0.2387 - accuracy: 0.9126 - val_loss: 0.3527 - val_accuracy: 0.8787\n",
      "Epoch 179/200\n",
      "94/94 [==============================] - 1s 10ms/step - loss: 0.2385 - accuracy: 0.9125 - val_loss: 0.3531 - val_accuracy: 0.8775\n",
      "Epoch 180/200\n",
      "94/94 [==============================] - 1s 10ms/step - loss: 0.2362 - accuracy: 0.9137 - val_loss: 0.3504 - val_accuracy: 0.8777\n",
      "Epoch 181/200\n",
      "94/94 [==============================] - 1s 9ms/step - loss: 0.2388 - accuracy: 0.9133 - val_loss: 0.3468 - val_accuracy: 0.8810\n",
      "Epoch 182/200\n",
      "94/94 [==============================] - 1s 9ms/step - loss: 0.2354 - accuracy: 0.9150 - val_loss: 0.3499 - val_accuracy: 0.8791\n",
      "Epoch 183/200\n",
      "94/94 [==============================] - 1s 9ms/step - loss: 0.2360 - accuracy: 0.9131 - val_loss: 0.3487 - val_accuracy: 0.8782\n",
      "Epoch 184/200\n",
      "94/94 [==============================] - 1s 10ms/step - loss: 0.2358 - accuracy: 0.9144 - val_loss: 0.3493 - val_accuracy: 0.8787\n",
      "Epoch 185/200\n",
      "94/94 [==============================] - 1s 10ms/step - loss: 0.2367 - accuracy: 0.9136 - val_loss: 0.3511 - val_accuracy: 0.8777\n",
      "Epoch 186/200\n",
      "94/94 [==============================] - 1s 9ms/step - loss: 0.2357 - accuracy: 0.9141 - val_loss: 0.3475 - val_accuracy: 0.8790\n",
      "Epoch 187/200\n",
      "94/94 [==============================] - 1s 9ms/step - loss: 0.2383 - accuracy: 0.9130 - val_loss: 0.3539 - val_accuracy: 0.8783\n",
      "Epoch 188/200\n",
      "94/94 [==============================] - 1s 9ms/step - loss: 0.2345 - accuracy: 0.9143 - val_loss: 0.3518 - val_accuracy: 0.8777\n",
      "Epoch 189/200\n",
      "94/94 [==============================] - 1s 10ms/step - loss: 0.2388 - accuracy: 0.9117 - val_loss: 0.3535 - val_accuracy: 0.8767\n",
      "Epoch 190/200\n",
      "94/94 [==============================] - 1s 10ms/step - loss: 0.2345 - accuracy: 0.9146 - val_loss: 0.3549 - val_accuracy: 0.8787\n",
      "Epoch 191/200\n",
      "94/94 [==============================] - 1s 9ms/step - loss: 0.2355 - accuracy: 0.9140 - val_loss: 0.3596 - val_accuracy: 0.8770\n",
      "Epoch 192/200\n",
      "94/94 [==============================] - 1s 10ms/step - loss: 0.2327 - accuracy: 0.9146 - val_loss: 0.3486 - val_accuracy: 0.8783\n",
      "Epoch 193/200\n",
      "94/94 [==============================] - 1s 10ms/step - loss: 0.2334 - accuracy: 0.9146 - val_loss: 0.3497 - val_accuracy: 0.8801\n",
      "Epoch 194/200\n",
      "94/94 [==============================] - 1s 10ms/step - loss: 0.2317 - accuracy: 0.9154 - val_loss: 0.3527 - val_accuracy: 0.8783\n",
      "Epoch 195/200\n",
      "94/94 [==============================] - 1s 11ms/step - loss: 0.2330 - accuracy: 0.9144 - val_loss: 0.3545 - val_accuracy: 0.8756\n",
      "Epoch 196/200\n",
      "94/94 [==============================] - 1s 9ms/step - loss: 0.2322 - accuracy: 0.9156 - val_loss: 0.3528 - val_accuracy: 0.8780\n",
      "Epoch 197/200\n",
      "94/94 [==============================] - 1s 9ms/step - loss: 0.2314 - accuracy: 0.9159 - val_loss: 0.3544 - val_accuracy: 0.8779\n",
      "Epoch 198/200\n",
      "94/94 [==============================] - 1s 10ms/step - loss: 0.2301 - accuracy: 0.9166 - val_loss: 0.3530 - val_accuracy: 0.8787\n",
      "Epoch 199/200\n",
      "94/94 [==============================] - 1s 10ms/step - loss: 0.2313 - accuracy: 0.9151 - val_loss: 0.3560 - val_accuracy: 0.8790\n",
      "Epoch 200/200\n",
      "94/94 [==============================] - 1s 10ms/step - loss: 0.2318 - accuracy: 0.9159 - val_loss: 0.3618 - val_accuracy: 0.8772\n"
     ]
    },
    {
     "data": {
      "text/plain": [
       "<keras.callbacks.History at 0x177d2630e50>"
      ]
     },
     "execution_count": 23,
     "metadata": {},
     "output_type": "execute_result"
    }
   ],
   "source": [
    "\n",
    "cnn_model.fit(X_train,y_train,batch_size =512,epochs = epochs,verbose = 1,validation_data = (X_validate,y_validate) )"
   ]
  },
  {
   "cell_type": "code",
   "execution_count": 24,
   "metadata": {
    "colab": {
     "base_uri": "https://localhost:8080/"
    },
    "id": "OdPP1tCx7yXa",
    "outputId": "804a407c-7d47-4af4-fc84-b69b610c33ce"
   },
   "outputs": [
    {
     "name": "stdout",
     "output_type": "stream",
     "text": [
      "313/313 [==============================] - 0s 1ms/step - loss: 0.3384 - accuracy: 0.8835\n",
      "Test Accuracy : 0.883\n"
     ]
    }
   ],
   "source": [
    "evaluation = cnn_model.evaluate(X_test,y_test)\n",
    "print('Test Accuracy : {:.3f}'.format(evaluation[1]))"
   ]
  },
  {
   "cell_type": "code",
   "execution_count": 25,
   "metadata": {
    "colab": {
     "base_uri": "https://localhost:8080/"
    },
    "id": "upogqyEZ76TZ",
    "outputId": "35ada5cd-9f2c-4fdf-d534-79af9291c4e1"
   },
   "outputs": [
    {
     "name": "stdout",
     "output_type": "stream",
     "text": [
      "313/313 [==============================] - 0s 947us/step\n"
     ]
    }
   ],
   "source": [
    "predicted_classes = np.argmax(cnn_model.predict(X_test),axis=-1)\n"
   ]
  },
  {
   "cell_type": "code",
   "execution_count": 26,
   "metadata": {
    "colab": {
     "base_uri": "https://localhost:8080/"
    },
    "id": "LmJsMlvr86e5",
    "outputId": "142586bb-d722-449d-c122-e426e5697763"
   },
   "outputs": [
    {
     "data": {
      "text/plain": [
       "array([0, 1, 2, ..., 8, 8, 1], dtype=int64)"
      ]
     },
     "execution_count": 26,
     "metadata": {},
     "output_type": "execute_result"
    }
   ],
   "source": [
    "predicted_classes"
   ]
  },
  {
   "cell_type": "code",
   "execution_count": 27,
   "metadata": {
    "colab": {
     "base_uri": "https://localhost:8080/",
     "height": 697
    },
    "id": "E5AyGxXc8_aH",
    "outputId": "f17d603b-1be7-4345-fbc5-0c34f53e0b92"
   },
   "outputs": [
    {
     "data": {
      "image/png": "[encoded data removed]",
      "text/plain": [
       "<Figure size 864x864 with 25 Axes>"
      ]
     },
     "metadata": {
      "needs_background": "light"
     },
     "output_type": "display_data"
    }
   ],
   "source": [
    "L = 5\n",
    "W = 5\n",
    "\n",
    "fig,axes = plt.subplots(L,W,figsize = (12,12))\n",
    "axes = axes.ravel()\n",
    "for i in np.arange(0,L*W):\n",
    "    axes[i].imshow(X_test[i].reshape(28,28))\n",
    "    axes[i].set_title('Prediction Class:{1} \\n true class: {1}'.format(predicted_classes[i],y_test[i]))\n",
    "    axes[i].axis('off')\n",
    "plt.subplots_adjust(wspace = 0.5)  "
   ]
  },
  {
   "cell_type": "code",
   "execution_count": 28,
   "metadata": {
    "colab": {
     "base_uri": "https://localhost:8080/"
    },
    "id": "1j24BwIxPdeR",
    "outputId": "21b80c6e-99c4-4e22-fb17-f504e5682e32"
   },
   "outputs": [
    {
     "name": "stdout",
     "output_type": "stream",
     "text": [
      "              precision    recall  f1-score   support\n",
      "\n",
      "     Class 0       0.86      0.81      0.83      1000\n",
      "     Class 1       0.98      0.97      0.98      1000\n",
      "     Class 2       0.79      0.86      0.82      1000\n",
      "     Class 3       0.88      0.89      0.89      1000\n",
      "     Class 4       0.84      0.79      0.81      1000\n",
      "     Class 5       0.98      0.93      0.95      1000\n",
      "     Class 6       0.69      0.71      0.70      1000\n",
      "     Class 7       0.92      0.95      0.93      1000\n",
      "     Class 8       0.97      0.97      0.97      1000\n",
      "     Class 9       0.94      0.96      0.95      1000\n",
      "\n",
      "    accuracy                           0.88     10000\n",
      "   macro avg       0.88      0.88      0.88     10000\n",
      "weighted avg       0.88      0.88      0.88     10000\n",
      "\n"
     ]
    }
   ],
   "source": [
    "from sklearn.metrics import classification_report\n",
    "\n",
    "classes = 10\n",
    "targets = [\"Class {}\".format(i) for i in range(classes)]\n",
    "print(classification_report(y_test, predicted_classes, target_names = targets))"
   ]
  }
 ],
 "metadata": {
  "colab": {
   "provenance": []
  },
  "kernelspec": {
   "display_name": "Python 3",
   "language": "python",
   "name": "python3"
  },
  "language_info": {
   "codemirror_mode": {
    "name": "ipython",
    "version": 3
   },
   "file_extension": ".py",
   "mimetype": "text/x-python",
   "name": "python",
   "nbconvert_exporter": "python",
   "pygments_lexer": "ipython3",
   "version": "3.8.8"
  }
 },
 "nbformat": 4,
 "nbformat_minor": 1
}
