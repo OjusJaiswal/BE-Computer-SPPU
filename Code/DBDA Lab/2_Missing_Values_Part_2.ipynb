{
 "cells": [
  {
   "cell_type": "code",
   "execution_count": 1,
   "metadata": {
    "colab": {
     "base_uri": "https://localhost:8080/"
    },
    "id": "xcBPXcf1oWFj",
    "outputId": "6f2fc6e2-7e69-46c1-ebcd-0adc3309f821"
   },
   "outputs": [
    {
     "name": "stdout",
     "output_type": "stream",
     "text": [
      "Mounted at /content/drive\n"
     ]
    }
   ],
   "source": [
    "from google.colab import drive\n",
    "drive.mount('/content/drive')"
   ]
  },
  {
   "cell_type": "code",
   "execution_count": 2,
   "metadata": {
    "colab": {
     "base_uri": "https://localhost:8080/"
    },
    "id": "sOw_9jO1s1BC",
    "outputId": "e590bbf8-56e9-4cb5-e46a-8d98fb9bcf68"
   },
   "outputs": [
    {
     "name": "stdout",
     "output_type": "stream",
     "text": [
      "    Rollno  Marks  Gender   Age  PhD\n",
      "0        1  140.0       1  47.0  Yes\n",
      "1        2   30.0       0  65.0  Yes\n",
      "2        3   35.1       0  56.0   No\n",
      "3        4   30.0       1  23.0   No\n",
      "4        5   80.0       0   NaN  Yes\n",
      "..     ...    ...     ...   ...  ...\n",
      "95      96   18.6       1  26.0   No\n",
      "96      97  152.0       1  56.0  Yes\n",
      "97      98    1.8       1  28.0   No\n",
      "98      99   35.0       0  44.0  NaN\n",
      "99     100    4.0       0  24.0   No\n",
      "\n",
      "[100 rows x 5 columns]\n"
     ]
    }
   ],
   "source": [
    "import pandas as pd\n",
    "path=\"/content/drive/MyDrive/DS-Basics/AcademicPerformance.csv\"\n",
    "df = pd.read_csv(path)\n",
    "print(df)"
   ]
  },
  {
   "cell_type": "code",
   "execution_count": 4,
   "metadata": {
    "colab": {
     "base_uri": "https://localhost:8080/"
    },
    "id": "X5Kkvg8CtFbg",
    "outputId": "ddcf363e-ce6e-4254-ae10-b5ac957dffd6"
   },
   "outputs": [
    {
     "data": {
      "text/plain": [
       "(100, 5)"
      ]
     },
     "execution_count": 4,
     "metadata": {},
     "output_type": "execute_result"
    }
   ],
   "source": [
    "df.shape"
   ]
  },
  {
   "cell_type": "code",
   "execution_count": 5,
   "metadata": {
    "colab": {
     "base_uri": "https://localhost:8080/"
    },
    "id": "lUyUDqH_tNG5",
    "outputId": "812fe5c8-5600-475f-cb36-465c3c80b7ef"
   },
   "outputs": [
    {
     "name": "stdout",
     "output_type": "stream",
     "text": [
      "Rollno     0\n",
      "Marks      0\n",
      "Gender     0\n",
      "Age       16\n",
      "PhD       13\n",
      "dtype: int64\n"
     ]
    }
   ],
   "source": [
    "print(df.isnull().sum())"
   ]
  },
  {
   "cell_type": "code",
   "execution_count": 6,
   "metadata": {
    "colab": {
     "base_uri": "https://localhost:8080/"
    },
    "id": "EcBgk9UPtjFZ",
    "outputId": "502e7220-7998-4eb8-caac-59abd96adb44"
   },
   "outputs": [
    {
     "name": "stdout",
     "output_type": "stream",
     "text": [
      "Rollno    0\n",
      "Marks     0\n",
      "Gender    0\n",
      "Age       0\n",
      "PhD       0\n",
      "dtype: int64\n"
     ]
    }
   ],
   "source": [
    "df.dropna(inplace=True)\n",
    "print(df.isnull().sum())"
   ]
  },
  {
   "cell_type": "code",
   "execution_count": 8,
   "metadata": {
    "colab": {
     "base_uri": "https://localhost:8080/"
    },
    "id": "8rtL67z0t4gB",
    "outputId": "0bf3b9d3-3fbd-45e2-ad83-156f8177a894"
   },
   "outputs": [
    {
     "name": "stdout",
     "output_type": "stream",
     "text": [
      "    Rollno  Marks  Gender   Age  PhD\n",
      "0        1  140.0       1  47.0  Yes\n",
      "1        2   30.0       0  65.0  Yes\n",
      "2        3   35.1       0  56.0   No\n",
      "3        4   30.0       1  23.0   No\n",
      "4        5   80.0       0   NaN  Yes\n",
      "..     ...    ...     ...   ...  ...\n",
      "95      96   18.6       1  26.0   No\n",
      "96      97  152.0       1  56.0  Yes\n",
      "97      98    1.8       1  28.0   No\n",
      "98      99   35.0       0  44.0  NaN\n",
      "99     100    4.0       0  24.0   No\n",
      "\n",
      "[100 rows x 5 columns]\n"
     ]
    }
   ],
   "source": [
    "import pandas as pd\n",
    "import numpy as np\n",
    "\n",
    "path=\"/content/drive/MyDrive/DS-Basics/AcademicPerformance.csv\"\n",
    "df = pd.read_csv(path)\n",
    "print(df)"
   ]
  },
  {
   "cell_type": "code",
   "execution_count": 9,
   "metadata": {
    "colab": {
     "base_uri": "https://localhost:8080/"
    },
    "id": "gRBaFn5WuHiA",
    "outputId": "6bd41288-a659-4536-ce52-97673f8bf320"
   },
   "outputs": [
    {
     "name": "stdout",
     "output_type": "stream",
     "text": [
      "0    47.000000\n",
      "1    65.000000\n",
      "2    56.000000\n",
      "3    23.000000\n",
      "4    47.821429\n",
      "5    27.000000\n",
      "6    53.000000\n",
      "7    47.821429\n",
      "8    44.000000\n",
      "9    63.000000\n",
      "Name: Age, dtype: float64\n"
     ]
    }
   ],
   "source": [
    "df[\"Age\"] = df[\"Age\"].replace(np.NaN,df[\"Age\"].mean())\n",
    "print(df[\"Age\"][:10])"
   ]
  },
  {
   "cell_type": "code",
   "execution_count": 11,
   "metadata": {
    "colab": {
     "base_uri": "https://localhost:8080/"
    },
    "id": "moIvOleNvTKA",
    "outputId": "83d07dd3-598e-40a5-ab45-aa54d009aecc"
   },
   "outputs": [
    {
     "name": "stdout",
     "output_type": "stream",
     "text": [
      "    Rollno  Marks  Gender   Age  PhD\n",
      "0        1  140.0       1  47.0  Yes\n",
      "1        2   30.0       0  65.0  Yes\n",
      "2        3   35.1       0  56.0   No\n",
      "3        4   30.0       1  23.0   No\n",
      "4        5   80.0       0   NaN  Yes\n",
      "..     ...    ...     ...   ...  ...\n",
      "95      96   18.6       1  26.0   No\n",
      "96      97  152.0       1  56.0  Yes\n",
      "97      98    1.8       1  28.0   No\n",
      "98      99   35.0       0  44.0  NaN\n",
      "99     100    4.0       0  24.0   No\n",
      "\n",
      "[100 rows x 5 columns]\n"
     ]
    }
   ],
   "source": [
    "import pandas as pd\n",
    "import numpy as np\n",
    "\n",
    "path=\"/content/drive/MyDrive/DS-Basics/AcademicPerformance.csv\"\n",
    "df = pd.read_csv(path)\n",
    "print(df)"
   ]
  },
  {
   "cell_type": "code",
   "execution_count": 12,
   "metadata": {
    "colab": {
     "base_uri": "https://localhost:8080/"
    },
    "id": "aiR24szfu1Ha",
    "outputId": "bdc77025-8b56-40a1-8f34-6360e20c30bf"
   },
   "outputs": [
    {
     "name": "stdout",
     "output_type": "stream",
     "text": [
      "0    47.0\n",
      "1    65.0\n",
      "2    56.0\n",
      "3    23.0\n",
      "4    50.0\n",
      "5    27.0\n",
      "6    53.0\n",
      "7    50.0\n",
      "8    44.0\n",
      "9    63.0\n",
      "Name: Age, dtype: float64\n"
     ]
    }
   ],
   "source": [
    "df[\"Age\"] = df[\"Age\"].replace(np.NaN,df[\"Age\"].median())\n",
    "print(df[\"Age\"][:10])"
   ]
  },
  {
   "cell_type": "code",
   "execution_count": null,
   "metadata": {
    "id": "EdyRedy3viuY"
   },
   "outputs": [],
   "source": []
  },
  {
   "cell_type": "code",
   "execution_count": 13,
   "metadata": {
    "colab": {
     "base_uri": "https://localhost:8080/"
    },
    "id": "_uNwetS_vi5J",
    "outputId": "db886422-c96c-4f1a-cc7f-3ef1012cea35"
   },
   "outputs": [
    {
     "name": "stdout",
     "output_type": "stream",
     "text": [
      "    Rollno  Marks  Gender   Age  PhD\n",
      "0        1  140.0       1  47.0  Yes\n",
      "1        2   30.0       0  65.0  Yes\n",
      "2        3   35.1       0  56.0   No\n",
      "3        4   30.0       1  23.0   No\n",
      "4        5   80.0       0   NaN  Yes\n",
      "..     ...    ...     ...   ...  ...\n",
      "95      96   18.6       1  26.0   No\n",
      "96      97  152.0       1  56.0  Yes\n",
      "97      98    1.8       1  28.0   No\n",
      "98      99   35.0       0  44.0  NaN\n",
      "99     100    4.0       0  24.0   No\n",
      "\n",
      "[100 rows x 5 columns]\n"
     ]
    }
   ],
   "source": [
    "import pandas as pd\n",
    "import numpy as np\n",
    "\n",
    "path=\"/content/drive/MyDrive/DS-Basics/AcademicPerformance.csv\"\n",
    "df = pd.read_csv(path)\n",
    "print(df)"
   ]
  },
  {
   "cell_type": "code",
   "execution_count": 15,
   "metadata": {
    "colab": {
     "base_uri": "https://localhost:8080/"
    },
    "id": "Ck8PC7_Jvk6f",
    "outputId": "34a34bbc-7187-486f-a9a8-0ffc4547f52d"
   },
   "outputs": [
    {
     "name": "stdout",
     "output_type": "stream",
     "text": [
      "0    47.0\n",
      "1    65.0\n",
      "2    56.0\n",
      "3    23.0\n",
      "4    65.0\n",
      "5    27.0\n",
      "6    53.0\n",
      "7    65.0\n",
      "8    44.0\n",
      "9    63.0\n",
      "Name: Age, dtype: float64\n"
     ]
    }
   ],
   "source": [
    "import statistics\n",
    "df[\"Age\"] = df[\"Age\"].replace(np.NaN, statistics.mode(df[\"Age\"]))\n",
    "print(df[\"Age\"][:10])"
   ]
  },
  {
   "cell_type": "code",
   "execution_count": 16,
   "metadata": {
    "colab": {
     "base_uri": "https://localhost:8080/"
    },
    "id": "9arMQeluwPj5",
    "outputId": "7e7362ea-cb88-4bbf-811a-eae808761d28"
   },
   "outputs": [
    {
     "name": "stdout",
     "output_type": "stream",
     "text": [
      "    Rollno  Marks  Gender   Age  PhD\n",
      "0        1  140.0       1  47.0  Yes\n",
      "1        2   30.0       0  65.0  Yes\n",
      "2        3   35.1       0  56.0   No\n",
      "3        4   30.0       1  23.0   No\n",
      "4        5   80.0       0   NaN  Yes\n",
      "..     ...    ...     ...   ...  ...\n",
      "95      96   18.6       1  26.0   No\n",
      "96      97  152.0       1  56.0  Yes\n",
      "97      98    1.8       1  28.0   No\n",
      "98      99   35.0       0  44.0  NaN\n",
      "99     100    4.0       0  24.0   No\n",
      "\n",
      "[100 rows x 5 columns]\n"
     ]
    }
   ],
   "source": [
    "import pandas as pd\n",
    "import numpy as np\n",
    "\n",
    "path=\"/content/drive/MyDrive/DS-Basics/AcademicPerformance.csv\"\n",
    "df = pd.read_csv(path)\n",
    "print(df)"
   ]
  },
  {
   "cell_type": "code",
   "execution_count": 17,
   "metadata": {
    "colab": {
     "base_uri": "https://localhost:8080/"
    },
    "id": "O9UvnG3AwXxo",
    "outputId": "232604aa-ba78-4035-e173-df04e39b15b8"
   },
   "outputs": [
    {
     "data": {
      "text/plain": [
       "Rollno     0\n",
       "Marks      0\n",
       "Gender     0\n",
       "Age       16\n",
       "PhD       13\n",
       "dtype: int64"
      ]
     },
     "execution_count": 17,
     "metadata": {},
     "output_type": "execute_result"
    }
   ],
   "source": [
    "df.isnull().sum()"
   ]
  },
  {
   "cell_type": "code",
   "execution_count": 19,
   "metadata": {
    "colab": {
     "base_uri": "https://localhost:8080/"
    },
    "id": "3QwR-VgTweG_",
    "outputId": "34ab906c-e3c1-461f-83cb-549ba3724089"
   },
   "outputs": [
    {
     "data": {
      "text/plain": [
       "Rollno     0\n",
       "Marks      0\n",
       "Gender     0\n",
       "Age       16\n",
       "PhD        0\n",
       "dtype: int64"
      ]
     },
     "execution_count": 19,
     "metadata": {},
     "output_type": "execute_result"
    }
   ],
   "source": [
    "df[\"PhD\"] = df[\"PhD\"].fillna('U')\n",
    "df.isnull().sum()"
   ]
  },
  {
   "cell_type": "code",
   "execution_count": 20,
   "metadata": {
    "colab": {
     "base_uri": "https://localhost:8080/"
    },
    "id": "sMSFjNSLwu1v",
    "outputId": "fa5b7b7f-a04e-4d72-cdc0-e01459e8ebca"
   },
   "outputs": [
    {
     "name": "stdout",
     "output_type": "stream",
     "text": [
      "    Rollno  Marks  Gender   Age  PhD\n",
      "0        1  140.0       1  47.0  Yes\n",
      "1        2   30.0       0  65.0  Yes\n",
      "2        3   35.1       0  56.0   No\n",
      "3        4   30.0       1  23.0   No\n",
      "4        5   80.0       0   NaN  Yes\n",
      "..     ...    ...     ...   ...  ...\n",
      "95      96   18.6       1  26.0   No\n",
      "96      97  152.0       1  56.0  Yes\n",
      "97      98    1.8       1  28.0   No\n",
      "98      99   35.0       0  44.0    U\n",
      "99     100    4.0       0  24.0   No\n",
      "\n",
      "[100 rows x 5 columns]\n"
     ]
    }
   ],
   "source": [
    "print(df)"
   ]
  },
  {
   "cell_type": "code",
   "execution_count": 23,
   "metadata": {
    "colab": {
     "base_uri": "https://localhost:8080/"
    },
    "id": "t2CAj1TQxB3n",
    "outputId": "4836893b-820c-4c73-deef-cfb82822bbd9"
   },
   "outputs": [
    {
     "name": "stdout",
     "output_type": "stream",
     "text": [
      "    Rollno  Marks  Gender   Age  PhD\n",
      "0        1  140.0       1  47.0  Yes\n",
      "1        2   30.0       0  65.0  Yes\n",
      "2        3   35.1       0  56.0   No\n",
      "3        4   30.0       1  23.0   No\n",
      "4        5   80.0       0  23.0  Yes\n",
      "..     ...    ...     ...   ...  ...\n",
      "95      96   18.6       1  26.0   No\n",
      "96      97  152.0       1  56.0  Yes\n",
      "97      98    1.8       1  28.0   No\n",
      "98      99   35.0       0  44.0  NaN\n",
      "99     100    4.0       0  24.0   No\n",
      "\n",
      "[100 rows x 5 columns]\n"
     ]
    }
   ],
   "source": [
    "import pandas as pd\n",
    "import numpy as np\n",
    "\n",
    "path=\"/content/drive/MyDrive/DS-Basics/AcademicPerformance.csv\"\n",
    "dataset = pd.read_csv(path)\n",
    "\n",
    "#LOCF - last observation carried forward\n",
    "\n",
    "dataset[\"Age\"] = dataset[\"Age\"].fillna(method ='ffill')\n",
    "\n",
    "dataset.isnull().sum()\n",
    "\n",
    "print(dataset)"
   ]
  },
  {
   "cell_type": "markdown",
   "metadata": {
    "id": "bc4ugncXxam3"
   },
   "source": [
    "Interpolation – Linear\n",
    "It’s the method of approximating a missing value by joining dots in increasing order along a straight line. In a nutshell, it calculates the unknown value in the same ascending order as the values that came before it. Because Linear Interpolation is the default method, we didn’t have to specify it while utilizing it. It will almost always be utilized in a time-series dataset."
   ]
  },
  {
   "cell_type": "code",
   "execution_count": 26,
   "metadata": {
    "colab": {
     "base_uri": "https://localhost:8080/"
    },
    "id": "opyVbD2kxpin",
    "outputId": "c3fed86b-2634-46d7-cfcb-4c281d691395"
   },
   "outputs": [
    {
     "name": "stdout",
     "output_type": "stream",
     "text": [
      "    Rollno  Marks  Gender   Age  PhD\n",
      "0        1  140.0       1  47.0  Yes\n",
      "1        2   30.0       0  65.0  Yes\n",
      "2        3   35.1       0  56.0   No\n",
      "3        4   30.0       1  23.0   No\n",
      "4        5   80.0       0  25.0  Yes\n",
      "..     ...    ...     ...   ...  ...\n",
      "95      96   18.6       1  26.0   No\n",
      "96      97  152.0       1  56.0  Yes\n",
      "97      98    1.8       1  28.0   No\n",
      "98      99   35.0       0  44.0  NaN\n",
      "99     100    4.0       0  24.0   No\n",
      "\n",
      "[100 rows x 5 columns]\n"
     ]
    },
    {
     "data": {
      "text/plain": [
       "Rollno     0\n",
       "Marks      0\n",
       "Gender     0\n",
       "Age        0\n",
       "PhD       13\n",
       "dtype: int64"
      ]
     },
     "execution_count": 26,
     "metadata": {},
     "output_type": "execute_result"
    }
   ],
   "source": [
    "import pandas as pd\n",
    "import numpy as np\n",
    "\n",
    "path=\"/content/drive/MyDrive/DS-Basics/AcademicPerformance.csv\"\n",
    "dataset = pd.read_csv(path)\n",
    "\n",
    "#interpolation - linear\n",
    "\n",
    "dataset[\"Age\"] = dataset[\"Age\"].interpolate(method='linear', limit_direction='forward', axis=0)\n",
    "\n",
    "print(dataset)\n",
    "\n",
    "dataset.isnull().sum()"
   ]
  },
  {
   "cell_type": "markdown",
   "metadata": {
    "id": "LIjETO2Tx7Ff"
   },
   "source": [
    "Imputation by K-NN:\n",
    "A fundamental classification approach is the k-nearest-neighbors (kNN) algorithm. Class membership is the outcome of k-NN categorization. An item’s categorization is determined by how closely it resembles the points in the training set, with the object going to the class with the most members among its k closest neighbors. If k = 1, the item is simply assigned to the class of the item’s closest neighbor. Finding the k’s closest neighbours to the observation with missing data and then imputing them based on the non-missing values in the neighborhood might help generate predictions about the missing values."
   ]
  },
  {
   "cell_type": "code",
   "execution_count": 27,
   "metadata": {
    "colab": {
     "base_uri": "https://localhost:8080/"
    },
    "id": "ULyUfH8Bx_7Q",
    "outputId": "ccf7ce2f-ab48-43cd-8bdd-155e5d5e0d1d"
   },
   "outputs": [
    {
     "data": {
      "text/plain": [
       "Rollno     0\n",
       "Marks      0\n",
       "Age        0\n",
       "PhD_Yes    0\n",
       "dtype: int64"
      ]
     },
     "execution_count": 27,
     "metadata": {},
     "output_type": "execute_result"
    }
   ],
   "source": [
    "#for knn imputation - we need to remove normalize the data and categorical data we need to convert\n",
    "\n",
    "cat_variables = dataset[['PhD']]\n",
    "\n",
    "cat_dummies = pd.get_dummies(cat_variables, drop_first=True)\n",
    "\n",
    "cat_dummies.head()\n",
    "\n",
    "\n",
    "\n",
    "\n",
    "dataset = dataset.drop(['PhD'], axis=1)\n",
    "\n",
    "dataset = pd.concat([dataset, cat_dummies], axis=1)\n",
    "\n",
    "dataset.head()\n",
    "\n",
    "\n",
    "\n",
    "\n",
    "#removing unwanted features\n",
    "\n",
    "dataset = dataset.drop(['Gender'], axis=1)\n",
    "\n",
    "dataset.head()\n",
    "\n",
    "\n",
    "\n",
    "\n",
    "#scaling mandatory before knn\n",
    "\n",
    "from sklearn.preprocessing import MinMaxScaler\n",
    "\n",
    "scaler = MinMaxScaler()\n",
    "\n",
    "dataset = pd.DataFrame(scaler.fit_transform(dataset), columns = dataset.columns)\n",
    "\n",
    "dataset.head()\n",
    "\n",
    "\n",
    "\n",
    "\n",
    "#knn imputer\n",
    "\n",
    "from sklearn.impute import KNNImputer\n",
    "\n",
    "imputer = KNNImputer(n_neighbors=3)\n",
    "\n",
    "dataset = pd.DataFrame(imputer.fit_transform(dataset),columns = dataset.columns)\n",
    "\n",
    "\n",
    "\n",
    "\n",
    "#checking for missing\n",
    "\n",
    "dataset.isnull().sum()"
   ]
  },
  {
   "cell_type": "code",
   "execution_count": 28,
   "metadata": {
    "colab": {
     "base_uri": "https://localhost:8080/"
    },
    "id": "WzQt3F5azGVt",
    "outputId": "50a0364c-a448-4a5a-9adc-b0ae7377aa96"
   },
   "outputs": [
    {
     "name": "stdout",
     "output_type": "stream",
     "text": [
      "    Rollno  Marks  Gender   Age  PhD\n",
      "0        1  140.0       1  47.0  Yes\n",
      "1        2   30.0       0  65.0  Yes\n",
      "2        3   35.1       0  56.0   12\n",
      "3        4   30.0       1  23.0   No\n",
      "4        5   80.0       0   NaN  Yes\n",
      "..     ...    ...     ...   ...  ...\n",
      "95      96   18.6       1  26.0   No\n",
      "96      97  152.0       1  56.0  Yes\n",
      "97      98    1.8       1  28.0   No\n",
      "98      99   35.0       0  44.0  NaN\n",
      "99     100    4.0       0  24.0   No\n",
      "\n",
      "[100 rows x 5 columns]\n"
     ]
    }
   ],
   "source": [
    "import pandas as pd\n",
    "import numpy as np\n",
    "\n",
    "path=\"/content/drive/MyDrive/DS-Basics/AcademicPerformance-1.csv\"\n",
    "dataset = pd.read_csv(path)\n",
    "print(dataset)"
   ]
  },
  {
   "cell_type": "code",
   "execution_count": null,
   "metadata": {
    "id": "rwWf49HQzqHZ"
   },
   "outputs": [],
   "source": []
  },
  {
   "cell_type": "code",
   "execution_count": 29,
   "metadata": {
    "colab": {
     "base_uri": "https://localhost:8080/"
    },
    "id": "fthvFKqAzOit",
    "outputId": "07d4b1ee-eb14-4405-c50e-d826d6c2074b"
   },
   "outputs": [
    {
     "data": {
      "text/plain": [
       "0     False\n",
       "1     False\n",
       "2     False\n",
       "3     False\n",
       "4     False\n",
       "      ...  \n",
       "95    False\n",
       "96    False\n",
       "97    False\n",
       "98     True\n",
       "99    False\n",
       "Name: PhD, Length: 100, dtype: bool"
      ]
     },
     "execution_count": 29,
     "metadata": {},
     "output_type": "execute_result"
    }
   ],
   "source": [
    "dataset[\"PhD\"].isnull()"
   ]
  },
  {
   "cell_type": "code",
   "execution_count": 30,
   "metadata": {
    "id": "IHK-EY5fzrQe"
   },
   "outputs": [],
   "source": [
    "# Detecting numbers \n",
    "cnt=0\n",
    "for row in dataset['PhD']:\n",
    "    try:\n",
    "        int(row)\n",
    "        dataset.loc[cnt, 'PhD']=np.nan\n",
    "    except ValueError:\n",
    "        pass\n",
    "    cnt+=1"
   ]
  },
  {
   "cell_type": "code",
   "execution_count": 32,
   "metadata": {
    "colab": {
     "base_uri": "https://localhost:8080/"
    },
    "id": "314aEBNtzzcV",
    "outputId": "276a93aa-7571-4dae-e180-15d345bae0bb"
   },
   "outputs": [
    {
     "name": "stdout",
     "output_type": "stream",
     "text": [
      "    Rollno  Marks  Gender   Age  PhD\n",
      "0        1  140.0       1  47.0  Yes\n",
      "1        2   30.0       0  65.0  Yes\n",
      "2        3   35.1       0  56.0  NaN\n",
      "3        4   30.0       1  23.0   No\n",
      "4        5   80.0       0   NaN  Yes\n",
      "..     ...    ...     ...   ...  ...\n",
      "95      96   18.6       1  26.0   No\n",
      "96      97  152.0       1  56.0  Yes\n",
      "97      98    1.8       1  28.0   No\n",
      "98      99   35.0       0  44.0  NaN\n",
      "99     100    4.0       0  24.0   No\n",
      "\n",
      "[100 rows x 5 columns]\n"
     ]
    }
   ],
   "source": [
    "dataset[\"PhD\"].isnull()\n",
    "print(dataset)"
   ]
  }
 ],
 "metadata": {
  "colab": {
   "name": "2.Missing_Values_Part-2.ipynb",
   "provenance": []
  },
  "kernelspec": {
   "display_name": "Python 3",
   "language": "python",
   "name": "python3"
  },
  "language_info": {
   "codemirror_mode": {
    "name": "ipython",
    "version": 3
   },
   "file_extension": ".py",
   "mimetype": "text/x-python",
   "name": "python",
   "nbconvert_exporter": "python",
   "pygments_lexer": "ipython3",
   "version": "3.8.8"
  }
 },
 "nbformat": 4,
 "nbformat_minor": 1
}
