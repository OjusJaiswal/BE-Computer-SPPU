{
 "cells": [
  {
   "cell_type": "code",
   "execution_count": null,
   "metadata": {
    "id": "F84fgwFAFVx4"
   },
   "outputs": [],
   "source": [
    "import pandas as pd\n",
    "import numpy as np"
   ]
  },
  {
   "cell_type": "code",
   "execution_count": null,
   "metadata": {
    "id": "H5DGROy1Gbc-"
   },
   "outputs": [],
   "source": [
    "df=pd.read_csv(\"/content/AcademicPerformance-1.csv\")"
   ]
  },
  {
   "cell_type": "code",
   "execution_count": null,
   "metadata": {
    "colab": {
     "base_uri": "https://localhost:8080/",
     "height": 424
    },
    "id": "jQoLLMCjGlPN",
    "outputId": "05d71d9a-1541-48ca-9e7b-28d1d62abeb6"
   },
   "outputs": [
    {
     "data": {
      "text/html": [
       "\n",
       "  <div id=\"df-7999954d-dff0-44d4-bb42-16900073ce2d\">\n",
       "    <div class=\"colab-df-container\">\n",
       "      <div>\n",
       "<style scoped>\n",
       "    .dataframe tbody tr th:only-of-type {\n",
       "        vertical-align: middle;\n",
       "    }\n",
       "\n",
       "    .dataframe tbody tr th {\n",
       "        vertical-align: top;\n",
       "    }\n",
       "\n",
       "    .dataframe thead th {\n",
       "        text-align: right;\n",
       "    }\n",
       "</style>\n",
       "<table border=\"1\" class=\"dataframe\">\n",
       "  <thead>\n",
       "    <tr style=\"text-align: right;\">\n",
       "      <th></th>\n",
       "      <th>Rollno</th>\n",
       "      <th>Marks</th>\n",
       "      <th>Gender</th>\n",
       "      <th>Age</th>\n",
       "      <th>PhD</th>\n",
       "    </tr>\n",
       "  </thead>\n",
       "  <tbody>\n",
       "    <tr>\n",
       "      <th>0</th>\n",
       "      <td>1</td>\n",
       "      <td>140.0</td>\n",
       "      <td>1</td>\n",
       "      <td>47.0</td>\n",
       "      <td>Yes</td>\n",
       "    </tr>\n",
       "    <tr>\n",
       "      <th>1</th>\n",
       "      <td>2</td>\n",
       "      <td>30.0</td>\n",
       "      <td>0</td>\n",
       "      <td>65.0</td>\n",
       "      <td>Yes</td>\n",
       "    </tr>\n",
       "    <tr>\n",
       "      <th>2</th>\n",
       "      <td>3</td>\n",
       "      <td>35.1</td>\n",
       "      <td>0</td>\n",
       "      <td>56.0</td>\n",
       "      <td>12</td>\n",
       "    </tr>\n",
       "    <tr>\n",
       "      <th>3</th>\n",
       "      <td>4</td>\n",
       "      <td>30.0</td>\n",
       "      <td>1</td>\n",
       "      <td>23.0</td>\n",
       "      <td>No</td>\n",
       "    </tr>\n",
       "    <tr>\n",
       "      <th>4</th>\n",
       "      <td>5</td>\n",
       "      <td>80.0</td>\n",
       "      <td>0</td>\n",
       "      <td>NaN</td>\n",
       "      <td>Yes</td>\n",
       "    </tr>\n",
       "    <tr>\n",
       "      <th>...</th>\n",
       "      <td>...</td>\n",
       "      <td>...</td>\n",
       "      <td>...</td>\n",
       "      <td>...</td>\n",
       "      <td>...</td>\n",
       "    </tr>\n",
       "    <tr>\n",
       "      <th>95</th>\n",
       "      <td>96</td>\n",
       "      <td>18.6</td>\n",
       "      <td>1</td>\n",
       "      <td>26.0</td>\n",
       "      <td>No</td>\n",
       "    </tr>\n",
       "    <tr>\n",
       "      <th>96</th>\n",
       "      <td>97</td>\n",
       "      <td>152.0</td>\n",
       "      <td>1</td>\n",
       "      <td>56.0</td>\n",
       "      <td>Yes</td>\n",
       "    </tr>\n",
       "    <tr>\n",
       "      <th>97</th>\n",
       "      <td>98</td>\n",
       "      <td>1.8</td>\n",
       "      <td>1</td>\n",
       "      <td>28.0</td>\n",
       "      <td>No</td>\n",
       "    </tr>\n",
       "    <tr>\n",
       "      <th>98</th>\n",
       "      <td>99</td>\n",
       "      <td>35.0</td>\n",
       "      <td>0</td>\n",
       "      <td>44.0</td>\n",
       "      <td>NaN</td>\n",
       "    </tr>\n",
       "    <tr>\n",
       "      <th>99</th>\n",
       "      <td>100</td>\n",
       "      <td>4.0</td>\n",
       "      <td>0</td>\n",
       "      <td>24.0</td>\n",
       "      <td>No</td>\n",
       "    </tr>\n",
       "  </tbody>\n",
       "</table>\n",
       "<p>100 rows × 5 columns</p>\n",
       "</div>\n",
       "      <button class=\"colab-df-convert\" onclick=\"convertToInteractive('df-7999954d-dff0-44d4-bb42-16900073ce2d')\"\n",
       "              title=\"Convert this dataframe to an interactive table.\"\n",
       "              style=\"display:none;\">\n",
       "        \n",
       "  <svg xmlns=\"http://www.w3.org/2000/svg\" height=\"24px\"viewBox=\"0 0 24 24\"\n",
       "       width=\"24px\">\n",
       "    <path d=\"M0 0h24v24H0V0z\" fill=\"none\"/>\n",
       "    <path d=\"M18.56 5.44l.94 2.06.94-2.06 2.06-.94-2.06-.94-.94-2.06-.94 2.06-2.06.94zm-11 1L8.5 8.5l.94-2.06 2.06-.94-2.06-.94L8.5 2.5l-.94 2.06-2.06.94zm10 10l.94 2.06.94-2.06 2.06-.94-2.06-.94-.94-2.06-.94 2.06-2.06.94z\"/><path d=\"M17.41 7.96l-1.37-1.37c-.4-.4-.92-.59-1.43-.59-.52 0-1.04.2-1.43.59L10.3 9.45l-7.72 7.72c-.78.78-.78 2.05 0 2.83L4 21.41c.39.39.9.59 1.41.59.51 0 1.02-.2 1.41-.59l7.78-7.78 2.81-2.81c.8-.78.8-2.07 0-2.86zM5.41 20L4 18.59l7.72-7.72 1.47 1.35L5.41 20z\"/>\n",
       "  </svg>\n",
       "      </button>\n",
       "      \n",
       "  <style>\n",
       "    .colab-df-container {\n",
       "      display:flex;\n",
       "      flex-wrap:wrap;\n",
       "      gap: 12px;\n",
       "    }\n",
       "\n",
       "    .colab-df-convert {\n",
       "      background-color: #E8F0FE;\n",
       "      border: none;\n",
       "      border-radius: 50%;\n",
       "      cursor: pointer;\n",
       "      display: none;\n",
       "      fill: #1967D2;\n",
       "      height: 32px;\n",
       "      padding: 0 0 0 0;\n",
       "      width: 32px;\n",
       "    }\n",
       "\n",
       "    .colab-df-convert:hover {\n",
       "      background-color: #E2EBFA;\n",
       "      box-shadow: 0px 1px 2px rgba(60, 64, 67, 0.3), 0px 1px 3px 1px rgba(60, 64, 67, 0.15);\n",
       "      fill: #174EA6;\n",
       "    }\n",
       "\n",
       "    [theme=dark] .colab-df-convert {\n",
       "      background-color: #3B4455;\n",
       "      fill: #D2E3FC;\n",
       "    }\n",
       "\n",
       "    [theme=dark] .colab-df-convert:hover {\n",
       "      background-color: #434B5C;\n",
       "      box-shadow: 0px 1px 3px 1px rgba(0, 0, 0, 0.15);\n",
       "      filter: drop-shadow(0px 1px 2px rgba(0, 0, 0, 0.3));\n",
       "      fill: #FFFFFF;\n",
       "    }\n",
       "  </style>\n",
       "\n",
       "      <script>\n",
       "        const buttonEl =\n",
       "          document.querySelector('#df-7999954d-dff0-44d4-bb42-16900073ce2d button.colab-df-convert');\n",
       "        buttonEl.style.display =\n",
       "          google.colab.kernel.accessAllowed ? 'block' : 'none';\n",
       "\n",
       "        async function convertToInteractive(key) {\n",
       "          const element = document.querySelector('#df-7999954d-dff0-44d4-bb42-16900073ce2d');\n",
       "          const dataTable =\n",
       "            await google.colab.kernel.invokeFunction('convertToInteractive',\n",
       "                                                     [key], {});\n",
       "          if (!dataTable) return;\n",
       "\n",
       "          const docLinkHtml = 'Like what you see? Visit the ' +\n",
       "            '<a target=\"_blank\" href=https://colab.research.google.com/notebooks/data_table.ipynb>data table notebook</a>'\n",
       "            + ' to learn more about interactive tables.';\n",
       "          element.innerHTML = '';\n",
       "          dataTable['output_type'] = 'display_data';\n",
       "          await google.colab.output.renderOutput(dataTable, element);\n",
       "          const docLink = document.createElement('div');\n",
       "          docLink.innerHTML = docLinkHtml;\n",
       "          element.appendChild(docLink);\n",
       "        }\n",
       "      </script>\n",
       "    </div>\n",
       "  </div>\n",
       "  "
      ],
      "text/plain": [
       "    Rollno  Marks  Gender   Age  PhD\n",
       "0        1  140.0       1  47.0  Yes\n",
       "1        2   30.0       0  65.0  Yes\n",
       "2        3   35.1       0  56.0   12\n",
       "3        4   30.0       1  23.0   No\n",
       "4        5   80.0       0   NaN  Yes\n",
       "..     ...    ...     ...   ...  ...\n",
       "95      96   18.6       1  26.0   No\n",
       "96      97  152.0       1  56.0  Yes\n",
       "97      98    1.8       1  28.0   No\n",
       "98      99   35.0       0  44.0  NaN\n",
       "99     100    4.0       0  24.0   No\n",
       "\n",
       "[100 rows x 5 columns]"
      ]
     },
     "execution_count": 88,
     "metadata": {},
     "output_type": "execute_result"
    }
   ],
   "source": [
    "df"
   ]
  },
  {
   "cell_type": "code",
   "execution_count": null,
   "metadata": {
    "colab": {
     "base_uri": "https://localhost:8080/"
    },
    "id": "XeejPzwtGxJM",
    "outputId": "96cdd34d-c3dc-4dee-f425-96fa604b0f56"
   },
   "outputs": [
    {
     "name": "stderr",
     "output_type": "stream",
     "text": [
      "/usr/local/lib/python3.7/dist-packages/ipykernel_launcher.py:1: FutureWarning: Dropping of nuisance columns in DataFrame reductions (with 'numeric_only=None') is deprecated; in a future version this will raise TypeError.  Select only valid columns before calling the reduction.\n",
      "  \"\"\"Entry point for launching an IPython kernel.\n"
     ]
    },
    {
     "data": {
      "text/plain": [
       "Rollno    0.000000\n",
       "Marks     1.077026\n",
       "Gender    0.000000\n",
       "Age      -0.236916\n",
       "dtype: float64"
      ]
     },
     "execution_count": 6,
     "metadata": {},
     "output_type": "execute_result"
    }
   ],
   "source": [
    "df.skew(axis=0)"
   ]
  },
  {
   "cell_type": "code",
   "execution_count": null,
   "metadata": {
    "colab": {
     "base_uri": "https://localhost:8080/",
     "height": 351
    },
    "id": "l0yJ-VRXL8YA",
    "outputId": "3086fef5-eb0f-4a86-b755-b4688c38ef0a"
   },
   "outputs": [
    {
     "name": "stderr",
     "output_type": "stream",
     "text": [
      "/usr/local/lib/python3.7/dist-packages/seaborn/distributions.py:2619: FutureWarning: `distplot` is a deprecated function and will be removed in a future version. Please adapt your code to use either `displot` (a figure-level function with similar flexibility) or `histplot` (an axes-level function for histograms).\n",
      "  warnings.warn(msg, FutureWarning)\n"
     ]
    },
    {
     "data": {
      "text/plain": [
       "<matplotlib.axes._subplots.AxesSubplot at 0x7ff371198650>"
      ]
     },
     "execution_count": 70,
     "metadata": {},
     "output_type": "execute_result"
    },
    {
     "data": {
      "image/png": "[encoded data removed]",
      "text/plain": [
       "<Figure size 432x288 with 1 Axes>"
      ]
     },
     "metadata": {
      "needs_background": "light"
     },
     "output_type": "display_data"
    }
   ],
   "source": [
    "import seaborn as sn\n",
    "sn.distplot(df[\"Marks\"])"
   ]
  },
  {
   "cell_type": "code",
   "execution_count": null,
   "metadata": {
    "colab": {
     "base_uri": "https://localhost:8080/"
    },
    "id": "_ipPgLksHYr8",
    "outputId": "f5fb1f07-cc6b-4bcb-923a-5b5200cc7d57"
   },
   "outputs": [
    {
     "data": {
      "text/plain": [
       "0.07420353901563533"
      ]
     },
     "execution_count": 27,
     "metadata": {},
     "output_type": "execute_result"
    }
   ],
   "source": [
    "#using log method\n",
    "np.log(1.077026)"
   ]
  },
  {
   "cell_type": "code",
   "execution_count": null,
   "metadata": {
    "id": "u2WvYd9tH2Jn"
   },
   "outputs": [],
   "source": [
    "log_Marks=np.log(df[\"Marks\"])"
   ]
  },
  {
   "cell_type": "code",
   "execution_count": null,
   "metadata": {
    "colab": {
     "base_uri": "https://localhost:8080/"
    },
    "id": "RcHVz_qPIgol",
    "outputId": "f88afa99-5c54-4797-f2f4-cea7b1315e34"
   },
   "outputs": [
    {
     "data": {
      "text/plain": [
       "0    2.146128\n",
       "1    1.477121\n",
       "2    1.545307\n",
       "3    1.477121\n",
       "4    1.903090\n",
       "Name: Marks, dtype: float64"
      ]
     },
     "execution_count": 72,
     "metadata": {},
     "output_type": "execute_result"
    }
   ],
   "source": [
    "log_Marks.head()"
   ]
  },
  {
   "cell_type": "code",
   "execution_count": null,
   "metadata": {
    "colab": {
     "base_uri": "https://localhost:8080/"
    },
    "id": "bJqfY61FIyjk",
    "outputId": "993d24f5-df1b-42e0-ea76-06929f4e1a42"
   },
   "outputs": [
    {
     "data": {
      "text/plain": [
       "-1.398010134525815"
      ]
     },
     "execution_count": 73,
     "metadata": {},
     "output_type": "execute_result"
    }
   ],
   "source": [
    "log_Marks.skew()"
   ]
  },
  {
   "cell_type": "code",
   "execution_count": null,
   "metadata": {
    "colab": {
     "base_uri": "https://localhost:8080/",
     "height": 351
    },
    "id": "1OF_noOcJ-nf",
    "outputId": "54c407ea-6c6d-41c4-9194-6febf6598109"
   },
   "outputs": [
    {
     "name": "stderr",
     "output_type": "stream",
     "text": [
      "/usr/local/lib/python3.7/dist-packages/seaborn/distributions.py:2619: FutureWarning: `distplot` is a deprecated function and will be removed in a future version. Please adapt your code to use either `displot` (a figure-level function with similar flexibility) or `histplot` (an axes-level function for histograms).\n",
      "  warnings.warn(msg, FutureWarning)\n"
     ]
    },
    {
     "data": {
      "text/plain": [
       "<matplotlib.axes._subplots.AxesSubplot at 0x7ff3713433d0>"
      ]
     },
     "execution_count": 61,
     "metadata": {},
     "output_type": "execute_result"
    },
    {
     "data": {
      "image/png": "[encoded data removed]",
      "text/plain": [
       "<Figure size 432x288 with 1 Axes>"
      ]
     },
     "metadata": {
      "needs_background": "light"
     },
     "output_type": "display_data"
    }
   ],
   "source": [
    "import seaborn as sn\n",
    "sn.distplot(log_Marks)\n"
   ]
  },
  {
   "cell_type": "code",
   "execution_count": null,
   "metadata": {
    "id": "bN59mqA_I1oR"
   },
   "outputs": [],
   "source": [
    "#sqrt method\n",
    "log_Marks_sq=np.sqrt(df[\"Marks\"])"
   ]
  },
  {
   "cell_type": "code",
   "execution_count": null,
   "metadata": {
    "colab": {
     "base_uri": "https://localhost:8080/"
    },
    "id": "KUZUaYUlJIX2",
    "outputId": "f8d67ab8-39fa-4efa-da6a-efb986f82cad"
   },
   "outputs": [
    {
     "data": {
      "text/plain": [
       "0    11.832160\n",
       "1     5.477226\n",
       "2     5.924525\n",
       "3     5.477226\n",
       "4     8.944272\n",
       "Name: Marks, dtype: float64"
      ]
     },
     "execution_count": 63,
     "metadata": {},
     "output_type": "execute_result"
    }
   ],
   "source": [
    "log_Marks_sq.head()"
   ]
  },
  {
   "cell_type": "code",
   "execution_count": null,
   "metadata": {
    "colab": {
     "base_uri": "https://localhost:8080/"
    },
    "id": "InibLIboJMH1",
    "outputId": "0857add5-1bd9-4cce-8b07-bf5a6b8f37c7"
   },
   "outputs": [
    {
     "data": {
      "text/plain": [
       "0.21202620353224017"
      ]
     },
     "execution_count": 64,
     "metadata": {},
     "output_type": "execute_result"
    }
   ],
   "source": [
    "log_Marks_sq.skew()"
   ]
  },
  {
   "cell_type": "code",
   "execution_count": null,
   "metadata": {
    "colab": {
     "base_uri": "https://localhost:8080/",
     "height": 351
    },
    "id": "x5Jys2GiKTpQ",
    "outputId": "84e73518-a4d0-4553-f539-52ce5a52df4d"
   },
   "outputs": [
    {
     "name": "stderr",
     "output_type": "stream",
     "text": [
      "/usr/local/lib/python3.7/dist-packages/seaborn/distributions.py:2619: FutureWarning: `distplot` is a deprecated function and will be removed in a future version. Please adapt your code to use either `displot` (a figure-level function with similar flexibility) or `histplot` (an axes-level function for histograms).\n",
      "  warnings.warn(msg, FutureWarning)\n"
     ]
    },
    {
     "data": {
      "text/plain": [
       "<matplotlib.axes._subplots.AxesSubplot at 0x7ff371726810>"
      ]
     },
     "execution_count": 65,
     "metadata": {},
     "output_type": "execute_result"
    },
    {
     "data": {
      "image/png": "[encoded data removed]",
      "text/plain": [
       "<Figure size 432x288 with 1 Axes>"
      ]
     },
     "metadata": {
      "needs_background": "light"
     },
     "output_type": "display_data"
    }
   ],
   "source": [
    "import seaborn as sn\n",
    "sn.distplot(log_Marks_sq)"
   ]
  },
  {
   "cell_type": "code",
   "execution_count": null,
   "metadata": {
    "id": "0rW0QGYAZzZP"
   },
   "outputs": [],
   "source": []
  },
  {
   "cell_type": "code",
   "execution_count": null,
   "metadata": {
    "id": "09cgDcpjJWn0"
   },
   "outputs": [],
   "source": [
    "#cube root method\n",
    "log_Marks_cb=np.cbrt(df[\"Marks\"])"
   ]
  },
  {
   "cell_type": "code",
   "execution_count": null,
   "metadata": {
    "colab": {
     "base_uri": "https://localhost:8080/"
    },
    "id": "ieP3ckFnJekd",
    "outputId": "b0c89e83-ccec-40b9-e975-8ed90dc314f5"
   },
   "outputs": [
    {
     "data": {
      "text/plain": [
       "0    5.192494\n",
       "1    3.107233\n",
       "2    3.274179\n",
       "3    3.107233\n",
       "4    4.308869\n",
       "Name: Marks, dtype: float64"
      ]
     },
     "execution_count": 67,
     "metadata": {},
     "output_type": "execute_result"
    }
   ],
   "source": [
    "log_Marks_cb.head()"
   ]
  },
  {
   "cell_type": "code",
   "execution_count": null,
   "metadata": {
    "colab": {
     "base_uri": "https://localhost:8080/"
    },
    "id": "e3tgj3c3Jhst",
    "outputId": "a2b9ed6a-b44c-4f63-af3d-920d7357ebb4"
   },
   "outputs": [
    {
     "data": {
      "text/plain": [
       "-0.1852523059463226"
      ]
     },
     "execution_count": 68,
     "metadata": {},
     "output_type": "execute_result"
    }
   ],
   "source": [
    "log_Marks_cb.skew()"
   ]
  },
  {
   "cell_type": "code",
   "execution_count": null,
   "metadata": {
    "colab": {
     "base_uri": "https://localhost:8080/",
     "height": 351
    },
    "id": "oHQvYlu0KWj3",
    "outputId": "5ab296ab-46b1-4a1e-e600-4b5fbbdddd39"
   },
   "outputs": [
    {
     "name": "stderr",
     "output_type": "stream",
     "text": [
      "/usr/local/lib/python3.7/dist-packages/seaborn/distributions.py:2619: FutureWarning: `distplot` is a deprecated function and will be removed in a future version. Please adapt your code to use either `displot` (a figure-level function with similar flexibility) or `histplot` (an axes-level function for histograms).\n",
      "  warnings.warn(msg, FutureWarning)\n"
     ]
    },
    {
     "data": {
      "text/plain": [
       "<matplotlib.axes._subplots.AxesSubplot at 0x7ff3716a74d0>"
      ]
     },
     "execution_count": 69,
     "metadata": {},
     "output_type": "execute_result"
    },
    {
     "data": {
      "image/png": "[encoded data removed]",
      "text/plain": [
       "<Figure size 432x288 with 1 Axes>"
      ]
     },
     "metadata": {
      "needs_background": "light"
     },
     "output_type": "display_data"
    }
   ],
   "source": [
    "import seaborn as sn\n",
    "sn.distplot(log_Marks_cb)"
   ]
  },
  {
   "cell_type": "code",
   "execution_count": null,
   "metadata": {
    "id": "ms78dbm5Jm-l"
   },
   "outputs": [],
   "source": [
    "#reciprocol method\n",
    "Marks_reci=np.reciprocal(df[\"Marks\"])\n"
   ]
  },
  {
   "cell_type": "code",
   "execution_count": null,
   "metadata": {
    "id": "lnUj0jQLcwZ4"
   },
   "outputs": [],
   "source": []
  },
  {
   "cell_type": "code",
   "execution_count": null,
   "metadata": {
    "colab": {
     "base_uri": "https://localhost:8080/"
    },
    "id": "YuDEjRLpJxA_",
    "outputId": "4c3c305f-86da-4fc9-9162-3400badd8446"
   },
   "outputs": [
    {
     "data": {
      "text/plain": [
       "0    0.007143\n",
       "1    0.033333\n",
       "2    0.028490\n",
       "3    0.033333\n",
       "4    0.012500\n",
       "Name: Marks, dtype: float64"
      ]
     },
     "execution_count": 57,
     "metadata": {},
     "output_type": "execute_result"
    }
   ],
   "source": [
    "Marks_reci.head()"
   ]
  },
  {
   "cell_type": "code",
   "execution_count": null,
   "metadata": {
    "colab": {
     "base_uri": "https://localhost:8080/",
     "height": 351
    },
    "id": "ODuOXRFHJ4z9",
    "outputId": "ffb00875-fd95-4ee3-8ae5-f0ea7602cbfe"
   },
   "outputs": [
    {
     "name": "stderr",
     "output_type": "stream",
     "text": [
      "/usr/local/lib/python3.7/dist-packages/seaborn/distributions.py:2619: FutureWarning: `distplot` is a deprecated function and will be removed in a future version. Please adapt your code to use either `displot` (a figure-level function with similar flexibility) or `histplot` (an axes-level function for histograms).\n",
      "  warnings.warn(msg, FutureWarning)\n"
     ]
    },
    {
     "data": {
      "text/plain": [
       "<matplotlib.axes._subplots.AxesSubplot at 0x7ff3713e6510>"
      ]
     },
     "execution_count": 59,
     "metadata": {},
     "output_type": "execute_result"
    },
    {
     "data": {
      "image/png": "[encoded data removed]",
      "text/plain": [
       "<Figure size 432x288 with 1 Axes>"
      ]
     },
     "metadata": {
      "needs_background": "light"
     },
     "output_type": "display_data"
    }
   ],
   "source": [
    "import seaborn as sn\n",
    "sn.distplot(Marks_reci)"
   ]
  },
  {
   "cell_type": "code",
   "execution_count": null,
   "metadata": {
    "colab": {
     "base_uri": "https://localhost:8080/"
    },
    "id": "JrUjEONqKY70",
    "outputId": "a704cd30-93cb-4e35-f18f-2b5db35ada79"
   },
   "outputs": [
    {
     "data": {
      "text/plain": [
       "9.14246062263327"
      ]
     },
     "execution_count": 60,
     "metadata": {},
     "output_type": "execute_result"
    }
   ],
   "source": [
    "Marks_reci.skew()"
   ]
  },
  {
   "cell_type": "code",
   "execution_count": null,
   "metadata": {
    "id": "MyyMTjQ6LcnN"
   },
   "outputs": [],
   "source": [
    "#distribution to normal distribution\n"
   ]
  },
  {
   "cell_type": "code",
   "execution_count": null,
   "metadata": {
    "colab": {
     "base_uri": "https://localhost:8080/",
     "height": 265
    },
    "id": "x2Aqx1Sub9JX",
    "outputId": "e5f447ab-3176-4161-fbbf-c1a2b32c8f15"
   },
   "outputs": [
    {
     "data": {
      "image/png": "[encoded data removed]",
      "text/plain": [
       "<Figure size 432x288 with 1 Axes>"
      ]
     },
     "metadata": {
      "needs_background": "light"
     },
     "output_type": "display_data"
    }
   ],
   "source": [
    "#histogram\n",
    "import matplotlib.pyplot as plt\n",
    "his_Marks_cplt=plt.hist(df[\"Marks\"])"
   ]
  },
  {
   "cell_type": "code",
   "execution_count": null,
   "metadata": {
    "colab": {
     "base_uri": "https://localhost:8080/",
     "height": 279
    },
    "id": "Tgx8b0R6do85",
    "outputId": "c816d5b0-ceb3-4517-bdd8-0509c3e51dc1"
   },
   "outputs": [
    {
     "data": {
      "image/png": "[encoded data removed]",
      "text/plain": [
       "<Figure size 432x288 with 1 Axes>"
      ]
     },
     "metadata": {
      "needs_background": "light"
     },
     "output_type": "display_data"
    }
   ],
   "source": [
    "#kdeplot\n",
    "plot_marks=sn.kdeplot(df[\"Marks\"])"
   ]
  },
  {
   "cell_type": "code",
   "execution_count": null,
   "metadata": {
    "id": "CFv41uCjaJm1"
   },
   "outputs": [],
   "source": [
    "import scipy.stats as stats\n",
    "import pylab"
   ]
  },
  {
   "cell_type": "code",
   "execution_count": null,
   "metadata": {
    "colab": {
     "base_uri": "https://localhost:8080/",
     "height": 885
    },
    "id": "PeUcN_4HaM3k",
    "outputId": "532c88b3-bfd3-41ea-eb30-8085201e2e02"
   },
   "outputs": [
    {
     "data": {
      "text/plain": [
       "((array([-2.46203784, -2.12570747, -1.93122778, -1.79044653, -1.67819304,\n",
       "         -1.58381122, -1.50174123, -1.42869743, -1.36256869, -1.30191411,\n",
       "         -1.24570419, -1.19317644, -1.14374949, -1.09696931, -1.05247413,\n",
       "         -1.00997067, -0.96921765, -0.93001393, -0.89218993, -0.85560121,\n",
       "         -0.82012357, -0.78564937, -0.75208458, -0.71934648, -0.68736185,\n",
       "         -0.65606548, -0.62539893, -0.59530962, -0.56574992, -0.53667655,\n",
       "         -0.50804994, -0.47983378, -0.45199463, -0.42450149, -0.39732558,\n",
       "         -0.37044003, -0.34381966, -0.31744076, -0.29128096, -0.26531902,\n",
       "         -0.23953472, -0.21390872, -0.18842244, -0.16305799, -0.13779803,\n",
       "         -0.1126257 , -0.08752455, -0.06247843, -0.03747145, -0.01248789,\n",
       "          0.01248789,  0.03747145,  0.06247843,  0.08752455,  0.1126257 ,\n",
       "          0.13779803,  0.16305799,  0.18842244,  0.21390872,  0.23953472,\n",
       "          0.26531902,  0.29128096,  0.31744076,  0.34381966,  0.37044003,\n",
       "          0.39732558,  0.42450149,  0.45199463,  0.47983378,  0.50804994,\n",
       "          0.53667655,  0.56574992,  0.59530962,  0.62539893,  0.65606548,\n",
       "          0.68736185,  0.71934648,  0.75208458,  0.78564937,  0.82012357,\n",
       "          0.85560121,  0.89218993,  0.93001393,  0.96921765,  1.00997067,\n",
       "          1.05247413,  1.09696931,  1.14374949,  1.19317644,  1.24570419,\n",
       "          1.30191411,  1.36256869,  1.42869743,  1.50174123,  1.58381122,\n",
       "          1.67819304,  1.79044653,  1.93122778,  2.12570747,  2.46203784]),\n",
       "  array([  0.25,   1.7 ,   1.8 ,   2.5 ,   3.  ,   3.  ,   4.  ,   4.6 ,\n",
       "           7.  ,   9.  ,   9.  ,   9.  ,   9.5 ,  10.  ,  12.  ,  14.7 ,\n",
       "          15.  ,  15.  ,  15.2 ,  16.  ,  18.6 ,  19.  ,  20.  ,  20.  ,\n",
       "          20.  ,  20.  ,  22.  ,  22.3 ,  24.  ,  25.  ,  25.  ,  25.8 ,\n",
       "          28.  ,  28.6 ,  30.  ,  30.  ,  30.  ,  30.  ,  30.  ,  31.1 ,\n",
       "          32.  ,  32.  ,  34.8 ,  35.  ,  35.  ,  35.  ,  35.1 ,  36.  ,\n",
       "          38.  ,  38.8 ,  39.8 ,  40.  ,  40.7 ,  41.  ,  45.6 ,  46.  ,\n",
       "          48.  ,  50.  ,  51.  ,  52.  ,  52.  ,  52.  ,  55.  ,  55.  ,\n",
       "          55.  ,  60.  ,  62.  ,  63.  ,  65.  ,  66.  ,  72.  ,  72.  ,\n",
       "          72.  ,  73.  ,  74.  ,  80.  ,  81.  ,  84.  ,  84.  ,  89.  ,\n",
       "          89.  ,  90.  ,  90.  ,  90.  ,  92.  ,  96.  , 100.  , 102.  ,\n",
       "         106.  , 115.  , 120.  , 125.  , 130.  , 130.  , 140.  , 150.  ,\n",
       "         152.  , 152.  , 160.  , 190.  ])),\n",
       " (40.79054296233955, 52.52449999999999, 0.9515395328716016))"
      ]
     },
     "execution_count": 79,
     "metadata": {},
     "output_type": "execute_result"
    },
    {
     "data": {
      "image/png": "[encoded data removed]",
      "text/plain": [
       "<Figure size 432x288 with 1 Axes>"
      ]
     },
     "metadata": {
      "needs_background": "light"
     },
     "output_type": "display_data"
    }
   ],
   "source": [
    "stats.probplot(df[\"Marks\"],plot=pylab)"
   ]
  },
  {
   "cell_type": "code",
   "execution_count": null,
   "metadata": {
    "colab": {
     "base_uri": "https://localhost:8080/",
     "height": 1000
    },
    "id": "MZvaTc2MaV6U",
    "outputId": "dc29652e-05ae-4f68-eedf-5a045c864da4"
   },
   "outputs": [
    {
     "data": {
      "text/plain": [
       "((array([-2.46203784, -2.12570747, -1.93122778, -1.79044653, -1.67819304,\n",
       "         -1.58381122, -1.50174123, -1.42869743, -1.36256869, -1.30191411,\n",
       "         -1.24570419, -1.19317644, -1.14374949, -1.09696931, -1.05247413,\n",
       "         -1.00997067, -0.96921765, -0.93001393, -0.89218993, -0.85560121,\n",
       "         -0.82012357, -0.78564937, -0.75208458, -0.71934648, -0.68736185,\n",
       "         -0.65606548, -0.62539893, -0.59530962, -0.56574992, -0.53667655,\n",
       "         -0.50804994, -0.47983378, -0.45199463, -0.42450149, -0.39732558,\n",
       "         -0.37044003, -0.34381966, -0.31744076, -0.29128096, -0.26531902,\n",
       "         -0.23953472, -0.21390872, -0.18842244, -0.16305799, -0.13779803,\n",
       "         -0.1126257 , -0.08752455, -0.06247843, -0.03747145, -0.01248789,\n",
       "          0.01248789,  0.03747145,  0.06247843,  0.08752455,  0.1126257 ,\n",
       "          0.13779803,  0.16305799,  0.18842244,  0.21390872,  0.23953472,\n",
       "          0.26531902,  0.29128096,  0.31744076,  0.34381966,  0.37044003,\n",
       "          0.39732558,  0.42450149,  0.45199463,  0.47983378,  0.50804994,\n",
       "          0.53667655,  0.56574992,  0.59530962,  0.62539893,  0.65606548,\n",
       "          0.68736185,  0.71934648,  0.75208458,  0.78564937,  0.82012357,\n",
       "          0.85560121,  0.89218993,  0.93001393,  0.96921765,  1.00997067,\n",
       "          1.05247413,  1.09696931,  1.14374949,  1.19317644,  1.24570419,\n",
       "          1.30191411,  1.36256869,  1.42869743,  1.50174123,  1.58381122,\n",
       "          1.67819304,  1.79044653,  1.93122778,  2.12570747,  2.46203784]),\n",
       "  array([0.62996052, 1.19348319, 1.2164404 , 1.35720881, 1.44224957,\n",
       "         1.44224957, 1.58740105, 1.6631035 , 1.91293118, 2.08008382,\n",
       "         2.08008382, 2.08008382, 2.11791179, 2.15443469, 2.28942849,\n",
       "         2.44965982, 2.46621207, 2.46621207, 2.47712466, 2.5198421 ,\n",
       "         2.64954306, 2.66840165, 2.71441762, 2.71441762, 2.71441762,\n",
       "         2.71441762, 2.80203933, 2.81471841, 2.88449914, 2.92401774,\n",
       "         2.92401774, 2.95488036, 3.03658897, 3.05812578, 3.10723251,\n",
       "         3.10723251, 3.10723251, 3.10723251, 3.10723251, 3.14475486,\n",
       "         3.1748021 , 3.1748021 , 3.2648238 , 3.27106631, 3.27106631,\n",
       "         3.27106631, 3.27417865, 3.30192725, 3.36197541, 3.38540456,\n",
       "         3.41424245, 3.41995189, 3.43978636, 3.44821724, 3.57263198,\n",
       "         3.58304787, 3.63424119, 3.6840315 , 3.70842977, 3.73251116,\n",
       "         3.73251116, 3.73251116, 3.80295246, 3.80295246, 3.80295246,\n",
       "         3.91486764, 3.95789161, 3.97905721, 4.02072576, 4.04124002,\n",
       "         4.16016765, 4.16016765, 4.16016765, 4.1793392 , 4.19833645,\n",
       "         4.30886938, 4.32674871, 4.37951914, 4.37951914, 4.4647451 ,\n",
       "         4.4647451 , 4.48140475, 4.48140475, 4.48140475, 4.51435744,\n",
       "         4.57885697, 4.64158883, 4.67232873, 4.73262349, 4.86294413,\n",
       "         4.93242415, 5.        , 5.06579702, 5.06579702, 5.1924941 ,\n",
       "         5.31329285, 5.3368033 , 5.3368033 , 5.42883523, 5.74889708])),\n",
       " (1.0964930316814507, 3.441077741563151, 0.9963217176950504))"
      ]
     },
     "execution_count": 80,
     "metadata": {},
     "output_type": "execute_result"
    },
    {
     "data": {
      "image/png": "[encoded data removed]",
      "text/plain": [
       "<Figure size 432x288 with 1 Axes>"
      ]
     },
     "metadata": {
      "needs_background": "light"
     },
     "output_type": "display_data"
    }
   ],
   "source": [
    "stats.probplot(log_Marks_cb,plot=pylab)"
   ]
  },
  {
   "cell_type": "code",
   "execution_count": null,
   "metadata": {
    "colab": {
     "base_uri": "https://localhost:8080/",
     "height": 1000
    },
    "id": "fSnM_n_YbBOI",
    "outputId": "9e489335-ca6c-4670-85c0-4466a594df43"
   },
   "outputs": [
    {
     "data": {
      "text/plain": [
       "((array([-2.46203784, -2.12570747, -1.93122778, -1.79044653, -1.67819304,\n",
       "         -1.58381122, -1.50174123, -1.42869743, -1.36256869, -1.30191411,\n",
       "         -1.24570419, -1.19317644, -1.14374949, -1.09696931, -1.05247413,\n",
       "         -1.00997067, -0.96921765, -0.93001393, -0.89218993, -0.85560121,\n",
       "         -0.82012357, -0.78564937, -0.75208458, -0.71934648, -0.68736185,\n",
       "         -0.65606548, -0.62539893, -0.59530962, -0.56574992, -0.53667655,\n",
       "         -0.50804994, -0.47983378, -0.45199463, -0.42450149, -0.39732558,\n",
       "         -0.37044003, -0.34381966, -0.31744076, -0.29128096, -0.26531902,\n",
       "         -0.23953472, -0.21390872, -0.18842244, -0.16305799, -0.13779803,\n",
       "         -0.1126257 , -0.08752455, -0.06247843, -0.03747145, -0.01248789,\n",
       "          0.01248789,  0.03747145,  0.06247843,  0.08752455,  0.1126257 ,\n",
       "          0.13779803,  0.16305799,  0.18842244,  0.21390872,  0.23953472,\n",
       "          0.26531902,  0.29128096,  0.31744076,  0.34381966,  0.37044003,\n",
       "          0.39732558,  0.42450149,  0.45199463,  0.47983378,  0.50804994,\n",
       "          0.53667655,  0.56574992,  0.59530962,  0.62539893,  0.65606548,\n",
       "          0.68736185,  0.71934648,  0.75208458,  0.78564937,  0.82012357,\n",
       "          0.85560121,  0.89218993,  0.93001393,  0.96921765,  1.00997067,\n",
       "          1.05247413,  1.09696931,  1.14374949,  1.19317644,  1.24570419,\n",
       "          1.30191411,  1.36256869,  1.42869743,  1.50174123,  1.58381122,\n",
       "          1.67819304,  1.79044653,  1.93122778,  2.12570747,  2.46203784]),\n",
       "  array([ 0.5       ,  1.30384048,  1.34164079,  1.58113883,  1.73205081,\n",
       "          1.73205081,  2.        ,  2.14476106,  2.64575131,  3.        ,\n",
       "          3.        ,  3.        ,  3.082207  ,  3.16227766,  3.46410162,\n",
       "          3.8340579 ,  3.87298335,  3.87298335,  3.89871774,  4.        ,\n",
       "          4.31277173,  4.35889894,  4.47213595,  4.47213595,  4.47213595,\n",
       "          4.47213595,  4.69041576,  4.72228758,  4.89897949,  5.        ,\n",
       "          5.        ,  5.07937004,  5.29150262,  5.34789678,  5.47722558,\n",
       "          5.47722558,  5.47722558,  5.47722558,  5.47722558,  5.5767374 ,\n",
       "          5.65685425,  5.65685425,  5.89915248,  5.91607978,  5.91607978,\n",
       "          5.91607978,  5.9245253 ,  6.        ,  6.164414  ,  6.2289646 ,\n",
       "          6.30872412,  6.32455532,  6.37965516,  6.40312424,  6.75277721,\n",
       "          6.78232998,  6.92820323,  7.07106781,  7.14142843,  7.21110255,\n",
       "          7.21110255,  7.21110255,  7.41619849,  7.41619849,  7.41619849,\n",
       "          7.74596669,  7.87400787,  7.93725393,  8.06225775,  8.1240384 ,\n",
       "          8.48528137,  8.48528137,  8.48528137,  8.54400375,  8.60232527,\n",
       "          8.94427191,  9.        ,  9.16515139,  9.16515139,  9.43398113,\n",
       "          9.43398113,  9.48683298,  9.48683298,  9.48683298,  9.59166305,\n",
       "          9.79795897, 10.        , 10.09950494, 10.29563014, 10.72380529,\n",
       "         10.95445115, 11.18033989, 11.40175425, 11.40175425, 11.83215957,\n",
       "         12.24744871, 12.32882801, 12.32882801, 12.64911064, 13.78404875])),\n",
       " (2.983044720739973, 6.6254088687442305, 0.9951899042212309))"
      ]
     },
     "execution_count": 81,
     "metadata": {},
     "output_type": "execute_result"
    },
    {
     "data": {
      "image/png": "[encoded data removed]",
      "text/plain": [
       "<Figure size 432x288 with 1 Axes>"
      ]
     },
     "metadata": {
      "needs_background": "light"
     },
     "output_type": "display_data"
    }
   ],
   "source": [
    "stats.probplot(log_Marks_sq,plot=pylab)"
   ]
  },
  {
   "cell_type": "code",
   "execution_count": null,
   "metadata": {
    "colab": {
     "base_uri": "https://localhost:8080/",
     "height": 1000
    },
    "id": "t3CdFHMXbKs1",
    "outputId": "101f65f4-09f8-4e27-fdf9-c4571f436b2e"
   },
   "outputs": [
    {
     "data": {
      "text/plain": [
       "((array([-2.46203784, -2.12570747, -1.93122778, -1.79044653, -1.67819304,\n",
       "         -1.58381122, -1.50174123, -1.42869743, -1.36256869, -1.30191411,\n",
       "         -1.24570419, -1.19317644, -1.14374949, -1.09696931, -1.05247413,\n",
       "         -1.00997067, -0.96921765, -0.93001393, -0.89218993, -0.85560121,\n",
       "         -0.82012357, -0.78564937, -0.75208458, -0.71934648, -0.68736185,\n",
       "         -0.65606548, -0.62539893, -0.59530962, -0.56574992, -0.53667655,\n",
       "         -0.50804994, -0.47983378, -0.45199463, -0.42450149, -0.39732558,\n",
       "         -0.37044003, -0.34381966, -0.31744076, -0.29128096, -0.26531902,\n",
       "         -0.23953472, -0.21390872, -0.18842244, -0.16305799, -0.13779803,\n",
       "         -0.1126257 , -0.08752455, -0.06247843, -0.03747145, -0.01248789,\n",
       "          0.01248789,  0.03747145,  0.06247843,  0.08752455,  0.1126257 ,\n",
       "          0.13779803,  0.16305799,  0.18842244,  0.21390872,  0.23953472,\n",
       "          0.26531902,  0.29128096,  0.31744076,  0.34381966,  0.37044003,\n",
       "          0.39732558,  0.42450149,  0.45199463,  0.47983378,  0.50804994,\n",
       "          0.53667655,  0.56574992,  0.59530962,  0.62539893,  0.65606548,\n",
       "          0.68736185,  0.71934648,  0.75208458,  0.78564937,  0.82012357,\n",
       "          0.85560121,  0.89218993,  0.93001393,  0.96921765,  1.00997067,\n",
       "          1.05247413,  1.09696931,  1.14374949,  1.19317644,  1.24570419,\n",
       "          1.30191411,  1.36256869,  1.42869743,  1.50174123,  1.58381122,\n",
       "          1.67819304,  1.79044653,  1.93122778,  2.12570747,  2.46203784]),\n",
       "  array([0.00526316, 0.00625   , 0.00657895, 0.00657895, 0.00666667,\n",
       "         0.00714286, 0.00769231, 0.00769231, 0.008     , 0.00833333,\n",
       "         0.00869565, 0.00943396, 0.00980392, 0.01      , 0.01041667,\n",
       "         0.01086957, 0.01111111, 0.01111111, 0.01111111, 0.01123596,\n",
       "         0.01123596, 0.01190476, 0.01190476, 0.01234568, 0.0125    ,\n",
       "         0.01351351, 0.01369863, 0.01388889, 0.01388889, 0.01388889,\n",
       "         0.01515152, 0.01538462, 0.01587302, 0.01612903, 0.01666667,\n",
       "         0.01818182, 0.01818182, 0.01818182, 0.01923077, 0.01923077,\n",
       "         0.01923077, 0.01960784, 0.02      , 0.02083333, 0.02173913,\n",
       "         0.02192982, 0.02439024, 0.02457002, 0.025     , 0.02512563,\n",
       "         0.0257732 , 0.02631579, 0.02777778, 0.02849003, 0.02857143,\n",
       "         0.02857143, 0.02857143, 0.02873563, 0.03125   , 0.03125   ,\n",
       "         0.03215434, 0.03333333, 0.03333333, 0.03333333, 0.03333333,\n",
       "         0.03333333, 0.03496503, 0.03571429, 0.03875969, 0.04      ,\n",
       "         0.04      , 0.04166667, 0.04484305, 0.04545455, 0.05      ,\n",
       "         0.05      , 0.05      , 0.05      , 0.05263158, 0.05376344,\n",
       "         0.0625    , 0.06578947, 0.06666667, 0.06666667, 0.06802721,\n",
       "         0.08333333, 0.1       , 0.10526316, 0.11111111, 0.11111111,\n",
       "         0.11111111, 0.14285714, 0.2173913 , 0.25      , 0.33333333,\n",
       "         0.33333333, 0.4       , 0.55555556, 0.58823529, 4.        ])),\n",
       " (0.16654238388625658, 0.0958160800017085, 0.4031270817229625))"
      ]
     },
     "execution_count": 82,
     "metadata": {},
     "output_type": "execute_result"
    },
    {
     "data": {
      "image/png": "[encoded data removed]",
      "text/plain": [
       "<Figure size 432x288 with 1 Axes>"
      ]
     },
     "metadata": {
      "needs_background": "light"
     },
     "output_type": "display_data"
    }
   ],
   "source": [
    "stats.probplot(Marks_reci,plot=pylab)"
   ]
  },
  {
   "cell_type": "code",
   "execution_count": null,
   "metadata": {
    "colab": {
     "base_uri": "https://localhost:8080/",
     "height": 1000
    },
    "id": "1ywkRSKIbVkN",
    "outputId": "f8855928-ab7d-4a22-993b-d1ef1f28666c"
   },
   "outputs": [
    {
     "data": {
      "text/plain": [
       "((array([-2.46203784, -2.12570747, -1.93122778, -1.79044653, -1.67819304,\n",
       "         -1.58381122, -1.50174123, -1.42869743, -1.36256869, -1.30191411,\n",
       "         -1.24570419, -1.19317644, -1.14374949, -1.09696931, -1.05247413,\n",
       "         -1.00997067, -0.96921765, -0.93001393, -0.89218993, -0.85560121,\n",
       "         -0.82012357, -0.78564937, -0.75208458, -0.71934648, -0.68736185,\n",
       "         -0.65606548, -0.62539893, -0.59530962, -0.56574992, -0.53667655,\n",
       "         -0.50804994, -0.47983378, -0.45199463, -0.42450149, -0.39732558,\n",
       "         -0.37044003, -0.34381966, -0.31744076, -0.29128096, -0.26531902,\n",
       "         -0.23953472, -0.21390872, -0.18842244, -0.16305799, -0.13779803,\n",
       "         -0.1126257 , -0.08752455, -0.06247843, -0.03747145, -0.01248789,\n",
       "          0.01248789,  0.03747145,  0.06247843,  0.08752455,  0.1126257 ,\n",
       "          0.13779803,  0.16305799,  0.18842244,  0.21390872,  0.23953472,\n",
       "          0.26531902,  0.29128096,  0.31744076,  0.34381966,  0.37044003,\n",
       "          0.39732558,  0.42450149,  0.45199463,  0.47983378,  0.50804994,\n",
       "          0.53667655,  0.56574992,  0.59530962,  0.62539893,  0.65606548,\n",
       "          0.68736185,  0.71934648,  0.75208458,  0.78564937,  0.82012357,\n",
       "          0.85560121,  0.89218993,  0.93001393,  0.96921765,  1.00997067,\n",
       "          1.05247413,  1.09696931,  1.14374949,  1.19317644,  1.24570419,\n",
       "          1.30191411,  1.36256869,  1.42869743,  1.50174123,  1.58381122,\n",
       "          1.67819304,  1.79044653,  1.93122778,  2.12570747,  2.46203784]),\n",
       "  array([-0.60205999,  0.23044892,  0.25527251,  0.39794001,  0.47712125,\n",
       "          0.47712125,  0.60205999,  0.66275783,  0.84509804,  0.95424251,\n",
       "          0.95424251,  0.95424251,  0.97772361,  1.        ,  1.07918125,\n",
       "          1.16731733,  1.17609126,  1.17609126,  1.18184359,  1.20411998,\n",
       "          1.26951294,  1.2787536 ,  1.30103   ,  1.30103   ,  1.30103   ,\n",
       "          1.30103   ,  1.34242268,  1.34830486,  1.38021124,  1.39794001,\n",
       "          1.39794001,  1.41161971,  1.44715803,  1.45636603,  1.47712125,\n",
       "          1.47712125,  1.47712125,  1.47712125,  1.47712125,  1.49276039,\n",
       "          1.50514998,  1.50514998,  1.54157924,  1.54406804,  1.54406804,\n",
       "          1.54406804,  1.54530712,  1.5563025 ,  1.5797836 ,  1.58883173,\n",
       "          1.59988307,  1.60205999,  1.60959441,  1.61278386,  1.65896484,\n",
       "          1.66275783,  1.68124124,  1.69897   ,  1.70757018,  1.71600334,\n",
       "          1.71600334,  1.71600334,  1.74036269,  1.74036269,  1.74036269,\n",
       "          1.77815125,  1.79239169,  1.79934055,  1.81291336,  1.81954394,\n",
       "          1.8573325 ,  1.8573325 ,  1.8573325 ,  1.86332286,  1.86923172,\n",
       "          1.90308999,  1.90848502,  1.92427929,  1.92427929,  1.94939001,\n",
       "          1.94939001,  1.95424251,  1.95424251,  1.95424251,  1.96378783,\n",
       "          1.98227123,  2.        ,  2.00860017,  2.02530587,  2.06069784,\n",
       "          2.07918125,  2.09691001,  2.11394335,  2.11394335,  2.14612804,\n",
       "          2.17609126,  2.18184359,  2.18184359,  2.20411998,  2.2787536 ])),\n",
       " (0.47919934775105805, 1.5298275810312105, 0.949449133952874))"
      ]
     },
     "execution_count": 83,
     "metadata": {},
     "output_type": "execute_result"
    },
    {
     "data": {
      "image/png": "[encoded data removed]",
      "text/plain": [
       "<Figure size 432x288 with 1 Axes>"
      ]
     },
     "metadata": {
      "needs_background": "light"
     },
     "output_type": "display_data"
    }
   ],
   "source": [
    "stats.probplot(log_Marks,plot=pylab)"
   ]
  },
  {
   "cell_type": "code",
   "execution_count": null,
   "metadata": {
    "colab": {
     "base_uri": "https://localhost:8080/",
     "height": 165
    },
    "id": "bnAFeHiMbeMk",
    "outputId": "3425622f-1636-43f9-bc43-6aa433e2886b"
   },
   "outputs": [
    {
     "ename": "AttributeError",
     "evalue": "ignored",
     "output_type": "error",
     "traceback": [
      "\u001b[0;31m---------------------------------------------------------------------------\u001b[0m",
      "\u001b[0;31mAttributeError\u001b[0m                            Traceback (most recent call last)",
      "\u001b[0;32m<ipython-input-104-8a7c2d65be25>\u001b[0m in \u001b[0;36m<module>\u001b[0;34m()\u001b[0m\n\u001b[0;32m----> 1\u001b[0;31m \u001b[0mstats\u001b[0m\u001b[0;34m.\u001b[0m\u001b[0mkdeplot\u001b[0m\u001b[0;34m(\u001b[0m\u001b[0mdf\u001b[0m\u001b[0;34m[\u001b[0m\u001b[0;34m\"Marks\"\u001b[0m\u001b[0;34m]\u001b[0m\u001b[0;34m,\u001b[0m\u001b[0mplot\u001b[0m\u001b[0;34m=\u001b[0m\u001b[0mpylab\u001b[0m\u001b[0;34m)\u001b[0m\u001b[0;34m\u001b[0m\u001b[0;34m\u001b[0m\u001b[0m\n\u001b[0m",
      "\u001b[0;31mAttributeError\u001b[0m: module 'scipy.stats' has no attribute 'kdeplot'"
     ]
    }
   ],
   "source": []
  },
  {
   "cell_type": "code",
   "execution_count": null,
   "metadata": {
    "id": "lxGf26Xyf4JV"
   },
   "outputs": [],
   "source": []
  }
 ],
 "metadata": {
  "colab": {
   "collapsed_sections": [],
   "name": "DSBDA Pract 2(b).ipynb",
   "provenance": []
  },
  "kernelspec": {
   "display_name": "Python 3",
   "language": "python",
   "name": "python3"
  },
  "language_info": {
   "codemirror_mode": {
    "name": "ipython",
    "version": 3
   },
   "file_extension": ".py",
   "mimetype": "text/x-python",
   "name": "python",
   "nbconvert_exporter": "python",
   "pygments_lexer": "ipython3",
   "version": "3.8.8"
  }
 },
 "nbformat": 4,
 "nbformat_minor": 1
}
