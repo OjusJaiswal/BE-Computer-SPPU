{
 "cells": [
  {
   "cell_type": "markdown",
   "id": "ab8cc013",
   "metadata": {},
   "source": [
    "### Missing Values"
   ]
  },
  {
   "cell_type": "code",
   "execution_count": 1,
   "id": "79d797cd",
   "metadata": {},
   "outputs": [],
   "source": [
    "# importing pandas as pd\n",
    "import pandas as pd\n",
    "\n",
    "# importing numpy as np\n",
    "import numpy as np"
   ]
  },
  {
   "cell_type": "code",
   "execution_count": 3,
   "id": "47f1b68a",
   "metadata": {},
   "outputs": [
    {
     "name": "stdout",
     "output_type": "stream",
     "text": [
      "   First Score  Second Score  Third Score\n",
      "0        100.0          30.0          NaN\n",
      "1         90.0          45.0         40.0\n",
      "2          NaN          56.0         80.0\n",
      "3         95.0           NaN         98.0 \n",
      "\n"
     ]
    },
    {
     "data": {
      "text/html": [
       "<div>\n",
       "<style scoped>\n",
       "    .dataframe tbody tr th:only-of-type {\n",
       "        vertical-align: middle;\n",
       "    }\n",
       "\n",
       "    .dataframe tbody tr th {\n",
       "        vertical-align: top;\n",
       "    }\n",
       "\n",
       "    .dataframe thead th {\n",
       "        text-align: right;\n",
       "    }\n",
       "</style>\n",
       "<table border=\"1\" class=\"dataframe\">\n",
       "  <thead>\n",
       "    <tr style=\"text-align: right;\">\n",
       "      <th></th>\n",
       "      <th>First Score</th>\n",
       "      <th>Second Score</th>\n",
       "      <th>Third Score</th>\n",
       "    </tr>\n",
       "  </thead>\n",
       "  <tbody>\n",
       "    <tr>\n",
       "      <th>0</th>\n",
       "      <td>False</td>\n",
       "      <td>False</td>\n",
       "      <td>True</td>\n",
       "    </tr>\n",
       "    <tr>\n",
       "      <th>1</th>\n",
       "      <td>False</td>\n",
       "      <td>False</td>\n",
       "      <td>False</td>\n",
       "    </tr>\n",
       "    <tr>\n",
       "      <th>2</th>\n",
       "      <td>True</td>\n",
       "      <td>False</td>\n",
       "      <td>False</td>\n",
       "    </tr>\n",
       "    <tr>\n",
       "      <th>3</th>\n",
       "      <td>False</td>\n",
       "      <td>True</td>\n",
       "      <td>False</td>\n",
       "    </tr>\n",
       "  </tbody>\n",
       "</table>\n",
       "</div>"
      ],
      "text/plain": [
       "   First Score  Second Score  Third Score\n",
       "0        False         False         True\n",
       "1        False         False        False\n",
       "2         True         False        False\n",
       "3        False          True        False"
      ]
     },
     "execution_count": 3,
     "metadata": {},
     "output_type": "execute_result"
    }
   ],
   "source": [
    "# dictionary of lists\n",
    "dict = {'First Score':[100, 90, np.nan, 95],\n",
    "        'Second Score': [30, 45, 56, np.nan],\n",
    "        'Third Score':[np.nan, 40, 80, 98]}\n",
    "\n",
    "# creating a dataframe from list\n",
    "df = pd.DataFrame(dict)\n",
    "\n",
    "print(df,\"\\n\")\n",
    "# using isnull() function\n",
    "df.isnull()"
   ]
  },
  {
   "cell_type": "code",
   "execution_count": 5,
   "id": "c0bfcbf6",
   "metadata": {},
   "outputs": [
    {
     "name": "stdout",
     "output_type": "stream",
     "text": [
      "    First Name  Gender  Start Date Last Login Time  Salary  Bonus %  \\\n",
      "0      Douglas    Male    8/6/1993        12:42 PM   97308    6.945   \n",
      "1       Thomas    Male   3/31/1996         6:53 AM   61933    4.170   \n",
      "2        Maria  Female   4/23/1993        11:17 AM  130590   11.858   \n",
      "3        Jerry    Male    3/4/2005         1:00 PM  138705    9.340   \n",
      "4        Larry    Male   1/24/1998         4:47 PM  101004    1.389   \n",
      "..         ...     ...         ...             ...     ...      ...   \n",
      "995      Henry     NaN  11/23/2014         6:09 AM  132483   16.655   \n",
      "996    Phillip    Male   1/31/1984         6:30 AM   42392   19.675   \n",
      "997    Russell    Male   5/20/2013        12:39 PM   96914    1.421   \n",
      "998      Larry    Male   4/20/2013         4:45 PM   60500   11.985   \n",
      "999     Albert    Male   5/15/2012         6:24 PM  129949   10.169   \n",
      "\n",
      "    Senior Management                  Team  \n",
      "0                True             Marketing  \n",
      "1                True                   NaN  \n",
      "2               False               Finance  \n",
      "3                True               Finance  \n",
      "4                True       Client Services  \n",
      "..                ...                   ...  \n",
      "995             False          Distribution  \n",
      "996             False               Finance  \n",
      "997             False               Product  \n",
      "998             False  Business Development  \n",
      "999              True                 Sales  \n",
      "\n",
      "[1000 rows x 8 columns]\n"
     ]
    }
   ],
   "source": [
    "path=\"C:\\\\Users\\\\OJUS\\\\OneDrive\\\\Desktop\\\\⠀\\\\DBDA\\\\Data Set\\\\employees.csv\"\n",
    "df = pd.read_csv(path)\n",
    "print(df)"
   ]
  },
  {
   "cell_type": "code",
   "execution_count": 6,
   "id": "aa09e328",
   "metadata": {},
   "outputs": [
    {
     "name": "stdout",
     "output_type": "stream",
     "text": [
      "<class 'pandas.core.frame.DataFrame'>\n",
      "RangeIndex: 1000 entries, 0 to 999\n",
      "Data columns (total 8 columns):\n",
      " #   Column             Non-Null Count  Dtype  \n",
      "---  ------             --------------  -----  \n",
      " 0   First Name         933 non-null    object \n",
      " 1   Gender             855 non-null    object \n",
      " 2   Start Date         1000 non-null   object \n",
      " 3   Last Login Time    1000 non-null   object \n",
      " 4   Salary             1000 non-null   int64  \n",
      " 5   Bonus %            1000 non-null   float64\n",
      " 6   Senior Management  933 non-null    object \n",
      " 7   Team               957 non-null    object \n",
      "dtypes: float64(1), int64(1), object(6)\n",
      "memory usage: 62.6+ KB\n"
     ]
    }
   ],
   "source": [
    "df.info()"
   ]
  },
  {
   "cell_type": "code",
   "execution_count": 7,
   "id": "4e4c673f",
   "metadata": {},
   "outputs": [
    {
     "data": {
      "text/html": [
       "<div>\n",
       "<style scoped>\n",
       "    .dataframe tbody tr th:only-of-type {\n",
       "        vertical-align: middle;\n",
       "    }\n",
       "\n",
       "    .dataframe tbody tr th {\n",
       "        vertical-align: top;\n",
       "    }\n",
       "\n",
       "    .dataframe thead th {\n",
       "        text-align: right;\n",
       "    }\n",
       "</style>\n",
       "<table border=\"1\" class=\"dataframe\">\n",
       "  <thead>\n",
       "    <tr style=\"text-align: right;\">\n",
       "      <th></th>\n",
       "      <th>Salary</th>\n",
       "      <th>Bonus %</th>\n",
       "    </tr>\n",
       "  </thead>\n",
       "  <tbody>\n",
       "    <tr>\n",
       "      <th>count</th>\n",
       "      <td>1000.000000</td>\n",
       "      <td>1000.000000</td>\n",
       "    </tr>\n",
       "    <tr>\n",
       "      <th>mean</th>\n",
       "      <td>90662.181000</td>\n",
       "      <td>10.207555</td>\n",
       "    </tr>\n",
       "    <tr>\n",
       "      <th>std</th>\n",
       "      <td>32923.693342</td>\n",
       "      <td>5.528481</td>\n",
       "    </tr>\n",
       "    <tr>\n",
       "      <th>min</th>\n",
       "      <td>35013.000000</td>\n",
       "      <td>1.015000</td>\n",
       "    </tr>\n",
       "    <tr>\n",
       "      <th>25%</th>\n",
       "      <td>62613.000000</td>\n",
       "      <td>5.401750</td>\n",
       "    </tr>\n",
       "    <tr>\n",
       "      <th>50%</th>\n",
       "      <td>90428.000000</td>\n",
       "      <td>9.838500</td>\n",
       "    </tr>\n",
       "    <tr>\n",
       "      <th>75%</th>\n",
       "      <td>118740.250000</td>\n",
       "      <td>14.838000</td>\n",
       "    </tr>\n",
       "    <tr>\n",
       "      <th>max</th>\n",
       "      <td>149908.000000</td>\n",
       "      <td>19.944000</td>\n",
       "    </tr>\n",
       "  </tbody>\n",
       "</table>\n",
       "</div>"
      ],
      "text/plain": [
       "              Salary      Bonus %\n",
       "count    1000.000000  1000.000000\n",
       "mean    90662.181000    10.207555\n",
       "std     32923.693342     5.528481\n",
       "min     35013.000000     1.015000\n",
       "25%     62613.000000     5.401750\n",
       "50%     90428.000000     9.838500\n",
       "75%    118740.250000    14.838000\n",
       "max    149908.000000    19.944000"
      ]
     },
     "execution_count": 7,
     "metadata": {},
     "output_type": "execute_result"
    }
   ],
   "source": [
    "df.describe()"
   ]
  },
  {
   "cell_type": "code",
   "execution_count": 8,
   "id": "930c10df",
   "metadata": {},
   "outputs": [
    {
     "data": {
      "text/html": [
       "<div>\n",
       "<style scoped>\n",
       "    .dataframe tbody tr th:only-of-type {\n",
       "        vertical-align: middle;\n",
       "    }\n",
       "\n",
       "    .dataframe tbody tr th {\n",
       "        vertical-align: top;\n",
       "    }\n",
       "\n",
       "    .dataframe thead th {\n",
       "        text-align: right;\n",
       "    }\n",
       "</style>\n",
       "<table border=\"1\" class=\"dataframe\">\n",
       "  <thead>\n",
       "    <tr style=\"text-align: right;\">\n",
       "      <th></th>\n",
       "      <th>First Name</th>\n",
       "      <th>Gender</th>\n",
       "      <th>Start Date</th>\n",
       "      <th>Last Login Time</th>\n",
       "      <th>Salary</th>\n",
       "      <th>Bonus %</th>\n",
       "      <th>Senior Management</th>\n",
       "      <th>Team</th>\n",
       "    </tr>\n",
       "  </thead>\n",
       "  <tbody>\n",
       "    <tr>\n",
       "      <th>20</th>\n",
       "      <td>Lois</td>\n",
       "      <td>NaN</td>\n",
       "      <td>4/22/1995</td>\n",
       "      <td>7:18 PM</td>\n",
       "      <td>64714</td>\n",
       "      <td>4.934</td>\n",
       "      <td>True</td>\n",
       "      <td>Legal</td>\n",
       "    </tr>\n",
       "    <tr>\n",
       "      <th>22</th>\n",
       "      <td>Joshua</td>\n",
       "      <td>NaN</td>\n",
       "      <td>3/8/2012</td>\n",
       "      <td>1:58 AM</td>\n",
       "      <td>90816</td>\n",
       "      <td>18.816</td>\n",
       "      <td>True</td>\n",
       "      <td>Client Services</td>\n",
       "    </tr>\n",
       "    <tr>\n",
       "      <th>27</th>\n",
       "      <td>Scott</td>\n",
       "      <td>NaN</td>\n",
       "      <td>7/11/1991</td>\n",
       "      <td>6:58 PM</td>\n",
       "      <td>122367</td>\n",
       "      <td>5.218</td>\n",
       "      <td>False</td>\n",
       "      <td>Legal</td>\n",
       "    </tr>\n",
       "    <tr>\n",
       "      <th>31</th>\n",
       "      <td>Joyce</td>\n",
       "      <td>NaN</td>\n",
       "      <td>2/20/2005</td>\n",
       "      <td>2:40 PM</td>\n",
       "      <td>88657</td>\n",
       "      <td>12.752</td>\n",
       "      <td>False</td>\n",
       "      <td>Product</td>\n",
       "    </tr>\n",
       "    <tr>\n",
       "      <th>41</th>\n",
       "      <td>Christine</td>\n",
       "      <td>NaN</td>\n",
       "      <td>6/28/2015</td>\n",
       "      <td>1:08 AM</td>\n",
       "      <td>66582</td>\n",
       "      <td>11.308</td>\n",
       "      <td>True</td>\n",
       "      <td>Business Development</td>\n",
       "    </tr>\n",
       "    <tr>\n",
       "      <th>...</th>\n",
       "      <td>...</td>\n",
       "      <td>...</td>\n",
       "      <td>...</td>\n",
       "      <td>...</td>\n",
       "      <td>...</td>\n",
       "      <td>...</td>\n",
       "      <td>...</td>\n",
       "      <td>...</td>\n",
       "    </tr>\n",
       "    <tr>\n",
       "      <th>961</th>\n",
       "      <td>Antonio</td>\n",
       "      <td>NaN</td>\n",
       "      <td>6/18/1989</td>\n",
       "      <td>9:37 PM</td>\n",
       "      <td>103050</td>\n",
       "      <td>3.050</td>\n",
       "      <td>False</td>\n",
       "      <td>Legal</td>\n",
       "    </tr>\n",
       "    <tr>\n",
       "      <th>972</th>\n",
       "      <td>Victor</td>\n",
       "      <td>NaN</td>\n",
       "      <td>7/28/2006</td>\n",
       "      <td>2:49 PM</td>\n",
       "      <td>76381</td>\n",
       "      <td>11.159</td>\n",
       "      <td>True</td>\n",
       "      <td>Sales</td>\n",
       "    </tr>\n",
       "    <tr>\n",
       "      <th>985</th>\n",
       "      <td>Stephen</td>\n",
       "      <td>NaN</td>\n",
       "      <td>7/10/1983</td>\n",
       "      <td>8:10 PM</td>\n",
       "      <td>85668</td>\n",
       "      <td>1.909</td>\n",
       "      <td>False</td>\n",
       "      <td>Legal</td>\n",
       "    </tr>\n",
       "    <tr>\n",
       "      <th>989</th>\n",
       "      <td>Justin</td>\n",
       "      <td>NaN</td>\n",
       "      <td>2/10/1991</td>\n",
       "      <td>4:58 PM</td>\n",
       "      <td>38344</td>\n",
       "      <td>3.794</td>\n",
       "      <td>False</td>\n",
       "      <td>Legal</td>\n",
       "    </tr>\n",
       "    <tr>\n",
       "      <th>995</th>\n",
       "      <td>Henry</td>\n",
       "      <td>NaN</td>\n",
       "      <td>11/23/2014</td>\n",
       "      <td>6:09 AM</td>\n",
       "      <td>132483</td>\n",
       "      <td>16.655</td>\n",
       "      <td>False</td>\n",
       "      <td>Distribution</td>\n",
       "    </tr>\n",
       "  </tbody>\n",
       "</table>\n",
       "<p>145 rows × 8 columns</p>\n",
       "</div>"
      ],
      "text/plain": [
       "    First Name Gender  Start Date Last Login Time  Salary  Bonus %  \\\n",
       "20        Lois    NaN   4/22/1995         7:18 PM   64714    4.934   \n",
       "22      Joshua    NaN    3/8/2012         1:58 AM   90816   18.816   \n",
       "27       Scott    NaN   7/11/1991         6:58 PM  122367    5.218   \n",
       "31       Joyce    NaN   2/20/2005         2:40 PM   88657   12.752   \n",
       "41   Christine    NaN   6/28/2015         1:08 AM   66582   11.308   \n",
       "..         ...    ...         ...             ...     ...      ...   \n",
       "961    Antonio    NaN   6/18/1989         9:37 PM  103050    3.050   \n",
       "972     Victor    NaN   7/28/2006         2:49 PM   76381   11.159   \n",
       "985    Stephen    NaN   7/10/1983         8:10 PM   85668    1.909   \n",
       "989     Justin    NaN   2/10/1991         4:58 PM   38344    3.794   \n",
       "995      Henry    NaN  11/23/2014         6:09 AM  132483   16.655   \n",
       "\n",
       "    Senior Management                  Team  \n",
       "20               True                 Legal  \n",
       "22               True       Client Services  \n",
       "27              False                 Legal  \n",
       "31              False               Product  \n",
       "41               True  Business Development  \n",
       "..                ...                   ...  \n",
       "961             False                 Legal  \n",
       "972              True                 Sales  \n",
       "985             False                 Legal  \n",
       "989             False                 Legal  \n",
       "995             False          Distribution  \n",
       "\n",
       "[145 rows x 8 columns]"
      ]
     },
     "execution_count": 8,
     "metadata": {},
     "output_type": "execute_result"
    }
   ],
   "source": [
    "# creating bool series True for NaN values\n",
    "bool_series = pd.isnull(df[\"Gender\"])\n",
    "\n",
    "# filtering data\n",
    "# displaying data only with Gender = NaN\n",
    "df[bool_series]"
   ]
  },
  {
   "cell_type": "code",
   "execution_count": 11,
   "id": "688e107e",
   "metadata": {},
   "outputs": [
    {
     "data": {
      "text/html": [
       "<div>\n",
       "<style scoped>\n",
       "    .dataframe tbody tr th:only-of-type {\n",
       "        vertical-align: middle;\n",
       "    }\n",
       "\n",
       "    .dataframe tbody tr th {\n",
       "        vertical-align: top;\n",
       "    }\n",
       "\n",
       "    .dataframe thead th {\n",
       "        text-align: right;\n",
       "    }\n",
       "</style>\n",
       "<table border=\"1\" class=\"dataframe\">\n",
       "  <thead>\n",
       "    <tr style=\"text-align: right;\">\n",
       "      <th></th>\n",
       "      <th>First Score</th>\n",
       "      <th>Second Score</th>\n",
       "      <th>Third Score</th>\n",
       "    </tr>\n",
       "  </thead>\n",
       "  <tbody>\n",
       "    <tr>\n",
       "      <th>0</th>\n",
       "      <td>True</td>\n",
       "      <td>True</td>\n",
       "      <td>False</td>\n",
       "    </tr>\n",
       "    <tr>\n",
       "      <th>1</th>\n",
       "      <td>True</td>\n",
       "      <td>True</td>\n",
       "      <td>True</td>\n",
       "    </tr>\n",
       "    <tr>\n",
       "      <th>2</th>\n",
       "      <td>False</td>\n",
       "      <td>True</td>\n",
       "      <td>True</td>\n",
       "    </tr>\n",
       "    <tr>\n",
       "      <th>3</th>\n",
       "      <td>True</td>\n",
       "      <td>False</td>\n",
       "      <td>True</td>\n",
       "    </tr>\n",
       "  </tbody>\n",
       "</table>\n",
       "</div>"
      ],
      "text/plain": [
       "   First Score  Second Score  Third Score\n",
       "0         True          True        False\n",
       "1         True          True         True\n",
       "2        False          True         True\n",
       "3         True         False         True"
      ]
     },
     "execution_count": 11,
     "metadata": {},
     "output_type": "execute_result"
    }
   ],
   "source": [
    "# dictionary of lists\n",
    "dict = {'First Score':[100, 90, np.nan, 95],\n",
    "        'Second Score': [30, 45, 56, np.nan],\n",
    "        'Third Score':[np.nan, 40, 80, 98]}\n",
    "\n",
    "# creating a dataframe using dictionary\n",
    "df = pd.DataFrame(dict)\n",
    "\n",
    "# using notnull() function\n",
    "df.notnull()"
   ]
  },
  {
   "cell_type": "code",
   "execution_count": 12,
   "id": "52a0266d",
   "metadata": {},
   "outputs": [
    {
     "data": {
      "text/html": [
       "<div>\n",
       "<style scoped>\n",
       "    .dataframe tbody tr th:only-of-type {\n",
       "        vertical-align: middle;\n",
       "    }\n",
       "\n",
       "    .dataframe tbody tr th {\n",
       "        vertical-align: top;\n",
       "    }\n",
       "\n",
       "    .dataframe thead th {\n",
       "        text-align: right;\n",
       "    }\n",
       "</style>\n",
       "<table border=\"1\" class=\"dataframe\">\n",
       "  <thead>\n",
       "    <tr style=\"text-align: right;\">\n",
       "      <th></th>\n",
       "      <th>First Name</th>\n",
       "      <th>Gender</th>\n",
       "      <th>Start Date</th>\n",
       "      <th>Last Login Time</th>\n",
       "      <th>Salary</th>\n",
       "      <th>Bonus %</th>\n",
       "      <th>Senior Management</th>\n",
       "      <th>Team</th>\n",
       "    </tr>\n",
       "  </thead>\n",
       "  <tbody>\n",
       "    <tr>\n",
       "      <th>0</th>\n",
       "      <td>Douglas</td>\n",
       "      <td>Male</td>\n",
       "      <td>8/6/1993</td>\n",
       "      <td>12:42 PM</td>\n",
       "      <td>97308</td>\n",
       "      <td>6.945</td>\n",
       "      <td>True</td>\n",
       "      <td>Marketing</td>\n",
       "    </tr>\n",
       "    <tr>\n",
       "      <th>1</th>\n",
       "      <td>Thomas</td>\n",
       "      <td>Male</td>\n",
       "      <td>3/31/1996</td>\n",
       "      <td>6:53 AM</td>\n",
       "      <td>61933</td>\n",
       "      <td>4.170</td>\n",
       "      <td>True</td>\n",
       "      <td>NaN</td>\n",
       "    </tr>\n",
       "    <tr>\n",
       "      <th>2</th>\n",
       "      <td>Maria</td>\n",
       "      <td>Female</td>\n",
       "      <td>4/23/1993</td>\n",
       "      <td>11:17 AM</td>\n",
       "      <td>130590</td>\n",
       "      <td>11.858</td>\n",
       "      <td>False</td>\n",
       "      <td>Finance</td>\n",
       "    </tr>\n",
       "    <tr>\n",
       "      <th>3</th>\n",
       "      <td>Jerry</td>\n",
       "      <td>Male</td>\n",
       "      <td>3/4/2005</td>\n",
       "      <td>1:00 PM</td>\n",
       "      <td>138705</td>\n",
       "      <td>9.340</td>\n",
       "      <td>True</td>\n",
       "      <td>Finance</td>\n",
       "    </tr>\n",
       "    <tr>\n",
       "      <th>4</th>\n",
       "      <td>Larry</td>\n",
       "      <td>Male</td>\n",
       "      <td>1/24/1998</td>\n",
       "      <td>4:47 PM</td>\n",
       "      <td>101004</td>\n",
       "      <td>1.389</td>\n",
       "      <td>True</td>\n",
       "      <td>Client Services</td>\n",
       "    </tr>\n",
       "    <tr>\n",
       "      <th>...</th>\n",
       "      <td>...</td>\n",
       "      <td>...</td>\n",
       "      <td>...</td>\n",
       "      <td>...</td>\n",
       "      <td>...</td>\n",
       "      <td>...</td>\n",
       "      <td>...</td>\n",
       "      <td>...</td>\n",
       "    </tr>\n",
       "    <tr>\n",
       "      <th>994</th>\n",
       "      <td>George</td>\n",
       "      <td>Male</td>\n",
       "      <td>6/21/2013</td>\n",
       "      <td>5:47 PM</td>\n",
       "      <td>98874</td>\n",
       "      <td>4.479</td>\n",
       "      <td>True</td>\n",
       "      <td>Marketing</td>\n",
       "    </tr>\n",
       "    <tr>\n",
       "      <th>996</th>\n",
       "      <td>Phillip</td>\n",
       "      <td>Male</td>\n",
       "      <td>1/31/1984</td>\n",
       "      <td>6:30 AM</td>\n",
       "      <td>42392</td>\n",
       "      <td>19.675</td>\n",
       "      <td>False</td>\n",
       "      <td>Finance</td>\n",
       "    </tr>\n",
       "    <tr>\n",
       "      <th>997</th>\n",
       "      <td>Russell</td>\n",
       "      <td>Male</td>\n",
       "      <td>5/20/2013</td>\n",
       "      <td>12:39 PM</td>\n",
       "      <td>96914</td>\n",
       "      <td>1.421</td>\n",
       "      <td>False</td>\n",
       "      <td>Product</td>\n",
       "    </tr>\n",
       "    <tr>\n",
       "      <th>998</th>\n",
       "      <td>Larry</td>\n",
       "      <td>Male</td>\n",
       "      <td>4/20/2013</td>\n",
       "      <td>4:45 PM</td>\n",
       "      <td>60500</td>\n",
       "      <td>11.985</td>\n",
       "      <td>False</td>\n",
       "      <td>Business Development</td>\n",
       "    </tr>\n",
       "    <tr>\n",
       "      <th>999</th>\n",
       "      <td>Albert</td>\n",
       "      <td>Male</td>\n",
       "      <td>5/15/2012</td>\n",
       "      <td>6:24 PM</td>\n",
       "      <td>129949</td>\n",
       "      <td>10.169</td>\n",
       "      <td>True</td>\n",
       "      <td>Sales</td>\n",
       "    </tr>\n",
       "  </tbody>\n",
       "</table>\n",
       "<p>855 rows × 8 columns</p>\n",
       "</div>"
      ],
      "text/plain": [
       "    First Name  Gender Start Date Last Login Time  Salary  Bonus %  \\\n",
       "0      Douglas    Male   8/6/1993        12:42 PM   97308    6.945   \n",
       "1       Thomas    Male  3/31/1996         6:53 AM   61933    4.170   \n",
       "2        Maria  Female  4/23/1993        11:17 AM  130590   11.858   \n",
       "3        Jerry    Male   3/4/2005         1:00 PM  138705    9.340   \n",
       "4        Larry    Male  1/24/1998         4:47 PM  101004    1.389   \n",
       "..         ...     ...        ...             ...     ...      ...   \n",
       "994     George    Male  6/21/2013         5:47 PM   98874    4.479   \n",
       "996    Phillip    Male  1/31/1984         6:30 AM   42392   19.675   \n",
       "997    Russell    Male  5/20/2013        12:39 PM   96914    1.421   \n",
       "998      Larry    Male  4/20/2013         4:45 PM   60500   11.985   \n",
       "999     Albert    Male  5/15/2012         6:24 PM  129949   10.169   \n",
       "\n",
       "    Senior Management                  Team  \n",
       "0                True             Marketing  \n",
       "1                True                   NaN  \n",
       "2               False               Finance  \n",
       "3                True               Finance  \n",
       "4                True       Client Services  \n",
       "..                ...                   ...  \n",
       "994              True             Marketing  \n",
       "996             False               Finance  \n",
       "997             False               Product  \n",
       "998             False  Business Development  \n",
       "999              True                 Sales  \n",
       "\n",
       "[855 rows x 8 columns]"
      ]
     },
     "execution_count": 12,
     "metadata": {},
     "output_type": "execute_result"
    }
   ],
   "source": [
    "path=\"C:\\\\Users\\\\OJUS\\\\OneDrive\\\\Desktop\\\\⠀\\\\DBDA\\\\Data Set\\\\employees.csv\"\n",
    "df = pd.read_csv(path)\n",
    "# creating bool series True for NaN values \n",
    "bool_series = pd.notnull(df[\"Gender\"]) \n",
    "    \n",
    "# filtering data \n",
    "# displayind data only with Gender = Not NaN \n",
    "df[bool_series] "
   ]
  },
  {
   "cell_type": "code",
   "execution_count": 13,
   "id": "54dde38d",
   "metadata": {},
   "outputs": [
    {
     "name": "stdout",
     "output_type": "stream",
     "text": [
      "   First Score  Second Score  Third Score\n",
      "0        100.0          30.0          NaN\n",
      "1         90.0          45.0         40.0\n",
      "2          NaN          56.0         80.0\n",
      "3         95.0           NaN         98.0\n"
     ]
    },
    {
     "data": {
      "text/html": [
       "<div>\n",
       "<style scoped>\n",
       "    .dataframe tbody tr th:only-of-type {\n",
       "        vertical-align: middle;\n",
       "    }\n",
       "\n",
       "    .dataframe tbody tr th {\n",
       "        vertical-align: top;\n",
       "    }\n",
       "\n",
       "    .dataframe thead th {\n",
       "        text-align: right;\n",
       "    }\n",
       "</style>\n",
       "<table border=\"1\" class=\"dataframe\">\n",
       "  <thead>\n",
       "    <tr style=\"text-align: right;\">\n",
       "      <th></th>\n",
       "      <th>First Score</th>\n",
       "      <th>Second Score</th>\n",
       "      <th>Third Score</th>\n",
       "    </tr>\n",
       "  </thead>\n",
       "  <tbody>\n",
       "    <tr>\n",
       "      <th>0</th>\n",
       "      <td>100.0</td>\n",
       "      <td>30.0</td>\n",
       "      <td>0.0</td>\n",
       "    </tr>\n",
       "    <tr>\n",
       "      <th>1</th>\n",
       "      <td>90.0</td>\n",
       "      <td>45.0</td>\n",
       "      <td>40.0</td>\n",
       "    </tr>\n",
       "    <tr>\n",
       "      <th>2</th>\n",
       "      <td>0.0</td>\n",
       "      <td>56.0</td>\n",
       "      <td>80.0</td>\n",
       "    </tr>\n",
       "    <tr>\n",
       "      <th>3</th>\n",
       "      <td>95.0</td>\n",
       "      <td>0.0</td>\n",
       "      <td>98.0</td>\n",
       "    </tr>\n",
       "  </tbody>\n",
       "</table>\n",
       "</div>"
      ],
      "text/plain": [
       "   First Score  Second Score  Third Score\n",
       "0        100.0          30.0          0.0\n",
       "1         90.0          45.0         40.0\n",
       "2          0.0          56.0         80.0\n",
       "3         95.0           0.0         98.0"
      ]
     },
     "execution_count": 13,
     "metadata": {},
     "output_type": "execute_result"
    }
   ],
   "source": [
    "# dictionary of lists\n",
    "dict = {'First Score':[100, 90, np.nan, 95],\n",
    "        'Second Score': [30, 45, 56, np.nan],\n",
    "        'Third Score':[np.nan, 40, 80, 98]}\n",
    "\n",
    "# creating a dataframe from dictionary\n",
    "df = pd.DataFrame(dict)\n",
    "print(df)\n",
    "# filling missing value using fillna()\n",
    "df.fillna(0)"
   ]
  },
  {
   "cell_type": "code",
   "execution_count": 1,
   "id": "fdf17a56",
   "metadata": {},
   "outputs": [
    {
     "name": "stdout",
     "output_type": "stream",
     "text": [
      "   First Score  Second Score  Third Score\n",
      "0        100.0          30.0          NaN\n",
      "1         90.0          45.0         40.0\n",
      "2          NaN          56.0         80.0\n",
      "3         95.0           NaN         98.0\n"
     ]
    },
    {
     "data": {
      "text/html": [
       "<div>\n",
       "<style scoped>\n",
       "    .dataframe tbody tr th:only-of-type {\n",
       "        vertical-align: middle;\n",
       "    }\n",
       "\n",
       "    .dataframe tbody tr th {\n",
       "        vertical-align: top;\n",
       "    }\n",
       "\n",
       "    .dataframe thead th {\n",
       "        text-align: right;\n",
       "    }\n",
       "</style>\n",
       "<table border=\"1\" class=\"dataframe\">\n",
       "  <thead>\n",
       "    <tr style=\"text-align: right;\">\n",
       "      <th></th>\n",
       "      <th>First Score</th>\n",
       "      <th>Second Score</th>\n",
       "      <th>Third Score</th>\n",
       "    </tr>\n",
       "  </thead>\n",
       "  <tbody>\n",
       "    <tr>\n",
       "      <th>0</th>\n",
       "      <td>100.0</td>\n",
       "      <td>30.0</td>\n",
       "      <td>NaN</td>\n",
       "    </tr>\n",
       "    <tr>\n",
       "      <th>1</th>\n",
       "      <td>90.0</td>\n",
       "      <td>45.0</td>\n",
       "      <td>40.0</td>\n",
       "    </tr>\n",
       "    <tr>\n",
       "      <th>2</th>\n",
       "      <td>90.0</td>\n",
       "      <td>56.0</td>\n",
       "      <td>80.0</td>\n",
       "    </tr>\n",
       "    <tr>\n",
       "      <th>3</th>\n",
       "      <td>95.0</td>\n",
       "      <td>56.0</td>\n",
       "      <td>98.0</td>\n",
       "    </tr>\n",
       "  </tbody>\n",
       "</table>\n",
       "</div>"
      ],
      "text/plain": [
       "   First Score  Second Score  Third Score\n",
       "0        100.0          30.0          NaN\n",
       "1         90.0          45.0         40.0\n",
       "2         90.0          56.0         80.0\n",
       "3         95.0          56.0         98.0"
      ]
     },
     "execution_count": 1,
     "metadata": {},
     "output_type": "execute_result"
    }
   ],
   "source": [
    "# importing pandas as pd\n",
    "import pandas as pd\n",
    "\n",
    "# importing numpy as np\n",
    "import numpy as np\n",
    "\n",
    "# dictionary of lists\n",
    "dict = {'First Score':[100, 90, np.nan, 95],\n",
    "\t\t'Second Score': [30, 45, 56, np.nan],\n",
    "\t\t'Third Score':[np.nan, 40, 80, 98]}\n",
    "\n",
    "# creating a dataframe from dictionary\n",
    "df = pd.DataFrame(dict)\n",
    "print(df)\n",
    "# filling a missing value with\n",
    "# previous ones\n",
    "df.fillna(method ='pad')"
   ]
  },
  {
   "cell_type": "code",
   "execution_count": 2,
   "id": "e2dcd33a",
   "metadata": {},
   "outputs": [
    {
     "name": "stdout",
     "output_type": "stream",
     "text": [
      "   First Score  Second Score  Third Score\n",
      "0        100.0          30.0          NaN\n",
      "1         90.0          45.0         40.0\n",
      "2          NaN          56.0         80.0\n",
      "3         95.0           NaN         98.0\n"
     ]
    },
    {
     "data": {
      "text/html": [
       "<div>\n",
       "<style scoped>\n",
       "    .dataframe tbody tr th:only-of-type {\n",
       "        vertical-align: middle;\n",
       "    }\n",
       "\n",
       "    .dataframe tbody tr th {\n",
       "        vertical-align: top;\n",
       "    }\n",
       "\n",
       "    .dataframe thead th {\n",
       "        text-align: right;\n",
       "    }\n",
       "</style>\n",
       "<table border=\"1\" class=\"dataframe\">\n",
       "  <thead>\n",
       "    <tr style=\"text-align: right;\">\n",
       "      <th></th>\n",
       "      <th>First Score</th>\n",
       "      <th>Second Score</th>\n",
       "      <th>Third Score</th>\n",
       "    </tr>\n",
       "  </thead>\n",
       "  <tbody>\n",
       "    <tr>\n",
       "      <th>0</th>\n",
       "      <td>100.0</td>\n",
       "      <td>30.0</td>\n",
       "      <td>40.0</td>\n",
       "    </tr>\n",
       "    <tr>\n",
       "      <th>1</th>\n",
       "      <td>90.0</td>\n",
       "      <td>45.0</td>\n",
       "      <td>40.0</td>\n",
       "    </tr>\n",
       "    <tr>\n",
       "      <th>2</th>\n",
       "      <td>95.0</td>\n",
       "      <td>56.0</td>\n",
       "      <td>80.0</td>\n",
       "    </tr>\n",
       "    <tr>\n",
       "      <th>3</th>\n",
       "      <td>95.0</td>\n",
       "      <td>NaN</td>\n",
       "      <td>98.0</td>\n",
       "    </tr>\n",
       "  </tbody>\n",
       "</table>\n",
       "</div>"
      ],
      "text/plain": [
       "   First Score  Second Score  Third Score\n",
       "0        100.0          30.0         40.0\n",
       "1         90.0          45.0         40.0\n",
       "2         95.0          56.0         80.0\n",
       "3         95.0           NaN         98.0"
      ]
     },
     "execution_count": 2,
     "metadata": {},
     "output_type": "execute_result"
    }
   ],
   "source": [
    "# importing pandas as pd\n",
    "import pandas as pd\n",
    "\n",
    "# importing numpy as np\n",
    "import numpy as np\n",
    "\n",
    "# dictionary of lists\n",
    "dict = {'First Score':[100, 90, np.nan, 95],\n",
    "\t\t'Second Score': [30, 45, 56, np.nan],\n",
    "\t\t'Third Score':[np.nan, 40, 80, 98]}\n",
    "\n",
    "# creating a dataframe from dictionary\n",
    "df = pd.DataFrame(dict)\n",
    "print(df)\n",
    "# filling null value using fillna() function\n",
    "df.fillna(method ='bfill')"
   ]
  },
  {
   "cell_type": "code",
   "execution_count": 3,
   "id": "f38f394e",
   "metadata": {},
   "outputs": [
    {
     "data": {
      "text/html": [
       "<div>\n",
       "<style scoped>\n",
       "    .dataframe tbody tr th:only-of-type {\n",
       "        vertical-align: middle;\n",
       "    }\n",
       "\n",
       "    .dataframe tbody tr th {\n",
       "        vertical-align: top;\n",
       "    }\n",
       "\n",
       "    .dataframe thead th {\n",
       "        text-align: right;\n",
       "    }\n",
       "</style>\n",
       "<table border=\"1\" class=\"dataframe\">\n",
       "  <thead>\n",
       "    <tr style=\"text-align: right;\">\n",
       "      <th></th>\n",
       "      <th>First Name</th>\n",
       "      <th>Gender</th>\n",
       "      <th>Start Date</th>\n",
       "      <th>Last Login Time</th>\n",
       "      <th>Salary</th>\n",
       "      <th>Bonus %</th>\n",
       "      <th>Senior Management</th>\n",
       "      <th>Team</th>\n",
       "    </tr>\n",
       "  </thead>\n",
       "  <tbody>\n",
       "    <tr>\n",
       "      <th>10</th>\n",
       "      <td>Louise</td>\n",
       "      <td>Female</td>\n",
       "      <td>8/12/1980</td>\n",
       "      <td>9:01 AM</td>\n",
       "      <td>63241</td>\n",
       "      <td>15.132</td>\n",
       "      <td>True</td>\n",
       "      <td>NaN</td>\n",
       "    </tr>\n",
       "    <tr>\n",
       "      <th>11</th>\n",
       "      <td>Julie</td>\n",
       "      <td>Female</td>\n",
       "      <td>10/26/1997</td>\n",
       "      <td>3:19 PM</td>\n",
       "      <td>102508</td>\n",
       "      <td>12.637</td>\n",
       "      <td>True</td>\n",
       "      <td>Legal</td>\n",
       "    </tr>\n",
       "    <tr>\n",
       "      <th>12</th>\n",
       "      <td>Brandon</td>\n",
       "      <td>Male</td>\n",
       "      <td>12/1/1980</td>\n",
       "      <td>1:08 AM</td>\n",
       "      <td>112807</td>\n",
       "      <td>17.492</td>\n",
       "      <td>True</td>\n",
       "      <td>Human Resources</td>\n",
       "    </tr>\n",
       "    <tr>\n",
       "      <th>13</th>\n",
       "      <td>Gary</td>\n",
       "      <td>Male</td>\n",
       "      <td>1/27/2008</td>\n",
       "      <td>11:40 PM</td>\n",
       "      <td>109831</td>\n",
       "      <td>5.831</td>\n",
       "      <td>False</td>\n",
       "      <td>Sales</td>\n",
       "    </tr>\n",
       "    <tr>\n",
       "      <th>14</th>\n",
       "      <td>Kimberly</td>\n",
       "      <td>Female</td>\n",
       "      <td>1/14/1999</td>\n",
       "      <td>7:13 AM</td>\n",
       "      <td>41426</td>\n",
       "      <td>14.543</td>\n",
       "      <td>True</td>\n",
       "      <td>Finance</td>\n",
       "    </tr>\n",
       "    <tr>\n",
       "      <th>15</th>\n",
       "      <td>Lillian</td>\n",
       "      <td>Female</td>\n",
       "      <td>6/5/2016</td>\n",
       "      <td>6:09 AM</td>\n",
       "      <td>59414</td>\n",
       "      <td>1.256</td>\n",
       "      <td>False</td>\n",
       "      <td>Product</td>\n",
       "    </tr>\n",
       "    <tr>\n",
       "      <th>16</th>\n",
       "      <td>Jeremy</td>\n",
       "      <td>Male</td>\n",
       "      <td>9/21/2010</td>\n",
       "      <td>5:56 AM</td>\n",
       "      <td>90370</td>\n",
       "      <td>7.369</td>\n",
       "      <td>False</td>\n",
       "      <td>Human Resources</td>\n",
       "    </tr>\n",
       "    <tr>\n",
       "      <th>17</th>\n",
       "      <td>Shawn</td>\n",
       "      <td>Male</td>\n",
       "      <td>12/7/1986</td>\n",
       "      <td>7:45 PM</td>\n",
       "      <td>111737</td>\n",
       "      <td>6.414</td>\n",
       "      <td>False</td>\n",
       "      <td>Product</td>\n",
       "    </tr>\n",
       "    <tr>\n",
       "      <th>18</th>\n",
       "      <td>Diana</td>\n",
       "      <td>Female</td>\n",
       "      <td>10/23/1981</td>\n",
       "      <td>10:27 AM</td>\n",
       "      <td>132940</td>\n",
       "      <td>19.082</td>\n",
       "      <td>False</td>\n",
       "      <td>Client Services</td>\n",
       "    </tr>\n",
       "    <tr>\n",
       "      <th>19</th>\n",
       "      <td>Donna</td>\n",
       "      <td>Female</td>\n",
       "      <td>7/22/2010</td>\n",
       "      <td>3:48 AM</td>\n",
       "      <td>81014</td>\n",
       "      <td>1.894</td>\n",
       "      <td>False</td>\n",
       "      <td>Product</td>\n",
       "    </tr>\n",
       "    <tr>\n",
       "      <th>20</th>\n",
       "      <td>Lois</td>\n",
       "      <td>NaN</td>\n",
       "      <td>4/22/1995</td>\n",
       "      <td>7:18 PM</td>\n",
       "      <td>64714</td>\n",
       "      <td>4.934</td>\n",
       "      <td>True</td>\n",
       "      <td>Legal</td>\n",
       "    </tr>\n",
       "    <tr>\n",
       "      <th>21</th>\n",
       "      <td>Matthew</td>\n",
       "      <td>Male</td>\n",
       "      <td>9/5/1995</td>\n",
       "      <td>2:12 AM</td>\n",
       "      <td>100612</td>\n",
       "      <td>13.645</td>\n",
       "      <td>False</td>\n",
       "      <td>Marketing</td>\n",
       "    </tr>\n",
       "    <tr>\n",
       "      <th>22</th>\n",
       "      <td>Joshua</td>\n",
       "      <td>NaN</td>\n",
       "      <td>3/8/2012</td>\n",
       "      <td>1:58 AM</td>\n",
       "      <td>90816</td>\n",
       "      <td>18.816</td>\n",
       "      <td>True</td>\n",
       "      <td>Client Services</td>\n",
       "    </tr>\n",
       "    <tr>\n",
       "      <th>23</th>\n",
       "      <td>NaN</td>\n",
       "      <td>Male</td>\n",
       "      <td>6/14/2012</td>\n",
       "      <td>4:19 PM</td>\n",
       "      <td>125792</td>\n",
       "      <td>5.042</td>\n",
       "      <td>NaN</td>\n",
       "      <td>NaN</td>\n",
       "    </tr>\n",
       "    <tr>\n",
       "      <th>24</th>\n",
       "      <td>John</td>\n",
       "      <td>Male</td>\n",
       "      <td>7/1/1992</td>\n",
       "      <td>10:08 PM</td>\n",
       "      <td>97950</td>\n",
       "      <td>13.873</td>\n",
       "      <td>False</td>\n",
       "      <td>Client Services</td>\n",
       "    </tr>\n",
       "  </tbody>\n",
       "</table>\n",
       "</div>"
      ],
      "text/plain": [
       "   First Name  Gender  Start Date Last Login Time  Salary  Bonus %  \\\n",
       "10     Louise  Female   8/12/1980         9:01 AM   63241   15.132   \n",
       "11      Julie  Female  10/26/1997         3:19 PM  102508   12.637   \n",
       "12    Brandon    Male   12/1/1980         1:08 AM  112807   17.492   \n",
       "13       Gary    Male   1/27/2008        11:40 PM  109831    5.831   \n",
       "14   Kimberly  Female   1/14/1999         7:13 AM   41426   14.543   \n",
       "15    Lillian  Female    6/5/2016         6:09 AM   59414    1.256   \n",
       "16     Jeremy    Male   9/21/2010         5:56 AM   90370    7.369   \n",
       "17      Shawn    Male   12/7/1986         7:45 PM  111737    6.414   \n",
       "18      Diana  Female  10/23/1981        10:27 AM  132940   19.082   \n",
       "19      Donna  Female   7/22/2010         3:48 AM   81014    1.894   \n",
       "20       Lois     NaN   4/22/1995         7:18 PM   64714    4.934   \n",
       "21    Matthew    Male    9/5/1995         2:12 AM  100612   13.645   \n",
       "22     Joshua     NaN    3/8/2012         1:58 AM   90816   18.816   \n",
       "23        NaN    Male   6/14/2012         4:19 PM  125792    5.042   \n",
       "24       John    Male    7/1/1992        10:08 PM   97950   13.873   \n",
       "\n",
       "   Senior Management             Team  \n",
       "10              True              NaN  \n",
       "11              True            Legal  \n",
       "12              True  Human Resources  \n",
       "13             False            Sales  \n",
       "14              True          Finance  \n",
       "15             False          Product  \n",
       "16             False  Human Resources  \n",
       "17             False          Product  \n",
       "18             False  Client Services  \n",
       "19             False          Product  \n",
       "20              True            Legal  \n",
       "21             False        Marketing  \n",
       "22              True  Client Services  \n",
       "23               NaN              NaN  \n",
       "24             False  Client Services  "
      ]
     },
     "execution_count": 3,
     "metadata": {},
     "output_type": "execute_result"
    }
   ],
   "source": [
    "import pandas as pd\n",
    "path=\"C:\\\\Users\\\\OJUS\\\\OneDrive\\\\Desktop\\\\⠀\\\\DBDA\\\\Data Set\\\\employees.csv\"\n",
    "df = pd.read_csv(path)\n",
    "# Printing the first 10 to 24 rows of\n",
    "# the data frame for visualization   \n",
    "df[10:25]"
   ]
  },
  {
   "cell_type": "code",
   "execution_count": 5,
   "id": "f91df822",
   "metadata": {},
   "outputs": [
    {
     "data": {
      "text/html": [
       "<div>\n",
       "<style scoped>\n",
       "    .dataframe tbody tr th:only-of-type {\n",
       "        vertical-align: middle;\n",
       "    }\n",
       "\n",
       "    .dataframe tbody tr th {\n",
       "        vertical-align: top;\n",
       "    }\n",
       "\n",
       "    .dataframe thead th {\n",
       "        text-align: right;\n",
       "    }\n",
       "</style>\n",
       "<table border=\"1\" class=\"dataframe\">\n",
       "  <thead>\n",
       "    <tr style=\"text-align: right;\">\n",
       "      <th></th>\n",
       "      <th>First Name</th>\n",
       "      <th>Gender</th>\n",
       "      <th>Start Date</th>\n",
       "      <th>Last Login Time</th>\n",
       "      <th>Salary</th>\n",
       "      <th>Bonus %</th>\n",
       "      <th>Senior Management</th>\n",
       "      <th>Team</th>\n",
       "    </tr>\n",
       "  </thead>\n",
       "  <tbody>\n",
       "    <tr>\n",
       "      <th>0</th>\n",
       "      <td>Douglas</td>\n",
       "      <td>Male</td>\n",
       "      <td>8/6/1993</td>\n",
       "      <td>12:42 PM</td>\n",
       "      <td>97308</td>\n",
       "      <td>6.945</td>\n",
       "      <td>True</td>\n",
       "      <td>Marketing</td>\n",
       "    </tr>\n",
       "    <tr>\n",
       "      <th>1</th>\n",
       "      <td>Thomas</td>\n",
       "      <td>Male</td>\n",
       "      <td>3/31/1996</td>\n",
       "      <td>6:53 AM</td>\n",
       "      <td>61933</td>\n",
       "      <td>4.170</td>\n",
       "      <td>True</td>\n",
       "      <td>NaN</td>\n",
       "    </tr>\n",
       "    <tr>\n",
       "      <th>2</th>\n",
       "      <td>Maria</td>\n",
       "      <td>Female</td>\n",
       "      <td>4/23/1993</td>\n",
       "      <td>11:17 AM</td>\n",
       "      <td>130590</td>\n",
       "      <td>11.858</td>\n",
       "      <td>False</td>\n",
       "      <td>Finance</td>\n",
       "    </tr>\n",
       "    <tr>\n",
       "      <th>3</th>\n",
       "      <td>Jerry</td>\n",
       "      <td>Male</td>\n",
       "      <td>3/4/2005</td>\n",
       "      <td>1:00 PM</td>\n",
       "      <td>138705</td>\n",
       "      <td>9.340</td>\n",
       "      <td>True</td>\n",
       "      <td>Finance</td>\n",
       "    </tr>\n",
       "    <tr>\n",
       "      <th>4</th>\n",
       "      <td>Larry</td>\n",
       "      <td>Male</td>\n",
       "      <td>1/24/1998</td>\n",
       "      <td>4:47 PM</td>\n",
       "      <td>101004</td>\n",
       "      <td>1.389</td>\n",
       "      <td>True</td>\n",
       "      <td>Client Services</td>\n",
       "    </tr>\n",
       "    <tr>\n",
       "      <th>...</th>\n",
       "      <td>...</td>\n",
       "      <td>...</td>\n",
       "      <td>...</td>\n",
       "      <td>...</td>\n",
       "      <td>...</td>\n",
       "      <td>...</td>\n",
       "      <td>...</td>\n",
       "      <td>...</td>\n",
       "    </tr>\n",
       "    <tr>\n",
       "      <th>995</th>\n",
       "      <td>Henry</td>\n",
       "      <td>No Gender</td>\n",
       "      <td>11/23/2014</td>\n",
       "      <td>6:09 AM</td>\n",
       "      <td>132483</td>\n",
       "      <td>16.655</td>\n",
       "      <td>False</td>\n",
       "      <td>Distribution</td>\n",
       "    </tr>\n",
       "    <tr>\n",
       "      <th>996</th>\n",
       "      <td>Phillip</td>\n",
       "      <td>Male</td>\n",
       "      <td>1/31/1984</td>\n",
       "      <td>6:30 AM</td>\n",
       "      <td>42392</td>\n",
       "      <td>19.675</td>\n",
       "      <td>False</td>\n",
       "      <td>Finance</td>\n",
       "    </tr>\n",
       "    <tr>\n",
       "      <th>997</th>\n",
       "      <td>Russell</td>\n",
       "      <td>Male</td>\n",
       "      <td>5/20/2013</td>\n",
       "      <td>12:39 PM</td>\n",
       "      <td>96914</td>\n",
       "      <td>1.421</td>\n",
       "      <td>False</td>\n",
       "      <td>Product</td>\n",
       "    </tr>\n",
       "    <tr>\n",
       "      <th>998</th>\n",
       "      <td>Larry</td>\n",
       "      <td>Male</td>\n",
       "      <td>4/20/2013</td>\n",
       "      <td>4:45 PM</td>\n",
       "      <td>60500</td>\n",
       "      <td>11.985</td>\n",
       "      <td>False</td>\n",
       "      <td>Business Development</td>\n",
       "    </tr>\n",
       "    <tr>\n",
       "      <th>999</th>\n",
       "      <td>Albert</td>\n",
       "      <td>Male</td>\n",
       "      <td>5/15/2012</td>\n",
       "      <td>6:24 PM</td>\n",
       "      <td>129949</td>\n",
       "      <td>10.169</td>\n",
       "      <td>True</td>\n",
       "      <td>Sales</td>\n",
       "    </tr>\n",
       "  </tbody>\n",
       "</table>\n",
       "<p>1000 rows × 8 columns</p>\n",
       "</div>"
      ],
      "text/plain": [
       "    First Name     Gender  Start Date Last Login Time  Salary  Bonus %  \\\n",
       "0      Douglas       Male    8/6/1993        12:42 PM   97308    6.945   \n",
       "1       Thomas       Male   3/31/1996         6:53 AM   61933    4.170   \n",
       "2        Maria     Female   4/23/1993        11:17 AM  130590   11.858   \n",
       "3        Jerry       Male    3/4/2005         1:00 PM  138705    9.340   \n",
       "4        Larry       Male   1/24/1998         4:47 PM  101004    1.389   \n",
       "..         ...        ...         ...             ...     ...      ...   \n",
       "995      Henry  No Gender  11/23/2014         6:09 AM  132483   16.655   \n",
       "996    Phillip       Male   1/31/1984         6:30 AM   42392   19.675   \n",
       "997    Russell       Male   5/20/2013        12:39 PM   96914    1.421   \n",
       "998      Larry       Male   4/20/2013         4:45 PM   60500   11.985   \n",
       "999     Albert       Male   5/15/2012         6:24 PM  129949   10.169   \n",
       "\n",
       "    Senior Management                  Team  \n",
       "0                True             Marketing  \n",
       "1                True                   NaN  \n",
       "2               False               Finance  \n",
       "3                True               Finance  \n",
       "4                True       Client Services  \n",
       "..                ...                   ...  \n",
       "995             False          Distribution  \n",
       "996             False               Finance  \n",
       "997             False               Product  \n",
       "998             False  Business Development  \n",
       "999              True                 Sales  \n",
       "\n",
       "[1000 rows x 8 columns]"
      ]
     },
     "execution_count": 5,
     "metadata": {},
     "output_type": "execute_result"
    }
   ],
   "source": [
    "df[\"Gender\"].fillna(\"No Gender\", inplace = True) \n",
    "  \n",
    "df"
   ]
  },
  {
   "cell_type": "code",
   "execution_count": 6,
   "id": "f55a848b",
   "metadata": {},
   "outputs": [
    {
     "data": {
      "text/html": [
       "<div>\n",
       "<style scoped>\n",
       "    .dataframe tbody tr th:only-of-type {\n",
       "        vertical-align: middle;\n",
       "    }\n",
       "\n",
       "    .dataframe tbody tr th {\n",
       "        vertical-align: top;\n",
       "    }\n",
       "\n",
       "    .dataframe thead th {\n",
       "        text-align: right;\n",
       "    }\n",
       "</style>\n",
       "<table border=\"1\" class=\"dataframe\">\n",
       "  <thead>\n",
       "    <tr style=\"text-align: right;\">\n",
       "      <th></th>\n",
       "      <th>First Name</th>\n",
       "      <th>Gender</th>\n",
       "      <th>Start Date</th>\n",
       "      <th>Last Login Time</th>\n",
       "      <th>Salary</th>\n",
       "      <th>Bonus %</th>\n",
       "      <th>Senior Management</th>\n",
       "      <th>Team</th>\n",
       "    </tr>\n",
       "  </thead>\n",
       "  <tbody>\n",
       "    <tr>\n",
       "      <th>10</th>\n",
       "      <td>Louise</td>\n",
       "      <td>Female</td>\n",
       "      <td>8/12/1980</td>\n",
       "      <td>9:01 AM</td>\n",
       "      <td>63241</td>\n",
       "      <td>15.132</td>\n",
       "      <td>True</td>\n",
       "      <td>NaN</td>\n",
       "    </tr>\n",
       "    <tr>\n",
       "      <th>11</th>\n",
       "      <td>Julie</td>\n",
       "      <td>Female</td>\n",
       "      <td>10/26/1997</td>\n",
       "      <td>3:19 PM</td>\n",
       "      <td>102508</td>\n",
       "      <td>12.637</td>\n",
       "      <td>True</td>\n",
       "      <td>Legal</td>\n",
       "    </tr>\n",
       "    <tr>\n",
       "      <th>12</th>\n",
       "      <td>Brandon</td>\n",
       "      <td>Male</td>\n",
       "      <td>12/1/1980</td>\n",
       "      <td>1:08 AM</td>\n",
       "      <td>112807</td>\n",
       "      <td>17.492</td>\n",
       "      <td>True</td>\n",
       "      <td>Human Resources</td>\n",
       "    </tr>\n",
       "    <tr>\n",
       "      <th>13</th>\n",
       "      <td>Gary</td>\n",
       "      <td>Male</td>\n",
       "      <td>1/27/2008</td>\n",
       "      <td>11:40 PM</td>\n",
       "      <td>109831</td>\n",
       "      <td>5.831</td>\n",
       "      <td>False</td>\n",
       "      <td>Sales</td>\n",
       "    </tr>\n",
       "    <tr>\n",
       "      <th>14</th>\n",
       "      <td>Kimberly</td>\n",
       "      <td>Female</td>\n",
       "      <td>1/14/1999</td>\n",
       "      <td>7:13 AM</td>\n",
       "      <td>41426</td>\n",
       "      <td>14.543</td>\n",
       "      <td>True</td>\n",
       "      <td>Finance</td>\n",
       "    </tr>\n",
       "    <tr>\n",
       "      <th>15</th>\n",
       "      <td>Lillian</td>\n",
       "      <td>Female</td>\n",
       "      <td>6/5/2016</td>\n",
       "      <td>6:09 AM</td>\n",
       "      <td>59414</td>\n",
       "      <td>1.256</td>\n",
       "      <td>False</td>\n",
       "      <td>Product</td>\n",
       "    </tr>\n",
       "    <tr>\n",
       "      <th>16</th>\n",
       "      <td>Jeremy</td>\n",
       "      <td>Male</td>\n",
       "      <td>9/21/2010</td>\n",
       "      <td>5:56 AM</td>\n",
       "      <td>90370</td>\n",
       "      <td>7.369</td>\n",
       "      <td>False</td>\n",
       "      <td>Human Resources</td>\n",
       "    </tr>\n",
       "    <tr>\n",
       "      <th>17</th>\n",
       "      <td>Shawn</td>\n",
       "      <td>Male</td>\n",
       "      <td>12/7/1986</td>\n",
       "      <td>7:45 PM</td>\n",
       "      <td>111737</td>\n",
       "      <td>6.414</td>\n",
       "      <td>False</td>\n",
       "      <td>Product</td>\n",
       "    </tr>\n",
       "    <tr>\n",
       "      <th>18</th>\n",
       "      <td>Diana</td>\n",
       "      <td>Female</td>\n",
       "      <td>10/23/1981</td>\n",
       "      <td>10:27 AM</td>\n",
       "      <td>132940</td>\n",
       "      <td>19.082</td>\n",
       "      <td>False</td>\n",
       "      <td>Client Services</td>\n",
       "    </tr>\n",
       "    <tr>\n",
       "      <th>19</th>\n",
       "      <td>Donna</td>\n",
       "      <td>Female</td>\n",
       "      <td>7/22/2010</td>\n",
       "      <td>3:48 AM</td>\n",
       "      <td>81014</td>\n",
       "      <td>1.894</td>\n",
       "      <td>False</td>\n",
       "      <td>Product</td>\n",
       "    </tr>\n",
       "    <tr>\n",
       "      <th>20</th>\n",
       "      <td>Lois</td>\n",
       "      <td>No Gender</td>\n",
       "      <td>4/22/1995</td>\n",
       "      <td>7:18 PM</td>\n",
       "      <td>64714</td>\n",
       "      <td>4.934</td>\n",
       "      <td>True</td>\n",
       "      <td>Legal</td>\n",
       "    </tr>\n",
       "    <tr>\n",
       "      <th>21</th>\n",
       "      <td>Matthew</td>\n",
       "      <td>Male</td>\n",
       "      <td>9/5/1995</td>\n",
       "      <td>2:12 AM</td>\n",
       "      <td>100612</td>\n",
       "      <td>13.645</td>\n",
       "      <td>False</td>\n",
       "      <td>Marketing</td>\n",
       "    </tr>\n",
       "    <tr>\n",
       "      <th>22</th>\n",
       "      <td>Joshua</td>\n",
       "      <td>No Gender</td>\n",
       "      <td>3/8/2012</td>\n",
       "      <td>1:58 AM</td>\n",
       "      <td>90816</td>\n",
       "      <td>18.816</td>\n",
       "      <td>True</td>\n",
       "      <td>Client Services</td>\n",
       "    </tr>\n",
       "    <tr>\n",
       "      <th>23</th>\n",
       "      <td>NaN</td>\n",
       "      <td>Male</td>\n",
       "      <td>6/14/2012</td>\n",
       "      <td>4:19 PM</td>\n",
       "      <td>125792</td>\n",
       "      <td>5.042</td>\n",
       "      <td>NaN</td>\n",
       "      <td>NaN</td>\n",
       "    </tr>\n",
       "    <tr>\n",
       "      <th>24</th>\n",
       "      <td>John</td>\n",
       "      <td>Male</td>\n",
       "      <td>7/1/1992</td>\n",
       "      <td>10:08 PM</td>\n",
       "      <td>97950</td>\n",
       "      <td>13.873</td>\n",
       "      <td>False</td>\n",
       "      <td>Client Services</td>\n",
       "    </tr>\n",
       "  </tbody>\n",
       "</table>\n",
       "</div>"
      ],
      "text/plain": [
       "   First Name     Gender  Start Date Last Login Time  Salary  Bonus %  \\\n",
       "10     Louise     Female   8/12/1980         9:01 AM   63241   15.132   \n",
       "11      Julie     Female  10/26/1997         3:19 PM  102508   12.637   \n",
       "12    Brandon       Male   12/1/1980         1:08 AM  112807   17.492   \n",
       "13       Gary       Male   1/27/2008        11:40 PM  109831    5.831   \n",
       "14   Kimberly     Female   1/14/1999         7:13 AM   41426   14.543   \n",
       "15    Lillian     Female    6/5/2016         6:09 AM   59414    1.256   \n",
       "16     Jeremy       Male   9/21/2010         5:56 AM   90370    7.369   \n",
       "17      Shawn       Male   12/7/1986         7:45 PM  111737    6.414   \n",
       "18      Diana     Female  10/23/1981        10:27 AM  132940   19.082   \n",
       "19      Donna     Female   7/22/2010         3:48 AM   81014    1.894   \n",
       "20       Lois  No Gender   4/22/1995         7:18 PM   64714    4.934   \n",
       "21    Matthew       Male    9/5/1995         2:12 AM  100612   13.645   \n",
       "22     Joshua  No Gender    3/8/2012         1:58 AM   90816   18.816   \n",
       "23        NaN       Male   6/14/2012         4:19 PM  125792    5.042   \n",
       "24       John       Male    7/1/1992        10:08 PM   97950   13.873   \n",
       "\n",
       "   Senior Management             Team  \n",
       "10              True              NaN  \n",
       "11              True            Legal  \n",
       "12              True  Human Resources  \n",
       "13             False            Sales  \n",
       "14              True          Finance  \n",
       "15             False          Product  \n",
       "16             False  Human Resources  \n",
       "17             False          Product  \n",
       "18             False  Client Services  \n",
       "19             False          Product  \n",
       "20              True            Legal  \n",
       "21             False        Marketing  \n",
       "22              True  Client Services  \n",
       "23               NaN              NaN  \n",
       "24             False  Client Services  "
      ]
     },
     "execution_count": 6,
     "metadata": {},
     "output_type": "execute_result"
    }
   ],
   "source": [
    " df[10:25]"
   ]
  },
  {
   "cell_type": "code",
   "execution_count": 7,
   "id": "26563352",
   "metadata": {},
   "outputs": [
    {
     "data": {
      "text/html": [
       "<div>\n",
       "<style scoped>\n",
       "    .dataframe tbody tr th:only-of-type {\n",
       "        vertical-align: middle;\n",
       "    }\n",
       "\n",
       "    .dataframe tbody tr th {\n",
       "        vertical-align: top;\n",
       "    }\n",
       "\n",
       "    .dataframe thead th {\n",
       "        text-align: right;\n",
       "    }\n",
       "</style>\n",
       "<table border=\"1\" class=\"dataframe\">\n",
       "  <thead>\n",
       "    <tr style=\"text-align: right;\">\n",
       "      <th></th>\n",
       "      <th>First Name</th>\n",
       "      <th>Gender</th>\n",
       "      <th>Start Date</th>\n",
       "      <th>Last Login Time</th>\n",
       "      <th>Salary</th>\n",
       "      <th>Bonus %</th>\n",
       "      <th>Senior Management</th>\n",
       "      <th>Team</th>\n",
       "    </tr>\n",
       "  </thead>\n",
       "  <tbody>\n",
       "    <tr>\n",
       "      <th>0</th>\n",
       "      <td>Douglas</td>\n",
       "      <td>Male</td>\n",
       "      <td>8/6/1993</td>\n",
       "      <td>12:42 PM</td>\n",
       "      <td>97308</td>\n",
       "      <td>6.945</td>\n",
       "      <td>True</td>\n",
       "      <td>Marketing</td>\n",
       "    </tr>\n",
       "    <tr>\n",
       "      <th>1</th>\n",
       "      <td>Thomas</td>\n",
       "      <td>Male</td>\n",
       "      <td>3/31/1996</td>\n",
       "      <td>6:53 AM</td>\n",
       "      <td>61933</td>\n",
       "      <td>4.170</td>\n",
       "      <td>True</td>\n",
       "      <td>-99</td>\n",
       "    </tr>\n",
       "    <tr>\n",
       "      <th>2</th>\n",
       "      <td>Maria</td>\n",
       "      <td>Female</td>\n",
       "      <td>4/23/1993</td>\n",
       "      <td>11:17 AM</td>\n",
       "      <td>130590</td>\n",
       "      <td>11.858</td>\n",
       "      <td>False</td>\n",
       "      <td>Finance</td>\n",
       "    </tr>\n",
       "    <tr>\n",
       "      <th>3</th>\n",
       "      <td>Jerry</td>\n",
       "      <td>Male</td>\n",
       "      <td>3/4/2005</td>\n",
       "      <td>1:00 PM</td>\n",
       "      <td>138705</td>\n",
       "      <td>9.340</td>\n",
       "      <td>True</td>\n",
       "      <td>Finance</td>\n",
       "    </tr>\n",
       "    <tr>\n",
       "      <th>4</th>\n",
       "      <td>Larry</td>\n",
       "      <td>Male</td>\n",
       "      <td>1/24/1998</td>\n",
       "      <td>4:47 PM</td>\n",
       "      <td>101004</td>\n",
       "      <td>1.389</td>\n",
       "      <td>True</td>\n",
       "      <td>Client Services</td>\n",
       "    </tr>\n",
       "    <tr>\n",
       "      <th>...</th>\n",
       "      <td>...</td>\n",
       "      <td>...</td>\n",
       "      <td>...</td>\n",
       "      <td>...</td>\n",
       "      <td>...</td>\n",
       "      <td>...</td>\n",
       "      <td>...</td>\n",
       "      <td>...</td>\n",
       "    </tr>\n",
       "    <tr>\n",
       "      <th>995</th>\n",
       "      <td>Henry</td>\n",
       "      <td>No Gender</td>\n",
       "      <td>11/23/2014</td>\n",
       "      <td>6:09 AM</td>\n",
       "      <td>132483</td>\n",
       "      <td>16.655</td>\n",
       "      <td>False</td>\n",
       "      <td>Distribution</td>\n",
       "    </tr>\n",
       "    <tr>\n",
       "      <th>996</th>\n",
       "      <td>Phillip</td>\n",
       "      <td>Male</td>\n",
       "      <td>1/31/1984</td>\n",
       "      <td>6:30 AM</td>\n",
       "      <td>42392</td>\n",
       "      <td>19.675</td>\n",
       "      <td>False</td>\n",
       "      <td>Finance</td>\n",
       "    </tr>\n",
       "    <tr>\n",
       "      <th>997</th>\n",
       "      <td>Russell</td>\n",
       "      <td>Male</td>\n",
       "      <td>5/20/2013</td>\n",
       "      <td>12:39 PM</td>\n",
       "      <td>96914</td>\n",
       "      <td>1.421</td>\n",
       "      <td>False</td>\n",
       "      <td>Product</td>\n",
       "    </tr>\n",
       "    <tr>\n",
       "      <th>998</th>\n",
       "      <td>Larry</td>\n",
       "      <td>Male</td>\n",
       "      <td>4/20/2013</td>\n",
       "      <td>4:45 PM</td>\n",
       "      <td>60500</td>\n",
       "      <td>11.985</td>\n",
       "      <td>False</td>\n",
       "      <td>Business Development</td>\n",
       "    </tr>\n",
       "    <tr>\n",
       "      <th>999</th>\n",
       "      <td>Albert</td>\n",
       "      <td>Male</td>\n",
       "      <td>5/15/2012</td>\n",
       "      <td>6:24 PM</td>\n",
       "      <td>129949</td>\n",
       "      <td>10.169</td>\n",
       "      <td>True</td>\n",
       "      <td>Sales</td>\n",
       "    </tr>\n",
       "  </tbody>\n",
       "</table>\n",
       "<p>1000 rows × 8 columns</p>\n",
       "</div>"
      ],
      "text/plain": [
       "    First Name     Gender  Start Date Last Login Time  Salary  Bonus %  \\\n",
       "0      Douglas       Male    8/6/1993        12:42 PM   97308    6.945   \n",
       "1       Thomas       Male   3/31/1996         6:53 AM   61933    4.170   \n",
       "2        Maria     Female   4/23/1993        11:17 AM  130590   11.858   \n",
       "3        Jerry       Male    3/4/2005         1:00 PM  138705    9.340   \n",
       "4        Larry       Male   1/24/1998         4:47 PM  101004    1.389   \n",
       "..         ...        ...         ...             ...     ...      ...   \n",
       "995      Henry  No Gender  11/23/2014         6:09 AM  132483   16.655   \n",
       "996    Phillip       Male   1/31/1984         6:30 AM   42392   19.675   \n",
       "997    Russell       Male   5/20/2013        12:39 PM   96914    1.421   \n",
       "998      Larry       Male   4/20/2013         4:45 PM   60500   11.985   \n",
       "999     Albert       Male   5/15/2012         6:24 PM  129949   10.169   \n",
       "\n",
       "    Senior Management                  Team  \n",
       "0                True             Marketing  \n",
       "1                True                   -99  \n",
       "2               False               Finance  \n",
       "3                True               Finance  \n",
       "4                True       Client Services  \n",
       "..                ...                   ...  \n",
       "995             False          Distribution  \n",
       "996             False               Finance  \n",
       "997             False               Product  \n",
       "998             False  Business Development  \n",
       "999              True                 Sales  \n",
       "\n",
       "[1000 rows x 8 columns]"
      ]
     },
     "execution_count": 7,
     "metadata": {},
     "output_type": "execute_result"
    }
   ],
   "source": [
    "df.replace(to_replace = np.nan, value = -99) "
   ]
  },
  {
   "cell_type": "code",
   "execution_count": 8,
   "id": "a5d6b30f",
   "metadata": {},
   "outputs": [
    {
     "data": {
      "text/html": [
       "<div>\n",
       "<style scoped>\n",
       "    .dataframe tbody tr th:only-of-type {\n",
       "        vertical-align: middle;\n",
       "    }\n",
       "\n",
       "    .dataframe tbody tr th {\n",
       "        vertical-align: top;\n",
       "    }\n",
       "\n",
       "    .dataframe thead th {\n",
       "        text-align: right;\n",
       "    }\n",
       "</style>\n",
       "<table border=\"1\" class=\"dataframe\">\n",
       "  <thead>\n",
       "    <tr style=\"text-align: right;\">\n",
       "      <th></th>\n",
       "      <th>A</th>\n",
       "      <th>B</th>\n",
       "      <th>C</th>\n",
       "      <th>D</th>\n",
       "    </tr>\n",
       "  </thead>\n",
       "  <tbody>\n",
       "    <tr>\n",
       "      <th>0</th>\n",
       "      <td>12.0</td>\n",
       "      <td>NaN</td>\n",
       "      <td>20.0</td>\n",
       "      <td>14.0</td>\n",
       "    </tr>\n",
       "    <tr>\n",
       "      <th>1</th>\n",
       "      <td>4.0</td>\n",
       "      <td>2.0</td>\n",
       "      <td>16.0</td>\n",
       "      <td>3.0</td>\n",
       "    </tr>\n",
       "    <tr>\n",
       "      <th>2</th>\n",
       "      <td>5.0</td>\n",
       "      <td>54.0</td>\n",
       "      <td>NaN</td>\n",
       "      <td>NaN</td>\n",
       "    </tr>\n",
       "    <tr>\n",
       "      <th>3</th>\n",
       "      <td>NaN</td>\n",
       "      <td>3.0</td>\n",
       "      <td>3.0</td>\n",
       "      <td>NaN</td>\n",
       "    </tr>\n",
       "    <tr>\n",
       "      <th>4</th>\n",
       "      <td>1.0</td>\n",
       "      <td>NaN</td>\n",
       "      <td>8.0</td>\n",
       "      <td>6.0</td>\n",
       "    </tr>\n",
       "  </tbody>\n",
       "</table>\n",
       "</div>"
      ],
      "text/plain": [
       "      A     B     C     D\n",
       "0  12.0   NaN  20.0  14.0\n",
       "1   4.0   2.0  16.0   3.0\n",
       "2   5.0  54.0   NaN   NaN\n",
       "3   NaN   3.0   3.0   NaN\n",
       "4   1.0   NaN   8.0   6.0"
      ]
     },
     "execution_count": 8,
     "metadata": {},
     "output_type": "execute_result"
    }
   ],
   "source": [
    "import pandas as pd\n",
    "\t\n",
    "# Creating the dataframe\n",
    "df = pd.DataFrame({\"A\":[12, 4, 5, None, 1],\n",
    "\t\t\t\t\"B\":[None, 2, 54, 3, None],\n",
    "\t\t\t\t\"C\":[20, 16, None, 3, 8],\n",
    "\t\t\t\t\"D\":[14, 3, None, None, 6]})\n",
    "\t\n",
    "# Print the dataframe\n",
    "df"
   ]
  },
  {
   "cell_type": "code",
   "execution_count": 9,
   "id": "050fdb0a",
   "metadata": {},
   "outputs": [
    {
     "data": {
      "text/html": [
       "<div>\n",
       "<style scoped>\n",
       "    .dataframe tbody tr th:only-of-type {\n",
       "        vertical-align: middle;\n",
       "    }\n",
       "\n",
       "    .dataframe tbody tr th {\n",
       "        vertical-align: top;\n",
       "    }\n",
       "\n",
       "    .dataframe thead th {\n",
       "        text-align: right;\n",
       "    }\n",
       "</style>\n",
       "<table border=\"1\" class=\"dataframe\">\n",
       "  <thead>\n",
       "    <tr style=\"text-align: right;\">\n",
       "      <th></th>\n",
       "      <th>A</th>\n",
       "      <th>B</th>\n",
       "      <th>C</th>\n",
       "      <th>D</th>\n",
       "    </tr>\n",
       "  </thead>\n",
       "  <tbody>\n",
       "    <tr>\n",
       "      <th>0</th>\n",
       "      <td>12.0</td>\n",
       "      <td>NaN</td>\n",
       "      <td>20.0</td>\n",
       "      <td>14.0</td>\n",
       "    </tr>\n",
       "    <tr>\n",
       "      <th>1</th>\n",
       "      <td>4.0</td>\n",
       "      <td>2.0</td>\n",
       "      <td>16.0</td>\n",
       "      <td>3.0</td>\n",
       "    </tr>\n",
       "    <tr>\n",
       "      <th>2</th>\n",
       "      <td>5.0</td>\n",
       "      <td>54.0</td>\n",
       "      <td>9.5</td>\n",
       "      <td>4.0</td>\n",
       "    </tr>\n",
       "    <tr>\n",
       "      <th>3</th>\n",
       "      <td>3.0</td>\n",
       "      <td>3.0</td>\n",
       "      <td>3.0</td>\n",
       "      <td>5.0</td>\n",
       "    </tr>\n",
       "    <tr>\n",
       "      <th>4</th>\n",
       "      <td>1.0</td>\n",
       "      <td>3.0</td>\n",
       "      <td>8.0</td>\n",
       "      <td>6.0</td>\n",
       "    </tr>\n",
       "  </tbody>\n",
       "</table>\n",
       "</div>"
      ],
      "text/plain": [
       "      A     B     C     D\n",
       "0  12.0   NaN  20.0  14.0\n",
       "1   4.0   2.0  16.0   3.0\n",
       "2   5.0  54.0   9.5   4.0\n",
       "3   3.0   3.0   3.0   5.0\n",
       "4   1.0   3.0   8.0   6.0"
      ]
     },
     "execution_count": 9,
     "metadata": {},
     "output_type": "execute_result"
    }
   ],
   "source": [
    "df.interpolate(method ='linear', limit_direction ='forward')"
   ]
  },
  {
   "cell_type": "code",
   "execution_count": 10,
   "id": "31129c0f",
   "metadata": {},
   "outputs": [
    {
     "data": {
      "text/html": [
       "<div>\n",
       "<style scoped>\n",
       "    .dataframe tbody tr th:only-of-type {\n",
       "        vertical-align: middle;\n",
       "    }\n",
       "\n",
       "    .dataframe tbody tr th {\n",
       "        vertical-align: top;\n",
       "    }\n",
       "\n",
       "    .dataframe thead th {\n",
       "        text-align: right;\n",
       "    }\n",
       "</style>\n",
       "<table border=\"1\" class=\"dataframe\">\n",
       "  <thead>\n",
       "    <tr style=\"text-align: right;\">\n",
       "      <th></th>\n",
       "      <th>First Score</th>\n",
       "      <th>Second Score</th>\n",
       "      <th>Third Score</th>\n",
       "      <th>Fourth Score</th>\n",
       "    </tr>\n",
       "  </thead>\n",
       "  <tbody>\n",
       "    <tr>\n",
       "      <th>0</th>\n",
       "      <td>100.0</td>\n",
       "      <td>30.0</td>\n",
       "      <td>52</td>\n",
       "      <td>NaN</td>\n",
       "    </tr>\n",
       "    <tr>\n",
       "      <th>1</th>\n",
       "      <td>90.0</td>\n",
       "      <td>NaN</td>\n",
       "      <td>40</td>\n",
       "      <td>NaN</td>\n",
       "    </tr>\n",
       "    <tr>\n",
       "      <th>2</th>\n",
       "      <td>NaN</td>\n",
       "      <td>45.0</td>\n",
       "      <td>80</td>\n",
       "      <td>NaN</td>\n",
       "    </tr>\n",
       "    <tr>\n",
       "      <th>3</th>\n",
       "      <td>95.0</td>\n",
       "      <td>56.0</td>\n",
       "      <td>98</td>\n",
       "      <td>65.0</td>\n",
       "    </tr>\n",
       "  </tbody>\n",
       "</table>\n",
       "</div>"
      ],
      "text/plain": [
       "   First Score  Second Score  Third Score  Fourth Score\n",
       "0        100.0          30.0           52           NaN\n",
       "1         90.0           NaN           40           NaN\n",
       "2          NaN          45.0           80           NaN\n",
       "3         95.0          56.0           98          65.0"
      ]
     },
     "execution_count": 10,
     "metadata": {},
     "output_type": "execute_result"
    }
   ],
   "source": [
    "# importing pandas as pd\n",
    "import pandas as pd\n",
    "\n",
    "# importing numpy as np\n",
    "import numpy as np\n",
    "\n",
    "# dictionary of lists\n",
    "dict = {'First Score':[100, 90, np.nan, 95],\n",
    "\t\t'Second Score': [30, np.nan, 45, 56],\n",
    "\t\t'Third Score':[52, 40, 80, 98],\n",
    "\t\t'Fourth Score':[np.nan, np.nan, np.nan, 65]}\n",
    "\n",
    "# creating a dataframe from dictionary\n",
    "df = pd.DataFrame(dict)\n",
    "\t\n",
    "df"
   ]
  },
  {
   "cell_type": "code",
   "execution_count": 11,
   "id": "aca62cbf",
   "metadata": {},
   "outputs": [
    {
     "data": {
      "text/html": [
       "<div>\n",
       "<style scoped>\n",
       "    .dataframe tbody tr th:only-of-type {\n",
       "        vertical-align: middle;\n",
       "    }\n",
       "\n",
       "    .dataframe tbody tr th {\n",
       "        vertical-align: top;\n",
       "    }\n",
       "\n",
       "    .dataframe thead th {\n",
       "        text-align: right;\n",
       "    }\n",
       "</style>\n",
       "<table border=\"1\" class=\"dataframe\">\n",
       "  <thead>\n",
       "    <tr style=\"text-align: right;\">\n",
       "      <th></th>\n",
       "      <th>First Score</th>\n",
       "      <th>Second Score</th>\n",
       "      <th>Third Score</th>\n",
       "      <th>Fourth Score</th>\n",
       "    </tr>\n",
       "  </thead>\n",
       "  <tbody>\n",
       "    <tr>\n",
       "      <th>3</th>\n",
       "      <td>95.0</td>\n",
       "      <td>56.0</td>\n",
       "      <td>98</td>\n",
       "      <td>65.0</td>\n",
       "    </tr>\n",
       "  </tbody>\n",
       "</table>\n",
       "</div>"
      ],
      "text/plain": [
       "   First Score  Second Score  Third Score  Fourth Score\n",
       "3         95.0          56.0           98          65.0"
      ]
     },
     "execution_count": 11,
     "metadata": {},
     "output_type": "execute_result"
    }
   ],
   "source": [
    "# importing pandas as pd\n",
    "import pandas as pd\n",
    "\n",
    "# importing numpy as np\n",
    "import numpy as np\n",
    "\n",
    "# dictionary of lists\n",
    "dict = {'First Score':[100, 90, np.nan, 95],\n",
    "\t\t'Second Score': [30, np.nan, 45, 56],\n",
    "\t\t'Third Score':[52, 40, 80, 98],\n",
    "\t\t'Fourth Score':[np.nan, np.nan, np.nan, 65]}\n",
    "\n",
    "# creating a dataframe from dictionary\n",
    "df = pd.DataFrame(dict)\n",
    "\n",
    "# using dropna() function\n",
    "df.dropna()"
   ]
  },
  {
   "cell_type": "code",
   "execution_count": 12,
   "id": "6e975955",
   "metadata": {},
   "outputs": [
    {
     "data": {
      "text/html": [
       "<div>\n",
       "<style scoped>\n",
       "    .dataframe tbody tr th:only-of-type {\n",
       "        vertical-align: middle;\n",
       "    }\n",
       "\n",
       "    .dataframe tbody tr th {\n",
       "        vertical-align: top;\n",
       "    }\n",
       "\n",
       "    .dataframe thead th {\n",
       "        text-align: right;\n",
       "    }\n",
       "</style>\n",
       "<table border=\"1\" class=\"dataframe\">\n",
       "  <thead>\n",
       "    <tr style=\"text-align: right;\">\n",
       "      <th></th>\n",
       "      <th>First Score</th>\n",
       "      <th>Second Score</th>\n",
       "      <th>Third Score</th>\n",
       "      <th>Fourth Score</th>\n",
       "    </tr>\n",
       "  </thead>\n",
       "  <tbody>\n",
       "    <tr>\n",
       "      <th>0</th>\n",
       "      <td>100.0</td>\n",
       "      <td>30.0</td>\n",
       "      <td>52.0</td>\n",
       "      <td>NaN</td>\n",
       "    </tr>\n",
       "    <tr>\n",
       "      <th>1</th>\n",
       "      <td>NaN</td>\n",
       "      <td>NaN</td>\n",
       "      <td>NaN</td>\n",
       "      <td>NaN</td>\n",
       "    </tr>\n",
       "    <tr>\n",
       "      <th>2</th>\n",
       "      <td>NaN</td>\n",
       "      <td>45.0</td>\n",
       "      <td>80.0</td>\n",
       "      <td>NaN</td>\n",
       "    </tr>\n",
       "    <tr>\n",
       "      <th>3</th>\n",
       "      <td>95.0</td>\n",
       "      <td>56.0</td>\n",
       "      <td>98.0</td>\n",
       "      <td>65.0</td>\n",
       "    </tr>\n",
       "  </tbody>\n",
       "</table>\n",
       "</div>"
      ],
      "text/plain": [
       "   First Score  Second Score  Third Score  Fourth Score\n",
       "0        100.0          30.0         52.0           NaN\n",
       "1          NaN           NaN          NaN           NaN\n",
       "2          NaN          45.0         80.0           NaN\n",
       "3         95.0          56.0         98.0          65.0"
      ]
     },
     "execution_count": 12,
     "metadata": {},
     "output_type": "execute_result"
    }
   ],
   "source": [
    "# importing pandas as pd\n",
    "import pandas as pd\n",
    "\n",
    "# importing numpy as np\n",
    "import numpy as np\n",
    "\n",
    "# dictionary of lists\n",
    "dict = {'First Score':[100, np.nan, np.nan, 95],\n",
    "\t\t'Second Score': [30, np.nan, 45, 56],\n",
    "\t\t'Third Score':[52, np.nan, 80, 98],\n",
    "\t\t'Fourth Score':[np.nan, np.nan, np.nan, 65]}\n",
    "\n",
    "# creating a dataframe from dictionary\n",
    "df = pd.DataFrame(dict)\n",
    "\t\n",
    "df\n"
   ]
  },
  {
   "cell_type": "code",
   "execution_count": 14,
   "id": "71c7918f",
   "metadata": {},
   "outputs": [
    {
     "data": {
      "text/html": [
       "<div>\n",
       "<style scoped>\n",
       "    .dataframe tbody tr th:only-of-type {\n",
       "        vertical-align: middle;\n",
       "    }\n",
       "\n",
       "    .dataframe tbody tr th {\n",
       "        vertical-align: top;\n",
       "    }\n",
       "\n",
       "    .dataframe thead th {\n",
       "        text-align: right;\n",
       "    }\n",
       "</style>\n",
       "<table border=\"1\" class=\"dataframe\">\n",
       "  <thead>\n",
       "    <tr style=\"text-align: right;\">\n",
       "      <th></th>\n",
       "      <th>First Score</th>\n",
       "      <th>Second Score</th>\n",
       "      <th>Third Score</th>\n",
       "      <th>Fourth Score</th>\n",
       "    </tr>\n",
       "  </thead>\n",
       "  <tbody>\n",
       "    <tr>\n",
       "      <th>0</th>\n",
       "      <td>100.0</td>\n",
       "      <td>30.0</td>\n",
       "      <td>52.0</td>\n",
       "      <td>NaN</td>\n",
       "    </tr>\n",
       "    <tr>\n",
       "      <th>2</th>\n",
       "      <td>NaN</td>\n",
       "      <td>45.0</td>\n",
       "      <td>80.0</td>\n",
       "      <td>NaN</td>\n",
       "    </tr>\n",
       "    <tr>\n",
       "      <th>3</th>\n",
       "      <td>95.0</td>\n",
       "      <td>56.0</td>\n",
       "      <td>98.0</td>\n",
       "      <td>65.0</td>\n",
       "    </tr>\n",
       "  </tbody>\n",
       "</table>\n",
       "</div>"
      ],
      "text/plain": [
       "   First Score  Second Score  Third Score  Fourth Score\n",
       "0        100.0          30.0         52.0           NaN\n",
       "2          NaN          45.0         80.0           NaN\n",
       "3         95.0          56.0         98.0          65.0"
      ]
     },
     "execution_count": 14,
     "metadata": {},
     "output_type": "execute_result"
    }
   ],
   "source": [
    "# importing pandas as pd\n",
    "import pandas as pd\n",
    "\n",
    "# importing numpy as np\n",
    "import numpy as np\n",
    "\n",
    "# dictionary of lists\n",
    "dict = {'First Score':[100, np.nan, np.nan, 95],\n",
    "\t\t'Second Score': [30, np.nan, 45, 56],\n",
    "\t\t'Third Score':[52, np.nan, 80, 98],\n",
    "\t\t'Fourth Score':[np.nan, np.nan, np.nan, 65]}\n",
    "\n",
    "df = pd.DataFrame(dict)\n",
    "\n",
    "# using dropna() function\t\n",
    "df.dropna(how = 'all')"
   ]
  },
  {
   "cell_type": "code",
   "execution_count": 15,
   "id": "5b8c2235",
   "metadata": {},
   "outputs": [
    {
     "data": {
      "text/html": [
       "<div>\n",
       "<style scoped>\n",
       "    .dataframe tbody tr th:only-of-type {\n",
       "        vertical-align: middle;\n",
       "    }\n",
       "\n",
       "    .dataframe tbody tr th {\n",
       "        vertical-align: top;\n",
       "    }\n",
       "\n",
       "    .dataframe thead th {\n",
       "        text-align: right;\n",
       "    }\n",
       "</style>\n",
       "<table border=\"1\" class=\"dataframe\">\n",
       "  <thead>\n",
       "    <tr style=\"text-align: right;\">\n",
       "      <th></th>\n",
       "      <th>First Score</th>\n",
       "      <th>Second Score</th>\n",
       "      <th>Third Score</th>\n",
       "      <th>Fourth Score</th>\n",
       "    </tr>\n",
       "  </thead>\n",
       "  <tbody>\n",
       "    <tr>\n",
       "      <th>0</th>\n",
       "      <td>100.0</td>\n",
       "      <td>30.0</td>\n",
       "      <td>52.0</td>\n",
       "      <td>60</td>\n",
       "    </tr>\n",
       "    <tr>\n",
       "      <th>1</th>\n",
       "      <td>NaN</td>\n",
       "      <td>NaN</td>\n",
       "      <td>NaN</td>\n",
       "      <td>67</td>\n",
       "    </tr>\n",
       "    <tr>\n",
       "      <th>2</th>\n",
       "      <td>NaN</td>\n",
       "      <td>45.0</td>\n",
       "      <td>80.0</td>\n",
       "      <td>68</td>\n",
       "    </tr>\n",
       "    <tr>\n",
       "      <th>3</th>\n",
       "      <td>95.0</td>\n",
       "      <td>56.0</td>\n",
       "      <td>98.0</td>\n",
       "      <td>65</td>\n",
       "    </tr>\n",
       "  </tbody>\n",
       "</table>\n",
       "</div>"
      ],
      "text/plain": [
       "   First Score  Second Score  Third Score  Fourth Score\n",
       "0        100.0          30.0         52.0            60\n",
       "1          NaN           NaN          NaN            67\n",
       "2          NaN          45.0         80.0            68\n",
       "3         95.0          56.0         98.0            65"
      ]
     },
     "execution_count": 15,
     "metadata": {},
     "output_type": "execute_result"
    }
   ],
   "source": [
    "# importing pandas as pd\n",
    "import pandas as pd\n",
    "\n",
    "# importing numpy as np\n",
    "import numpy as np\n",
    "\n",
    "# dictionary of lists\n",
    "dict = {'First Score':[100, np.nan, np.nan, 95],\n",
    "\t\t'Second Score': [30, np.nan, 45, 56],\n",
    "\t\t'Third Score':[52, np.nan, 80, 98],\n",
    "\t\t'Fourth Score':[60, 67, 68, 65]}\n",
    "\n",
    "# creating a dataframe from dictionary\n",
    "df = pd.DataFrame(dict)\n",
    "\t\n",
    "df"
   ]
  },
  {
   "cell_type": "code",
   "execution_count": 16,
   "id": "d93d6f8c",
   "metadata": {},
   "outputs": [
    {
     "data": {
      "text/html": [
       "<div>\n",
       "<style scoped>\n",
       "    .dataframe tbody tr th:only-of-type {\n",
       "        vertical-align: middle;\n",
       "    }\n",
       "\n",
       "    .dataframe tbody tr th {\n",
       "        vertical-align: top;\n",
       "    }\n",
       "\n",
       "    .dataframe thead th {\n",
       "        text-align: right;\n",
       "    }\n",
       "</style>\n",
       "<table border=\"1\" class=\"dataframe\">\n",
       "  <thead>\n",
       "    <tr style=\"text-align: right;\">\n",
       "      <th></th>\n",
       "      <th>Fourth Score</th>\n",
       "    </tr>\n",
       "  </thead>\n",
       "  <tbody>\n",
       "    <tr>\n",
       "      <th>0</th>\n",
       "      <td>60</td>\n",
       "    </tr>\n",
       "    <tr>\n",
       "      <th>1</th>\n",
       "      <td>67</td>\n",
       "    </tr>\n",
       "    <tr>\n",
       "      <th>2</th>\n",
       "      <td>68</td>\n",
       "    </tr>\n",
       "    <tr>\n",
       "      <th>3</th>\n",
       "      <td>65</td>\n",
       "    </tr>\n",
       "  </tbody>\n",
       "</table>\n",
       "</div>"
      ],
      "text/plain": [
       "   Fourth Score\n",
       "0            60\n",
       "1            67\n",
       "2            68\n",
       "3            65"
      ]
     },
     "execution_count": 16,
     "metadata": {},
     "output_type": "execute_result"
    }
   ],
   "source": [
    "# importing pandas as pd\n",
    "import pandas as pd\n",
    "\n",
    "# importing numpy as np\n",
    "import numpy as np\n",
    "\n",
    "# dictionary of lists\n",
    "dict = {'First Score':[100, np.nan, np.nan, 95],\n",
    "\t\t'Second Score': [30, np.nan, 45, 56],\n",
    "\t\t'Third Score':[52, np.nan, 80, 98],\n",
    "\t\t'Fourth Score':[60, 67, 68, 65]}\n",
    "\n",
    "# creating a dataframe from dictionary\n",
    "df = pd.DataFrame(dict)\n",
    "\n",
    "# using dropna() function\t\n",
    "df.dropna(axis = 1)"
   ]
  },
  {
   "cell_type": "code",
   "execution_count": 17,
   "id": "1d602edb",
   "metadata": {},
   "outputs": [
    {
     "data": {
      "text/html": [
       "<div>\n",
       "<style scoped>\n",
       "    .dataframe tbody tr th:only-of-type {\n",
       "        vertical-align: middle;\n",
       "    }\n",
       "\n",
       "    .dataframe tbody tr th {\n",
       "        vertical-align: top;\n",
       "    }\n",
       "\n",
       "    .dataframe thead th {\n",
       "        text-align: right;\n",
       "    }\n",
       "</style>\n",
       "<table border=\"1\" class=\"dataframe\">\n",
       "  <thead>\n",
       "    <tr style=\"text-align: right;\">\n",
       "      <th></th>\n",
       "      <th>First Name</th>\n",
       "      <th>Gender</th>\n",
       "      <th>Start Date</th>\n",
       "      <th>Last Login Time</th>\n",
       "      <th>Salary</th>\n",
       "      <th>Bonus %</th>\n",
       "      <th>Senior Management</th>\n",
       "      <th>Team</th>\n",
       "    </tr>\n",
       "  </thead>\n",
       "  <tbody>\n",
       "    <tr>\n",
       "      <th>0</th>\n",
       "      <td>Douglas</td>\n",
       "      <td>Male</td>\n",
       "      <td>8/6/1993</td>\n",
       "      <td>12:42 PM</td>\n",
       "      <td>97308</td>\n",
       "      <td>6.945</td>\n",
       "      <td>True</td>\n",
       "      <td>Marketing</td>\n",
       "    </tr>\n",
       "    <tr>\n",
       "      <th>2</th>\n",
       "      <td>Maria</td>\n",
       "      <td>Female</td>\n",
       "      <td>4/23/1993</td>\n",
       "      <td>11:17 AM</td>\n",
       "      <td>130590</td>\n",
       "      <td>11.858</td>\n",
       "      <td>False</td>\n",
       "      <td>Finance</td>\n",
       "    </tr>\n",
       "    <tr>\n",
       "      <th>3</th>\n",
       "      <td>Jerry</td>\n",
       "      <td>Male</td>\n",
       "      <td>3/4/2005</td>\n",
       "      <td>1:00 PM</td>\n",
       "      <td>138705</td>\n",
       "      <td>9.340</td>\n",
       "      <td>True</td>\n",
       "      <td>Finance</td>\n",
       "    </tr>\n",
       "    <tr>\n",
       "      <th>4</th>\n",
       "      <td>Larry</td>\n",
       "      <td>Male</td>\n",
       "      <td>1/24/1998</td>\n",
       "      <td>4:47 PM</td>\n",
       "      <td>101004</td>\n",
       "      <td>1.389</td>\n",
       "      <td>True</td>\n",
       "      <td>Client Services</td>\n",
       "    </tr>\n",
       "    <tr>\n",
       "      <th>5</th>\n",
       "      <td>Dennis</td>\n",
       "      <td>Male</td>\n",
       "      <td>4/18/1987</td>\n",
       "      <td>1:35 AM</td>\n",
       "      <td>115163</td>\n",
       "      <td>10.125</td>\n",
       "      <td>False</td>\n",
       "      <td>Legal</td>\n",
       "    </tr>\n",
       "    <tr>\n",
       "      <th>...</th>\n",
       "      <td>...</td>\n",
       "      <td>...</td>\n",
       "      <td>...</td>\n",
       "      <td>...</td>\n",
       "      <td>...</td>\n",
       "      <td>...</td>\n",
       "      <td>...</td>\n",
       "      <td>...</td>\n",
       "    </tr>\n",
       "    <tr>\n",
       "      <th>994</th>\n",
       "      <td>George</td>\n",
       "      <td>Male</td>\n",
       "      <td>6/21/2013</td>\n",
       "      <td>5:47 PM</td>\n",
       "      <td>98874</td>\n",
       "      <td>4.479</td>\n",
       "      <td>True</td>\n",
       "      <td>Marketing</td>\n",
       "    </tr>\n",
       "    <tr>\n",
       "      <th>996</th>\n",
       "      <td>Phillip</td>\n",
       "      <td>Male</td>\n",
       "      <td>1/31/1984</td>\n",
       "      <td>6:30 AM</td>\n",
       "      <td>42392</td>\n",
       "      <td>19.675</td>\n",
       "      <td>False</td>\n",
       "      <td>Finance</td>\n",
       "    </tr>\n",
       "    <tr>\n",
       "      <th>997</th>\n",
       "      <td>Russell</td>\n",
       "      <td>Male</td>\n",
       "      <td>5/20/2013</td>\n",
       "      <td>12:39 PM</td>\n",
       "      <td>96914</td>\n",
       "      <td>1.421</td>\n",
       "      <td>False</td>\n",
       "      <td>Product</td>\n",
       "    </tr>\n",
       "    <tr>\n",
       "      <th>998</th>\n",
       "      <td>Larry</td>\n",
       "      <td>Male</td>\n",
       "      <td>4/20/2013</td>\n",
       "      <td>4:45 PM</td>\n",
       "      <td>60500</td>\n",
       "      <td>11.985</td>\n",
       "      <td>False</td>\n",
       "      <td>Business Development</td>\n",
       "    </tr>\n",
       "    <tr>\n",
       "      <th>999</th>\n",
       "      <td>Albert</td>\n",
       "      <td>Male</td>\n",
       "      <td>5/15/2012</td>\n",
       "      <td>6:24 PM</td>\n",
       "      <td>129949</td>\n",
       "      <td>10.169</td>\n",
       "      <td>True</td>\n",
       "      <td>Sales</td>\n",
       "    </tr>\n",
       "  </tbody>\n",
       "</table>\n",
       "<p>764 rows × 8 columns</p>\n",
       "</div>"
      ],
      "text/plain": [
       "    First Name  Gender Start Date Last Login Time  Salary  Bonus %  \\\n",
       "0      Douglas    Male   8/6/1993        12:42 PM   97308    6.945   \n",
       "2        Maria  Female  4/23/1993        11:17 AM  130590   11.858   \n",
       "3        Jerry    Male   3/4/2005         1:00 PM  138705    9.340   \n",
       "4        Larry    Male  1/24/1998         4:47 PM  101004    1.389   \n",
       "5       Dennis    Male  4/18/1987         1:35 AM  115163   10.125   \n",
       "..         ...     ...        ...             ...     ...      ...   \n",
       "994     George    Male  6/21/2013         5:47 PM   98874    4.479   \n",
       "996    Phillip    Male  1/31/1984         6:30 AM   42392   19.675   \n",
       "997    Russell    Male  5/20/2013        12:39 PM   96914    1.421   \n",
       "998      Larry    Male  4/20/2013         4:45 PM   60500   11.985   \n",
       "999     Albert    Male  5/15/2012         6:24 PM  129949   10.169   \n",
       "\n",
       "    Senior Management                  Team  \n",
       "0                True             Marketing  \n",
       "2               False               Finance  \n",
       "3                True               Finance  \n",
       "4                True       Client Services  \n",
       "5               False                 Legal  \n",
       "..                ...                   ...  \n",
       "994              True             Marketing  \n",
       "996             False               Finance  \n",
       "997             False               Product  \n",
       "998             False  Business Development  \n",
       "999              True                 Sales  \n",
       "\n",
       "[764 rows x 8 columns]"
      ]
     },
     "execution_count": 17,
     "metadata": {},
     "output_type": "execute_result"
    }
   ],
   "source": [
    "import pandas as pd\n",
    "path=\"C:\\\\Users\\\\OJUS\\\\OneDrive\\\\Desktop\\\\⠀\\\\DBDA\\\\Data Set\\\\employees.csv\"\n",
    "data = pd.read_csv(path)\n",
    "\n",
    "# making new data frame with dropped NA values \n",
    "new_data = data.dropna(axis = 0, how ='any') \n",
    "    \n",
    "new_data"
   ]
  },
  {
   "cell_type": "code",
   "execution_count": 18,
   "id": "08d565b6",
   "metadata": {},
   "outputs": [
    {
     "name": "stdout",
     "output_type": "stream",
     "text": [
      "Old data frame length: 1000\n",
      "New data frame length: 764\n",
      "Number of rows with at least 1 NA value:  236\n"
     ]
    }
   ],
   "source": [
    "print(\"Old data frame length:\", len(data))\n",
    "print(\"New data frame length:\", len(new_data)) \n",
    "print(\"Number of rows with at least 1 NA value: \", (len(data)-len(new_data)))"
   ]
  },
  {
   "cell_type": "code",
   "execution_count": 19,
   "id": "456d3af6",
   "metadata": {},
   "outputs": [
    {
     "name": "stdout",
     "output_type": "stream",
     "text": [
      "    Rollno  Marks  Gender   Age  PhD\n",
      "0        1  140.0       1  47.0  Yes\n",
      "1        2   30.0       0  65.0  Yes\n",
      "2        3   35.1       0  56.0   No\n",
      "3        4   30.0       1  23.0   No\n",
      "4        5   80.0       0   NaN  Yes\n",
      "..     ...    ...     ...   ...  ...\n",
      "95      96   18.6       1  26.0   No\n",
      "96      97  152.0       1  56.0  Yes\n",
      "97      98    1.8       1  28.0   No\n",
      "98      99   35.0       0  44.0  NaN\n",
      "99     100    4.0       0  24.0   No\n",
      "\n",
      "[100 rows x 5 columns]\n"
     ]
    }
   ],
   "source": [
    "import pandas as pd\n",
    "path=\"C:\\\\Users\\\\OJUS\\\\OneDrive\\\\Desktop\\\\⠀\\\\DBDA\\\\Data Set\\\\AcademicPerformance.csv\"\n",
    "df = pd.read_csv(path)\n",
    "print(df)"
   ]
  },
  {
   "cell_type": "code",
   "execution_count": 20,
   "id": "f6ccbe58",
   "metadata": {},
   "outputs": [
    {
     "data": {
      "text/plain": [
       "(100, 5)"
      ]
     },
     "execution_count": 20,
     "metadata": {},
     "output_type": "execute_result"
    }
   ],
   "source": [
    "df.shape"
   ]
  },
  {
   "cell_type": "code",
   "execution_count": 21,
   "id": "8174ddfd",
   "metadata": {},
   "outputs": [
    {
     "name": "stdout",
     "output_type": "stream",
     "text": [
      "Rollno     0\n",
      "Marks      0\n",
      "Gender     0\n",
      "Age       16\n",
      "PhD       13\n",
      "dtype: int64\n"
     ]
    }
   ],
   "source": [
    "print(df.isnull().sum())"
   ]
  },
  {
   "cell_type": "code",
   "execution_count": 22,
   "id": "671fe30d",
   "metadata": {},
   "outputs": [
    {
     "name": "stdout",
     "output_type": "stream",
     "text": [
      "Rollno    0\n",
      "Marks     0\n",
      "Gender    0\n",
      "Age       0\n",
      "PhD       0\n",
      "dtype: int64\n"
     ]
    }
   ],
   "source": [
    "df.dropna(inplace=True)\n",
    "print(df.isnull().sum())"
   ]
  },
  {
   "cell_type": "code",
   "execution_count": 24,
   "id": "1c3dbf59",
   "metadata": {},
   "outputs": [
    {
     "name": "stdout",
     "output_type": "stream",
     "text": [
      "    Rollno  Marks  Gender   Age  PhD\n",
      "0        1  140.0       1  47.0  Yes\n",
      "1        2   30.0       0  65.0  Yes\n",
      "2        3   35.1       0  56.0   No\n",
      "3        4   30.0       1  23.0   No\n",
      "4        5   80.0       0   NaN  Yes\n",
      "..     ...    ...     ...   ...  ...\n",
      "95      96   18.6       1  26.0   No\n",
      "96      97  152.0       1  56.0  Yes\n",
      "97      98    1.8       1  28.0   No\n",
      "98      99   35.0       0  44.0  NaN\n",
      "99     100    4.0       0  24.0   No\n",
      "\n",
      "[100 rows x 5 columns]\n"
     ]
    }
   ],
   "source": [
    "import pandas as pd\n",
    "path=\"C:\\\\Users\\\\OJUS\\\\OneDrive\\\\Desktop\\\\⠀\\\\DBDA\\\\Data Set\\\\AcademicPerformance.csv\"\n",
    "df = pd.read_csv(path)\n",
    "print(df)"
   ]
  },
  {
   "cell_type": "code",
   "execution_count": 25,
   "id": "9388b9f9",
   "metadata": {},
   "outputs": [
    {
     "name": "stdout",
     "output_type": "stream",
     "text": [
      "0    47.000000\n",
      "1    65.000000\n",
      "2    56.000000\n",
      "3    23.000000\n",
      "4    47.821429\n",
      "5    27.000000\n",
      "6    53.000000\n",
      "7    47.821429\n",
      "8    44.000000\n",
      "9    63.000000\n",
      "Name: Age, dtype: float64\n"
     ]
    }
   ],
   "source": [
    "df[\"Age\"] = df[\"Age\"].replace(np.NaN,df[\"Age\"].mean())\n",
    "print(df[\"Age\"][:10])"
   ]
  },
  {
   "cell_type": "code",
   "execution_count": 26,
   "id": "46073ffb",
   "metadata": {},
   "outputs": [
    {
     "name": "stdout",
     "output_type": "stream",
     "text": [
      "    Rollno  Marks  Gender   Age  PhD\n",
      "0        1  140.0       1  47.0  Yes\n",
      "1        2   30.0       0  65.0  Yes\n",
      "2        3   35.1       0  56.0   No\n",
      "3        4   30.0       1  23.0   No\n",
      "4        5   80.0       0   NaN  Yes\n",
      "..     ...    ...     ...   ...  ...\n",
      "95      96   18.6       1  26.0   No\n",
      "96      97  152.0       1  56.0  Yes\n",
      "97      98    1.8       1  28.0   No\n",
      "98      99   35.0       0  44.0  NaN\n",
      "99     100    4.0       0  24.0   No\n",
      "\n",
      "[100 rows x 5 columns]\n"
     ]
    }
   ],
   "source": [
    "import pandas as pd\n",
    "path=\"C:\\\\Users\\\\OJUS\\\\OneDrive\\\\Desktop\\\\⠀\\\\DBDA\\\\Data Set\\\\AcademicPerformance.csv\"\n",
    "df = pd.read_csv(path)\n",
    "print(df)"
   ]
  },
  {
   "cell_type": "code",
   "execution_count": 28,
   "id": "01f87433",
   "metadata": {},
   "outputs": [
    {
     "name": "stdout",
     "output_type": "stream",
     "text": [
      "0    47.0\n",
      "1    65.0\n",
      "2    56.0\n",
      "3    23.0\n",
      "4    50.0\n",
      "5    27.0\n",
      "6    53.0\n",
      "7    50.0\n",
      "8    44.0\n",
      "9    63.0\n",
      "Name: Age, dtype: float64\n"
     ]
    }
   ],
   "source": [
    "df[\"Age\"] = df[\"Age\"].replace(np.NaN,df[\"Age\"].median())\n",
    "print(df[\"Age\"][:10])"
   ]
  },
  {
   "cell_type": "code",
   "execution_count": 29,
   "id": "160778e5",
   "metadata": {},
   "outputs": [
    {
     "name": "stdout",
     "output_type": "stream",
     "text": [
      "    Rollno  Marks  Gender   Age  PhD\n",
      "0        1  140.0       1  47.0  Yes\n",
      "1        2   30.0       0  65.0  Yes\n",
      "2        3   35.1       0  56.0   No\n",
      "3        4   30.0       1  23.0   No\n",
      "4        5   80.0       0   NaN  Yes\n",
      "..     ...    ...     ...   ...  ...\n",
      "95      96   18.6       1  26.0   No\n",
      "96      97  152.0       1  56.0  Yes\n",
      "97      98    1.8       1  28.0   No\n",
      "98      99   35.0       0  44.0  NaN\n",
      "99     100    4.0       0  24.0   No\n",
      "\n",
      "[100 rows x 5 columns]\n"
     ]
    }
   ],
   "source": [
    "import pandas as pd\n",
    "path=\"C:\\\\Users\\\\OJUS\\\\OneDrive\\\\Desktop\\\\⠀\\\\DBDA\\\\Data Set\\\\AcademicPerformance.csv\"\n",
    "df = pd.read_csv(path)\n",
    "print(df)"
   ]
  },
  {
   "cell_type": "code",
   "execution_count": 30,
   "id": "f39495ee",
   "metadata": {},
   "outputs": [
    {
     "name": "stdout",
     "output_type": "stream",
     "text": [
      "0    47.0\n",
      "1    65.0\n",
      "2    56.0\n",
      "3    23.0\n",
      "4    65.0\n",
      "5    27.0\n",
      "6    53.0\n",
      "7    65.0\n",
      "8    44.0\n",
      "9    63.0\n",
      "Name: Age, dtype: float64\n"
     ]
    }
   ],
   "source": [
    "import statistics\n",
    "df[\"Age\"] = df[\"Age\"].replace(np.NaN, statistics.mode(df[\"Age\"]))\n",
    "print(df[\"Age\"][:10])"
   ]
  },
  {
   "cell_type": "code",
   "execution_count": 31,
   "id": "c4c0c320",
   "metadata": {},
   "outputs": [
    {
     "name": "stdout",
     "output_type": "stream",
     "text": [
      "    Rollno  Marks  Gender   Age  PhD\n",
      "0        1  140.0       1  47.0  Yes\n",
      "1        2   30.0       0  65.0  Yes\n",
      "2        3   35.1       0  56.0   No\n",
      "3        4   30.0       1  23.0   No\n",
      "4        5   80.0       0   NaN  Yes\n",
      "..     ...    ...     ...   ...  ...\n",
      "95      96   18.6       1  26.0   No\n",
      "96      97  152.0       1  56.0  Yes\n",
      "97      98    1.8       1  28.0   No\n",
      "98      99   35.0       0  44.0  NaN\n",
      "99     100    4.0       0  24.0   No\n",
      "\n",
      "[100 rows x 5 columns]\n"
     ]
    }
   ],
   "source": [
    "import pandas as pd\n",
    "path=\"C:\\\\Users\\\\OJUS\\\\OneDrive\\\\Desktop\\\\⠀\\\\DBDA\\\\Data Set\\\\AcademicPerformance.csv\"\n",
    "df = pd.read_csv(path)\n",
    "print(df)"
   ]
  },
  {
   "cell_type": "code",
   "execution_count": 32,
   "id": "82d4aa4c",
   "metadata": {},
   "outputs": [
    {
     "data": {
      "text/plain": [
       "Rollno     0\n",
       "Marks      0\n",
       "Gender     0\n",
       "Age       16\n",
       "PhD       13\n",
       "dtype: int64"
      ]
     },
     "execution_count": 32,
     "metadata": {},
     "output_type": "execute_result"
    }
   ],
   "source": [
    "df.isnull().sum()"
   ]
  },
  {
   "cell_type": "code",
   "execution_count": 33,
   "id": "2f119299",
   "metadata": {},
   "outputs": [
    {
     "data": {
      "text/plain": [
       "Rollno     0\n",
       "Marks      0\n",
       "Gender     0\n",
       "Age       16\n",
       "PhD        0\n",
       "dtype: int64"
      ]
     },
     "execution_count": 33,
     "metadata": {},
     "output_type": "execute_result"
    }
   ],
   "source": [
    "df[\"PhD\"] = df[\"PhD\"].fillna('U')\n",
    "df.isnull().sum()"
   ]
  },
  {
   "cell_type": "code",
   "execution_count": 34,
   "id": "d735d55c",
   "metadata": {},
   "outputs": [
    {
     "name": "stdout",
     "output_type": "stream",
     "text": [
      "    Rollno  Marks  Gender   Age  PhD\n",
      "0        1  140.0       1  47.0  Yes\n",
      "1        2   30.0       0  65.0  Yes\n",
      "2        3   35.1       0  56.0   No\n",
      "3        4   30.0       1  23.0   No\n",
      "4        5   80.0       0   NaN  Yes\n",
      "..     ...    ...     ...   ...  ...\n",
      "95      96   18.6       1  26.0   No\n",
      "96      97  152.0       1  56.0  Yes\n",
      "97      98    1.8       1  28.0   No\n",
      "98      99   35.0       0  44.0    U\n",
      "99     100    4.0       0  24.0   No\n",
      "\n",
      "[100 rows x 5 columns]\n"
     ]
    }
   ],
   "source": [
    "print(df)"
   ]
  },
  {
   "cell_type": "code",
   "execution_count": 35,
   "id": "cfff99e2",
   "metadata": {},
   "outputs": [
    {
     "name": "stdout",
     "output_type": "stream",
     "text": [
      "    Rollno  Marks  Gender   Age  PhD\n",
      "0        1  140.0       1  47.0  Yes\n",
      "1        2   30.0       0  65.0  Yes\n",
      "2        3   35.1       0  56.0   No\n",
      "3        4   30.0       1  23.0   No\n",
      "4        5   80.0       0  23.0  Yes\n",
      "..     ...    ...     ...   ...  ...\n",
      "95      96   18.6       1  26.0   No\n",
      "96      97  152.0       1  56.0  Yes\n",
      "97      98    1.8       1  28.0   No\n",
      "98      99   35.0       0  44.0  NaN\n",
      "99     100    4.0       0  24.0   No\n",
      "\n",
      "[100 rows x 5 columns]\n"
     ]
    }
   ],
   "source": [
    "import pandas as pd\n",
    "path=\"C:\\\\Users\\\\OJUS\\\\OneDrive\\\\Desktop\\\\⠀\\\\DBDA\\\\Data Set\\\\AcademicPerformance.csv\"\n",
    "dataset = pd.read_csv(path)\n",
    "\n",
    "#LOCF - last observation carried forward\n",
    "\n",
    "dataset[\"Age\"] = dataset[\"Age\"].fillna(method ='ffill')\n",
    "\n",
    "dataset.isnull().sum()\n",
    "\n",
    "print(dataset)"
   ]
  },
  {
   "cell_type": "code",
   "execution_count": 36,
   "id": "7cd60af4",
   "metadata": {},
   "outputs": [
    {
     "name": "stdout",
     "output_type": "stream",
     "text": [
      "    Rollno  Marks  Gender   Age  PhD\n",
      "0        1  140.0       1  47.0  Yes\n",
      "1        2   30.0       0  65.0  Yes\n",
      "2        3   35.1       0  56.0   No\n",
      "3        4   30.0       1  23.0   No\n",
      "4        5   80.0       0  25.0  Yes\n",
      "..     ...    ...     ...   ...  ...\n",
      "95      96   18.6       1  26.0   No\n",
      "96      97  152.0       1  56.0  Yes\n",
      "97      98    1.8       1  28.0   No\n",
      "98      99   35.0       0  44.0  NaN\n",
      "99     100    4.0       0  24.0   No\n",
      "\n",
      "[100 rows x 5 columns]\n"
     ]
    },
    {
     "data": {
      "text/plain": [
       "Rollno     0\n",
       "Marks      0\n",
       "Gender     0\n",
       "Age        0\n",
       "PhD       13\n",
       "dtype: int64"
      ]
     },
     "execution_count": 36,
     "metadata": {},
     "output_type": "execute_result"
    }
   ],
   "source": [
    "import pandas as pd\n",
    "import numpy as np\n",
    "\n",
    "path=\"C:\\\\Users\\\\OJUS\\\\OneDrive\\\\Desktop\\\\⠀\\\\DBDA\\\\Data Set\\\\AcademicPerformance.csv\"\n",
    "dataset = pd.read_csv(path)\n",
    "\n",
    "#interpolation - linear\n",
    "\n",
    "dataset[\"Age\"] = dataset[\"Age\"].interpolate(method='linear', limit_direction='forward', axis=0)\n",
    "\n",
    "print(dataset)\n",
    "\n",
    "dataset.isnull().sum()"
   ]
  },
  {
   "cell_type": "code",
   "execution_count": 37,
   "id": "bb57709d",
   "metadata": {},
   "outputs": [
    {
     "data": {
      "text/plain": [
       "Rollno     0\n",
       "Marks      0\n",
       "Age        0\n",
       "PhD_Yes    0\n",
       "dtype: int64"
      ]
     },
     "execution_count": 37,
     "metadata": {},
     "output_type": "execute_result"
    }
   ],
   "source": [
    "#for knn imputation - we need to remove normalize the data and categorical data we need to convert\n",
    "cat_variables = dataset[['PhD']]\n",
    "cat_dummies = pd.get_dummies(cat_variables, drop_first=True)\n",
    "cat_dummies.head()\n",
    "dataset = dataset.drop(['PhD'], axis=1)\n",
    "dataset = pd.concat([dataset, cat_dummies], axis=1)\n",
    "dataset.head()\n",
    "\n",
    "#removing unwanted features\n",
    "dataset = dataset.drop(['Gender'], axis=1)\n",
    "dataset.head()\n",
    "\n",
    "#scaling mandatory before knn\n",
    "from sklearn.preprocessing import MinMaxScaler\n",
    "scaler = MinMaxScaler()\n",
    "dataset = pd.DataFrame(scaler.fit_transform(dataset), columns = dataset.columns)\n",
    "dataset.head()\n",
    "\n",
    "#knn imputer\n",
    "from sklearn.impute import KNNImputer\n",
    "imputer = KNNImputer(n_neighbors=3)\n",
    "dataset = pd.DataFrame(imputer.fit_transform(dataset),columns = dataset.columns)\n",
    "\n",
    "#checking for missing\n",
    "dataset.isnull().sum()"
   ]
  },
  {
   "cell_type": "code",
   "execution_count": 2,
   "id": "b07245df",
   "metadata": {},
   "outputs": [
    {
     "name": "stdout",
     "output_type": "stream",
     "text": [
      "    Rollno  Marks  Gender   Age  PhD\n",
      "0        1  140.0       1  47.0  Yes\n",
      "1        2   30.0       0  65.0  Yes\n",
      "2        3   35.1       0  56.0   No\n",
      "3        4   30.0       1  23.0   No\n",
      "4        5   80.0       0   NaN  Yes\n",
      "..     ...    ...     ...   ...  ...\n",
      "95      96   18.6       1  26.0   No\n",
      "96      97  152.0       1  56.0  Yes\n",
      "97      98    1.8       1  28.0   No\n",
      "98      99   35.0       0  44.0  NaN\n",
      "99     100    4.0       0  24.0   No\n",
      "\n",
      "[100 rows x 5 columns]\n"
     ]
    }
   ],
   "source": [
    "import pandas as pd\n",
    "import numpy as np\n",
    "\n",
    "path=\"C:\\\\Users\\\\OJUS\\\\OneDrive\\\\Desktop\\\\⠀\\\\DBDA\\\\Data Set\\\\AcademicPerformance.csv\"\n",
    "dataset = pd.read_csv(path)\n",
    "print(dataset)"
   ]
  },
  {
   "cell_type": "code",
   "execution_count": 39,
   "id": "df726c7e",
   "metadata": {},
   "outputs": [
    {
     "data": {
      "text/plain": [
       "0     False\n",
       "1     False\n",
       "2     False\n",
       "3     False\n",
       "4     False\n",
       "      ...  \n",
       "95    False\n",
       "96    False\n",
       "97    False\n",
       "98     True\n",
       "99    False\n",
       "Name: PhD, Length: 100, dtype: bool"
      ]
     },
     "execution_count": 39,
     "metadata": {},
     "output_type": "execute_result"
    }
   ],
   "source": [
    "dataset[\"PhD\"].isnull()"
   ]
  },
  {
   "cell_type": "code",
   "execution_count": 40,
   "id": "20edd4b3",
   "metadata": {},
   "outputs": [],
   "source": [
    "# Detecting numbers \n",
    "cnt=0\n",
    "for row in dataset['PhD']:\n",
    "    try:\n",
    "        int(row)\n",
    "        dataset.loc[cnt, 'PhD']=np.nan\n",
    "    except ValueError:\n",
    "        pass\n",
    "    cnt+=1"
   ]
  },
  {
   "cell_type": "code",
   "execution_count": 41,
   "id": "44de7aa1",
   "metadata": {},
   "outputs": [
    {
     "name": "stdout",
     "output_type": "stream",
     "text": [
      "    Rollno  Marks  Gender   Age  PhD\n",
      "0        1  140.0       1  47.0  Yes\n",
      "1        2   30.0       0  65.0  Yes\n",
      "2        3   35.1       0  56.0   No\n",
      "3        4   30.0       1  23.0   No\n",
      "4        5   80.0       0   NaN  Yes\n",
      "..     ...    ...     ...   ...  ...\n",
      "95      96   18.6       1  26.0   No\n",
      "96      97  152.0       1  56.0  Yes\n",
      "97      98    1.8       1  28.0   No\n",
      "98      99   35.0       0  44.0  NaN\n",
      "99     100    4.0       0  24.0   No\n",
      "\n",
      "[100 rows x 5 columns]\n"
     ]
    }
   ],
   "source": [
    "dataset[\"PhD\"].isnull()\n",
    "print(dataset)"
   ]
  },
  {
   "cell_type": "code",
   "execution_count": 4,
   "id": "fe3c725a",
   "metadata": {},
   "outputs": [
    {
     "data": {
      "text/plain": [
       "Rollno    0.000000\n",
       "Marks     1.077026\n",
       "Gender    0.000000\n",
       "Age      -0.236916\n",
       "dtype: float64"
      ]
     },
     "execution_count": 4,
     "metadata": {},
     "output_type": "execute_result"
    }
   ],
   "source": [
    "dataset.skew(axis=0)"
   ]
  },
  {
   "cell_type": "code",
   "execution_count": 5,
   "id": "bd9f689c",
   "metadata": {},
   "outputs": [
    {
     "name": "stderr",
     "output_type": "stream",
     "text": [
      "D:\\Program Files\\Anaconda3\\lib\\site-packages\\seaborn\\distributions.py:2557: FutureWarning: `distplot` is a deprecated function and will be removed in a future version. Please adapt your code to use either `displot` (a figure-level function with similar flexibility) or `histplot` (an axes-level function for histograms).\n",
      "  warnings.warn(msg, FutureWarning)\n"
     ]
    },
    {
     "data": {
      "text/plain": [
       "<AxesSubplot:xlabel='Marks', ylabel='Density'>"
      ]
     },
     "execution_count": 5,
     "metadata": {},
     "output_type": "execute_result"
    },
    {
     "data": {
      "image/png": "[encoded data removed]",
      "text/plain": [
       "<Figure size 432x288 with 1 Axes>"
      ]
     },
     "metadata": {
      "needs_background": "light"
     },
     "output_type": "display_data"
    }
   ],
   "source": [
    "import seaborn as sn\n",
    "sn.distplot(dataset[\"Marks\"])"
   ]
  },
  {
   "cell_type": "code",
   "execution_count": 6,
   "id": "b2eb028a",
   "metadata": {},
   "outputs": [
    {
     "data": {
      "text/plain": [
       "0.07420353901563533"
      ]
     },
     "execution_count": 6,
     "metadata": {},
     "output_type": "execute_result"
    }
   ],
   "source": [
    "np.log(1.077026)"
   ]
  },
  {
   "cell_type": "code",
   "execution_count": 7,
   "id": "22c33b13",
   "metadata": {},
   "outputs": [],
   "source": [
    "log_Marks=np.log(dataset[\"Marks\"])"
   ]
  },
  {
   "cell_type": "code",
   "execution_count": 8,
   "id": "30e09f9f",
   "metadata": {},
   "outputs": [
    {
     "data": {
      "text/plain": [
       "0    4.941642\n",
       "1    3.401197\n",
       "2    3.558201\n",
       "3    3.401197\n",
       "4    4.382027\n",
       "Name: Marks, dtype: float64"
      ]
     },
     "execution_count": 8,
     "metadata": {},
     "output_type": "execute_result"
    }
   ],
   "source": [
    "log_Marks.head()"
   ]
  },
  {
   "cell_type": "code",
   "execution_count": 9,
   "id": "94222a86",
   "metadata": {},
   "outputs": [
    {
     "data": {
      "text/plain": [
       "-1.3980101345258154"
      ]
     },
     "execution_count": 9,
     "metadata": {},
     "output_type": "execute_result"
    }
   ],
   "source": [
    "log_Marks.skew()"
   ]
  },
  {
   "cell_type": "code",
   "execution_count": 10,
   "id": "e3630884",
   "metadata": {},
   "outputs": [
    {
     "name": "stderr",
     "output_type": "stream",
     "text": [
      "D:\\Program Files\\Anaconda3\\lib\\site-packages\\seaborn\\distributions.py:2557: FutureWarning: `distplot` is a deprecated function and will be removed in a future version. Please adapt your code to use either `displot` (a figure-level function with similar flexibility) or `histplot` (an axes-level function for histograms).\n",
      "  warnings.warn(msg, FutureWarning)\n"
     ]
    },
    {
     "data": {
      "text/plain": [
       "<AxesSubplot:xlabel='Marks', ylabel='Density'>"
      ]
     },
     "execution_count": 10,
     "metadata": {},
     "output_type": "execute_result"
    },
    {
     "data": {
      "image/png": "[encoded data removed]",
      "text/plain": [
       "<Figure size 432x288 with 1 Axes>"
      ]
     },
     "metadata": {
      "needs_background": "light"
     },
     "output_type": "display_data"
    }
   ],
   "source": [
    "import seaborn as sn\n",
    "sn.distplot(log_Marks)"
   ]
  },
  {
   "cell_type": "code",
   "execution_count": 11,
   "id": "1f584c5e",
   "metadata": {},
   "outputs": [],
   "source": [
    "log_Marks_sq=np.sqrt(dataset[\"Marks\"])"
   ]
  },
  {
   "cell_type": "code",
   "execution_count": 12,
   "id": "e080e62d",
   "metadata": {},
   "outputs": [
    {
     "data": {
      "text/plain": [
       "0    11.832160\n",
       "1     5.477226\n",
       "2     5.924525\n",
       "3     5.477226\n",
       "4     8.944272\n",
       "Name: Marks, dtype: float64"
      ]
     },
     "execution_count": 12,
     "metadata": {},
     "output_type": "execute_result"
    }
   ],
   "source": [
    "log_Marks_sq.head()"
   ]
  },
  {
   "cell_type": "code",
   "execution_count": 13,
   "id": "8adcdc3a",
   "metadata": {},
   "outputs": [
    {
     "data": {
      "text/plain": [
       "0.21202620353224017"
      ]
     },
     "execution_count": 13,
     "metadata": {},
     "output_type": "execute_result"
    }
   ],
   "source": [
    "log_Marks_sq.skew()"
   ]
  },
  {
   "cell_type": "code",
   "execution_count": 14,
   "id": "2f9cf314",
   "metadata": {},
   "outputs": [
    {
     "name": "stderr",
     "output_type": "stream",
     "text": [
      "D:\\Program Files\\Anaconda3\\lib\\site-packages\\seaborn\\distributions.py:2557: FutureWarning: `distplot` is a deprecated function and will be removed in a future version. Please adapt your code to use either `displot` (a figure-level function with similar flexibility) or `histplot` (an axes-level function for histograms).\n",
      "  warnings.warn(msg, FutureWarning)\n"
     ]
    },
    {
     "data": {
      "text/plain": [
       "<AxesSubplot:xlabel='Marks', ylabel='Density'>"
      ]
     },
     "execution_count": 14,
     "metadata": {},
     "output_type": "execute_result"
    },
    {
     "data": {
      "image/png": "[encoded data removed]",
      "text/plain": [
       "<Figure size 432x288 with 1 Axes>"
      ]
     },
     "metadata": {
      "needs_background": "light"
     },
     "output_type": "display_data"
    }
   ],
   "source": [
    "import seaborn as sn\n",
    "sn.distplot(log_Marks_sq)"
   ]
  },
  {
   "cell_type": "code",
   "execution_count": 15,
   "id": "3bed6844",
   "metadata": {},
   "outputs": [],
   "source": [
    "log_Marks_cb=np.cbrt(dataset[\"Marks\"])"
   ]
  },
  {
   "cell_type": "code",
   "execution_count": 16,
   "id": "dc74ee10",
   "metadata": {},
   "outputs": [
    {
     "data": {
      "text/plain": [
       "0    5.192494\n",
       "1    3.107233\n",
       "2    3.274179\n",
       "3    3.107233\n",
       "4    4.308869\n",
       "Name: Marks, dtype: float64"
      ]
     },
     "execution_count": 16,
     "metadata": {},
     "output_type": "execute_result"
    }
   ],
   "source": [
    "log_Marks_cb.head()"
   ]
  },
  {
   "cell_type": "code",
   "execution_count": 17,
   "id": "4f4cd762",
   "metadata": {},
   "outputs": [
    {
     "data": {
      "text/plain": [
       "0    5.192494\n",
       "1    3.107233\n",
       "2    3.274179\n",
       "3    3.107233\n",
       "4    4.308869\n",
       "Name: Marks, dtype: float64"
      ]
     },
     "execution_count": 17,
     "metadata": {},
     "output_type": "execute_result"
    }
   ],
   "source": [
    "log_Marks_cb.head()"
   ]
  },
  {
   "cell_type": "code",
   "execution_count": 18,
   "id": "65aad7a3",
   "metadata": {},
   "outputs": [
    {
     "data": {
      "text/plain": [
       "-0.18525230594632391"
      ]
     },
     "execution_count": 18,
     "metadata": {},
     "output_type": "execute_result"
    }
   ],
   "source": [
    "log_Marks_cb.skew()"
   ]
  },
  {
   "cell_type": "code",
   "execution_count": 19,
   "id": "ec33f469",
   "metadata": {},
   "outputs": [
    {
     "name": "stderr",
     "output_type": "stream",
     "text": [
      "D:\\Program Files\\Anaconda3\\lib\\site-packages\\seaborn\\distributions.py:2557: FutureWarning: `distplot` is a deprecated function and will be removed in a future version. Please adapt your code to use either `displot` (a figure-level function with similar flexibility) or `histplot` (an axes-level function for histograms).\n",
      "  warnings.warn(msg, FutureWarning)\n"
     ]
    },
    {
     "data": {
      "text/plain": [
       "<AxesSubplot:xlabel='Marks', ylabel='Density'>"
      ]
     },
     "execution_count": 19,
     "metadata": {},
     "output_type": "execute_result"
    },
    {
     "data": {
      "image/png": "[encoded data removed]",
      "text/plain": [
       "<Figure size 432x288 with 1 Axes>"
      ]
     },
     "metadata": {
      "needs_background": "light"
     },
     "output_type": "display_data"
    }
   ],
   "source": [
    "import seaborn as sn\n",
    "sn.distplot(log_Marks_cb)"
   ]
  },
  {
   "cell_type": "code",
   "execution_count": 21,
   "id": "4613bd39",
   "metadata": {},
   "outputs": [],
   "source": [
    "Marks_reci=np.reciprocal(dataset[\"Marks\"])"
   ]
  },
  {
   "cell_type": "code",
   "execution_count": 22,
   "id": "9cd11f75",
   "metadata": {},
   "outputs": [
    {
     "data": {
      "text/plain": [
       "0    0.007143\n",
       "1    0.033333\n",
       "2    0.028490\n",
       "3    0.033333\n",
       "4    0.012500\n",
       "Name: Marks, dtype: float64"
      ]
     },
     "execution_count": 22,
     "metadata": {},
     "output_type": "execute_result"
    }
   ],
   "source": [
    "Marks_reci.head()"
   ]
  },
  {
   "cell_type": "code",
   "execution_count": 23,
   "id": "56ee137a",
   "metadata": {},
   "outputs": [
    {
     "name": "stderr",
     "output_type": "stream",
     "text": [
      "D:\\Program Files\\Anaconda3\\lib\\site-packages\\seaborn\\distributions.py:2557: FutureWarning: `distplot` is a deprecated function and will be removed in a future version. Please adapt your code to use either `displot` (a figure-level function with similar flexibility) or `histplot` (an axes-level function for histograms).\n",
      "  warnings.warn(msg, FutureWarning)\n"
     ]
    },
    {
     "data": {
      "text/plain": [
       "<AxesSubplot:xlabel='Marks', ylabel='Density'>"
      ]
     },
     "execution_count": 23,
     "metadata": {},
     "output_type": "execute_result"
    },
    {
     "data": {
      "image/png": "[encoded data removed]",
      "text/plain": [
       "<Figure size 432x288 with 1 Axes>"
      ]
     },
     "metadata": {
      "needs_background": "light"
     },
     "output_type": "display_data"
    }
   ],
   "source": [
    "import seaborn as sn\n",
    "sn.distplot(Marks_reci)"
   ]
  },
  {
   "cell_type": "code",
   "execution_count": 24,
   "id": "b15a824f",
   "metadata": {},
   "outputs": [
    {
     "data": {
      "text/plain": [
       "9.14246062263327"
      ]
     },
     "execution_count": 24,
     "metadata": {},
     "output_type": "execute_result"
    }
   ],
   "source": [
    "Marks_reci.skew()"
   ]
  },
  {
   "cell_type": "code",
   "execution_count": 25,
   "id": "7f9fc8d7",
   "metadata": {},
   "outputs": [
    {
     "data": {
      "image/png": "[encoded data removed]",
      "text/plain": [
       "<Figure size 432x288 with 1 Axes>"
      ]
     },
     "metadata": {
      "needs_background": "light"
     },
     "output_type": "display_data"
    }
   ],
   "source": [
    "import matplotlib.pyplot as plt\n",
    "his_Marks_cplt=plt.hist(dataset[\"Marks\"])"
   ]
  },
  {
   "cell_type": "code",
   "execution_count": 26,
   "id": "2743e528",
   "metadata": {},
   "outputs": [
    {
     "data": {
      "image/png": "[encoded data removed]",
      "text/plain": [
       "<Figure size 432x288 with 1 Axes>"
      ]
     },
     "metadata": {
      "needs_background": "light"
     },
     "output_type": "display_data"
    }
   ],
   "source": [
    "plot_marks=sn.kdeplot(dataset[\"Marks\"])"
   ]
  },
  {
   "cell_type": "code",
   "execution_count": 27,
   "id": "0af1fd10",
   "metadata": {},
   "outputs": [],
   "source": [
    "import scipy.stats as stats\n",
    "import pylab"
   ]
  },
  {
   "cell_type": "code",
   "execution_count": 28,
   "id": "477c1c30",
   "metadata": {},
   "outputs": [
    {
     "data": {
      "text/plain": [
       "((array([-2.46203784, -2.12570747, -1.93122778, -1.79044653, -1.67819304,\n",
       "         -1.58381122, -1.50174123, -1.42869743, -1.36256869, -1.30191411,\n",
       "         -1.24570419, -1.19317644, -1.14374949, -1.09696931, -1.05247413,\n",
       "         -1.00997067, -0.96921765, -0.93001393, -0.89218993, -0.85560121,\n",
       "         -0.82012357, -0.78564937, -0.75208458, -0.71934648, -0.68736185,\n",
       "         -0.65606548, -0.62539893, -0.59530962, -0.56574992, -0.53667655,\n",
       "         -0.50804994, -0.47983378, -0.45199463, -0.42450149, -0.39732558,\n",
       "         -0.37044003, -0.34381966, -0.31744076, -0.29128096, -0.26531902,\n",
       "         -0.23953472, -0.21390872, -0.18842244, -0.16305799, -0.13779803,\n",
       "         -0.1126257 , -0.08752455, -0.06247843, -0.03747145, -0.01248789,\n",
       "          0.01248789,  0.03747145,  0.06247843,  0.08752455,  0.1126257 ,\n",
       "          0.13779803,  0.16305799,  0.18842244,  0.21390872,  0.23953472,\n",
       "          0.26531902,  0.29128096,  0.31744076,  0.34381966,  0.37044003,\n",
       "          0.39732558,  0.42450149,  0.45199463,  0.47983378,  0.50804994,\n",
       "          0.53667655,  0.56574992,  0.59530962,  0.62539893,  0.65606548,\n",
       "          0.68736185,  0.71934648,  0.75208458,  0.78564937,  0.82012357,\n",
       "          0.85560121,  0.89218993,  0.93001393,  0.96921765,  1.00997067,\n",
       "          1.05247413,  1.09696931,  1.14374949,  1.19317644,  1.24570419,\n",
       "          1.30191411,  1.36256869,  1.42869743,  1.50174123,  1.58381122,\n",
       "          1.67819304,  1.79044653,  1.93122778,  2.12570747,  2.46203784]),\n",
       "  array([  0.25,   1.7 ,   1.8 ,   2.5 ,   3.  ,   3.  ,   4.  ,   4.6 ,\n",
       "           7.  ,   9.  ,   9.  ,   9.  ,   9.5 ,  10.  ,  12.  ,  14.7 ,\n",
       "          15.  ,  15.  ,  15.2 ,  16.  ,  18.6 ,  19.  ,  20.  ,  20.  ,\n",
       "          20.  ,  20.  ,  22.  ,  22.3 ,  24.  ,  25.  ,  25.  ,  25.8 ,\n",
       "          28.  ,  28.6 ,  30.  ,  30.  ,  30.  ,  30.  ,  30.  ,  31.1 ,\n",
       "          32.  ,  32.  ,  34.8 ,  35.  ,  35.  ,  35.  ,  35.1 ,  36.  ,\n",
       "          38.  ,  38.8 ,  39.8 ,  40.  ,  40.7 ,  41.  ,  45.6 ,  46.  ,\n",
       "          48.  ,  50.  ,  51.  ,  52.  ,  52.  ,  52.  ,  55.  ,  55.  ,\n",
       "          55.  ,  60.  ,  62.  ,  63.  ,  65.  ,  66.  ,  72.  ,  72.  ,\n",
       "          72.  ,  73.  ,  74.  ,  80.  ,  81.  ,  84.  ,  84.  ,  89.  ,\n",
       "          89.  ,  90.  ,  90.  ,  90.  ,  92.  ,  96.  , 100.  , 102.  ,\n",
       "         106.  , 115.  , 120.  , 125.  , 130.  , 130.  , 140.  , 150.  ,\n",
       "         152.  , 152.  , 160.  , 190.  ])),\n",
       " (40.79054296233955, 52.52449999999999, 0.9515395328716016))"
      ]
     },
     "execution_count": 28,
     "metadata": {},
     "output_type": "execute_result"
    },
    {
     "data": {
      "image/png": "[encoded data removed]",
      "text/plain": [
       "<Figure size 432x288 with 1 Axes>"
      ]
     },
     "metadata": {
      "needs_background": "light"
     },
     "output_type": "display_data"
    }
   ],
   "source": [
    "stats.probplot(dataset[\"Marks\"],plot=pylab)"
   ]
  },
  {
   "cell_type": "code",
   "execution_count": 29,
   "id": "af522d77",
   "metadata": {},
   "outputs": [
    {
     "data": {
      "text/plain": [
       "((array([-2.46203784, -2.12570747, -1.93122778, -1.79044653, -1.67819304,\n",
       "         -1.58381122, -1.50174123, -1.42869743, -1.36256869, -1.30191411,\n",
       "         -1.24570419, -1.19317644, -1.14374949, -1.09696931, -1.05247413,\n",
       "         -1.00997067, -0.96921765, -0.93001393, -0.89218993, -0.85560121,\n",
       "         -0.82012357, -0.78564937, -0.75208458, -0.71934648, -0.68736185,\n",
       "         -0.65606548, -0.62539893, -0.59530962, -0.56574992, -0.53667655,\n",
       "         -0.50804994, -0.47983378, -0.45199463, -0.42450149, -0.39732558,\n",
       "         -0.37044003, -0.34381966, -0.31744076, -0.29128096, -0.26531902,\n",
       "         -0.23953472, -0.21390872, -0.18842244, -0.16305799, -0.13779803,\n",
       "         -0.1126257 , -0.08752455, -0.06247843, -0.03747145, -0.01248789,\n",
       "          0.01248789,  0.03747145,  0.06247843,  0.08752455,  0.1126257 ,\n",
       "          0.13779803,  0.16305799,  0.18842244,  0.21390872,  0.23953472,\n",
       "          0.26531902,  0.29128096,  0.31744076,  0.34381966,  0.37044003,\n",
       "          0.39732558,  0.42450149,  0.45199463,  0.47983378,  0.50804994,\n",
       "          0.53667655,  0.56574992,  0.59530962,  0.62539893,  0.65606548,\n",
       "          0.68736185,  0.71934648,  0.75208458,  0.78564937,  0.82012357,\n",
       "          0.85560121,  0.89218993,  0.93001393,  0.96921765,  1.00997067,\n",
       "          1.05247413,  1.09696931,  1.14374949,  1.19317644,  1.24570419,\n",
       "          1.30191411,  1.36256869,  1.42869743,  1.50174123,  1.58381122,\n",
       "          1.67819304,  1.79044653,  1.93122778,  2.12570747,  2.46203784]),\n",
       "  array([0.62996052, 1.19348319, 1.2164404 , 1.35720881, 1.44224957,\n",
       "         1.44224957, 1.58740105, 1.6631035 , 1.91293118, 2.08008382,\n",
       "         2.08008382, 2.08008382, 2.11791179, 2.15443469, 2.28942849,\n",
       "         2.44965982, 2.46621207, 2.46621207, 2.47712466, 2.5198421 ,\n",
       "         2.64954306, 2.66840165, 2.71441762, 2.71441762, 2.71441762,\n",
       "         2.71441762, 2.80203933, 2.81471841, 2.88449914, 2.92401774,\n",
       "         2.92401774, 2.95488036, 3.03658897, 3.05812578, 3.10723251,\n",
       "         3.10723251, 3.10723251, 3.10723251, 3.10723251, 3.14475486,\n",
       "         3.1748021 , 3.1748021 , 3.2648238 , 3.27106631, 3.27106631,\n",
       "         3.27106631, 3.27417865, 3.30192725, 3.36197541, 3.38540456,\n",
       "         3.41424245, 3.41995189, 3.43978636, 3.44821724, 3.57263198,\n",
       "         3.58304787, 3.63424119, 3.6840315 , 3.70842977, 3.73251116,\n",
       "         3.73251116, 3.73251116, 3.80295246, 3.80295246, 3.80295246,\n",
       "         3.91486764, 3.95789161, 3.97905721, 4.02072576, 4.04124002,\n",
       "         4.16016765, 4.16016765, 4.16016765, 4.1793392 , 4.19833645,\n",
       "         4.30886938, 4.32674871, 4.37951914, 4.37951914, 4.4647451 ,\n",
       "         4.4647451 , 4.48140475, 4.48140475, 4.48140475, 4.51435744,\n",
       "         4.57885697, 4.64158883, 4.67232873, 4.73262349, 4.86294413,\n",
       "         4.93242415, 5.        , 5.06579702, 5.06579702, 5.1924941 ,\n",
       "         5.31329285, 5.3368033 , 5.3368033 , 5.42883523, 5.74889708])),\n",
       " (1.0964930316814503, 3.441077741563151, 0.9963217176950497))"
      ]
     },
     "execution_count": 29,
     "metadata": {},
     "output_type": "execute_result"
    },
    {
     "data": {
      "image/png": "[encoded data removed]",
      "text/plain": [
       "<Figure size 432x288 with 1 Axes>"
      ]
     },
     "metadata": {
      "needs_background": "light"
     },
     "output_type": "display_data"
    }
   ],
   "source": [
    "stats.probplot(log_Marks_cb,plot=pylab)"
   ]
  },
  {
   "cell_type": "code",
   "execution_count": 30,
   "id": "03e8fabe",
   "metadata": {},
   "outputs": [
    {
     "data": {
      "text/plain": [
       "((array([-2.46203784, -2.12570747, -1.93122778, -1.79044653, -1.67819304,\n",
       "         -1.58381122, -1.50174123, -1.42869743, -1.36256869, -1.30191411,\n",
       "         -1.24570419, -1.19317644, -1.14374949, -1.09696931, -1.05247413,\n",
       "         -1.00997067, -0.96921765, -0.93001393, -0.89218993, -0.85560121,\n",
       "         -0.82012357, -0.78564937, -0.75208458, -0.71934648, -0.68736185,\n",
       "         -0.65606548, -0.62539893, -0.59530962, -0.56574992, -0.53667655,\n",
       "         -0.50804994, -0.47983378, -0.45199463, -0.42450149, -0.39732558,\n",
       "         -0.37044003, -0.34381966, -0.31744076, -0.29128096, -0.26531902,\n",
       "         -0.23953472, -0.21390872, -0.18842244, -0.16305799, -0.13779803,\n",
       "         -0.1126257 , -0.08752455, -0.06247843, -0.03747145, -0.01248789,\n",
       "          0.01248789,  0.03747145,  0.06247843,  0.08752455,  0.1126257 ,\n",
       "          0.13779803,  0.16305799,  0.18842244,  0.21390872,  0.23953472,\n",
       "          0.26531902,  0.29128096,  0.31744076,  0.34381966,  0.37044003,\n",
       "          0.39732558,  0.42450149,  0.45199463,  0.47983378,  0.50804994,\n",
       "          0.53667655,  0.56574992,  0.59530962,  0.62539893,  0.65606548,\n",
       "          0.68736185,  0.71934648,  0.75208458,  0.78564937,  0.82012357,\n",
       "          0.85560121,  0.89218993,  0.93001393,  0.96921765,  1.00997067,\n",
       "          1.05247413,  1.09696931,  1.14374949,  1.19317644,  1.24570419,\n",
       "          1.30191411,  1.36256869,  1.42869743,  1.50174123,  1.58381122,\n",
       "          1.67819304,  1.79044653,  1.93122778,  2.12570747,  2.46203784]),\n",
       "  array([ 0.5       ,  1.30384048,  1.34164079,  1.58113883,  1.73205081,\n",
       "          1.73205081,  2.        ,  2.14476106,  2.64575131,  3.        ,\n",
       "          3.        ,  3.        ,  3.082207  ,  3.16227766,  3.46410162,\n",
       "          3.8340579 ,  3.87298335,  3.87298335,  3.89871774,  4.        ,\n",
       "          4.31277173,  4.35889894,  4.47213595,  4.47213595,  4.47213595,\n",
       "          4.47213595,  4.69041576,  4.72228758,  4.89897949,  5.        ,\n",
       "          5.        ,  5.07937004,  5.29150262,  5.34789678,  5.47722558,\n",
       "          5.47722558,  5.47722558,  5.47722558,  5.47722558,  5.5767374 ,\n",
       "          5.65685425,  5.65685425,  5.89915248,  5.91607978,  5.91607978,\n",
       "          5.91607978,  5.9245253 ,  6.        ,  6.164414  ,  6.2289646 ,\n",
       "          6.30872412,  6.32455532,  6.37965516,  6.40312424,  6.75277721,\n",
       "          6.78232998,  6.92820323,  7.07106781,  7.14142843,  7.21110255,\n",
       "          7.21110255,  7.21110255,  7.41619849,  7.41619849,  7.41619849,\n",
       "          7.74596669,  7.87400787,  7.93725393,  8.06225775,  8.1240384 ,\n",
       "          8.48528137,  8.48528137,  8.48528137,  8.54400375,  8.60232527,\n",
       "          8.94427191,  9.        ,  9.16515139,  9.16515139,  9.43398113,\n",
       "          9.43398113,  9.48683298,  9.48683298,  9.48683298,  9.59166305,\n",
       "          9.79795897, 10.        , 10.09950494, 10.29563014, 10.72380529,\n",
       "         10.95445115, 11.18033989, 11.40175425, 11.40175425, 11.83215957,\n",
       "         12.24744871, 12.32882801, 12.32882801, 12.64911064, 13.78404875])),\n",
       " (2.983044720739973, 6.6254088687442305, 0.9951899042212309))"
      ]
     },
     "execution_count": 30,
     "metadata": {},
     "output_type": "execute_result"
    },
    {
     "data": {
      "image/png": "[encoded data removed]",
      "text/plain": [
       "<Figure size 432x288 with 1 Axes>"
      ]
     },
     "metadata": {
      "needs_background": "light"
     },
     "output_type": "display_data"
    }
   ],
   "source": [
    "stats.probplot(log_Marks_sq,plot=pylab)"
   ]
  },
  {
   "cell_type": "code",
   "execution_count": 31,
   "id": "94784f8a",
   "metadata": {},
   "outputs": [
    {
     "data": {
      "text/plain": [
       "((array([-2.46203784, -2.12570747, -1.93122778, -1.79044653, -1.67819304,\n",
       "         -1.58381122, -1.50174123, -1.42869743, -1.36256869, -1.30191411,\n",
       "         -1.24570419, -1.19317644, -1.14374949, -1.09696931, -1.05247413,\n",
       "         -1.00997067, -0.96921765, -0.93001393, -0.89218993, -0.85560121,\n",
       "         -0.82012357, -0.78564937, -0.75208458, -0.71934648, -0.68736185,\n",
       "         -0.65606548, -0.62539893, -0.59530962, -0.56574992, -0.53667655,\n",
       "         -0.50804994, -0.47983378, -0.45199463, -0.42450149, -0.39732558,\n",
       "         -0.37044003, -0.34381966, -0.31744076, -0.29128096, -0.26531902,\n",
       "         -0.23953472, -0.21390872, -0.18842244, -0.16305799, -0.13779803,\n",
       "         -0.1126257 , -0.08752455, -0.06247843, -0.03747145, -0.01248789,\n",
       "          0.01248789,  0.03747145,  0.06247843,  0.08752455,  0.1126257 ,\n",
       "          0.13779803,  0.16305799,  0.18842244,  0.21390872,  0.23953472,\n",
       "          0.26531902,  0.29128096,  0.31744076,  0.34381966,  0.37044003,\n",
       "          0.39732558,  0.42450149,  0.45199463,  0.47983378,  0.50804994,\n",
       "          0.53667655,  0.56574992,  0.59530962,  0.62539893,  0.65606548,\n",
       "          0.68736185,  0.71934648,  0.75208458,  0.78564937,  0.82012357,\n",
       "          0.85560121,  0.89218993,  0.93001393,  0.96921765,  1.00997067,\n",
       "          1.05247413,  1.09696931,  1.14374949,  1.19317644,  1.24570419,\n",
       "          1.30191411,  1.36256869,  1.42869743,  1.50174123,  1.58381122,\n",
       "          1.67819304,  1.79044653,  1.93122778,  2.12570747,  2.46203784]),\n",
       "  array([0.00526316, 0.00625   , 0.00657895, 0.00657895, 0.00666667,\n",
       "         0.00714286, 0.00769231, 0.00769231, 0.008     , 0.00833333,\n",
       "         0.00869565, 0.00943396, 0.00980392, 0.01      , 0.01041667,\n",
       "         0.01086957, 0.01111111, 0.01111111, 0.01111111, 0.01123596,\n",
       "         0.01123596, 0.01190476, 0.01190476, 0.01234568, 0.0125    ,\n",
       "         0.01351351, 0.01369863, 0.01388889, 0.01388889, 0.01388889,\n",
       "         0.01515152, 0.01538462, 0.01587302, 0.01612903, 0.01666667,\n",
       "         0.01818182, 0.01818182, 0.01818182, 0.01923077, 0.01923077,\n",
       "         0.01923077, 0.01960784, 0.02      , 0.02083333, 0.02173913,\n",
       "         0.02192982, 0.02439024, 0.02457002, 0.025     , 0.02512563,\n",
       "         0.0257732 , 0.02631579, 0.02777778, 0.02849003, 0.02857143,\n",
       "         0.02857143, 0.02857143, 0.02873563, 0.03125   , 0.03125   ,\n",
       "         0.03215434, 0.03333333, 0.03333333, 0.03333333, 0.03333333,\n",
       "         0.03333333, 0.03496503, 0.03571429, 0.03875969, 0.04      ,\n",
       "         0.04      , 0.04166667, 0.04484305, 0.04545455, 0.05      ,\n",
       "         0.05      , 0.05      , 0.05      , 0.05263158, 0.05376344,\n",
       "         0.0625    , 0.06578947, 0.06666667, 0.06666667, 0.06802721,\n",
       "         0.08333333, 0.1       , 0.10526316, 0.11111111, 0.11111111,\n",
       "         0.11111111, 0.14285714, 0.2173913 , 0.25      , 0.33333333,\n",
       "         0.33333333, 0.4       , 0.55555556, 0.58823529, 4.        ])),\n",
       " (0.16654238388625658, 0.0958160800017085, 0.4031270817229625))"
      ]
     },
     "execution_count": 31,
     "metadata": {},
     "output_type": "execute_result"
    },
    {
     "data": {
      "image/png": "[encoded data removed]",
      "text/plain": [
       "<Figure size 432x288 with 1 Axes>"
      ]
     },
     "metadata": {
      "needs_background": "light"
     },
     "output_type": "display_data"
    }
   ],
   "source": [
    "stats.probplot(Marks_reci,plot=pylab)"
   ]
  },
  {
   "cell_type": "code",
   "execution_count": 32,
   "id": "a714e10f",
   "metadata": {},
   "outputs": [
    {
     "data": {
      "text/plain": [
       "((array([-2.46203784, -2.12570747, -1.93122778, -1.79044653, -1.67819304,\n",
       "         -1.58381122, -1.50174123, -1.42869743, -1.36256869, -1.30191411,\n",
       "         -1.24570419, -1.19317644, -1.14374949, -1.09696931, -1.05247413,\n",
       "         -1.00997067, -0.96921765, -0.93001393, -0.89218993, -0.85560121,\n",
       "         -0.82012357, -0.78564937, -0.75208458, -0.71934648, -0.68736185,\n",
       "         -0.65606548, -0.62539893, -0.59530962, -0.56574992, -0.53667655,\n",
       "         -0.50804994, -0.47983378, -0.45199463, -0.42450149, -0.39732558,\n",
       "         -0.37044003, -0.34381966, -0.31744076, -0.29128096, -0.26531902,\n",
       "         -0.23953472, -0.21390872, -0.18842244, -0.16305799, -0.13779803,\n",
       "         -0.1126257 , -0.08752455, -0.06247843, -0.03747145, -0.01248789,\n",
       "          0.01248789,  0.03747145,  0.06247843,  0.08752455,  0.1126257 ,\n",
       "          0.13779803,  0.16305799,  0.18842244,  0.21390872,  0.23953472,\n",
       "          0.26531902,  0.29128096,  0.31744076,  0.34381966,  0.37044003,\n",
       "          0.39732558,  0.42450149,  0.45199463,  0.47983378,  0.50804994,\n",
       "          0.53667655,  0.56574992,  0.59530962,  0.62539893,  0.65606548,\n",
       "          0.68736185,  0.71934648,  0.75208458,  0.78564937,  0.82012357,\n",
       "          0.85560121,  0.89218993,  0.93001393,  0.96921765,  1.00997067,\n",
       "          1.05247413,  1.09696931,  1.14374949,  1.19317644,  1.24570419,\n",
       "          1.30191411,  1.36256869,  1.42869743,  1.50174123,  1.58381122,\n",
       "          1.67819304,  1.79044653,  1.93122778,  2.12570747,  2.46203784]),\n",
       "  array([-1.38629436,  0.53062825,  0.58778666,  0.91629073,  1.09861229,\n",
       "          1.09861229,  1.38629436,  1.5260563 ,  1.94591015,  2.19722458,\n",
       "          2.19722458,  2.19722458,  2.2512918 ,  2.30258509,  2.48490665,\n",
       "          2.68784749,  2.7080502 ,  2.7080502 ,  2.72129543,  2.77258872,\n",
       "          2.92316158,  2.94443898,  2.99573227,  2.99573227,  2.99573227,\n",
       "          2.99573227,  3.09104245,  3.10458668,  3.17805383,  3.21887582,\n",
       "          3.21887582,  3.25037449,  3.33220451,  3.35340672,  3.40119738,\n",
       "          3.40119738,  3.40119738,  3.40119738,  3.40119738,  3.43720782,\n",
       "          3.4657359 ,  3.4657359 ,  3.54961739,  3.55534806,  3.55534806,\n",
       "          3.55534806,  3.55820113,  3.58351894,  3.63758616,  3.65842025,\n",
       "          3.68386691,  3.68887945,  3.70622809,  3.71357207,  3.81990772,\n",
       "          3.8286414 ,  3.87120101,  3.91202301,  3.93182563,  3.95124372,\n",
       "          3.95124372,  3.95124372,  4.00733319,  4.00733319,  4.00733319,\n",
       "          4.09434456,  4.12713439,  4.14313473,  4.17438727,  4.18965474,\n",
       "          4.27666612,  4.27666612,  4.27666612,  4.29045944,  4.30406509,\n",
       "          4.38202663,  4.39444915,  4.4308168 ,  4.4308168 ,  4.48863637,\n",
       "          4.48863637,  4.49980967,  4.49980967,  4.49980967,  4.52178858,\n",
       "          4.56434819,  4.60517019,  4.62497281,  4.66343909,  4.74493213,\n",
       "          4.78749174,  4.82831374,  4.86753445,  4.86753445,  4.94164242,\n",
       "          5.01063529,  5.02388052,  5.02388052,  5.07517382,  5.24702407])),\n",
       " (1.1033972747040552, 3.522558182933606, 0.9494491339528739))"
      ]
     },
     "execution_count": 32,
     "metadata": {},
     "output_type": "execute_result"
    },
    {
     "data": {
      "image/png": "[encoded data removed]",
      "text/plain": [
       "<Figure size 432x288 with 1 Axes>"
      ]
     },
     "metadata": {
      "needs_background": "light"
     },
     "output_type": "display_data"
    }
   ],
   "source": [
    "stats.probplot(log_Marks,plot=pylab)"
   ]
  }
 ],
 "metadata": {
  "kernelspec": {
   "display_name": "Python 3",
   "language": "python",
   "name": "python3"
  },
  "language_info": {
   "codemirror_mode": {
    "name": "ipython",
    "version": 3
   },
   "file_extension": ".py",
   "mimetype": "text/x-python",
   "name": "python",
   "nbconvert_exporter": "python",
   "pygments_lexer": "ipython3",
   "version": "3.8.8"
  }
 },
 "nbformat": 4,
 "nbformat_minor": 5
}
