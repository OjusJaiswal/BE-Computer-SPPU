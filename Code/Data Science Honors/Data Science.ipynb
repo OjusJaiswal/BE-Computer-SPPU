{
 "cells": [
  {
   "cell_type": "code",
   "execution_count": 1,
   "id": "e1b80ad8",
   "metadata": {},
   "outputs": [
    {
     "name": "stdout",
     "output_type": "stream",
     "text": [
      "Enter number :10\n",
      "Not prime\n"
     ]
    }
   ],
   "source": [
    "a=int(input(\"Enter number :\"))\n",
    "if a>1:\n",
    "    for x in range(2,a):\n",
    "        if(a%x)==0:\n",
    "            print(\"Not prime\")\n",
    "            break\n",
    "        else:\n",
    "            print(\"Prime\")\n",
    "            break\n",
    "else:\n",
    "    print(\"Not prime\")"
   ]
  },
  {
   "cell_type": "code",
   "execution_count": 4,
   "id": "ab9030f5",
   "metadata": {},
   "outputs": [
    {
     "name": "stdout",
     "output_type": "stream",
     "text": [
      "Enter the terms :5\n",
      "0 1 1 2 3 "
     ]
    }
   ],
   "source": [
    "a=int(input(\"Enter the terms :\"))\n",
    "f=0\n",
    "s=1\n",
    "\n",
    "if a<=0:\n",
    "    print(\"The requested series is\\n\",f)\n",
    "else:\n",
    "    print(f,s,end=\" \")\n",
    "    for x in range(2,a):\n",
    "        next=f+s\n",
    "        print(next,end=\" \")\n",
    "        f=s\n",
    "        s=next"
   ]
  },
  {
   "cell_type": "code",
   "execution_count": 6,
   "id": "733305d2",
   "metadata": {},
   "outputs": [
    {
     "name": "stdout",
     "output_type": "stream",
     "text": [
      "   *\n",
      "  ***\n",
      " *****\n",
      "*******\n"
     ]
    }
   ],
   "source": [
    "def pyfunc(r):\n",
    "    for x in range(r):\n",
    "        print(\" \"*(r-x-1)+\"*\"*(2*x+1))\n",
    "pyfunc(4)"
   ]
  },
  {
   "cell_type": "code",
   "execution_count": 9,
   "id": "7dbff980",
   "metadata": {},
   "outputs": [
    {
     "data": {
      "text/plain": [
       "[2, 3, 5, 5, 6, 8]"
      ]
     },
     "execution_count": 9,
     "metadata": {},
     "output_type": "execute_result"
    }
   ],
   "source": [
    "def bs(a):\n",
    "    b=len(a)-1\n",
    "    for x in range(b):\n",
    "        for y in range(b-x):\n",
    "            if a[y]>a[y+1]:\n",
    "                a[y],a[y+1]=a[y+1],a[y]\n",
    "    return a\n",
    "a=[3,2,6,5,8,5]\n",
    "bs(a)"
   ]
  },
  {
   "cell_type": "code",
   "execution_count": 10,
   "id": "8e2b8acf",
   "metadata": {},
   "outputs": [
    {
     "name": "stdout",
     "output_type": "stream",
     "text": [
      "Enter sequence : ababa\n",
      "Palindrome\n"
     ]
    }
   ],
   "source": [
    "a=input(\"Enter sequence : \")\n",
    "b=a[::-1]\n",
    "if a==b:\n",
    "    print(\"Palindrome\")\n",
    "else:\n",
    "    print(\"Not palindrome\")"
   ]
  },
  {
   "cell_type": "code",
   "execution_count": 1,
   "id": "6738182c",
   "metadata": {},
   "outputs": [
    {
     "name": "stdout",
     "output_type": "stream",
     "text": [
      "30.1\n",
      "50.2\n",
      "durva\n",
      "30.1\n"
     ]
    }
   ],
   "source": [
    "a=10\n",
    "b=20.10\n",
    "d=a+b\n",
    "c=\"durva\"\n",
    "e=d+b\n",
    "print(d)\n",
    "print(e)\n",
    "print(c)\n",
    "print(a+b)"
   ]
  },
  {
   "cell_type": "code",
   "execution_count": 2,
   "id": "bef7463e",
   "metadata": {},
   "outputs": [
    {
     "name": "stdout",
     "output_type": "stream",
     "text": [
      "What is your roll number :  10\n",
      "What is your name :  abhay\n",
      "What is your day salaries: 2023.12\n"
     ]
    }
   ],
   "source": [
    "r=10\n",
    "p=\"abhay\"\n",
    "c=2023.12\n",
    "print(\"What is your roll number : \",r)\n",
    "print(\"What is your name : \",p)\n",
    "print(\"What is your day salaries:\",c)\n",
    "\n"
   ]
  },
  {
   "cell_type": "code",
   "execution_count": 3,
   "id": "e4121368",
   "metadata": {},
   "outputs": [
    {
     "name": "stdout",
     "output_type": "stream",
     "text": [
      "integer\n"
     ]
    }
   ],
   "source": [
    "a=10\n",
    "b=20.10\n",
    "d=a+b\n",
    "c=\"durva\"\n",
    "e=\"integer\"\n",
    "print(e)"
   ]
  },
  {
   "cell_type": "code",
   "execution_count": 4,
   "id": "cb541511",
   "metadata": {},
   "outputs": [
    {
     "name": "stdout",
     "output_type": "stream",
     "text": [
      "[2, 3.1, 4, 5, 6, 'Ram', 'Sachin']\n",
      "[3.1, 4]\n",
      "[5, 6, 'Ram']\n",
      "[2, 3.1, 4, 5, 6, 'Ram', 'Sachin']\n"
     ]
    }
   ],
   "source": [
    "list=[2,3.1,4,5,6,\"Ram\",\"Sachin\"]\n",
    "print(list)\n",
    "print(list[1:3])\n",
    "print(list[3:6])\n",
    "print(list[:])"
   ]
  },
  {
   "cell_type": "code",
   "execution_count": 6,
   "id": "98916088",
   "metadata": {},
   "outputs": [
    {
     "name": "stdout",
     "output_type": "stream",
     "text": [
      "f\n",
      "r\n",
      "u\n",
      "i\n",
      "t\n",
      "s\n"
     ]
    }
   ],
   "source": [
    "fruits=[\"apples\",\"appleu\",\"apple\"]\n",
    "for x in \"fruits\":\n",
    "    print(x)\n",
    "    if x== \"apple\":\n",
    "        break"
   ]
  },
  {
   "cell_type": "code",
   "execution_count": 7,
   "id": "468d912a",
   "metadata": {},
   "outputs": [
    {
     "name": "stdout",
     "output_type": "stream",
     "text": [
      "apple\n",
      "banana\n"
     ]
    }
   ],
   "source": [
    "fruits=[\"apple\",\"banana\",\"cherry\"]\n",
    "for x in fruits:\n",
    "    print(x)\n",
    "    if x== \"banana\":\n",
    "        break"
   ]
  },
  {
   "cell_type": "code",
   "execution_count": 8,
   "id": "0b6893b4",
   "metadata": {},
   "outputs": [
    {
     "name": "stdout",
     "output_type": "stream",
     "text": [
      "apple\n",
      "banana\n",
      "cherry\n"
     ]
    }
   ],
   "source": [
    "fruits=[\"apple\",\"banana\",\"cherry\"]\n",
    "for x in fruits:\n",
    "    print(x)"
   ]
  },
  {
   "cell_type": "code",
   "execution_count": 9,
   "id": "acdc4132",
   "metadata": {},
   "outputs": [
    {
     "name": "stdout",
     "output_type": "stream",
     "text": [
      "f\n",
      "r\n",
      "u\n",
      "i\n",
      "t\n",
      "s\n"
     ]
    }
   ],
   "source": [
    "for x in \"fruits\":\n",
    "    print(x)"
   ]
  },
  {
   "cell_type": "code",
   "execution_count": 10,
   "id": "1e05d492",
   "metadata": {},
   "outputs": [
    {
     "name": "stdout",
     "output_type": "stream",
     "text": [
      "banana\n",
      "cherry\n"
     ]
    }
   ],
   "source": [
    "fruits=[\"apple\",\"banana\",\"cherry\"]\n",
    "for x in fruits:\n",
    "    if x== \"apple\":\n",
    "        continue\n",
    "    print(x)    "
   ]
  },
  {
   "cell_type": "code",
   "execution_count": 11,
   "id": "c6b4c6ef",
   "metadata": {},
   "outputs": [
    {
     "name": "stdout",
     "output_type": "stream",
     "text": [
      "0\n",
      "1\n",
      "2\n",
      "3\n",
      "4\n",
      "5\n",
      "6\n",
      "7\n",
      "8\n",
      "9\n",
      "10\n",
      "11\n",
      "12\n",
      "13\n",
      "14\n",
      "15\n",
      "16\n",
      "17\n",
      "18\n",
      "19\n"
     ]
    }
   ],
   "source": [
    "for x in range(20):\n",
    "    print(x) "
   ]
  },
  {
   "cell_type": "code",
   "execution_count": 12,
   "id": "46454174",
   "metadata": {},
   "outputs": [
    {
     "name": "stdout",
     "output_type": "stream",
     "text": [
      "5\n",
      "6\n",
      "7\n",
      "8\n",
      "9\n",
      "10\n",
      "11\n",
      "12\n",
      "13\n",
      "14\n",
      "15\n",
      "16\n",
      "17\n",
      "18\n",
      "19\n",
      "20\n",
      "21\n",
      "22\n",
      "23\n",
      "24\n",
      "25\n",
      "26\n",
      "27\n",
      "28\n",
      "29\n",
      "30\n",
      "31\n",
      "32\n",
      "33\n",
      "34\n",
      "35\n",
      "36\n",
      "37\n",
      "38\n",
      "39\n",
      "40\n",
      "41\n",
      "42\n",
      "43\n",
      "44\n",
      "45\n",
      "46\n",
      "47\n",
      "48\n",
      "49\n",
      "50\n",
      "51\n",
      "52\n",
      "53\n",
      "54\n",
      "55\n",
      "56\n",
      "57\n",
      "58\n",
      "59\n",
      "60\n",
      "61\n",
      "62\n",
      "63\n",
      "64\n",
      "65\n",
      "66\n",
      "67\n",
      "68\n",
      "69\n",
      "70\n",
      "71\n",
      "72\n",
      "73\n",
      "74\n",
      "75\n",
      "76\n",
      "77\n",
      "78\n",
      "79\n",
      "80\n",
      "81\n",
      "82\n",
      "83\n",
      "84\n",
      "85\n",
      "86\n",
      "87\n",
      "88\n",
      "89\n",
      "90\n",
      "91\n",
      "92\n",
      "93\n",
      "94\n",
      "95\n",
      "96\n",
      "97\n",
      "98\n",
      "99\n",
      "100\n",
      "101\n",
      "102\n",
      "103\n",
      "104\n",
      "105\n",
      "106\n",
      "107\n",
      "108\n",
      "109\n",
      "110\n",
      "111\n",
      "112\n",
      "113\n",
      "114\n",
      "115\n",
      "116\n",
      "117\n",
      "118\n",
      "119\n",
      "120\n",
      "121\n",
      "122\n",
      "123\n",
      "124\n",
      "125\n",
      "126\n",
      "127\n",
      "128\n",
      "129\n",
      "130\n",
      "131\n",
      "132\n",
      "133\n",
      "134\n",
      "135\n",
      "136\n",
      "137\n",
      "138\n",
      "139\n",
      "140\n",
      "141\n",
      "142\n",
      "143\n",
      "144\n",
      "145\n",
      "146\n",
      "147\n",
      "148\n",
      "149\n",
      "150\n",
      "151\n",
      "152\n",
      "153\n",
      "154\n",
      "155\n",
      "156\n",
      "157\n",
      "158\n",
      "159\n",
      "160\n",
      "161\n",
      "162\n",
      "163\n",
      "164\n",
      "165\n",
      "166\n",
      "167\n",
      "168\n",
      "169\n",
      "170\n",
      "171\n",
      "172\n",
      "173\n",
      "174\n",
      "175\n",
      "176\n",
      "177\n",
      "178\n",
      "179\n",
      "180\n",
      "181\n",
      "182\n",
      "183\n",
      "184\n",
      "185\n",
      "186\n",
      "187\n",
      "188\n",
      "189\n",
      "190\n",
      "191\n",
      "192\n",
      "193\n",
      "194\n",
      "195\n",
      "196\n",
      "197\n",
      "198\n",
      "199\n",
      "200\n",
      "201\n",
      "202\n",
      "203\n",
      "204\n",
      "205\n",
      "206\n",
      "207\n",
      "208\n",
      "209\n",
      "210\n",
      "211\n",
      "212\n",
      "213\n",
      "214\n",
      "215\n",
      "216\n",
      "217\n",
      "218\n",
      "219\n",
      "220\n",
      "221\n",
      "222\n",
      "223\n",
      "224\n",
      "225\n",
      "226\n",
      "227\n",
      "228\n",
      "229\n",
      "230\n",
      "231\n",
      "232\n",
      "233\n",
      "234\n",
      "235\n",
      "236\n",
      "237\n",
      "238\n",
      "239\n",
      "240\n",
      "241\n",
      "242\n",
      "243\n",
      "244\n",
      "245\n",
      "246\n",
      "247\n",
      "248\n",
      "249\n",
      "250\n",
      "251\n",
      "252\n",
      "253\n",
      "254\n",
      "255\n",
      "256\n",
      "257\n",
      "258\n",
      "259\n",
      "260\n",
      "261\n",
      "262\n",
      "263\n",
      "264\n",
      "265\n",
      "266\n",
      "267\n",
      "268\n",
      "269\n",
      "270\n",
      "271\n",
      "272\n",
      "273\n",
      "274\n",
      "275\n",
      "276\n",
      "277\n",
      "278\n",
      "279\n",
      "280\n",
      "281\n",
      "282\n",
      "283\n",
      "284\n",
      "285\n",
      "286\n",
      "287\n",
      "288\n",
      "289\n",
      "290\n",
      "291\n",
      "292\n",
      "293\n",
      "294\n",
      "295\n",
      "296\n",
      "297\n",
      "298\n",
      "299\n",
      "300\n",
      "301\n",
      "302\n",
      "303\n",
      "304\n",
      "305\n",
      "306\n",
      "307\n",
      "308\n",
      "309\n",
      "310\n",
      "311\n",
      "312\n",
      "313\n",
      "314\n",
      "315\n",
      "316\n",
      "317\n",
      "318\n",
      "319\n",
      "320\n",
      "321\n",
      "322\n",
      "323\n",
      "324\n",
      "325\n",
      "326\n",
      "327\n",
      "328\n",
      "329\n",
      "330\n",
      "331\n",
      "332\n",
      "333\n",
      "334\n",
      "335\n",
      "336\n",
      "337\n",
      "338\n",
      "339\n",
      "340\n",
      "341\n",
      "342\n",
      "343\n",
      "344\n",
      "345\n",
      "346\n",
      "347\n",
      "348\n",
      "349\n",
      "350\n",
      "351\n",
      "352\n",
      "353\n",
      "354\n",
      "355\n",
      "356\n",
      "357\n",
      "358\n",
      "359\n",
      "360\n",
      "361\n",
      "362\n",
      "363\n",
      "364\n",
      "365\n",
      "366\n",
      "367\n",
      "368\n",
      "369\n",
      "370\n",
      "371\n",
      "372\n",
      "373\n",
      "374\n",
      "375\n",
      "376\n",
      "377\n",
      "378\n",
      "379\n",
      "380\n",
      "381\n",
      "382\n",
      "383\n",
      "384\n",
      "385\n",
      "386\n",
      "387\n",
      "388\n",
      "389\n",
      "390\n",
      "391\n",
      "392\n",
      "393\n",
      "394\n",
      "395\n",
      "396\n",
      "397\n",
      "398\n",
      "399\n",
      "400\n",
      "401\n",
      "402\n",
      "403\n",
      "404\n",
      "405\n",
      "406\n",
      "407\n",
      "408\n",
      "409\n",
      "410\n",
      "411\n",
      "412\n",
      "413\n",
      "414\n",
      "415\n",
      "416\n",
      "417\n",
      "418\n",
      "419\n",
      "420\n",
      "421\n",
      "422\n",
      "423\n",
      "424\n",
      "425\n",
      "426\n",
      "427\n",
      "428\n",
      "429\n",
      "430\n",
      "431\n",
      "432\n",
      "433\n",
      "434\n",
      "435\n",
      "436\n",
      "437\n",
      "438\n",
      "439\n",
      "440\n",
      "441\n",
      "442\n",
      "443\n",
      "444\n",
      "445\n",
      "446\n",
      "447\n",
      "448\n",
      "449\n",
      "450\n",
      "451\n",
      "452\n",
      "453\n",
      "454\n",
      "455\n",
      "456\n",
      "457\n",
      "458\n",
      "459\n",
      "460\n",
      "461\n",
      "462\n",
      "463\n",
      "464\n",
      "465\n",
      "466\n",
      "467\n",
      "468\n",
      "469\n",
      "470\n",
      "471\n",
      "472\n",
      "473\n",
      "474\n",
      "475\n",
      "476\n",
      "477\n",
      "478\n",
      "479\n",
      "480\n",
      "481\n",
      "482\n",
      "483\n",
      "484\n",
      "485\n",
      "486\n",
      "487\n",
      "488\n",
      "489\n",
      "490\n",
      "491\n",
      "492\n",
      "493\n",
      "494\n",
      "495\n",
      "496\n",
      "497\n",
      "498\n",
      "499\n",
      "500\n",
      "501\n",
      "502\n",
      "503\n",
      "504\n",
      "505\n",
      "506\n",
      "507\n",
      "508\n",
      "509\n",
      "510\n",
      "511\n",
      "512\n",
      "513\n",
      "514\n",
      "515\n",
      "516\n",
      "517\n",
      "518\n",
      "519\n",
      "520\n",
      "521\n",
      "522\n",
      "523\n",
      "524\n",
      "525\n",
      "526\n",
      "527\n",
      "528\n",
      "529\n",
      "530\n",
      "531\n",
      "532\n",
      "533\n",
      "534\n",
      "535\n",
      "536\n",
      "537\n",
      "538\n",
      "539\n",
      "540\n",
      "541\n",
      "542\n",
      "543\n",
      "544\n",
      "545\n",
      "546\n",
      "547\n",
      "548\n",
      "549\n",
      "550\n",
      "551\n",
      "552\n",
      "553\n",
      "554\n",
      "555\n",
      "556\n",
      "557\n",
      "558\n",
      "559\n",
      "560\n",
      "561\n",
      "562\n",
      "563\n",
      "564\n",
      "565\n",
      "566\n",
      "567\n",
      "568\n",
      "569\n",
      "570\n",
      "571\n",
      "572\n",
      "573\n",
      "574\n",
      "575\n",
      "576\n",
      "577\n",
      "578\n",
      "579\n",
      "580\n",
      "581\n",
      "582\n",
      "583\n",
      "584\n",
      "585\n",
      "586\n",
      "587\n",
      "588\n",
      "589\n",
      "590\n",
      "591\n",
      "592\n",
      "593\n",
      "594\n",
      "595\n",
      "596\n",
      "597\n",
      "598\n",
      "599\n",
      "600\n",
      "601\n",
      "602\n",
      "603\n",
      "604\n",
      "605\n",
      "606\n",
      "607\n",
      "608\n",
      "609\n",
      "610\n",
      "611\n",
      "612\n",
      "613\n",
      "614\n",
      "615\n",
      "616\n",
      "617\n",
      "618\n",
      "619\n",
      "620\n",
      "621\n",
      "622\n",
      "623\n",
      "624\n",
      "625\n",
      "626\n",
      "627\n",
      "628\n",
      "629\n",
      "630\n",
      "631\n",
      "632\n",
      "633\n",
      "634\n",
      "635\n",
      "636\n",
      "637\n",
      "638\n",
      "639\n",
      "640\n",
      "641\n",
      "642\n",
      "643\n",
      "644\n",
      "645\n",
      "646\n",
      "647\n",
      "648\n",
      "649\n",
      "650\n",
      "651\n",
      "652\n",
      "653\n",
      "654\n",
      "655\n",
      "656\n",
      "657\n",
      "658\n",
      "659\n",
      "660\n",
      "661\n",
      "662\n",
      "663\n",
      "664\n",
      "665\n",
      "666\n",
      "667\n",
      "668\n",
      "669\n",
      "670\n",
      "671\n",
      "672\n",
      "673\n",
      "674\n",
      "675\n",
      "676\n",
      "677\n",
      "678\n",
      "679\n",
      "680\n",
      "681\n",
      "682\n",
      "683\n",
      "684\n",
      "685\n",
      "686\n",
      "687\n",
      "688\n",
      "689\n",
      "690\n",
      "691\n",
      "692\n",
      "693\n",
      "694\n",
      "695\n",
      "696\n",
      "697\n",
      "698\n",
      "699\n",
      "700\n",
      "701\n",
      "702\n",
      "703\n",
      "704\n",
      "705\n",
      "706\n",
      "707\n",
      "708\n",
      "709\n",
      "710\n",
      "711\n",
      "712\n",
      "713\n",
      "714\n",
      "715\n",
      "716\n",
      "717\n",
      "718\n",
      "719\n",
      "720\n",
      "721\n",
      "722\n",
      "723\n",
      "724\n",
      "725\n",
      "726\n",
      "727\n",
      "728\n",
      "729\n",
      "730\n",
      "731\n",
      "732\n",
      "733\n",
      "734\n",
      "735\n",
      "736\n",
      "737\n",
      "738\n",
      "739\n",
      "740\n",
      "741\n",
      "742\n",
      "743\n",
      "744\n",
      "745\n",
      "746\n",
      "747\n",
      "748\n",
      "749\n",
      "750\n",
      "751\n",
      "752\n",
      "753\n",
      "754\n",
      "755\n",
      "756\n",
      "757\n",
      "758\n",
      "759\n",
      "760\n",
      "761\n",
      "762\n",
      "763\n",
      "764\n",
      "765\n",
      "766\n",
      "767\n",
      "768\n",
      "769\n",
      "770\n",
      "771\n",
      "772\n",
      "773\n",
      "774\n",
      "775\n",
      "776\n",
      "777\n",
      "778\n",
      "779\n",
      "780\n",
      "781\n",
      "782\n",
      "783\n",
      "784\n",
      "785\n",
      "786\n",
      "787\n",
      "788\n",
      "789\n",
      "790\n",
      "791\n",
      "792\n",
      "793\n",
      "794\n",
      "795\n",
      "796\n",
      "797\n",
      "798\n",
      "799\n",
      "800\n",
      "801\n",
      "802\n",
      "803\n",
      "804\n",
      "805\n",
      "806\n",
      "807\n",
      "808\n",
      "809\n",
      "810\n",
      "811\n",
      "812\n",
      "813\n",
      "814\n",
      "815\n",
      "816\n",
      "817\n",
      "818\n",
      "819\n",
      "820\n",
      "821\n",
      "822\n",
      "823\n",
      "824\n",
      "825\n",
      "826\n",
      "827\n",
      "828\n",
      "829\n",
      "830\n",
      "831\n",
      "832\n",
      "833\n",
      "834\n",
      "835\n",
      "836\n",
      "837\n",
      "838\n",
      "839\n",
      "840\n",
      "841\n",
      "842\n",
      "843\n",
      "844\n",
      "845\n",
      "846\n",
      "847\n",
      "848\n",
      "849\n",
      "850\n",
      "851\n",
      "852\n",
      "853\n",
      "854\n",
      "855\n",
      "856\n",
      "857\n",
      "858\n",
      "859\n",
      "860\n",
      "861\n",
      "862\n",
      "863\n",
      "864\n",
      "865\n",
      "866\n",
      "867\n",
      "868\n",
      "869\n",
      "870\n",
      "871\n",
      "872\n",
      "873\n",
      "874\n",
      "875\n",
      "876\n",
      "877\n",
      "878\n",
      "879\n",
      "880\n",
      "881\n",
      "882\n",
      "883\n",
      "884\n",
      "885\n",
      "886\n",
      "887\n",
      "888\n",
      "889\n",
      "890\n",
      "891\n",
      "892\n",
      "893\n",
      "894\n",
      "895\n",
      "896\n",
      "897\n",
      "898\n",
      "899\n",
      "900\n",
      "901\n",
      "902\n",
      "903\n",
      "904\n",
      "905\n",
      "906\n",
      "907\n",
      "908\n",
      "909\n",
      "910\n",
      "911\n",
      "912\n",
      "913\n",
      "914\n",
      "915\n",
      "916\n",
      "917\n",
      "918\n",
      "919\n",
      "920\n",
      "921\n",
      "922\n",
      "923\n",
      "924\n",
      "925\n",
      "926\n",
      "927\n",
      "928\n",
      "929\n",
      "930\n",
      "931\n",
      "932\n",
      "933\n",
      "934\n",
      "935\n",
      "936\n",
      "937\n",
      "938\n",
      "939\n",
      "940\n",
      "941\n",
      "942\n",
      "943\n",
      "944\n",
      "945\n",
      "946\n",
      "947\n",
      "948\n",
      "949\n",
      "950\n",
      "951\n",
      "952\n",
      "953\n",
      "954\n",
      "955\n",
      "956\n",
      "957\n",
      "958\n",
      "959\n",
      "960\n",
      "961\n",
      "962\n",
      "963\n",
      "964\n",
      "965\n",
      "966\n",
      "967\n",
      "968\n",
      "969\n",
      "970\n",
      "971\n",
      "972\n",
      "973\n",
      "974\n",
      "975\n",
      "976\n",
      "977\n",
      "978\n",
      "979\n",
      "980\n",
      "981\n",
      "982\n",
      "983\n",
      "984\n",
      "985\n",
      "986\n",
      "987\n",
      "988\n",
      "989\n",
      "990\n",
      "991\n",
      "992\n",
      "993\n",
      "994\n",
      "995\n",
      "996\n",
      "997\n",
      "998\n",
      "999\n"
     ]
    }
   ],
   "source": [
    "for x in range(5,1000):\n",
    "    print(x) "
   ]
  },
  {
   "cell_type": "code",
   "execution_count": 13,
   "id": "2b0bc004",
   "metadata": {},
   "outputs": [
    {
     "name": "stdout",
     "output_type": "stream",
     "text": [
      "5\n",
      "14\n",
      "23\n",
      "32\n",
      "41\n",
      "50\n",
      "59\n",
      "68\n",
      "77\n",
      "86\n",
      "95\n",
      "104\n",
      "113\n",
      "122\n",
      "131\n",
      "140\n",
      "149\n",
      "158\n",
      "167\n",
      "176\n",
      "185\n",
      "194\n",
      "203\n",
      "212\n",
      "221\n",
      "230\n",
      "239\n",
      "248\n",
      "257\n",
      "266\n",
      "275\n",
      "284\n",
      "293\n",
      "302\n",
      "311\n",
      "320\n",
      "329\n",
      "338\n",
      "347\n",
      "356\n",
      "365\n",
      "374\n",
      "383\n",
      "392\n",
      "401\n",
      "410\n",
      "419\n",
      "428\n",
      "437\n",
      "446\n",
      "455\n",
      "464\n",
      "473\n",
      "482\n",
      "491\n",
      "500\n",
      "509\n",
      "518\n",
      "527\n",
      "536\n",
      "545\n",
      "554\n",
      "563\n",
      "572\n",
      "581\n",
      "590\n",
      "599\n",
      "608\n",
      "617\n",
      "626\n",
      "635\n",
      "644\n",
      "653\n",
      "662\n",
      "671\n",
      "680\n",
      "689\n",
      "698\n",
      "707\n",
      "716\n",
      "725\n",
      "734\n",
      "743\n",
      "752\n",
      "761\n",
      "770\n",
      "779\n",
      "788\n",
      "797\n",
      "806\n",
      "815\n",
      "824\n",
      "833\n",
      "842\n",
      "851\n",
      "860\n",
      "869\n",
      "878\n",
      "887\n",
      "896\n",
      "905\n",
      "914\n",
      "923\n",
      "932\n",
      "941\n",
      "950\n",
      "959\n",
      "968\n",
      "977\n",
      "986\n",
      "995\n"
     ]
    }
   ],
   "source": [
    "for x in range(5,1000,9):\n",
    "    print(x) "
   ]
  },
  {
   "cell_type": "code",
   "execution_count": 1,
   "id": "b487dfb5",
   "metadata": {},
   "outputs": [
    {
     "name": "stdout",
     "output_type": "stream",
     "text": [
      "['apple', 999, 'cherry']\n"
     ]
    }
   ],
   "source": [
    "list=[\"apple\",999,\"cherry\"]\n",
    "print(list)"
   ]
  },
  {
   "cell_type": "code",
   "execution_count": 2,
   "id": "c6fed28b",
   "metadata": {},
   "outputs": [
    {
     "name": "stdout",
     "output_type": "stream",
     "text": [
      "['orange', 'kiwi', 'melon', 'mango']\n",
      "<class 'list'>\n"
     ]
    }
   ],
   "source": [
    "list=[\"apple\",\"banana\",\"cherry\",\"orange\",\"kiwi\",\"melon\",\"mango\"]\n",
    "print(list[3:])\n",
    "print(type(list))"
   ]
  },
  {
   "cell_type": "code",
   "execution_count": 3,
   "id": "30fe00f3",
   "metadata": {},
   "outputs": [
    {
     "name": "stdout",
     "output_type": "stream",
     "text": [
      "['banana']\n"
     ]
    }
   ],
   "source": [
    "list=[\"apple\",\"banana\",\"cherry\",\"orange\",\"kiwi\",\"melon\",\"mango\"]\n",
    "print(list[-6:-5])"
   ]
  },
  {
   "cell_type": "code",
   "execution_count": 4,
   "id": "a90b97c4",
   "metadata": {},
   "outputs": [
    {
     "name": "stdout",
     "output_type": "stream",
     "text": [
      "['apple', 'blackcurrant', 'cherry']\n"
     ]
    }
   ],
   "source": [
    "list=[\"apple\",\"banana\",\"cherry\"]\n",
    "list[-2]=\"blackcurrant\"\n",
    "print(list)"
   ]
  },
  {
   "cell_type": "code",
   "execution_count": 5,
   "id": "a2b99b43",
   "metadata": {},
   "outputs": [
    {
     "name": "stdout",
     "output_type": "stream",
     "text": [
      "l\n",
      "i\n",
      "s\n",
      "t\n"
     ]
    }
   ],
   "source": [
    "list=[\"apple\",\"123\",\"cherry\"]\n",
    "for x in \"list\":\n",
    "    print(x)"
   ]
  },
  {
   "cell_type": "code",
   "execution_count": 6,
   "id": "5fd81592",
   "metadata": {},
   "outputs": [
    {
     "name": "stdout",
     "output_type": "stream",
     "text": [
      "['apple', 'banana', 'cherry', 'banana']\n"
     ]
    }
   ],
   "source": [
    "list=[\"apple\",\"banana\",\"cherry\"]\n",
    "list.append(\"banana\")\n",
    "print(list)"
   ]
  },
  {
   "cell_type": "code",
   "execution_count": 7,
   "id": "0058c372",
   "metadata": {},
   "outputs": [
    {
     "name": "stdout",
     "output_type": "stream",
     "text": [
      "['apple', 'banana', 'cherry', 'Banana']\n"
     ]
    }
   ],
   "source": [
    "list=[\"apple\",\"banana\",\"cherry\"]\n",
    "list.append(\"Banana\")\n",
    "print(list)"
   ]
  },
  {
   "cell_type": "code",
   "execution_count": 8,
   "id": "ac411566",
   "metadata": {},
   "outputs": [
    {
     "name": "stdout",
     "output_type": "stream",
     "text": [
      "['banana', 'cherry', 'orange', 'kiwi']\n"
     ]
    }
   ],
   "source": [
    "list=[\"apple\",\"banana\",\"cherry\",\"orange\",\"kiwi\",\"melon\",\"mango\"]\n",
    "print(list[-6:5])"
   ]
  },
  {
   "cell_type": "code",
   "execution_count": 9,
   "id": "44e13048",
   "metadata": {},
   "outputs": [
    {
     "name": "stdout",
     "output_type": "stream",
     "text": [
      "[]\n"
     ]
    }
   ],
   "source": [
    "list=[\"apple\",\"banana\",\"cherry\",\"orange\",\"kiwi\",\"melon\",\"mango\"]\n",
    "print(list[:-10])"
   ]
  },
  {
   "cell_type": "code",
   "execution_count": 10,
   "id": "77d48da7",
   "metadata": {},
   "outputs": [
    {
     "name": "stdout",
     "output_type": "stream",
     "text": [
      "[]\n"
     ]
    }
   ],
   "source": [
    "list=[\"apple\",\"banana\",\"cherry\",\"orange\",\"kiwi\",\"melon\",\"mango\"]\n",
    "print(list[-5:-15])"
   ]
  },
  {
   "cell_type": "code",
   "execution_count": 12,
   "id": "c1bd90e9",
   "metadata": {},
   "outputs": [
    {
     "name": "stdout",
     "output_type": "stream",
     "text": [
      "['apple', 'banana', 'orange', 'cherry']\n",
      "orange\n"
     ]
    }
   ],
   "source": [
    "list=[\"apple\",\"banana\",\"cherry\"]\n",
    "list.insert(2,\"orange\")\n",
    "print(list)\n",
    "print(list[2])"
   ]
  },
  {
   "cell_type": "code",
   "execution_count": 13,
   "id": "78d1c1f8",
   "metadata": {},
   "outputs": [
    {
     "name": "stdout",
     "output_type": "stream",
     "text": [
      "['apple', 'cherry']\n"
     ]
    }
   ],
   "source": [
    "list=[\"apple\",\"banana\",\"cherry\"]\n",
    "list.remove(\"banana\")\n",
    "print(list)"
   ]
  },
  {
   "cell_type": "code",
   "execution_count": 14,
   "id": "474c809d",
   "metadata": {},
   "outputs": [
    {
     "name": "stdout",
     "output_type": "stream",
     "text": [
      "['apple', 'banana']\n"
     ]
    }
   ],
   "source": [
    "list=[\"apple\",\"banana\",\"cherry\"]\n",
    "list.pop()\n",
    "print(list)"
   ]
  },
  {
   "cell_type": "code",
   "execution_count": 15,
   "id": "86f96d90",
   "metadata": {},
   "outputs": [
    {
     "name": "stdout",
     "output_type": "stream",
     "text": [
      "['apple', 'cherry']\n"
     ]
    }
   ],
   "source": [
    "list=[\"apple\",\"banana\",\"cherry\"]\n",
    "del list[-2]\n",
    "print(list)"
   ]
  },
  {
   "cell_type": "code",
   "execution_count": 16,
   "id": "20564f59",
   "metadata": {},
   "outputs": [
    {
     "name": "stdout",
     "output_type": "stream",
     "text": [
      "[]\n"
     ]
    }
   ],
   "source": [
    "list=[\"apple\",\"banana\",\"cherry\"]\n",
    "list.clear()\n",
    "print(list)"
   ]
  },
  {
   "cell_type": "code",
   "execution_count": 17,
   "id": "890ef013",
   "metadata": {},
   "outputs": [
    {
     "name": "stdout",
     "output_type": "stream",
     "text": [
      "('apple', 'banana', 'cherry')\n",
      "<class 'tuple'>\n"
     ]
    }
   ],
   "source": [
    "fruits=(\"apple\",\"banana\",\"cherry\")\n",
    "print(fruits)\n",
    "print(type(fruits))"
   ]
  },
  {
   "cell_type": "code",
   "execution_count": 18,
   "id": "1122acf0",
   "metadata": {},
   "outputs": [
    {
     "name": "stdout",
     "output_type": "stream",
     "text": [
      "()\n"
     ]
    }
   ],
   "source": [
    "fruits=(\"apple\",\"banana\",\"cherry\",\"orange\",\"kiwi\",\"melon\",\"mango\")\n",
    "print(fruits[-2:3])"
   ]
  },
  {
   "cell_type": "code",
   "execution_count": 19,
   "id": "5f483567",
   "metadata": {},
   "outputs": [
    {
     "name": "stdout",
     "output_type": "stream",
     "text": [
      "()\n"
     ]
    }
   ],
   "source": [
    "fruits=(\"apple\",\"banana\",\"cherry\",\"orange\",\"kiwi\",\"melon\",\"mango\")\n",
    "print(fruits[3:-7])"
   ]
  },
  {
   "cell_type": "code",
   "execution_count": 20,
   "id": "822fd5f0",
   "metadata": {},
   "outputs": [
    {
     "name": "stdout",
     "output_type": "stream",
     "text": [
      "('kiwi',)\n"
     ]
    }
   ],
   "source": [
    "fruits=(\"apple\",\"banana\",\"cherry\",\"orange\",\"kiwi\",\"melon\",\"mango\")\n",
    "print(fruits[4:-2])"
   ]
  },
  {
   "cell_type": "code",
   "execution_count": 21,
   "id": "63f8f757",
   "metadata": {},
   "outputs": [
    {
     "name": "stdout",
     "output_type": "stream",
     "text": [
      "()\n"
     ]
    }
   ],
   "source": [
    "fruits=(\"apple\",\"banana\",\"cherry\",\"orange\",\"kiwi\",\"melon\",\"mango\")\n",
    "print(fruits[-4:-7])"
   ]
  },
  {
   "cell_type": "code",
   "execution_count": 22,
   "id": "cfe6848e",
   "metadata": {},
   "outputs": [
    {
     "name": "stdout",
     "output_type": "stream",
     "text": [
      "m\n",
      "u\n",
      "t\n",
      "u\n",
      "p\n",
      "l\n",
      "e\n"
     ]
    }
   ],
   "source": [
    "fruits=(\"apple\",\"banana\",\"cherry\",\"orange\",\"kiwi\",\"melon\",\"mango\")\n",
    "for x in \"mutuple\":\n",
    "    print(x)"
   ]
  },
  {
   "cell_type": "code",
   "execution_count": 23,
   "id": "5ba70e9d",
   "metadata": {},
   "outputs": [
    {
     "name": "stdout",
     "output_type": "stream",
     "text": [
      "7\n"
     ]
    }
   ],
   "source": [
    "fruits=(\"apple\",\"banana\",\"cherry\",\"orange\",\"kiwi\",\"melon\",\"mango\")\n",
    "print(len(fruits))"
   ]
  },
  {
   "cell_type": "code",
   "execution_count": 25,
   "id": "8a9147aa",
   "metadata": {},
   "outputs": [
    {
     "ename": "AttributeError",
     "evalue": "'tuple' object has no attribute 'pop'",
     "output_type": "error",
     "traceback": [
      "\u001b[1;31m---------------------------------------------------------------------------\u001b[0m",
      "\u001b[1;31mAttributeError\u001b[0m                            Traceback (most recent call last)",
      "\u001b[1;32m<ipython-input-25-8e0596df0456>\u001b[0m in \u001b[0;36m<module>\u001b[1;34m\u001b[0m\n\u001b[0;32m      1\u001b[0m \u001b[0mfruits\u001b[0m\u001b[1;33m=\u001b[0m\u001b[1;33m(\u001b[0m\u001b[1;34m\"apple\"\u001b[0m\u001b[1;33m,\u001b[0m\u001b[1;34m\"banana\"\u001b[0m\u001b[1;33m,\u001b[0m\u001b[1;34m\"cherry\"\u001b[0m\u001b[1;33m,\u001b[0m\u001b[1;34m\"orange\"\u001b[0m\u001b[1;33m,\u001b[0m\u001b[1;34m\"kiwi\"\u001b[0m\u001b[1;33m,\u001b[0m\u001b[1;34m\"melon\"\u001b[0m\u001b[1;33m,\u001b[0m\u001b[1;34m\"mango\"\u001b[0m\u001b[1;33m)\u001b[0m\u001b[1;33m\u001b[0m\u001b[1;33m\u001b[0m\u001b[0m\n\u001b[1;32m----> 2\u001b[1;33m \u001b[0mfruits\u001b[0m\u001b[1;33m.\u001b[0m\u001b[0mpop\u001b[0m\u001b[1;33m(\u001b[0m\u001b[1;33m)\u001b[0m\u001b[1;33m\u001b[0m\u001b[1;33m\u001b[0m\u001b[0m\n\u001b[0m\u001b[0;32m      3\u001b[0m \u001b[0mprint\u001b[0m\u001b[1;33m(\u001b[0m\u001b[0mfruits\u001b[0m\u001b[1;33m)\u001b[0m\u001b[1;33m\u001b[0m\u001b[1;33m\u001b[0m\u001b[0m\n",
      "\u001b[1;31mAttributeError\u001b[0m: 'tuple' object has no attribute 'pop'"
     ]
    }
   ],
   "source": [
    "fruits=(\"apple\",\"banana\",\"cherry\",\"orange\",\"kiwi\",\"melon\",\"mango\")\n",
    "fruits.pop()\n",
    "print(fruits)"
   ]
  },
  {
   "cell_type": "code",
   "execution_count": 1,
   "id": "ba225ba3",
   "metadata": {},
   "outputs": [
    {
     "name": "stdout",
     "output_type": "stream",
     "text": [
      "(1, 2, 3, 'a', 'b', '2')\n"
     ]
    }
   ],
   "source": [
    "tuple1=(\"a\",\"b\",\"2\")\n",
    "tuple2=(1,2,3)\n",
    "tuple3=tuple2+tuple1\n",
    "print(tuple3)"
   ]
  },
  {
   "cell_type": "code",
   "execution_count": 2,
   "id": "47218816",
   "metadata": {},
   "outputs": [
    {
     "name": "stdout",
     "output_type": "stream",
     "text": [
      "('apple', 'banana', 'cherry')\n"
     ]
    }
   ],
   "source": [
    "thistuple=tuple((\"apple\",\"banana\",\"cherry\"))\n",
    "print(thistuple)"
   ]
  },
  {
   "cell_type": "code",
   "execution_count": 2,
   "id": "ee156a16",
   "metadata": {},
   "outputs": [
    {
     "name": "stdout",
     "output_type": "stream",
     "text": [
      "{'Mahi', 'Durva', 'amar', 'viru', 'sagar', 'rahul', 'ankita', 'pooja'}\n"
     ]
    }
   ],
   "source": [
    "myset = {\"Durva\", \"amar\", \"ankita\",\"sagar\",\"rahul\",\"pooja\",\"Mahi\",\"viru\"}\n",
    "print(myset)"
   ]
  },
  {
   "cell_type": "code",
   "execution_count": 4,
   "id": "b5802bdd",
   "metadata": {},
   "outputs": [
    {
     "name": "stdout",
     "output_type": "stream",
     "text": [
      "Durva\n",
      "mahi\n",
      "amar\n",
      "viru\n",
      "sagar\n",
      "rahul\n",
      "ankita\n",
      "pooja\n"
     ]
    }
   ],
   "source": [
    "myset = {\"Durva\", \"amar\", \"ankita\",\"sagar\",\"rahul\",\"mahi\",\"pooja\",\"viru\"}\n",
    "for x in myset:\n",
    "    print(x)"
   ]
  },
  {
   "cell_type": "code",
   "execution_count": 5,
   "id": "9e660ad9",
   "metadata": {},
   "outputs": [
    {
     "name": "stdout",
     "output_type": "stream",
     "text": [
      "False\n"
     ]
    }
   ],
   "source": [
    "myset = {\"Durva\",\"sagar\",\"rahul\",\"Pooja\",\"Mahi\",\"viru\"}\n",
    "print(\"Rahul\" in myset)"
   ]
  },
  {
   "cell_type": "code",
   "execution_count": 6,
   "id": "51669a1c",
   "metadata": {},
   "outputs": [
    {
     "name": "stdout",
     "output_type": "stream",
     "text": [
      "{'Mahi', 'rahul', 'Bluee', 'Durva', 'Mangos', 'amar', 'orange', 'viru', 'pooja', 'ankita'}\n"
     ]
    }
   ],
   "source": [
    "myset = {\"Durva\", \"amar\", \"ankita\",\"rahul\",\"pooja\",\"Mahi\",\"viru\"} #Add an item to a set\n",
    "myset.add(\"orange\")\n",
    "myset.add(\"Mangos\")\n",
    "myset.add(\"orange\")\n",
    "myset.add(\"Bluee\")\n",
    "print(myset)"
   ]
  },
  {
   "cell_type": "code",
   "execution_count": 7,
   "id": "692302f5",
   "metadata": {},
   "outputs": [
    {
     "name": "stdout",
     "output_type": "stream",
     "text": [
      "{'Mahi', 'Durva', 'mango', 'amar', 'grapes', 'orange', 'viru', 'sagar', 'rahul', 'ankita', 'pooja'}\n"
     ]
    }
   ],
   "source": [
    "myset = {\"Durva\", \"amar\", \"ankita\",\"sagar\",\"rahul\",\"pooja\",\"Mahi\",\"viru\"} \n",
    "myset.update([\"orange\", \"mango\", \"grapes\"])\n",
    "print(myset)"
   ]
  },
  {
   "cell_type": "code",
   "execution_count": 8,
   "id": "0766b58d",
   "metadata": {},
   "outputs": [
    {
     "name": "stdout",
     "output_type": "stream",
     "text": [
      "8\n"
     ]
    }
   ],
   "source": [
    "myset = {\"Durva\", \"amar\", \"ankita\",\"sagar\",\"rahul\",\"pooja\",\"Mahi\",\"viru\"}\n",
    "print(len(myset))"
   ]
  },
  {
   "cell_type": "code",
   "execution_count": 11,
   "id": "448520fb",
   "metadata": {},
   "outputs": [
    {
     "ename": "KeyError",
     "evalue": "'sagar'",
     "output_type": "error",
     "traceback": [
      "\u001b[1;31m---------------------------------------------------------------------------\u001b[0m",
      "\u001b[1;31mKeyError\u001b[0m                                  Traceback (most recent call last)",
      "\u001b[1;32m<ipython-input-11-feaf15a4f305>\u001b[0m in \u001b[0;36m<module>\u001b[1;34m\u001b[0m\n\u001b[0;32m      1\u001b[0m \u001b[0mmyset\u001b[0m \u001b[1;33m=\u001b[0m \u001b[1;33m{\u001b[0m\u001b[1;34m\"ankita\"\u001b[0m\u001b[1;33m,\u001b[0m\u001b[1;34m\"rahul\"\u001b[0m\u001b[1;33m,\u001b[0m\u001b[1;34m\"pooja\"\u001b[0m\u001b[1;33m,\u001b[0m\u001b[1;34m\"viru\"\u001b[0m\u001b[1;33m}\u001b[0m\u001b[1;33m\u001b[0m\u001b[1;33m\u001b[0m\u001b[0m\n\u001b[1;32m----> 2\u001b[1;33m \u001b[0mmyset\u001b[0m\u001b[1;33m.\u001b[0m\u001b[0mremove\u001b[0m\u001b[1;33m(\u001b[0m\u001b[1;34m'sagar'\u001b[0m\u001b[1;33m)\u001b[0m\u001b[1;33m\u001b[0m\u001b[1;33m\u001b[0m\u001b[0m\n\u001b[0m\u001b[0;32m      3\u001b[0m \u001b[0mprint\u001b[0m\u001b[1;33m(\u001b[0m\u001b[0mmyset\u001b[0m\u001b[1;33m)\u001b[0m\u001b[1;33m\u001b[0m\u001b[1;33m\u001b[0m\u001b[0m\n",
      "\u001b[1;31mKeyError\u001b[0m: 'sagar'"
     ]
    }
   ],
   "source": [
    "myset = {\"ankita\",\"rahul\",\"pooja\",\"viru\"}\n",
    "myset.remove('sagar')\n",
    "print(myset)"
   ]
  },
  {
   "cell_type": "code",
   "execution_count": 10,
   "id": "fd0a52b2",
   "metadata": {},
   "outputs": [
    {
     "name": "stdout",
     "output_type": "stream",
     "text": [
      "{'Mahi', 'rahul', 'viru', 'pooja', 'ankita'}\n"
     ]
    }
   ],
   "source": [
    "myset = {\"ankita\",\"rahul\",\"pooja\",\"Mahi\",\"viru\"}\n",
    "myset.discard(\"sagar\")\n",
    "print(myset)"
   ]
  },
  {
   "cell_type": "code",
   "execution_count": 12,
   "id": "3362096f",
   "metadata": {},
   "outputs": [
    {
     "name": "stdout",
     "output_type": "stream",
     "text": [
      "Ankita\n",
      "{'Mahi', 'rahul', 'Krishna', 'AMAR', 'viru', 'pooja', 'adi'}\n"
     ]
    }
   ],
   "source": [
    "myset = {\"pooja\",\"Mahi\",\"viru\",\"AMAR\",\"adi\",\"Ankita\",\"rahul\",\"Krishna\"}\n",
    "x = myset.pop()\n",
    "print(x)\n",
    "print(myset)"
   ]
  },
  {
   "cell_type": "code",
   "execution_count": 13,
   "id": "9eaa8e52",
   "metadata": {},
   "outputs": [
    {
     "name": "stdout",
     "output_type": "stream",
     "text": [
      "set()\n"
     ]
    }
   ],
   "source": [
    "myset = {\"Durva\", \"amar\", \"ankita\",\"sagar\",\"rahul\",\"pooja\",\"Mahi\",\"viru\"}\n",
    "myset.clear()\n",
    "print(myset)"
   ]
  },
  {
   "cell_type": "code",
   "execution_count": 14,
   "id": "48c0cbe2",
   "metadata": {},
   "outputs": [
    {
     "name": "stdout",
     "output_type": "stream",
     "text": [
      "{'Mahi', 1, 2, 'Durva', 3, 'amar', 'viru', 'sagar', 'rahul', 'ankita', 'pooja'}\n"
     ]
    }
   ],
   "source": [
    "set1 = {\"Durva\", \"amar\", \"ankita\",\"sagar\",\"rahul\",\"pooja\",\"Mahi\",\"viru\"}\n",
    "set2 = {1, 2, 3}\n",
    "set3 = set1.union(set2)\n",
    "print(set3)"
   ]
  },
  {
   "cell_type": "code",
   "execution_count": 15,
   "id": "cd823978",
   "metadata": {},
   "outputs": [
    {
     "name": "stdout",
     "output_type": "stream",
     "text": [
      "{'Ankita', 1, 'Amar', 2, 'Durva', 3}\n"
     ]
    }
   ],
   "source": [
    "set1 = {\"Durva\", \"Amar\", \"Ankita\"}\n",
    "set2 = {1, 2, 3}\n",
    "set1.update(set2)\n",
    "print(set1)"
   ]
  },
  {
   "cell_type": "code",
   "execution_count": 16,
   "id": "99430416",
   "metadata": {},
   "outputs": [
    {
     "name": "stdout",
     "output_type": "stream",
     "text": [
      "<class 'set'>\n",
      "<class 'dict'>\n",
      "<class 'list'>\n"
     ]
    }
   ],
   "source": [
    "a=set()\n",
    "b={}\n",
    "c=[]\n",
    "print(type(a))\n",
    "print(type(b))\n",
    "print(type(c))"
   ]
  },
  {
   "cell_type": "code",
   "execution_count": 17,
   "id": "a99df508",
   "metadata": {},
   "outputs": [
    {
     "name": "stdout",
     "output_type": "stream",
     "text": [
      "{'Durva': 'Developer', 'Amar': 'Shopper', 'rack': 'Python', 'year': 2020}\n"
     ]
    }
   ],
   "source": [
    "mydict = {\n",
    "\"Durva\": \"Developer\",\n",
    "\"Amar\": \"Shopper\",\n",
    "\"rack\":\"Python\",\n",
    "\"year\": 2020\n",
    "}\n",
    "print(mydict)"
   ]
  },
  {
   "cell_type": "code",
   "execution_count": 18,
   "id": "b5bd484b",
   "metadata": {},
   "outputs": [
    {
     "data": {
      "text/plain": [
       "'Python'"
      ]
     },
     "execution_count": 18,
     "metadata": {},
     "output_type": "execute_result"
    }
   ],
   "source": [
    "x = mydict[\"rack\"]\n",
    "x"
   ]
  },
  {
   "cell_type": "code",
   "execution_count": 19,
   "id": "d436845f",
   "metadata": {},
   "outputs": [
    {
     "data": {
      "text/plain": [
       "'Shopper'"
      ]
     },
     "execution_count": 19,
     "metadata": {},
     "output_type": "execute_result"
    }
   ],
   "source": [
    "x = mydict.get(\"Amar\")\n",
    "x"
   ]
  },
  {
   "cell_type": "code",
   "execution_count": 20,
   "id": "a5243cf4",
   "metadata": {},
   "outputs": [],
   "source": [
    "mydict = {\n",
    "\"Durva\": [\"Developaaaer\",\"Developer\"],\n",
    "\"Amar\": \"Shopkeeper\",\n",
    "\"year\": 2020\n",
    "}\n",
    "mydict[\"year\"] = \"Python Pro\""
   ]
  },
  {
   "cell_type": "code",
   "execution_count": 21,
   "id": "fe9def99",
   "metadata": {},
   "outputs": [
    {
     "name": "stdout",
     "output_type": "stream",
     "text": [
      "{'Durva': ['Developaaaer', 'Developer'], 'Amar': 'Shopkeeper', 'year': 'Python Pro'}\n"
     ]
    }
   ],
   "source": [
    "print(mydict)"
   ]
  },
  {
   "cell_type": "code",
   "execution_count": 23,
   "id": "e229397b",
   "metadata": {},
   "outputs": [
    {
     "name": "stdout",
     "output_type": "stream",
     "text": [
      "Durva\n",
      "Amar\n",
      "year\n"
     ]
    }
   ],
   "source": [
    "for x in mydict:\n",
    "    print(x)"
   ]
  },
  {
   "cell_type": "code",
   "execution_count": 24,
   "id": "2016afed",
   "metadata": {},
   "outputs": [
    {
     "name": "stdout",
     "output_type": "stream",
     "text": [
      "['Developaaaer', 'Developer']\n",
      "Shopkeeper\n",
      "Python Pro\n"
     ]
    }
   ],
   "source": [
    "for x in mydict:\n",
    "    print(mydict[x])"
   ]
  },
  {
   "cell_type": "code",
   "execution_count": 25,
   "id": "2068f578",
   "metadata": {},
   "outputs": [
    {
     "name": "stdout",
     "output_type": "stream",
     "text": [
      "['Developaaaer', 'Developer']\n",
      "Shopkeeper\n",
      "Python Pro\n"
     ]
    }
   ],
   "source": [
    "for x in mydict.values():\n",
    "    print(x)"
   ]
  },
  {
   "cell_type": "code",
   "execution_count": 26,
   "id": "868352cf",
   "metadata": {},
   "outputs": [
    {
     "name": "stdout",
     "output_type": "stream",
     "text": [
      "Durva ['Developaaaer', 'Developer']\n",
      "Amar Shopkeeper\n",
      "year Python Pro\n"
     ]
    }
   ],
   "source": [
    "for x, y in mydict.items():\n",
    "    print(x, y)"
   ]
  },
  {
   "cell_type": "code",
   "execution_count": 27,
   "id": "87b95ddf",
   "metadata": {},
   "outputs": [
    {
     "name": "stdout",
     "output_type": "stream",
     "text": [
      "Yes, in dictionary\n"
     ]
    }
   ],
   "source": [
    "mydict = {\n",
    "\"Durva\": \"Developer\",\n",
    "\"Amar\": \"Shopkeeper\",\n",
    "\"year\": 2020\n",
    "}\n",
    "if \"Durva\" in mydict.keys():\n",
    "    print(\"Yes, in dictionary\")\n",
    "else:\n",
    "    print(\"Yes not in dictionary\")"
   ]
  },
  {
   "cell_type": "code",
   "execution_count": 28,
   "id": "d3c29963",
   "metadata": {},
   "outputs": [
    {
     "name": "stdout",
     "output_type": "stream",
     "text": [
      "3\n"
     ]
    }
   ],
   "source": [
    "print(len(mydict))"
   ]
  },
  {
   "cell_type": "code",
   "execution_count": 29,
   "id": "b68af937",
   "metadata": {},
   "outputs": [
    {
     "name": "stdout",
     "output_type": "stream",
     "text": [
      "{'Durva': 'Developer', 'Amar': 'Shopkeeper', 'year': 2020, 'color': 'red'}\n"
     ]
    }
   ],
   "source": [
    "mydict = {\n",
    "\"Durva\": \"Developer\",\n",
    "\"Amar\": \"Shopkeeper\",\n",
    "\"year\": 2020\n",
    "}\n",
    "mydict[\"color\"] = \"red\"\n",
    "print(mydict)"
   ]
  },
  {
   "cell_type": "code",
   "execution_count": 30,
   "id": "bc6bbf9b",
   "metadata": {},
   "outputs": [
    {
     "name": "stdout",
     "output_type": "stream",
     "text": [
      "{'Durva': 'Developer', 'Amar': 'Shopkeeper'}\n"
     ]
    }
   ],
   "source": [
    "mydict = {\n",
    "\"Durva\": \"Developer\",\n",
    "\"Amar\": \"Shopkeeper\",\n",
    "\"year\": 2020\n",
    "}\n",
    "mydict.pop(\"year\")\n",
    "print(mydict)"
   ]
  },
  {
   "cell_type": "code",
   "execution_count": 31,
   "id": "1f9864c5",
   "metadata": {},
   "outputs": [
    {
     "name": "stdout",
     "output_type": "stream",
     "text": [
      "('rack', 5555)\n",
      "{'111': '333', '': '', 'year': 2020}\n"
     ]
    }
   ],
   "source": [
    "mydict = {\n",
    "\"111\": \"333\",\n",
    "\"\": \"\",\n",
    "\"year\": 2020,\n",
    "\"rack\":5555\n",
    "}\n",
    "x=mydict.popitem()\n",
    "print(x)\n",
    "print(mydict)"
   ]
  },
  {
   "cell_type": "code",
   "execution_count": 32,
   "id": "4cba5414",
   "metadata": {},
   "outputs": [
    {
     "name": "stdout",
     "output_type": "stream",
     "text": [
      "{'Durva': 'Developer', 'year': 2020}\n"
     ]
    }
   ],
   "source": [
    "mydict = {\n",
    "\"Durva\": \"Developer\",\n",
    "\"Amar\": \"Shopkeeper\",\n",
    "\"year\": 2020\n",
    "}\n",
    "del mydict[\"Amar\"]\n",
    "print(mydict)"
   ]
  },
  {
   "cell_type": "code",
   "execution_count": 33,
   "id": "d6c2f2dc",
   "metadata": {},
   "outputs": [
    {
     "name": "stdout",
     "output_type": "stream",
     "text": [
      "{}\n"
     ]
    }
   ],
   "source": [
    "mydict = {\n",
    "\"Durva\": \"Developer\",\n",
    "\"Amar\": \"Shopkeeper\",\n",
    "\"year\": 2020\n",
    "}\n",
    "mydict.clear()\n",
    "print(mydict)"
   ]
  },
  {
   "cell_type": "code",
   "execution_count": 34,
   "id": "4b3f64a6",
   "metadata": {},
   "outputs": [
    {
     "name": "stdout",
     "output_type": "stream",
     "text": [
      "{'Durva': 'Developer', 'Amar': 'Shopkeeper', 'year': 2020}\n",
      "{'Durva': 'Developer', 'Amar': 'Shopkeeper', 'year': 2020}\n"
     ]
    }
   ],
   "source": [
    "mydict = {\n",
    "\"Durva\": \"Developer\",\n",
    "\"Amar\": \"Shopkeeper\",\n",
    "\"year\": 2020\n",
    "}\n",
    "mydict1 = mydict.copy()\n",
    "print(mydict)\n",
    "print(mydict1)"
   ]
  },
  {
   "cell_type": "code",
   "execution_count": 35,
   "id": "6ae0bbe8",
   "metadata": {},
   "outputs": [
    {
     "name": "stdout",
     "output_type": "stream",
     "text": [
      "{'Durva': 'Developer', 'Amar': 'Shopkeeper', 'year': 2020}\n"
     ]
    }
   ],
   "source": [
    "mydict = {\n",
    "\"Durva\": \"Developer\",\n",
    "\"Amar\": \"Shopkeeper\",\n",
    "\"year\": 2020\n",
    "}\n",
    "mydict2 = dict(mydict)\n",
    "print(mydict2)"
   ]
  },
  {
   "cell_type": "code",
   "execution_count": 2,
   "id": "732aa98e",
   "metadata": {},
   "outputs": [
    {
     "name": "stdout",
     "output_type": "stream",
     "text": [
      "b is not greater than a\n"
     ]
    }
   ],
   "source": [
    "a = 300\n",
    "b = 40\n",
    "if a< b:\n",
    "    print(\"b is greater than a\")\n",
    "else:\n",
    "    print(\"b is not greater than a\")"
   ]
  },
  {
   "cell_type": "code",
   "execution_count": 3,
   "id": "7d2edc95",
   "metadata": {},
   "outputs": [
    {
     "name": "stdout",
     "output_type": "stream",
     "text": [
      "b is not greater than a\n"
     ]
    }
   ],
   "source": [
    "a = 33\n",
    "b = 20.0\n",
    "if b > a:\n",
    "    print(\"b is greater than a\") \n",
    "else:\n",
    "    print(\"b is not greater than a\")"
   ]
  },
  {
   "cell_type": "code",
   "execution_count": 4,
   "id": "52a8fe44",
   "metadata": {},
   "outputs": [
    {
     "name": "stdout",
     "output_type": "stream",
     "text": [
      "b is greater than a\n"
     ]
    }
   ],
   "source": [
    "a = 30333\n",
    "b = 300\n",
    "c = 230\n",
    "if b < a and c < b :\n",
    "    print(\"b is greater than a\")\n",
    "elif b < a or a>b:\n",
    "    print(\"a is less than b\")\n",
    "elif b == a:\n",
    "    print(\"b is less than a\")\n",
    "else:\n",
    "    print(\"a equals b\")"
   ]
  },
  {
   "cell_type": "code",
   "execution_count": 7,
   "id": "5deca903",
   "metadata": {},
   "outputs": [
    {
     "name": "stdout",
     "output_type": "stream",
     "text": [
      "b is greater than a\n"
     ]
    }
   ],
   "source": [
    "a = 200\n",
    "b = 330\n",
    "if b > a:\n",
    "    print(\"b is greater than a\")\n",
    "elif a < b:\n",
    "    print(\"a and b are equal\")\n",
    "else:\n",
    "    print(\"a is greater than b\")"
   ]
  },
  {
   "cell_type": "code",
   "execution_count": 6,
   "id": "58e8dd5a",
   "metadata": {},
   "outputs": [
    {
     "name": "stdout",
     "output_type": "stream",
     "text": [
      "b is greater than a\n"
     ]
    }
   ],
   "source": [
    "a = 200\n",
    "b = 33\n",
    "if b < a:\n",
    "    print(\"b is greater than a\")\n",
    "else:\n",
    "    print(\"b is not greater than a\")"
   ]
  },
  {
   "cell_type": "code",
   "execution_count": 8,
   "id": "b23de56d",
   "metadata": {},
   "outputs": [
    {
     "name": "stdout",
     "output_type": "stream",
     "text": [
      "a is greater than b\n"
     ]
    }
   ],
   "source": [
    "a = 20022\n",
    "b = 3302\n",
    "if a > b: print(\"a is greater than b\")"
   ]
  },
  {
   "cell_type": "code",
   "execution_count": 9,
   "id": "9ae3bda7",
   "metadata": {},
   "outputs": [
    {
     "name": "stdout",
     "output_type": "stream",
     "text": [
      "A\n"
     ]
    }
   ],
   "source": [
    "a = 2\n",
    "b = 1\n",
    "print(\"A\") if a > b else print(\"B\")"
   ]
  },
  {
   "cell_type": "code",
   "execution_count": 10,
   "id": "d1e58d8d",
   "metadata": {},
   "outputs": [
    {
     "name": "stdout",
     "output_type": "stream",
     "text": [
      "B\n"
     ]
    }
   ],
   "source": [
    "a = 340\n",
    "b = 3300\n",
    "print(\"A\") if a > b else print(\"=\") if a == b else print(\"B\")"
   ]
  },
  {
   "cell_type": "code",
   "execution_count": 12,
   "id": "a4195825",
   "metadata": {},
   "outputs": [
    {
     "name": "stdout",
     "output_type": "stream",
     "text": [
      "enter the value10\n",
      "enter the value10\n",
      "The Value is:  100\n",
      "<class 'int'>\n"
     ]
    }
   ],
   "source": [
    "a=int(input(\"enter the value\"))\n",
    "b=int(input(\"enter the value\"))\n",
    "c=a*b\n",
    "print(\"The Value is: \",c)\n",
    "print(type(c))"
   ]
  },
  {
   "cell_type": "code",
   "execution_count": 14,
   "id": "8b442cba",
   "metadata": {},
   "outputs": [
    {
     "name": "stdout",
     "output_type": "stream",
     "text": [
      "<class 'str'>\n",
      "<class 'int'>\n",
      "<class 'str'>\n",
      "<class 'int'>\n",
      "<class 'str'>\n"
     ]
    }
   ],
   "source": [
    "a=10\n",
    "c=\"222\"\n",
    "print(type(c))\n",
    "print(type(a))\n",
    "a=str(a)\n",
    "print(type(a))\n",
    "c=int(c)\n",
    "print(type(c))\n",
    "s=20\n",
    "s=str(20)\n",
    "print(type(s))"
   ]
  },
  {
   "cell_type": "code",
   "execution_count": 15,
   "id": "00acd648",
   "metadata": {},
   "outputs": [
    {
     "name": "stdout",
     "output_type": "stream",
     "text": [
      "At least one of the conditions is True\n"
     ]
    }
   ],
   "source": [
    "a = 200\n",
    "b = 3030\n",
    "c = 500\n",
    "if c > b or b > a:\n",
    "    print(\"At least one of the conditions is True\")\n",
    "else:\n",
    "    print(\"Its totally wrong\")"
   ]
  },
  {
   "cell_type": "code",
   "execution_count": 16,
   "id": "3465d2c9",
   "metadata": {},
   "outputs": [
    {
     "name": "stdout",
     "output_type": "stream",
     "text": [
      "At least one of the conditions is True\n"
     ]
    }
   ],
   "source": [
    "a = 200\n",
    "b = 33\n",
    "c = 500\n",
    "if a > b or a > c:\n",
    "    print(\"At least one of the conditions is True\")\n",
    "else:\n",
    "    print(\"Its totally wrong\")"
   ]
  },
  {
   "cell_type": "code",
   "execution_count": 17,
   "id": "39f8710b",
   "metadata": {},
   "outputs": [
    {
     "name": "stdout",
     "output_type": "stream",
     "text": [
      "but not above 20.\n"
     ]
    }
   ],
   "source": [
    "x = 0\n",
    "if x > 10:\n",
    "    print(\"Above ten,\")\n",
    "if x > 20:\n",
    "    print(\"and also above 20!\")\n",
    "else:\n",
    "    print(\"but not above 20.\")"
   ]
  },
  {
   "cell_type": "code",
   "execution_count": 18,
   "id": "590320cd",
   "metadata": {},
   "outputs": [
    {
     "name": "stdout",
     "output_type": "stream",
     "text": [
      "1\n",
      "6\n",
      "11\n",
      "16\n",
      "21\n",
      "26\n",
      "31\n",
      "36\n",
      "41\n",
      "46\n",
      "51\n",
      "56\n",
      "61\n",
      "66\n",
      "71\n",
      "76\n",
      "81\n",
      "86\n",
      "91\n",
      "96\n"
     ]
    }
   ],
   "source": [
    "i = 1\n",
    "while i <= 100:\n",
    "    print(i)\n",
    "    i += 5"
   ]
  },
  {
   "cell_type": "code",
   "execution_count": 19,
   "id": "63cf4a32",
   "metadata": {},
   "outputs": [
    {
     "name": "stdout",
     "output_type": "stream",
     "text": [
      "1\n",
      "2\n",
      "3\n",
      "4\n",
      "5\n"
     ]
    }
   ],
   "source": [
    "i = 1\n",
    "while i <= 6:\n",
    "    print(i)\n",
    "    if i == 5:\n",
    "        break\n",
    "    i += 1"
   ]
  },
  {
   "cell_type": "code",
   "execution_count": 20,
   "id": "7cdda5c6",
   "metadata": {},
   "outputs": [
    {
     "name": "stdout",
     "output_type": "stream",
     "text": [
      "1\n",
      "2\n",
      "3\n",
      "4\n",
      "5\n",
      "6\n"
     ]
    }
   ],
   "source": [
    "i = 0\n",
    "while i < 6:\n",
    "    i += 1\n",
    "    if i == 58:\n",
    "        continue\n",
    "    print(i)"
   ]
  },
  {
   "cell_type": "code",
   "execution_count": 21,
   "id": "1e167cb8",
   "metadata": {},
   "outputs": [
    {
     "name": "stdout",
     "output_type": "stream",
     "text": [
      "1\n",
      "2\n",
      "3\n",
      "4\n",
      "5\n",
      "i is no longer less than 6\n"
     ]
    }
   ],
   "source": [
    "i = 1\n",
    "while i < 6:\n",
    "    print(i)\n",
    "    i += 1\n",
    "else:\n",
    "    print(\"i is no longer less than 6\")"
   ]
  },
  {
   "cell_type": "code",
   "execution_count": 22,
   "id": "de3bd386",
   "metadata": {},
   "outputs": [
    {
     "name": "stdout",
     "output_type": "stream",
     "text": [
      "a\n",
      "p\n",
      "p\n",
      "l\n",
      "e\n"
     ]
    }
   ],
   "source": [
    "fruits = [\"apple\", \"banana\", \"cherry\"]\n",
    "for x in \"apple\":\n",
    "    print(x)"
   ]
  },
  {
   "cell_type": "code",
   "execution_count": 23,
   "id": "d1d52c65",
   "metadata": {},
   "outputs": [
    {
     "name": "stdout",
     "output_type": "stream",
     "text": [
      "apple\n",
      "banana\n",
      "cherry\n"
     ]
    }
   ],
   "source": [
    "for x in fruits:\n",
    "    print(x)"
   ]
  },
  {
   "cell_type": "code",
   "execution_count": 24,
   "id": "942f9b8c",
   "metadata": {},
   "outputs": [
    {
     "name": "stdout",
     "output_type": "stream",
     "text": [
      "apple\n",
      "banana\n"
     ]
    }
   ],
   "source": [
    "fruits = [\"apple\", \"banana\", \"cherry\"]\n",
    "for x in fruits:\n",
    "    print(x)\n",
    "    if x == \"banana\":\n",
    "        break"
   ]
  },
  {
   "cell_type": "code",
   "execution_count": 25,
   "id": "b14f1369",
   "metadata": {},
   "outputs": [
    {
     "name": "stdout",
     "output_type": "stream",
     "text": [
      "apple\n"
     ]
    }
   ],
   "source": [
    "fruits = [\"apple\", \"banana\", \"cherry\"]\n",
    "for x in fruits:\n",
    "    if x == \"banana\":\n",
    "        break\n",
    "    print(x)"
   ]
  },
  {
   "cell_type": "code",
   "execution_count": 26,
   "id": "61a46cce",
   "metadata": {},
   "outputs": [
    {
     "name": "stdout",
     "output_type": "stream",
     "text": [
      "apple\n",
      "cherry\n"
     ]
    }
   ],
   "source": [
    "fruits = [\"apple\", \"banana\", \"cherry\"]\n",
    "for x in fruits:\n",
    "    if x == \"banana\":\n",
    "        continue\n",
    "    print(x)"
   ]
  },
  {
   "cell_type": "code",
   "execution_count": 27,
   "id": "65641a57",
   "metadata": {},
   "outputs": [
    {
     "name": "stdout",
     "output_type": "stream",
     "text": [
      "0\n",
      "1\n",
      "2\n",
      "3\n",
      "4\n",
      "5\n"
     ]
    }
   ],
   "source": [
    "for x in range(6):\n",
    "    print(x)"
   ]
  },
  {
   "cell_type": "code",
   "execution_count": 28,
   "id": "db496369",
   "metadata": {},
   "outputs": [
    {
     "name": "stdout",
     "output_type": "stream",
     "text": [
      "2\n",
      "3\n",
      "4\n",
      "5\n"
     ]
    }
   ],
   "source": [
    "for x in range(2, 6):\n",
    "    print(x)"
   ]
  },
  {
   "cell_type": "code",
   "execution_count": 29,
   "id": "f657ad11",
   "metadata": {},
   "outputs": [
    {
     "name": "stdout",
     "output_type": "stream",
     "text": [
      "2\n",
      "5\n",
      "8\n",
      "11\n",
      "14\n",
      "17\n",
      "20\n",
      "23\n",
      "26\n",
      "29\n"
     ]
    }
   ],
   "source": [
    "for x in range(2, 30, 3):\n",
    "    print(x)"
   ]
  },
  {
   "cell_type": "code",
   "execution_count": 30,
   "id": "f3f8bf9d",
   "metadata": {},
   "outputs": [
    {
     "name": "stdout",
     "output_type": "stream",
     "text": [
      "0\n",
      "1\n",
      "2\n",
      "3\n",
      "4\n",
      "5\n",
      "Finally finished!\n"
     ]
    }
   ],
   "source": [
    "for x in range(6):\n",
    "    print(x)\n",
    "else:\n",
    "    print(\"Finally finished!\")"
   ]
  },
  {
   "cell_type": "code",
   "execution_count": 31,
   "id": "4d511c6a",
   "metadata": {},
   "outputs": [
    {
     "name": "stdout",
     "output_type": "stream",
     "text": [
      "red apple\n",
      "red banana\n",
      "red cherry\n",
      "big apple\n",
      "big banana\n",
      "big cherry\n",
      "tasty apple\n",
      "tasty banana\n",
      "tasty cherry\n"
     ]
    }
   ],
   "source": [
    "adj = [\"red\", \"big\", \"tasty\"]\n",
    "fruits = [\"apple\", \"banana\", \"cherry\"]\n",
    "for x in adj:\n",
    "    for y in fruits:\n",
    "        print(x, y)"
   ]
  },
  {
   "cell_type": "code",
   "execution_count": 32,
   "id": "4f87b03f",
   "metadata": {},
   "outputs": [],
   "source": [
    "cars = [\"Ford\", \"Volvo\", \"BMW\"]"
   ]
  },
  {
   "cell_type": "code",
   "execution_count": 33,
   "id": "e4e6389a",
   "metadata": {},
   "outputs": [
    {
     "data": {
      "text/plain": [
       "'BMW'"
      ]
     },
     "execution_count": 33,
     "metadata": {},
     "output_type": "execute_result"
    }
   ],
   "source": [
    "x = cars[2]\n",
    "x"
   ]
  },
  {
   "cell_type": "code",
   "execution_count": 34,
   "id": "5e594f96",
   "metadata": {},
   "outputs": [],
   "source": [
    "cars[0] = \"Toyota\""
   ]
  },
  {
   "cell_type": "code",
   "execution_count": 35,
   "id": "648036b1",
   "metadata": {},
   "outputs": [
    {
     "data": {
      "text/plain": [
       "['Toyota', 'Volvo', 'BMW']"
      ]
     },
     "execution_count": 35,
     "metadata": {},
     "output_type": "execute_result"
    }
   ],
   "source": [
    "cars"
   ]
  },
  {
   "cell_type": "code",
   "execution_count": 36,
   "id": "c73a48f8",
   "metadata": {},
   "outputs": [
    {
     "data": {
      "text/plain": [
       "3"
      ]
     },
     "execution_count": 36,
     "metadata": {},
     "output_type": "execute_result"
    }
   ],
   "source": [
    "x = len(cars)\n",
    "x"
   ]
  },
  {
   "cell_type": "code",
   "execution_count": 37,
   "id": "95e35a3e",
   "metadata": {},
   "outputs": [
    {
     "data": {
      "text/plain": [
       "['Toyota', 'Volvo', 'BMW', 'Honda']"
      ]
     },
     "execution_count": 37,
     "metadata": {},
     "output_type": "execute_result"
    }
   ],
   "source": [
    "cars.append(\"Honda\")\n",
    "cars"
   ]
  },
  {
   "cell_type": "code",
   "execution_count": 38,
   "id": "52bfee11",
   "metadata": {},
   "outputs": [
    {
     "data": {
      "text/plain": [
       "['Toyota', 'Volvo', 'BMW', 'Honda', 'Kia']"
      ]
     },
     "execution_count": 38,
     "metadata": {},
     "output_type": "execute_result"
    }
   ],
   "source": [
    "cars.append(\"Kia\")\n",
    "cars"
   ]
  },
  {
   "cell_type": "code",
   "execution_count": 39,
   "id": "664c8e26",
   "metadata": {},
   "outputs": [
    {
     "name": "stdout",
     "output_type": "stream",
     "text": [
      "Volvo\n",
      "['Toyota', 'BMW', 'Honda', 'Kia']\n"
     ]
    }
   ],
   "source": [
    "p=cars.pop(1)\n",
    "print(p)\n",
    "print(cars)"
   ]
  },
  {
   "cell_type": "code",
   "execution_count": 40,
   "id": "179758af",
   "metadata": {},
   "outputs": [
    {
     "data": {
      "text/plain": [
       "['BMW', 'Honda', 'Kia']"
      ]
     },
     "execution_count": 40,
     "metadata": {},
     "output_type": "execute_result"
    }
   ],
   "source": [
    "cars.remove(\"Toyota\")\n",
    "cars"
   ]
  },
  {
   "cell_type": "code",
   "execution_count": 41,
   "id": "6c245220",
   "metadata": {},
   "outputs": [
    {
     "name": "stdout",
     "output_type": "stream",
     "text": [
      "10.0\n"
     ]
    }
   ],
   "source": [
    "x = lambda a : a / 5\n",
    "print(x(50))"
   ]
  },
  {
   "cell_type": "code",
   "execution_count": 42,
   "id": "41b71420",
   "metadata": {},
   "outputs": [
    {
     "name": "stdout",
     "output_type": "stream",
     "text": [
      "5.0\n"
     ]
    }
   ],
   "source": [
    "x = lambda a, b : a / b\n",
    "print(x(15, 3))"
   ]
  },
  {
   "cell_type": "code",
   "execution_count": 43,
   "id": "6d2c240f",
   "metadata": {},
   "outputs": [
    {
     "name": "stdout",
     "output_type": "stream",
     "text": [
      "61.0\n"
     ]
    }
   ],
   "source": [
    "x = lambda a, b, c : a * b * c\n",
    "print(x(5, 6.1, 2))"
   ]
  },
  {
   "cell_type": "code",
   "execution_count": 44,
   "id": "d829ed82",
   "metadata": {},
   "outputs": [
    {
     "name": "stdout",
     "output_type": "stream",
     "text": [
      "55\n"
     ]
    }
   ],
   "source": [
    "def myfun(n):\n",
    "    return lambda a : a * n\n",
    "x = myfun(5)\n",
    "print(x(11))"
   ]
  },
  {
   "cell_type": "code",
   "execution_count": 45,
   "id": "2f1692dd",
   "metadata": {},
   "outputs": [
    {
     "name": "stdout",
     "output_type": "stream",
     "text": [
      "22\n",
      "63\n"
     ]
    }
   ],
   "source": [
    "def myfunc(n):\n",
    "    return lambda a : a * n\n",
    "x = myfunc(2)\n",
    "y = myfunc(3)\n",
    "print(x(11))\n",
    "print(y(21))"
   ]
  },
  {
   "cell_type": "code",
   "execution_count": 46,
   "id": "e67b19a5",
   "metadata": {},
   "outputs": [
    {
     "name": "stdout",
     "output_type": "stream",
     "text": [
      "Hello from a function\n"
     ]
    }
   ],
   "source": [
    "def rack():\n",
    "    print(\"Hello from a function\")\n",
    "rack()"
   ]
  },
  {
   "cell_type": "code",
   "execution_count": 47,
   "id": "5e2588b2",
   "metadata": {},
   "outputs": [
    {
     "name": "stdout",
     "output_type": "stream",
     "text": [
      "a function\n",
      "a Durva developers\n"
     ]
    }
   ],
   "source": [
    "def rack():\n",
    "    print(\"a function\")\n",
    "rack()\n",
    "def Durva():\n",
    "    print(\"a Durva developers\")\n",
    "Durva()"
   ]
  },
  {
   "cell_type": "code",
   "execution_count": 48,
   "id": "beb6bdcd",
   "metadata": {},
   "outputs": [
    {
     "name": "stdout",
     "output_type": "stream",
     "text": [
      "Software: Developers\n",
      "Machine: Developers\n",
      "Network: Developers\n"
     ]
    }
   ],
   "source": [
    "def rack(fname):\n",
    "    print(fname + \": Developers\")\n",
    "rack(\"Software\")\n",
    "rack(\"Machine\")\n",
    "rack(\"Network\")"
   ]
  },
  {
   "cell_type": "code",
   "execution_count": 49,
   "id": "3ffdb025",
   "metadata": {},
   "outputs": [
    {
     "name": "stdout",
     "output_type": "stream",
     "text": [
      "Durva has sir name  Wedpathak\n"
     ]
    }
   ],
   "source": [
    "def rack(fname,lname):\n",
    "    print(fname + \" has sir name \" +lname)\n",
    "rack(\"Durva\",\" Wedpathak\")"
   ]
  },
  {
   "cell_type": "code",
   "execution_count": 50,
   "id": "e4c0d7a6",
   "metadata": {},
   "outputs": [
    {
     "name": "stdout",
     "output_type": "stream",
     "text": [
      "Who is the Younger:Ankita\n"
     ]
    }
   ],
   "source": [
    "def rack(c1,c2,c3):\n",
    "    print(\"Who is the Younger:\"+ c3)\n",
    "rack(c1=\"Durva\", c2=\"Amar\",c3=\"Ankita\")"
   ]
  },
  {
   "cell_type": "code",
   "execution_count": 51,
   "id": "5656b0c5",
   "metadata": {},
   "outputs": [
    {
     "name": "stdout",
     "output_type": "stream",
     "text": [
      "I am From  Sangli \n",
      "I am From  Kolhapur \n"
     ]
    }
   ],
   "source": [
    "def dance(city=\"jaysingpur\"):\n",
    "    print(\"I am From \"+city)\n",
    "dance(\" Sangli \")\n",
    "dance(\" Kolhapur \")"
   ]
  },
  {
   "cell_type": "code",
   "execution_count": 52,
   "id": "0254aa55",
   "metadata": {},
   "outputs": [
    {
     "name": "stdout",
     "output_type": "stream",
     "text": [
      "hipHop\n",
      "Amar\n",
      "Amit\n"
     ]
    }
   ],
   "source": [
    "def dance(stack):\n",
    "    for x in stack:\n",
    "        print(x)\n",
    "lists=[\"hipHop\",\"Amar\",\"Amit\"]\n",
    "dance(lists)"
   ]
  },
  {
   "cell_type": "code",
   "execution_count": 53,
   "id": "225dc19a",
   "metadata": {},
   "outputs": [
    {
     "name": "stdout",
     "output_type": "stream",
     "text": [
      "50\n"
     ]
    }
   ],
   "source": [
    "def dance(x):\n",
    "    return 10*x\n",
    "print(dance(5))"
   ]
  },
  {
   "cell_type": "code",
   "execution_count": 54,
   "id": "13eb21b2",
   "metadata": {},
   "outputs": [
    {
     "name": "stdout",
     "output_type": "stream",
     "text": [
      " Value is Wrong  9\n",
      "None\n"
     ]
    }
   ],
   "source": [
    "def dance(stack):\n",
    "    if stack >= 10:\n",
    "        print(\" Value is Right\",stack)\n",
    "    else:\n",
    "        print(\" Value is Wrong \",stack)\n",
    "print(dance(9))"
   ]
  },
  {
   "cell_type": "code",
   "execution_count": 55,
   "id": "1ffba45a",
   "metadata": {},
   "outputs": [],
   "source": [
    "class Dance:\n",
    "    x=10"
   ]
  },
  {
   "cell_type": "code",
   "execution_count": 56,
   "id": "93e7916a",
   "metadata": {},
   "outputs": [
    {
     "name": "stdout",
     "output_type": "stream",
     "text": [
      "10\n"
     ]
    }
   ],
   "source": [
    "d1=Dance()\n",
    "print(d1.x)"
   ]
  },
  {
   "cell_type": "code",
   "execution_count": 60,
   "id": "36efeca0",
   "metadata": {},
   "outputs": [
    {
     "name": "stdout",
     "output_type": "stream",
     "text": [
      "This is my name Amit\n",
      "ans: 12\n"
     ]
    }
   ],
   "source": [
    "class Person:\n",
    "    def __init__(self,name,age,a,b):\n",
    "        self.name=name\n",
    "        self.age=age\n",
    "        self.a=a\n",
    "        self.b=b\n",
    "    def dance(self):\n",
    "        print(\"This is my name\",self.name)\n",
    "    def adds(self):\n",
    "        print(\"ans:\",self.a+self.b)\n",
    "p1=Person(\"Amit\",25,10,2)\n",
    "p1.dance()\n",
    "p1.adds()"
   ]
  },
  {
   "cell_type": "code",
   "execution_count": 61,
   "id": "ea501df5",
   "metadata": {},
   "outputs": [
    {
     "name": "stdout",
     "output_type": "stream",
     "text": [
      "100\n",
      "100\n"
     ]
    }
   ],
   "source": [
    "class SoftClass:\n",
    "    x = 100\n",
    "    y = 100\n",
    "p1 = SoftClass()\n",
    "print(p1.x)\n",
    "print(p1.y)"
   ]
  },
  {
   "cell_type": "code",
   "execution_count": 62,
   "id": "8c75040d",
   "metadata": {},
   "outputs": [
    {
     "name": "stdout",
     "output_type": "stream",
     "text": [
      "Durva Wedpathak\n",
      "28\n"
     ]
    }
   ],
   "source": [
    "class Maxclass:\n",
    "    def __init__ (self, name, age):\n",
    "        self.name = name\n",
    "        self.age = age\n",
    "p1 = Maxclass(\"Durva Wedpathak\", 28)\n",
    "print(p1.name)\n",
    "print(p1.age)"
   ]
  },
  {
   "cell_type": "code",
   "execution_count": 64,
   "id": "05fb4168",
   "metadata": {},
   "outputs": [
    {
     "name": "stdout",
     "output_type": "stream",
     "text": [
      "John\n"
     ]
    }
   ],
   "source": [
    "class Maxclass:\n",
    "    def __init__ (self, name, age):\n",
    "        self.name = name\n",
    "        self.age = age\n",
    "    def myfunc(self):\n",
    "        print(\"Hello my name is \" + self.name)\n",
    "p1 = Maxclass(\"John\", 36)\n",
    "del p1.age\n",
    "print(p1.name)"
   ]
  },
  {
   "cell_type": "code",
   "execution_count": 65,
   "id": "9c4b0a4e",
   "metadata": {},
   "outputs": [
    {
     "name": "stdout",
     "output_type": "stream",
     "text": [
      "Name: Amar Salary: 5000\n",
      "Name: Ankita Salary: 5500\n",
      "Total Emp 2\n"
     ]
    }
   ],
   "source": [
    "class emp:\n",
    "    empc=0\n",
    "    def __init__ (self,name,salary):\n",
    "        self.name=name\n",
    "        self.salary=salary\n",
    "        emp.empc +=1\n",
    "    def displayC(self):\n",
    "        print(\"Total Emp % d\" %employee.empc)\n",
    "    def displayEmp(self):\n",
    "        print(\"Name:\",self.name,\"Salary:\",self.salary)\n",
    "emp1=emp(\"Amar\",5000)\n",
    "emp2=emp(\"Ankita\",5500)\n",
    "emp1.displayEmp()\n",
    "emp2.displayEmp()\n",
    "print(\"Total Emp %d\"%emp.empc) "
   ]
  },
  {
   "cell_type": "code",
   "execution_count": 66,
   "id": "e9ba01bc",
   "metadata": {},
   "outputs": [
    {
     "name": "stdout",
     "output_type": "stream",
     "text": [
      "Hello my name is John 36\n",
      "Hello my name is sangli\n",
      "enter value10\n",
      "enter value20\n",
      "Addition= 30\n",
      "enter value5\n",
      "Odd\n"
     ]
    }
   ],
   "source": [
    "class Person:\n",
    "    def __init__ (self, name, age,address):\n",
    "        self.name = name\n",
    "        self.age = age\n",
    "        self.address = address\n",
    "    def myfunc(self):\n",
    "        print(\"Hello my name is \" + self.name,self.age)\n",
    "    def myfuncc(self):\n",
    "        print(\"Hello my name is \" + self.address)\n",
    "    def cal(self,a,b):\n",
    "        print(\"Addition=\",(int(a)+int(b)))\n",
    "    def cals(self,d):\n",
    "        if(int(d)%2==0):\n",
    "            print(\"Even\")\n",
    "        else:\n",
    "            print(\"Odd\")\n",
    "p1 = Person(\"John\", 36,\"jsp\")\n",
    "p2=Person(\"amar\",32,\"sangli\")\n",
    "p1.myfunc()\n",
    "p2.myfuncc()\n",
    "a=input(\"enter value\")\n",
    "b=input(\"enter value\")\n",
    "p1.cal(a,b)\n",
    "a=input(\"enter value\")\n",
    "p1.cals(a)\n"
   ]
  },
  {
   "cell_type": "code",
   "execution_count": 5,
   "id": "c3f2b8e8",
   "metadata": {},
   "outputs": [
    {
     "name": "stdout",
     "output_type": "stream",
     "text": [
      "enter the value40\n",
      "the student is pass\n"
     ]
    }
   ],
   "source": [
    "n=int(input(\"enter the value\"))\n",
    "for x in range(n):\n",
    "    if(x==35):\n",
    "        {\n",
    "        print(\"the student is pass\")\n",
    "        }"
   ]
  },
  {
   "cell_type": "code",
   "execution_count": 4,
   "id": "623d14a0",
   "metadata": {},
   "outputs": [
    {
     "name": "stdout",
     "output_type": "stream",
     "text": [
      "the student is pass\n",
      "the student is pass\n",
      "the student is pass\n",
      "the student is fail\n",
      "the student is pass\n"
     ]
    }
   ],
   "source": [
    "n=[70,55,80,34,35]\n",
    "for x in n:\n",
    "    if(x>=35):\n",
    "        {\n",
    "            print(\"the student is pass\")\n",
    "        }\n",
    "    else:\n",
    "        print(\"the student is fail\")"
   ]
  },
  {
   "cell_type": "code",
   "execution_count": 7,
   "id": "944f2ebc",
   "metadata": {},
   "outputs": [
    {
     "name": "stdout",
     "output_type": "stream",
     "text": [
      "enter the value10\n",
      "enter the value20\n",
      "the value: 10\n",
      "the value: 11\n",
      "the value: 12\n",
      "the value: 13\n",
      "the value: 14\n",
      "the value: 15\n",
      "the value: 16\n",
      "the value: 17\n",
      "the value: 18\n",
      "the value: 19\n"
     ]
    }
   ],
   "source": [
    "a=int(input(\"enter the value\"))\n",
    "b=int(input(\"enter the value\"))\n",
    "for x in range(a,b):\n",
    "    print(\"the value:\",x)"
   ]
  },
  {
   "cell_type": "code",
   "execution_count": 8,
   "id": "366b4bf8",
   "metadata": {},
   "outputs": [
    {
     "name": "stdout",
     "output_type": "stream",
     "text": [
      "enter the value10\n",
      "enter the value20\n",
      "enter the value30\n",
      "enter the value40\n",
      "the value: 10\n",
      "the person is not allow \n"
     ]
    }
   ],
   "source": [
    "x=int(input(\"enter the value\"))\n",
    "y=int(input(\"enter the value\"))\n",
    "z=int(input(\"enter the value\"))\n",
    "ac=int(input(\"enter the value\"))\n",
    "for ab in range(x,y,z):\n",
    "    print(\"the value:\",ab)\n",
    "    if(ab==ac):\n",
    "        print(\"the person allow to go\")\n",
    "    else:\n",
    "        print(\"the person is not allow \")"
   ]
  },
  {
   "cell_type": "code",
   "execution_count": 9,
   "id": "4f90fee6",
   "metadata": {},
   "outputs": [
    {
     "name": "stdout",
     "output_type": "stream",
     "text": [
      "enter the value10\n",
      "enter the value20\n",
      "enter the value5\n",
      "enter the value30\n",
      "the value: 10\n",
      "the person is not allow  10\n",
      "the value: 15\n",
      "the person is not allow  15\n"
     ]
    }
   ],
   "source": [
    "x=int(input(\"enter the value\"))\n",
    "y=int(input(\"enter the value\"))\n",
    "z=int(input(\"enter the value\"))\n",
    "ac=int(input(\"enter the value\"))\n",
    "for ab in range(x,y,z):\n",
    "    print(\"the value:\",ab)\n",
    "    if(ab==ac):\n",
    "        print(\"the person allow to go\",ab)\n",
    "    else:\n",
    "        print(\"the person is not allow \",ab)"
   ]
  },
  {
   "cell_type": "code",
   "execution_count": 5,
   "id": "a5e5b3da",
   "metadata": {},
   "outputs": [],
   "source": [
    "import numpy as np\n",
    "import pandas as pd"
   ]
  },
  {
   "cell_type": "code",
   "execution_count": 9,
   "id": "57e67485",
   "metadata": {},
   "outputs": [],
   "source": [
    "df=pd.read_csv(r\"C:\\Users\\OJUS\\OneDrive\\Desktop\\PlayTennis.csv\")"
   ]
  },
  {
   "cell_type": "code",
   "execution_count": 10,
   "id": "e90cf4f7",
   "metadata": {},
   "outputs": [
    {
     "data": {
      "text/html": [
       "<div>\n",
       "<style scoped>\n",
       "    .dataframe tbody tr th:only-of-type {\n",
       "        vertical-align: middle;\n",
       "    }\n",
       "\n",
       "    .dataframe tbody tr th {\n",
       "        vertical-align: top;\n",
       "    }\n",
       "\n",
       "    .dataframe thead th {\n",
       "        text-align: right;\n",
       "    }\n",
       "</style>\n",
       "<table border=\"1\" class=\"dataframe\">\n",
       "  <thead>\n",
       "    <tr style=\"text-align: right;\">\n",
       "      <th></th>\n",
       "      <th>Outlook</th>\n",
       "      <th>Temperature</th>\n",
       "      <th>Humidity</th>\n",
       "      <th>Wind</th>\n",
       "      <th>Play Tennis</th>\n",
       "    </tr>\n",
       "  </thead>\n",
       "  <tbody>\n",
       "    <tr>\n",
       "      <th>0</th>\n",
       "      <td>Sunny</td>\n",
       "      <td>Hot</td>\n",
       "      <td>High</td>\n",
       "      <td>Weak</td>\n",
       "      <td>No</td>\n",
       "    </tr>\n",
       "    <tr>\n",
       "      <th>1</th>\n",
       "      <td>Sunny</td>\n",
       "      <td>Hot</td>\n",
       "      <td>High</td>\n",
       "      <td>Strong</td>\n",
       "      <td>No</td>\n",
       "    </tr>\n",
       "    <tr>\n",
       "      <th>2</th>\n",
       "      <td>Overcast</td>\n",
       "      <td>Hot</td>\n",
       "      <td>High</td>\n",
       "      <td>Weak</td>\n",
       "      <td>Yes</td>\n",
       "    </tr>\n",
       "    <tr>\n",
       "      <th>3</th>\n",
       "      <td>Rain</td>\n",
       "      <td>Mild</td>\n",
       "      <td>High</td>\n",
       "      <td>Weak</td>\n",
       "      <td>Yes</td>\n",
       "    </tr>\n",
       "    <tr>\n",
       "      <th>4</th>\n",
       "      <td>Rain</td>\n",
       "      <td>Cool</td>\n",
       "      <td>Normal</td>\n",
       "      <td>Weak</td>\n",
       "      <td>Yes</td>\n",
       "    </tr>\n",
       "  </tbody>\n",
       "</table>\n",
       "</div>"
      ],
      "text/plain": [
       "    Outlook Temperature Humidity    Wind Play Tennis\n",
       "0     Sunny         Hot     High    Weak          No\n",
       "1     Sunny         Hot     High  Strong          No\n",
       "2  Overcast         Hot     High    Weak         Yes\n",
       "3      Rain        Mild     High    Weak         Yes\n",
       "4      Rain        Cool   Normal    Weak         Yes"
      ]
     },
     "execution_count": 10,
     "metadata": {},
     "output_type": "execute_result"
    }
   ],
   "source": [
    "df.head()"
   ]
  },
  {
   "cell_type": "code",
   "execution_count": 11,
   "id": "86c5e383",
   "metadata": {},
   "outputs": [
    {
     "data": {
      "text/html": [
       "<div>\n",
       "<style scoped>\n",
       "    .dataframe tbody tr th:only-of-type {\n",
       "        vertical-align: middle;\n",
       "    }\n",
       "\n",
       "    .dataframe tbody tr th {\n",
       "        vertical-align: top;\n",
       "    }\n",
       "\n",
       "    .dataframe thead th {\n",
       "        text-align: right;\n",
       "    }\n",
       "</style>\n",
       "<table border=\"1\" class=\"dataframe\">\n",
       "  <thead>\n",
       "    <tr style=\"text-align: right;\">\n",
       "      <th></th>\n",
       "      <th>Outlook</th>\n",
       "      <th>Temperature</th>\n",
       "      <th>Humidity</th>\n",
       "      <th>Wind</th>\n",
       "      <th>Play Tennis</th>\n",
       "    </tr>\n",
       "  </thead>\n",
       "  <tbody>\n",
       "    <tr>\n",
       "      <th>9</th>\n",
       "      <td>Rain</td>\n",
       "      <td>Mild</td>\n",
       "      <td>Normal</td>\n",
       "      <td>Weak</td>\n",
       "      <td>Yes</td>\n",
       "    </tr>\n",
       "    <tr>\n",
       "      <th>10</th>\n",
       "      <td>Sunny</td>\n",
       "      <td>Mild</td>\n",
       "      <td>Normal</td>\n",
       "      <td>Strong</td>\n",
       "      <td>Yes</td>\n",
       "    </tr>\n",
       "    <tr>\n",
       "      <th>11</th>\n",
       "      <td>Overcast</td>\n",
       "      <td>Mild</td>\n",
       "      <td>High</td>\n",
       "      <td>Strong</td>\n",
       "      <td>Yes</td>\n",
       "    </tr>\n",
       "    <tr>\n",
       "      <th>12</th>\n",
       "      <td>Overcast</td>\n",
       "      <td>Hot</td>\n",
       "      <td>Normal</td>\n",
       "      <td>Weak</td>\n",
       "      <td>Yes</td>\n",
       "    </tr>\n",
       "    <tr>\n",
       "      <th>13</th>\n",
       "      <td>Rain</td>\n",
       "      <td>Mild</td>\n",
       "      <td>High</td>\n",
       "      <td>Strong</td>\n",
       "      <td>No</td>\n",
       "    </tr>\n",
       "  </tbody>\n",
       "</table>\n",
       "</div>"
      ],
      "text/plain": [
       "     Outlook Temperature Humidity    Wind Play Tennis\n",
       "9       Rain        Mild   Normal    Weak         Yes\n",
       "10     Sunny        Mild   Normal  Strong         Yes\n",
       "11  Overcast        Mild     High  Strong         Yes\n",
       "12  Overcast         Hot   Normal    Weak         Yes\n",
       "13      Rain        Mild     High  Strong          No"
      ]
     },
     "execution_count": 11,
     "metadata": {},
     "output_type": "execute_result"
    }
   ],
   "source": [
    "df.tail()"
   ]
  },
  {
   "cell_type": "code",
   "execution_count": 12,
   "id": "a9c5d609",
   "metadata": {},
   "outputs": [
    {
     "data": {
      "text/html": [
       "<div>\n",
       "<style scoped>\n",
       "    .dataframe tbody tr th:only-of-type {\n",
       "        vertical-align: middle;\n",
       "    }\n",
       "\n",
       "    .dataframe tbody tr th {\n",
       "        vertical-align: top;\n",
       "    }\n",
       "\n",
       "    .dataframe thead th {\n",
       "        text-align: right;\n",
       "    }\n",
       "</style>\n",
       "<table border=\"1\" class=\"dataframe\">\n",
       "  <thead>\n",
       "    <tr style=\"text-align: right;\">\n",
       "      <th></th>\n",
       "      <th>Outlook</th>\n",
       "      <th>Temperature</th>\n",
       "      <th>Humidity</th>\n",
       "      <th>Wind</th>\n",
       "      <th>Play Tennis</th>\n",
       "    </tr>\n",
       "  </thead>\n",
       "  <tbody>\n",
       "    <tr>\n",
       "      <th>0</th>\n",
       "      <td>Sunny</td>\n",
       "      <td>Hot</td>\n",
       "      <td>High</td>\n",
       "      <td>Weak</td>\n",
       "      <td>No</td>\n",
       "    </tr>\n",
       "    <tr>\n",
       "      <th>1</th>\n",
       "      <td>Sunny</td>\n",
       "      <td>Hot</td>\n",
       "      <td>High</td>\n",
       "      <td>Strong</td>\n",
       "      <td>No</td>\n",
       "    </tr>\n",
       "    <tr>\n",
       "      <th>2</th>\n",
       "      <td>Overcast</td>\n",
       "      <td>Hot</td>\n",
       "      <td>High</td>\n",
       "      <td>Weak</td>\n",
       "      <td>Yes</td>\n",
       "    </tr>\n",
       "    <tr>\n",
       "      <th>3</th>\n",
       "      <td>Rain</td>\n",
       "      <td>Mild</td>\n",
       "      <td>High</td>\n",
       "      <td>Weak</td>\n",
       "      <td>Yes</td>\n",
       "    </tr>\n",
       "    <tr>\n",
       "      <th>4</th>\n",
       "      <td>Rain</td>\n",
       "      <td>Cool</td>\n",
       "      <td>Normal</td>\n",
       "      <td>Weak</td>\n",
       "      <td>Yes</td>\n",
       "    </tr>\n",
       "    <tr>\n",
       "      <th>5</th>\n",
       "      <td>Rain</td>\n",
       "      <td>Cool</td>\n",
       "      <td>Normal</td>\n",
       "      <td>Strong</td>\n",
       "      <td>No</td>\n",
       "    </tr>\n",
       "    <tr>\n",
       "      <th>6</th>\n",
       "      <td>Overcast</td>\n",
       "      <td>Cool</td>\n",
       "      <td>Normal</td>\n",
       "      <td>Strong</td>\n",
       "      <td>Yes</td>\n",
       "    </tr>\n",
       "    <tr>\n",
       "      <th>7</th>\n",
       "      <td>Sunny</td>\n",
       "      <td>Mild</td>\n",
       "      <td>High</td>\n",
       "      <td>Weak</td>\n",
       "      <td>No</td>\n",
       "    </tr>\n",
       "    <tr>\n",
       "      <th>8</th>\n",
       "      <td>Sunny</td>\n",
       "      <td>Cool</td>\n",
       "      <td>Normal</td>\n",
       "      <td>Weak</td>\n",
       "      <td>Yes</td>\n",
       "    </tr>\n",
       "    <tr>\n",
       "      <th>9</th>\n",
       "      <td>Rain</td>\n",
       "      <td>Mild</td>\n",
       "      <td>Normal</td>\n",
       "      <td>Weak</td>\n",
       "      <td>Yes</td>\n",
       "    </tr>\n",
       "  </tbody>\n",
       "</table>\n",
       "</div>"
      ],
      "text/plain": [
       "    Outlook Temperature Humidity    Wind Play Tennis\n",
       "0     Sunny         Hot     High    Weak          No\n",
       "1     Sunny         Hot     High  Strong          No\n",
       "2  Overcast         Hot     High    Weak         Yes\n",
       "3      Rain        Mild     High    Weak         Yes\n",
       "4      Rain        Cool   Normal    Weak         Yes\n",
       "5      Rain        Cool   Normal  Strong          No\n",
       "6  Overcast        Cool   Normal  Strong         Yes\n",
       "7     Sunny        Mild     High    Weak          No\n",
       "8     Sunny        Cool   Normal    Weak         Yes\n",
       "9      Rain        Mild   Normal    Weak         Yes"
      ]
     },
     "execution_count": 12,
     "metadata": {},
     "output_type": "execute_result"
    }
   ],
   "source": [
    "df.head(10)"
   ]
  },
  {
   "cell_type": "code",
   "execution_count": 13,
   "id": "c52c83f4",
   "metadata": {},
   "outputs": [
    {
     "data": {
      "text/html": [
       "<div>\n",
       "<style scoped>\n",
       "    .dataframe tbody tr th:only-of-type {\n",
       "        vertical-align: middle;\n",
       "    }\n",
       "\n",
       "    .dataframe tbody tr th {\n",
       "        vertical-align: top;\n",
       "    }\n",
       "\n",
       "    .dataframe thead th {\n",
       "        text-align: right;\n",
       "    }\n",
       "</style>\n",
       "<table border=\"1\" class=\"dataframe\">\n",
       "  <thead>\n",
       "    <tr style=\"text-align: right;\">\n",
       "      <th></th>\n",
       "      <th>Outlook</th>\n",
       "      <th>Temperature</th>\n",
       "      <th>Humidity</th>\n",
       "      <th>Wind</th>\n",
       "      <th>Play Tennis</th>\n",
       "    </tr>\n",
       "  </thead>\n",
       "  <tbody>\n",
       "    <tr>\n",
       "      <th>4</th>\n",
       "      <td>Rain</td>\n",
       "      <td>Cool</td>\n",
       "      <td>Normal</td>\n",
       "      <td>Weak</td>\n",
       "      <td>Yes</td>\n",
       "    </tr>\n",
       "    <tr>\n",
       "      <th>5</th>\n",
       "      <td>Rain</td>\n",
       "      <td>Cool</td>\n",
       "      <td>Normal</td>\n",
       "      <td>Strong</td>\n",
       "      <td>No</td>\n",
       "    </tr>\n",
       "    <tr>\n",
       "      <th>6</th>\n",
       "      <td>Overcast</td>\n",
       "      <td>Cool</td>\n",
       "      <td>Normal</td>\n",
       "      <td>Strong</td>\n",
       "      <td>Yes</td>\n",
       "    </tr>\n",
       "    <tr>\n",
       "      <th>7</th>\n",
       "      <td>Sunny</td>\n",
       "      <td>Mild</td>\n",
       "      <td>High</td>\n",
       "      <td>Weak</td>\n",
       "      <td>No</td>\n",
       "    </tr>\n",
       "    <tr>\n",
       "      <th>8</th>\n",
       "      <td>Sunny</td>\n",
       "      <td>Cool</td>\n",
       "      <td>Normal</td>\n",
       "      <td>Weak</td>\n",
       "      <td>Yes</td>\n",
       "    </tr>\n",
       "    <tr>\n",
       "      <th>9</th>\n",
       "      <td>Rain</td>\n",
       "      <td>Mild</td>\n",
       "      <td>Normal</td>\n",
       "      <td>Weak</td>\n",
       "      <td>Yes</td>\n",
       "    </tr>\n",
       "    <tr>\n",
       "      <th>10</th>\n",
       "      <td>Sunny</td>\n",
       "      <td>Mild</td>\n",
       "      <td>Normal</td>\n",
       "      <td>Strong</td>\n",
       "      <td>Yes</td>\n",
       "    </tr>\n",
       "    <tr>\n",
       "      <th>11</th>\n",
       "      <td>Overcast</td>\n",
       "      <td>Mild</td>\n",
       "      <td>High</td>\n",
       "      <td>Strong</td>\n",
       "      <td>Yes</td>\n",
       "    </tr>\n",
       "    <tr>\n",
       "      <th>12</th>\n",
       "      <td>Overcast</td>\n",
       "      <td>Hot</td>\n",
       "      <td>Normal</td>\n",
       "      <td>Weak</td>\n",
       "      <td>Yes</td>\n",
       "    </tr>\n",
       "    <tr>\n",
       "      <th>13</th>\n",
       "      <td>Rain</td>\n",
       "      <td>Mild</td>\n",
       "      <td>High</td>\n",
       "      <td>Strong</td>\n",
       "      <td>No</td>\n",
       "    </tr>\n",
       "  </tbody>\n",
       "</table>\n",
       "</div>"
      ],
      "text/plain": [
       "     Outlook Temperature Humidity    Wind Play Tennis\n",
       "4       Rain        Cool   Normal    Weak         Yes\n",
       "5       Rain        Cool   Normal  Strong          No\n",
       "6   Overcast        Cool   Normal  Strong         Yes\n",
       "7      Sunny        Mild     High    Weak          No\n",
       "8      Sunny        Cool   Normal    Weak         Yes\n",
       "9       Rain        Mild   Normal    Weak         Yes\n",
       "10     Sunny        Mild   Normal  Strong         Yes\n",
       "11  Overcast        Mild     High  Strong         Yes\n",
       "12  Overcast         Hot   Normal    Weak         Yes\n",
       "13      Rain        Mild     High  Strong          No"
      ]
     },
     "execution_count": 13,
     "metadata": {},
     "output_type": "execute_result"
    }
   ],
   "source": [
    "df.tail(10)"
   ]
  },
  {
   "cell_type": "code",
   "execution_count": 2,
   "id": "43d51e74",
   "metadata": {},
   "outputs": [],
   "source": [
    "import numpy as np\n",
    "import pandas as pd\n",
    "df=pd.read_csv(r\"C:\\Users\\OJUS\\OneDrive\\Desktop\\⠀\\DS\\Data Set\\pvp_dataset.csv\")"
   ]
  },
  {
   "cell_type": "code",
   "execution_count": 2,
   "id": "1c3122f1",
   "metadata": {},
   "outputs": [
    {
     "data": {
      "text/html": [
       "<div>\n",
       "<style scoped>\n",
       "    .dataframe tbody tr th:only-of-type {\n",
       "        vertical-align: middle;\n",
       "    }\n",
       "\n",
       "    .dataframe tbody tr th {\n",
       "        vertical-align: top;\n",
       "    }\n",
       "\n",
       "    .dataframe thead th {\n",
       "        text-align: right;\n",
       "    }\n",
       "</style>\n",
       "<table border=\"1\" class=\"dataframe\">\n",
       "  <thead>\n",
       "    <tr style=\"text-align: right;\">\n",
       "      <th></th>\n",
       "      <th>year</th>\n",
       "      <th>name</th>\n",
       "      <th>party</th>\n",
       "      <th>term</th>\n",
       "      <th>salary</th>\n",
       "      <th>position_title</th>\n",
       "    </tr>\n",
       "  </thead>\n",
       "  <tbody>\n",
       "    <tr>\n",
       "      <th>0</th>\n",
       "      <td>1789</td>\n",
       "      <td>Washington,George</td>\n",
       "      <td>Unaffiliated</td>\n",
       "      <td>First</td>\n",
       "      <td>25000</td>\n",
       "      <td>PRESIDENT OF THE UNITED STATES</td>\n",
       "    </tr>\n",
       "    <tr>\n",
       "      <th>1</th>\n",
       "      <td>1790</td>\n",
       "      <td>Washington,George</td>\n",
       "      <td>Unaffiliated</td>\n",
       "      <td>First</td>\n",
       "      <td>25000</td>\n",
       "      <td>PRESIDENT OF THE UNITED STATES</td>\n",
       "    </tr>\n",
       "    <tr>\n",
       "      <th>2</th>\n",
       "      <td>1791</td>\n",
       "      <td>Washington,George</td>\n",
       "      <td>Unaffiliated</td>\n",
       "      <td>First</td>\n",
       "      <td>25000</td>\n",
       "      <td>PRESIDENT OF THE UNITED STATES</td>\n",
       "    </tr>\n",
       "    <tr>\n",
       "      <th>3</th>\n",
       "      <td>1792</td>\n",
       "      <td>Washington,George</td>\n",
       "      <td>Unaffiliated</td>\n",
       "      <td>First</td>\n",
       "      <td>25000</td>\n",
       "      <td>PRESIDENT OF THE UNITED STATES</td>\n",
       "    </tr>\n",
       "    <tr>\n",
       "      <th>4</th>\n",
       "      <td>1793</td>\n",
       "      <td>Washington,George</td>\n",
       "      <td>Unaffiliated</td>\n",
       "      <td>Second</td>\n",
       "      <td>25000</td>\n",
       "      <td>PRESIDENT OF THE UNITED STATES</td>\n",
       "    </tr>\n",
       "    <tr>\n",
       "      <th>...</th>\n",
       "      <td>...</td>\n",
       "      <td>...</td>\n",
       "      <td>...</td>\n",
       "      <td>...</td>\n",
       "      <td>...</td>\n",
       "      <td>...</td>\n",
       "    </tr>\n",
       "    <tr>\n",
       "      <th>424</th>\n",
       "      <td>2016</td>\n",
       "      <td>Biden,Joseph Robinette,Jr.</td>\n",
       "      <td>Democratic</td>\n",
       "      <td>Second</td>\n",
       "      <td>230700</td>\n",
       "      <td>VICE PRESIDENT OF THE UNITED STATES</td>\n",
       "    </tr>\n",
       "    <tr>\n",
       "      <th>425</th>\n",
       "      <td>2017</td>\n",
       "      <td>Pence,Michael Richard</td>\n",
       "      <td>Republican</td>\n",
       "      <td>First</td>\n",
       "      <td>230700</td>\n",
       "      <td>VICE PRESIDENT OF THE UNITED STATES</td>\n",
       "    </tr>\n",
       "    <tr>\n",
       "      <th>426</th>\n",
       "      <td>2018</td>\n",
       "      <td>Pence,Michael Richard</td>\n",
       "      <td>Republican</td>\n",
       "      <td>First</td>\n",
       "      <td>230700</td>\n",
       "      <td>VICE PRESIDENT OF THE UNITED STATES</td>\n",
       "    </tr>\n",
       "    <tr>\n",
       "      <th>427</th>\n",
       "      <td>2019</td>\n",
       "      <td>Pence,Michael Richard</td>\n",
       "      <td>Republican</td>\n",
       "      <td>First</td>\n",
       "      <td>235100</td>\n",
       "      <td>VICE PRESIDENT OF THE UNITED STATES</td>\n",
       "    </tr>\n",
       "    <tr>\n",
       "      <th>428</th>\n",
       "      <td>2020</td>\n",
       "      <td>Pence,Michael Richard</td>\n",
       "      <td>Republican</td>\n",
       "      <td>First</td>\n",
       "      <td>235100</td>\n",
       "      <td>VICE PRESIDENT OF THE UNITED STATES</td>\n",
       "    </tr>\n",
       "  </tbody>\n",
       "</table>\n",
       "<p>429 rows × 6 columns</p>\n",
       "</div>"
      ],
      "text/plain": [
       "     year                        name         party    term  salary  \\\n",
       "0    1789           Washington,George  Unaffiliated   First   25000   \n",
       "1    1790           Washington,George  Unaffiliated   First   25000   \n",
       "2    1791           Washington,George  Unaffiliated   First   25000   \n",
       "3    1792           Washington,George  Unaffiliated   First   25000   \n",
       "4    1793           Washington,George  Unaffiliated  Second   25000   \n",
       "..    ...                         ...           ...     ...     ...   \n",
       "424  2016  Biden,Joseph Robinette,Jr.    Democratic  Second  230700   \n",
       "425  2017       Pence,Michael Richard    Republican   First  230700   \n",
       "426  2018       Pence,Michael Richard    Republican   First  230700   \n",
       "427  2019       Pence,Michael Richard    Republican   First  235100   \n",
       "428  2020       Pence,Michael Richard    Republican   First  235100   \n",
       "\n",
       "                          position_title  \n",
       "0         PRESIDENT OF THE UNITED STATES  \n",
       "1         PRESIDENT OF THE UNITED STATES  \n",
       "2         PRESIDENT OF THE UNITED STATES  \n",
       "3         PRESIDENT OF THE UNITED STATES  \n",
       "4         PRESIDENT OF THE UNITED STATES  \n",
       "..                                   ...  \n",
       "424  VICE PRESIDENT OF THE UNITED STATES  \n",
       "425  VICE PRESIDENT OF THE UNITED STATES  \n",
       "426  VICE PRESIDENT OF THE UNITED STATES  \n",
       "427  VICE PRESIDENT OF THE UNITED STATES  \n",
       "428  VICE PRESIDENT OF THE UNITED STATES  \n",
       "\n",
       "[429 rows x 6 columns]"
      ]
     },
     "execution_count": 2,
     "metadata": {},
     "output_type": "execute_result"
    }
   ],
   "source": [
    "df"
   ]
  },
  {
   "cell_type": "code",
   "execution_count": 7,
   "id": "03a9ba00",
   "metadata": {},
   "outputs": [
    {
     "data": {
      "text/plain": [
       "0      1789\n",
       "1      1790\n",
       "2      1791\n",
       "3      1792\n",
       "4      1793\n",
       "       ... \n",
       "424    2016\n",
       "425    2017\n",
       "426    2018\n",
       "427    2019\n",
       "428    2020\n",
       "Name: year, Length: 429, dtype: int64"
      ]
     },
     "execution_count": 7,
     "metadata": {},
     "output_type": "execute_result"
    }
   ],
   "source": [
    "df.year"
   ]
  },
  {
   "cell_type": "code",
   "execution_count": 3,
   "id": "86780297",
   "metadata": {},
   "outputs": [
    {
     "data": {
      "text/plain": [
       "0               Washington,George\n",
       "1               Washington,George\n",
       "2               Washington,George\n",
       "3               Washington,George\n",
       "4               Washington,George\n",
       "                  ...            \n",
       "424    Biden,Joseph Robinette,Jr.\n",
       "425         Pence,Michael Richard\n",
       "426         Pence,Michael Richard\n",
       "427         Pence,Michael Richard\n",
       "428         Pence,Michael Richard\n",
       "Name: name, Length: 429, dtype: object"
      ]
     },
     "execution_count": 3,
     "metadata": {},
     "output_type": "execute_result"
    }
   ],
   "source": [
    "df.name"
   ]
  },
  {
   "cell_type": "code",
   "execution_count": 8,
   "id": "133ae42d",
   "metadata": {},
   "outputs": [
    {
     "data": {
      "text/plain": [
       "0      Unaffiliated\n",
       "1      Unaffiliated\n",
       "2      Unaffiliated\n",
       "3      Unaffiliated\n",
       "4      Unaffiliated\n",
       "           ...     \n",
       "424      Democratic\n",
       "425      Republican\n",
       "426      Republican\n",
       "427      Republican\n",
       "428      Republican\n",
       "Name: party, Length: 429, dtype: object"
      ]
     },
     "execution_count": 8,
     "metadata": {},
     "output_type": "execute_result"
    }
   ],
   "source": [
    "df.party"
   ]
  },
  {
   "cell_type": "code",
   "execution_count": 9,
   "id": "9ff1648d",
   "metadata": {},
   "outputs": [
    {
     "data": {
      "text/plain": [
       "0       First\n",
       "1       First\n",
       "2       First\n",
       "3       First\n",
       "4      Second\n",
       "        ...  \n",
       "424    Second\n",
       "425     First\n",
       "426     First\n",
       "427     First\n",
       "428     First\n",
       "Name: term, Length: 429, dtype: object"
      ]
     },
     "execution_count": 9,
     "metadata": {},
     "output_type": "execute_result"
    }
   ],
   "source": [
    "df.term"
   ]
  },
  {
   "cell_type": "code",
   "execution_count": 10,
   "id": "f302b206",
   "metadata": {},
   "outputs": [
    {
     "data": {
      "text/plain": [
       "0       25000\n",
       "1       25000\n",
       "2       25000\n",
       "3       25000\n",
       "4       25000\n",
       "        ...  \n",
       "424    230700\n",
       "425    230700\n",
       "426    230700\n",
       "427    235100\n",
       "428    235100\n",
       "Name: salary, Length: 429, dtype: int64"
      ]
     },
     "execution_count": 10,
     "metadata": {},
     "output_type": "execute_result"
    }
   ],
   "source": [
    "df.salary"
   ]
  },
  {
   "cell_type": "code",
   "execution_count": 11,
   "id": "a4902fd0",
   "metadata": {},
   "outputs": [
    {
     "data": {
      "text/plain": [
       "0           PRESIDENT OF THE UNITED STATES\n",
       "1           PRESIDENT OF THE UNITED STATES\n",
       "2           PRESIDENT OF THE UNITED STATES\n",
       "3           PRESIDENT OF THE UNITED STATES\n",
       "4           PRESIDENT OF THE UNITED STATES\n",
       "                      ...                 \n",
       "424    VICE PRESIDENT OF THE UNITED STATES\n",
       "425    VICE PRESIDENT OF THE UNITED STATES\n",
       "426    VICE PRESIDENT OF THE UNITED STATES\n",
       "427    VICE PRESIDENT OF THE UNITED STATES\n",
       "428    VICE PRESIDENT OF THE UNITED STATES\n",
       "Name: position_title, Length: 429, dtype: object"
      ]
     },
     "execution_count": 11,
     "metadata": {},
     "output_type": "execute_result"
    }
   ],
   "source": [
    "df.position_title"
   ]
  },
  {
   "cell_type": "code",
   "execution_count": 4,
   "id": "114e92c5",
   "metadata": {},
   "outputs": [
    {
     "data": {
      "text/html": [
       "<div>\n",
       "<style scoped>\n",
       "    .dataframe tbody tr th:only-of-type {\n",
       "        vertical-align: middle;\n",
       "    }\n",
       "\n",
       "    .dataframe tbody tr th {\n",
       "        vertical-align: top;\n",
       "    }\n",
       "\n",
       "    .dataframe thead th {\n",
       "        text-align: right;\n",
       "    }\n",
       "</style>\n",
       "<table border=\"1\" class=\"dataframe\">\n",
       "  <thead>\n",
       "    <tr style=\"text-align: right;\">\n",
       "      <th></th>\n",
       "      <th>year</th>\n",
       "      <th>salary</th>\n",
       "    </tr>\n",
       "  </thead>\n",
       "  <tbody>\n",
       "    <tr>\n",
       "      <th>count</th>\n",
       "      <td>429.000000</td>\n",
       "      <td>429.000000</td>\n",
       "    </tr>\n",
       "    <tr>\n",
       "      <th>mean</th>\n",
       "      <td>1906.090909</td>\n",
       "      <td>76741.025641</td>\n",
       "    </tr>\n",
       "    <tr>\n",
       "      <th>std</th>\n",
       "      <td>68.454457</td>\n",
       "      <td>96592.308496</td>\n",
       "    </tr>\n",
       "    <tr>\n",
       "      <th>min</th>\n",
       "      <td>1789.000000</td>\n",
       "      <td>5000.000000</td>\n",
       "    </tr>\n",
       "    <tr>\n",
       "      <th>25%</th>\n",
       "      <td>1845.000000</td>\n",
       "      <td>12000.000000</td>\n",
       "    </tr>\n",
       "    <tr>\n",
       "      <th>50%</th>\n",
       "      <td>1909.000000</td>\n",
       "      <td>30000.000000</td>\n",
       "    </tr>\n",
       "    <tr>\n",
       "      <th>75%</th>\n",
       "      <td>1967.000000</td>\n",
       "      <td>100000.000000</td>\n",
       "    </tr>\n",
       "    <tr>\n",
       "      <th>max</th>\n",
       "      <td>2020.000000</td>\n",
       "      <td>400000.000000</td>\n",
       "    </tr>\n",
       "  </tbody>\n",
       "</table>\n",
       "</div>"
      ],
      "text/plain": [
       "              year         salary\n",
       "count   429.000000     429.000000\n",
       "mean   1906.090909   76741.025641\n",
       "std      68.454457   96592.308496\n",
       "min    1789.000000    5000.000000\n",
       "25%    1845.000000   12000.000000\n",
       "50%    1909.000000   30000.000000\n",
       "75%    1967.000000  100000.000000\n",
       "max    2020.000000  400000.000000"
      ]
     },
     "execution_count": 4,
     "metadata": {},
     "output_type": "execute_result"
    }
   ],
   "source": [
    "df.describe()"
   ]
  },
  {
   "cell_type": "code",
   "execution_count": 6,
   "id": "3384e512",
   "metadata": {},
   "outputs": [
    {
     "data": {
      "text/plain": [
       "year                                             2020\n",
       "name                            Wilson,Thomas Woodrow\n",
       "party                                            Whig\n",
       "term                                            Third\n",
       "salary                                         400000\n",
       "position_title    VICE PRESIDENT OF THE UNITED STATES\n",
       "dtype: object"
      ]
     },
     "execution_count": 6,
     "metadata": {},
     "output_type": "execute_result"
    }
   ],
   "source": [
    "df.max()"
   ]
  },
  {
   "cell_type": "code",
   "execution_count": 12,
   "id": "fdfabb0b",
   "metadata": {},
   "outputs": [
    {
     "data": {
      "text/plain": [
       "year                                        1789\n",
       "name                                  Adams,John\n",
       "party                                 Democratic\n",
       "term                                       First\n",
       "salary                                      5000\n",
       "position_title    PRESIDENT OF THE UNITED STATES\n",
       "dtype: object"
      ]
     },
     "execution_count": 12,
     "metadata": {},
     "output_type": "execute_result"
    }
   ],
   "source": [
    "df.min()"
   ]
  },
  {
   "cell_type": "code",
   "execution_count": 13,
   "id": "17a2f7d6",
   "metadata": {},
   "outputs": [
    {
     "data": {
      "text/plain": [
       "year       1906.090909\n",
       "salary    76741.025641\n",
       "dtype: float64"
      ]
     },
     "execution_count": 13,
     "metadata": {},
     "output_type": "execute_result"
    }
   ],
   "source": [
    "df.mean()"
   ]
  },
  {
   "cell_type": "code",
   "execution_count": 14,
   "id": "cad0bf71",
   "metadata": {},
   "outputs": [
    {
     "data": {
      "text/plain": [
       "year       1909.0\n",
       "salary    30000.0\n",
       "dtype: float64"
      ]
     },
     "execution_count": 14,
     "metadata": {},
     "output_type": "execute_result"
    }
   ],
   "source": [
    "df.median()"
   ]
  },
  {
   "cell_type": "code",
   "execution_count": 15,
   "id": "90d4edac",
   "metadata": {},
   "outputs": [
    {
     "data": {
      "text/plain": [
       "year         68.454457\n",
       "salary    96592.308496\n",
       "dtype: float64"
      ]
     },
     "execution_count": 15,
     "metadata": {},
     "output_type": "execute_result"
    }
   ],
   "source": [
    "df.std()"
   ]
  },
  {
   "cell_type": "code",
   "execution_count": 16,
   "id": "81b2afb3",
   "metadata": {},
   "outputs": [
    {
     "data": {
      "text/html": [
       "<div>\n",
       "<style scoped>\n",
       "    .dataframe tbody tr th:only-of-type {\n",
       "        vertical-align: middle;\n",
       "    }\n",
       "\n",
       "    .dataframe tbody tr th {\n",
       "        vertical-align: top;\n",
       "    }\n",
       "\n",
       "    .dataframe thead th {\n",
       "        text-align: right;\n",
       "    }\n",
       "</style>\n",
       "<table border=\"1\" class=\"dataframe\">\n",
       "  <thead>\n",
       "    <tr style=\"text-align: right;\">\n",
       "      <th></th>\n",
       "      <th>year</th>\n",
       "      <th>name</th>\n",
       "      <th>party</th>\n",
       "      <th>term</th>\n",
       "      <th>salary</th>\n",
       "      <th>position_title</th>\n",
       "    </tr>\n",
       "  </thead>\n",
       "  <tbody>\n",
       "    <tr>\n",
       "      <th>0</th>\n",
       "      <td>1789</td>\n",
       "      <td>Washington,George</td>\n",
       "      <td>Unaffiliated</td>\n",
       "      <td>First</td>\n",
       "      <td>25000</td>\n",
       "      <td>PRESIDENT OF THE UNITED STATES</td>\n",
       "    </tr>\n",
       "    <tr>\n",
       "      <th>1</th>\n",
       "      <td>1790</td>\n",
       "      <td>Washington,George</td>\n",
       "      <td>Unaffiliated</td>\n",
       "      <td>First</td>\n",
       "      <td>25000</td>\n",
       "      <td>PRESIDENT OF THE UNITED STATES</td>\n",
       "    </tr>\n",
       "    <tr>\n",
       "      <th>2</th>\n",
       "      <td>1791</td>\n",
       "      <td>Washington,George</td>\n",
       "      <td>Unaffiliated</td>\n",
       "      <td>First</td>\n",
       "      <td>25000</td>\n",
       "      <td>PRESIDENT OF THE UNITED STATES</td>\n",
       "    </tr>\n",
       "    <tr>\n",
       "      <th>3</th>\n",
       "      <td>1792</td>\n",
       "      <td>Washington,George</td>\n",
       "      <td>Unaffiliated</td>\n",
       "      <td>First</td>\n",
       "      <td>25000</td>\n",
       "      <td>PRESIDENT OF THE UNITED STATES</td>\n",
       "    </tr>\n",
       "    <tr>\n",
       "      <th>4</th>\n",
       "      <td>1793</td>\n",
       "      <td>Washington,George</td>\n",
       "      <td>Unaffiliated</td>\n",
       "      <td>Second</td>\n",
       "      <td>25000</td>\n",
       "      <td>PRESIDENT OF THE UNITED STATES</td>\n",
       "    </tr>\n",
       "    <tr>\n",
       "      <th>...</th>\n",
       "      <td>...</td>\n",
       "      <td>...</td>\n",
       "      <td>...</td>\n",
       "      <td>...</td>\n",
       "      <td>...</td>\n",
       "      <td>...</td>\n",
       "    </tr>\n",
       "    <tr>\n",
       "      <th>424</th>\n",
       "      <td>2016</td>\n",
       "      <td>Biden,Joseph Robinette,Jr.</td>\n",
       "      <td>Democratic</td>\n",
       "      <td>Second</td>\n",
       "      <td>230700</td>\n",
       "      <td>VICE PRESIDENT OF THE UNITED STATES</td>\n",
       "    </tr>\n",
       "    <tr>\n",
       "      <th>425</th>\n",
       "      <td>2017</td>\n",
       "      <td>Pence,Michael Richard</td>\n",
       "      <td>Republican</td>\n",
       "      <td>First</td>\n",
       "      <td>230700</td>\n",
       "      <td>VICE PRESIDENT OF THE UNITED STATES</td>\n",
       "    </tr>\n",
       "    <tr>\n",
       "      <th>426</th>\n",
       "      <td>2018</td>\n",
       "      <td>Pence,Michael Richard</td>\n",
       "      <td>Republican</td>\n",
       "      <td>First</td>\n",
       "      <td>230700</td>\n",
       "      <td>VICE PRESIDENT OF THE UNITED STATES</td>\n",
       "    </tr>\n",
       "    <tr>\n",
       "      <th>427</th>\n",
       "      <td>2019</td>\n",
       "      <td>Pence,Michael Richard</td>\n",
       "      <td>Republican</td>\n",
       "      <td>First</td>\n",
       "      <td>235100</td>\n",
       "      <td>VICE PRESIDENT OF THE UNITED STATES</td>\n",
       "    </tr>\n",
       "    <tr>\n",
       "      <th>428</th>\n",
       "      <td>2020</td>\n",
       "      <td>Pence,Michael Richard</td>\n",
       "      <td>Republican</td>\n",
       "      <td>First</td>\n",
       "      <td>235100</td>\n",
       "      <td>VICE PRESIDENT OF THE UNITED STATES</td>\n",
       "    </tr>\n",
       "  </tbody>\n",
       "</table>\n",
       "<p>429 rows × 6 columns</p>\n",
       "</div>"
      ],
      "text/plain": [
       "     year                        name         party    term  salary  \\\n",
       "0    1789           Washington,George  Unaffiliated   First   25000   \n",
       "1    1790           Washington,George  Unaffiliated   First   25000   \n",
       "2    1791           Washington,George  Unaffiliated   First   25000   \n",
       "3    1792           Washington,George  Unaffiliated   First   25000   \n",
       "4    1793           Washington,George  Unaffiliated  Second   25000   \n",
       "..    ...                         ...           ...     ...     ...   \n",
       "424  2016  Biden,Joseph Robinette,Jr.    Democratic  Second  230700   \n",
       "425  2017       Pence,Michael Richard    Republican   First  230700   \n",
       "426  2018       Pence,Michael Richard    Republican   First  230700   \n",
       "427  2019       Pence,Michael Richard    Republican   First  235100   \n",
       "428  2020       Pence,Michael Richard    Republican   First  235100   \n",
       "\n",
       "                          position_title  \n",
       "0         PRESIDENT OF THE UNITED STATES  \n",
       "1         PRESIDENT OF THE UNITED STATES  \n",
       "2         PRESIDENT OF THE UNITED STATES  \n",
       "3         PRESIDENT OF THE UNITED STATES  \n",
       "4         PRESIDENT OF THE UNITED STATES  \n",
       "..                                   ...  \n",
       "424  VICE PRESIDENT OF THE UNITED STATES  \n",
       "425  VICE PRESIDENT OF THE UNITED STATES  \n",
       "426  VICE PRESIDENT OF THE UNITED STATES  \n",
       "427  VICE PRESIDENT OF THE UNITED STATES  \n",
       "428  VICE PRESIDENT OF THE UNITED STATES  \n",
       "\n",
       "[429 rows x 6 columns]"
      ]
     },
     "execution_count": 16,
     "metadata": {},
     "output_type": "execute_result"
    }
   ],
   "source": [
    "df.dropna()"
   ]
  },
  {
   "cell_type": "code",
   "execution_count": 3,
   "id": "64d47ed3",
   "metadata": {},
   "outputs": [
    {
     "data": {
      "text/html": [
       "<div>\n",
       "<style scoped>\n",
       "    .dataframe tbody tr th:only-of-type {\n",
       "        vertical-align: middle;\n",
       "    }\n",
       "\n",
       "    .dataframe tbody tr th {\n",
       "        vertical-align: top;\n",
       "    }\n",
       "\n",
       "    .dataframe thead th {\n",
       "        text-align: right;\n",
       "    }\n",
       "</style>\n",
       "<table border=\"1\" class=\"dataframe\">\n",
       "  <thead>\n",
       "    <tr style=\"text-align: right;\">\n",
       "      <th></th>\n",
       "      <th>salary</th>\n",
       "    </tr>\n",
       "    <tr>\n",
       "      <th>term</th>\n",
       "      <th></th>\n",
       "    </tr>\n",
       "  </thead>\n",
       "  <tbody>\n",
       "    <tr>\n",
       "      <th>First</th>\n",
       "      <td>67675.320513</td>\n",
       "    </tr>\n",
       "    <tr>\n",
       "      <th>Second</th>\n",
       "      <td>101833.628319</td>\n",
       "    </tr>\n",
       "    <tr>\n",
       "      <th>Third</th>\n",
       "      <td>75000.000000</td>\n",
       "    </tr>\n",
       "  </tbody>\n",
       "</table>\n",
       "</div>"
      ],
      "text/plain": [
       "               salary\n",
       "term                 \n",
       "First    67675.320513\n",
       "Second  101833.628319\n",
       "Third    75000.000000"
      ]
     },
     "execution_count": 3,
     "metadata": {},
     "output_type": "execute_result"
    }
   ],
   "source": [
    "df.groupby(\"term\")[[\"salary\"]].mean()"
   ]
  },
  {
   "cell_type": "code",
   "execution_count": 4,
   "id": "586c5a0e",
   "metadata": {},
   "outputs": [
    {
     "data": {
      "text/html": [
       "<div>\n",
       "<style scoped>\n",
       "    .dataframe tbody tr th:only-of-type {\n",
       "        vertical-align: middle;\n",
       "    }\n",
       "\n",
       "    .dataframe tbody tr th {\n",
       "        vertical-align: top;\n",
       "    }\n",
       "\n",
       "    .dataframe thead th {\n",
       "        text-align: right;\n",
       "    }\n",
       "</style>\n",
       "<table border=\"1\" class=\"dataframe\">\n",
       "  <thead>\n",
       "    <tr style=\"text-align: right;\">\n",
       "      <th></th>\n",
       "      <th>year</th>\n",
       "      <th>name</th>\n",
       "      <th>party</th>\n",
       "      <th>term</th>\n",
       "      <th>salary</th>\n",
       "      <th>position_title</th>\n",
       "    </tr>\n",
       "  </thead>\n",
       "  <tbody>\n",
       "    <tr>\n",
       "      <th>10</th>\n",
       "      <td>1799</td>\n",
       "      <td>Adams,John</td>\n",
       "      <td>Federalist</td>\n",
       "      <td>First</td>\n",
       "      <td>25000</td>\n",
       "      <td>PRESIDENT OF THE UNITED STATES</td>\n",
       "    </tr>\n",
       "    <tr>\n",
       "      <th>11</th>\n",
       "      <td>1800</td>\n",
       "      <td>Adams,John</td>\n",
       "      <td>Federalist</td>\n",
       "      <td>First</td>\n",
       "      <td>25000</td>\n",
       "      <td>PRESIDENT OF THE UNITED STATES</td>\n",
       "    </tr>\n",
       "    <tr>\n",
       "      <th>12</th>\n",
       "      <td>1801</td>\n",
       "      <td>Jefferson,Thomas</td>\n",
       "      <td>Democratic-Republican</td>\n",
       "      <td>First</td>\n",
       "      <td>25000</td>\n",
       "      <td>PRESIDENT OF THE UNITED STATES</td>\n",
       "    </tr>\n",
       "    <tr>\n",
       "      <th>13</th>\n",
       "      <td>1802</td>\n",
       "      <td>Jefferson,Thomas</td>\n",
       "      <td>Democratic-Republican</td>\n",
       "      <td>First</td>\n",
       "      <td>25000</td>\n",
       "      <td>PRESIDENT OF THE UNITED STATES</td>\n",
       "    </tr>\n",
       "    <tr>\n",
       "      <th>14</th>\n",
       "      <td>1803</td>\n",
       "      <td>Jefferson,Thomas</td>\n",
       "      <td>Democratic-Republican</td>\n",
       "      <td>First</td>\n",
       "      <td>25000</td>\n",
       "      <td>PRESIDENT OF THE UNITED STATES</td>\n",
       "    </tr>\n",
       "    <tr>\n",
       "      <th>15</th>\n",
       "      <td>1804</td>\n",
       "      <td>Jefferson,Thomas</td>\n",
       "      <td>Democratic-Republican</td>\n",
       "      <td>First</td>\n",
       "      <td>25000</td>\n",
       "      <td>PRESIDENT OF THE UNITED STATES</td>\n",
       "    </tr>\n",
       "    <tr>\n",
       "      <th>16</th>\n",
       "      <td>1805</td>\n",
       "      <td>Jefferson,Thomas</td>\n",
       "      <td>Democratic-Republican</td>\n",
       "      <td>Second</td>\n",
       "      <td>25000</td>\n",
       "      <td>PRESIDENT OF THE UNITED STATES</td>\n",
       "    </tr>\n",
       "    <tr>\n",
       "      <th>17</th>\n",
       "      <td>1806</td>\n",
       "      <td>Jefferson,Thomas</td>\n",
       "      <td>Democratic-Republican</td>\n",
       "      <td>Second</td>\n",
       "      <td>25000</td>\n",
       "      <td>PRESIDENT OF THE UNITED STATES</td>\n",
       "    </tr>\n",
       "    <tr>\n",
       "      <th>18</th>\n",
       "      <td>1807</td>\n",
       "      <td>Jefferson,Thomas</td>\n",
       "      <td>Democratic-Republican</td>\n",
       "      <td>Second</td>\n",
       "      <td>25000</td>\n",
       "      <td>PRESIDENT OF THE UNITED STATES</td>\n",
       "    </tr>\n",
       "    <tr>\n",
       "      <th>19</th>\n",
       "      <td>1808</td>\n",
       "      <td>Jefferson,Thomas</td>\n",
       "      <td>Democratic-Republican</td>\n",
       "      <td>Second</td>\n",
       "      <td>25000</td>\n",
       "      <td>PRESIDENT OF THE UNITED STATES</td>\n",
       "    </tr>\n",
       "  </tbody>\n",
       "</table>\n",
       "</div>"
      ],
      "text/plain": [
       "    year              name                  party    term  salary  \\\n",
       "10  1799        Adams,John             Federalist   First   25000   \n",
       "11  1800        Adams,John             Federalist   First   25000   \n",
       "12  1801  Jefferson,Thomas  Democratic-Republican   First   25000   \n",
       "13  1802  Jefferson,Thomas  Democratic-Republican   First   25000   \n",
       "14  1803  Jefferson,Thomas  Democratic-Republican   First   25000   \n",
       "15  1804  Jefferson,Thomas  Democratic-Republican   First   25000   \n",
       "16  1805  Jefferson,Thomas  Democratic-Republican  Second   25000   \n",
       "17  1806  Jefferson,Thomas  Democratic-Republican  Second   25000   \n",
       "18  1807  Jefferson,Thomas  Democratic-Republican  Second   25000   \n",
       "19  1808  Jefferson,Thomas  Democratic-Republican  Second   25000   \n",
       "\n",
       "                    position_title  \n",
       "10  PRESIDENT OF THE UNITED STATES  \n",
       "11  PRESIDENT OF THE UNITED STATES  \n",
       "12  PRESIDENT OF THE UNITED STATES  \n",
       "13  PRESIDENT OF THE UNITED STATES  \n",
       "14  PRESIDENT OF THE UNITED STATES  \n",
       "15  PRESIDENT OF THE UNITED STATES  \n",
       "16  PRESIDENT OF THE UNITED STATES  \n",
       "17  PRESIDENT OF THE UNITED STATES  \n",
       "18  PRESIDENT OF THE UNITED STATES  \n",
       "19  PRESIDENT OF THE UNITED STATES  "
      ]
     },
     "execution_count": 4,
     "metadata": {},
     "output_type": "execute_result"
    }
   ],
   "source": [
    "df[10:20]"
   ]
  },
  {
   "cell_type": "code",
   "execution_count": 6,
   "id": "db2f5b8c",
   "metadata": {},
   "outputs": [
    {
     "data": {
      "text/html": [
       "<div>\n",
       "<style scoped>\n",
       "    .dataframe tbody tr th:only-of-type {\n",
       "        vertical-align: middle;\n",
       "    }\n",
       "\n",
       "    .dataframe tbody tr th {\n",
       "        vertical-align: top;\n",
       "    }\n",
       "\n",
       "    .dataframe thead th {\n",
       "        text-align: right;\n",
       "    }\n",
       "</style>\n",
       "<table border=\"1\" class=\"dataframe\">\n",
       "  <thead>\n",
       "    <tr style=\"text-align: right;\">\n",
       "      <th></th>\n",
       "      <th>year</th>\n",
       "      <th>salary</th>\n",
       "    </tr>\n",
       "    <tr>\n",
       "      <th>term</th>\n",
       "      <th></th>\n",
       "      <th></th>\n",
       "    </tr>\n",
       "  </thead>\n",
       "  <tbody>\n",
       "    <tr>\n",
       "      <th>First</th>\n",
       "      <td>1902.375000</td>\n",
       "      <td>67675.320513</td>\n",
       "    </tr>\n",
       "    <tr>\n",
       "      <th>Second</th>\n",
       "      <td>1915.061947</td>\n",
       "      <td>101833.628319</td>\n",
       "    </tr>\n",
       "    <tr>\n",
       "      <th>Third</th>\n",
       "      <td>1942.500000</td>\n",
       "      <td>75000.000000</td>\n",
       "    </tr>\n",
       "  </tbody>\n",
       "</table>\n",
       "</div>"
      ],
      "text/plain": [
       "               year         salary\n",
       "term                              \n",
       "First   1902.375000   67675.320513\n",
       "Second  1915.061947  101833.628319\n",
       "Third   1942.500000   75000.000000"
      ]
     },
     "execution_count": 6,
     "metadata": {},
     "output_type": "execute_result"
    }
   ],
   "source": [
    "df_term=df.groupby(\"term\")\n",
    "df_term.mean()"
   ]
  },
  {
   "cell_type": "code",
   "execution_count": 10,
   "id": "95a3ce05",
   "metadata": {},
   "outputs": [
    {
     "data": {
      "text/plain": [
       "0       25000\n",
       "1       25000\n",
       "2       25000\n",
       "3       25000\n",
       "4       25000\n",
       "        ...  \n",
       "424    230700\n",
       "425    230700\n",
       "426    230700\n",
       "427    235100\n",
       "428    235100\n",
       "Name: salary, Length: 429, dtype: int64"
      ]
     },
     "execution_count": 10,
     "metadata": {},
     "output_type": "execute_result"
    }
   ],
   "source": [
    "df[\"salary\"]"
   ]
  },
  {
   "cell_type": "code",
   "execution_count": 11,
   "id": "a2641c5d",
   "metadata": {},
   "outputs": [
    {
     "data": {
      "text/html": [
       "<div>\n",
       "<style scoped>\n",
       "    .dataframe tbody tr th:only-of-type {\n",
       "        vertical-align: middle;\n",
       "    }\n",
       "\n",
       "    .dataframe tbody tr th {\n",
       "        vertical-align: top;\n",
       "    }\n",
       "\n",
       "    .dataframe thead th {\n",
       "        text-align: right;\n",
       "    }\n",
       "</style>\n",
       "<table border=\"1\" class=\"dataframe\">\n",
       "  <thead>\n",
       "    <tr style=\"text-align: right;\">\n",
       "      <th></th>\n",
       "      <th>term</th>\n",
       "      <th>salary</th>\n",
       "    </tr>\n",
       "  </thead>\n",
       "  <tbody>\n",
       "    <tr>\n",
       "      <th>0</th>\n",
       "      <td>First</td>\n",
       "      <td>25000</td>\n",
       "    </tr>\n",
       "    <tr>\n",
       "      <th>1</th>\n",
       "      <td>First</td>\n",
       "      <td>25000</td>\n",
       "    </tr>\n",
       "    <tr>\n",
       "      <th>2</th>\n",
       "      <td>First</td>\n",
       "      <td>25000</td>\n",
       "    </tr>\n",
       "    <tr>\n",
       "      <th>3</th>\n",
       "      <td>First</td>\n",
       "      <td>25000</td>\n",
       "    </tr>\n",
       "    <tr>\n",
       "      <th>4</th>\n",
       "      <td>Second</td>\n",
       "      <td>25000</td>\n",
       "    </tr>\n",
       "    <tr>\n",
       "      <th>...</th>\n",
       "      <td>...</td>\n",
       "      <td>...</td>\n",
       "    </tr>\n",
       "    <tr>\n",
       "      <th>424</th>\n",
       "      <td>Second</td>\n",
       "      <td>230700</td>\n",
       "    </tr>\n",
       "    <tr>\n",
       "      <th>425</th>\n",
       "      <td>First</td>\n",
       "      <td>230700</td>\n",
       "    </tr>\n",
       "    <tr>\n",
       "      <th>426</th>\n",
       "      <td>First</td>\n",
       "      <td>230700</td>\n",
       "    </tr>\n",
       "    <tr>\n",
       "      <th>427</th>\n",
       "      <td>First</td>\n",
       "      <td>235100</td>\n",
       "    </tr>\n",
       "    <tr>\n",
       "      <th>428</th>\n",
       "      <td>First</td>\n",
       "      <td>235100</td>\n",
       "    </tr>\n",
       "  </tbody>\n",
       "</table>\n",
       "<p>429 rows × 2 columns</p>\n",
       "</div>"
      ],
      "text/plain": [
       "       term  salary\n",
       "0     First   25000\n",
       "1     First   25000\n",
       "2     First   25000\n",
       "3     First   25000\n",
       "4    Second   25000\n",
       "..      ...     ...\n",
       "424  Second  230700\n",
       "425   First  230700\n",
       "426   First  230700\n",
       "427   First  235100\n",
       "428   First  235100\n",
       "\n",
       "[429 rows x 2 columns]"
      ]
     },
     "execution_count": 11,
     "metadata": {},
     "output_type": "execute_result"
    }
   ],
   "source": [
    "df[[\"term\",\"salary\"]]"
   ]
  },
  {
   "cell_type": "code",
   "execution_count": 13,
   "id": "9e2ba9b6",
   "metadata": {},
   "outputs": [
    {
     "data": {
      "text/html": [
       "<div>\n",
       "<style scoped>\n",
       "    .dataframe tbody tr th:only-of-type {\n",
       "        vertical-align: middle;\n",
       "    }\n",
       "\n",
       "    .dataframe tbody tr th {\n",
       "        vertical-align: top;\n",
       "    }\n",
       "\n",
       "    .dataframe thead th {\n",
       "        text-align: right;\n",
       "    }\n",
       "</style>\n",
       "<table border=\"1\" class=\"dataframe\">\n",
       "  <thead>\n",
       "    <tr style=\"text-align: right;\">\n",
       "      <th></th>\n",
       "      <th>year</th>\n",
       "      <th>name</th>\n",
       "      <th>party</th>\n",
       "      <th>term</th>\n",
       "      <th>salary</th>\n",
       "      <th>position_title</th>\n",
       "    </tr>\n",
       "  </thead>\n",
       "  <tbody>\n",
       "    <tr>\n",
       "      <th>212</th>\n",
       "      <td>2001</td>\n",
       "      <td>Bush,George Walker</td>\n",
       "      <td>Republican</td>\n",
       "      <td>First</td>\n",
       "      <td>400000</td>\n",
       "      <td>PRESIDENT OF THE UNITED STATES</td>\n",
       "    </tr>\n",
       "    <tr>\n",
       "      <th>213</th>\n",
       "      <td>2002</td>\n",
       "      <td>Bush,George Walker</td>\n",
       "      <td>Republican</td>\n",
       "      <td>First</td>\n",
       "      <td>400000</td>\n",
       "      <td>PRESIDENT OF THE UNITED STATES</td>\n",
       "    </tr>\n",
       "    <tr>\n",
       "      <th>214</th>\n",
       "      <td>2003</td>\n",
       "      <td>Bush,George Walker</td>\n",
       "      <td>Republican</td>\n",
       "      <td>First</td>\n",
       "      <td>400000</td>\n",
       "      <td>PRESIDENT OF THE UNITED STATES</td>\n",
       "    </tr>\n",
       "    <tr>\n",
       "      <th>215</th>\n",
       "      <td>2004</td>\n",
       "      <td>Bush,George Walker</td>\n",
       "      <td>Republican</td>\n",
       "      <td>First</td>\n",
       "      <td>400000</td>\n",
       "      <td>PRESIDENT OF THE UNITED STATES</td>\n",
       "    </tr>\n",
       "    <tr>\n",
       "      <th>216</th>\n",
       "      <td>2005</td>\n",
       "      <td>Bush,George Walker</td>\n",
       "      <td>Republican</td>\n",
       "      <td>Second</td>\n",
       "      <td>400000</td>\n",
       "      <td>PRESIDENT OF THE UNITED STATES</td>\n",
       "    </tr>\n",
       "    <tr>\n",
       "      <th>217</th>\n",
       "      <td>2006</td>\n",
       "      <td>Bush,George Walker</td>\n",
       "      <td>Republican</td>\n",
       "      <td>Second</td>\n",
       "      <td>400000</td>\n",
       "      <td>PRESIDENT OF THE UNITED STATES</td>\n",
       "    </tr>\n",
       "    <tr>\n",
       "      <th>218</th>\n",
       "      <td>2007</td>\n",
       "      <td>Bush,George Walker</td>\n",
       "      <td>Republican</td>\n",
       "      <td>Second</td>\n",
       "      <td>400000</td>\n",
       "      <td>PRESIDENT OF THE UNITED STATES</td>\n",
       "    </tr>\n",
       "    <tr>\n",
       "      <th>219</th>\n",
       "      <td>2008</td>\n",
       "      <td>Bush,George Walker</td>\n",
       "      <td>Republican</td>\n",
       "      <td>Second</td>\n",
       "      <td>400000</td>\n",
       "      <td>PRESIDENT OF THE UNITED STATES</td>\n",
       "    </tr>\n",
       "    <tr>\n",
       "      <th>220</th>\n",
       "      <td>2009</td>\n",
       "      <td>Obama,Barack Hussein,II</td>\n",
       "      <td>Democratic</td>\n",
       "      <td>First</td>\n",
       "      <td>400000</td>\n",
       "      <td>PRESIDENT OF THE UNITED STATES</td>\n",
       "    </tr>\n",
       "    <tr>\n",
       "      <th>221</th>\n",
       "      <td>2010</td>\n",
       "      <td>Obama,Barack Hussein,II</td>\n",
       "      <td>Democratic</td>\n",
       "      <td>First</td>\n",
       "      <td>400000</td>\n",
       "      <td>PRESIDENT OF THE UNITED STATES</td>\n",
       "    </tr>\n",
       "    <tr>\n",
       "      <th>222</th>\n",
       "      <td>2011</td>\n",
       "      <td>Obama,Barack Hussein,II</td>\n",
       "      <td>Democratic</td>\n",
       "      <td>First</td>\n",
       "      <td>400000</td>\n",
       "      <td>PRESIDENT OF THE UNITED STATES</td>\n",
       "    </tr>\n",
       "    <tr>\n",
       "      <th>223</th>\n",
       "      <td>2012</td>\n",
       "      <td>Obama,Barack Hussein,II</td>\n",
       "      <td>Democratic</td>\n",
       "      <td>First</td>\n",
       "      <td>400000</td>\n",
       "      <td>PRESIDENT OF THE UNITED STATES</td>\n",
       "    </tr>\n",
       "    <tr>\n",
       "      <th>224</th>\n",
       "      <td>2013</td>\n",
       "      <td>Obama,Barack Hussein,II</td>\n",
       "      <td>Democratic</td>\n",
       "      <td>Second</td>\n",
       "      <td>400000</td>\n",
       "      <td>PRESIDENT OF THE UNITED STATES</td>\n",
       "    </tr>\n",
       "    <tr>\n",
       "      <th>225</th>\n",
       "      <td>2014</td>\n",
       "      <td>Obama,Barack Hussein,II</td>\n",
       "      <td>Democratic</td>\n",
       "      <td>Second</td>\n",
       "      <td>400000</td>\n",
       "      <td>PRESIDENT OF THE UNITED STATES</td>\n",
       "    </tr>\n",
       "    <tr>\n",
       "      <th>226</th>\n",
       "      <td>2015</td>\n",
       "      <td>Obama,Barack Hussein,II</td>\n",
       "      <td>Democratic</td>\n",
       "      <td>Second</td>\n",
       "      <td>400000</td>\n",
       "      <td>PRESIDENT OF THE UNITED STATES</td>\n",
       "    </tr>\n",
       "    <tr>\n",
       "      <th>227</th>\n",
       "      <td>2016</td>\n",
       "      <td>Obama,Barack Hussein,II</td>\n",
       "      <td>Democratic</td>\n",
       "      <td>Second</td>\n",
       "      <td>400000</td>\n",
       "      <td>PRESIDENT OF THE UNITED STATES</td>\n",
       "    </tr>\n",
       "    <tr>\n",
       "      <th>228</th>\n",
       "      <td>2017</td>\n",
       "      <td>Trump,Donald John</td>\n",
       "      <td>Republican</td>\n",
       "      <td>First</td>\n",
       "      <td>400000</td>\n",
       "      <td>PRESIDENT OF THE UNITED STATES</td>\n",
       "    </tr>\n",
       "    <tr>\n",
       "      <th>229</th>\n",
       "      <td>2018</td>\n",
       "      <td>Trump,Donald John</td>\n",
       "      <td>Republican</td>\n",
       "      <td>First</td>\n",
       "      <td>400000</td>\n",
       "      <td>PRESIDENT OF THE UNITED STATES</td>\n",
       "    </tr>\n",
       "    <tr>\n",
       "      <th>230</th>\n",
       "      <td>2019</td>\n",
       "      <td>Trump,Donald John</td>\n",
       "      <td>Republican</td>\n",
       "      <td>First</td>\n",
       "      <td>400000</td>\n",
       "      <td>PRESIDENT OF THE UNITED STATES</td>\n",
       "    </tr>\n",
       "    <tr>\n",
       "      <th>231</th>\n",
       "      <td>2020</td>\n",
       "      <td>Trump,Donald John</td>\n",
       "      <td>Republican</td>\n",
       "      <td>First</td>\n",
       "      <td>400000</td>\n",
       "      <td>PRESIDENT OF THE UNITED STATES</td>\n",
       "    </tr>\n",
       "    <tr>\n",
       "      <th>412</th>\n",
       "      <td>2004</td>\n",
       "      <td>Chaney,Richard Bruce</td>\n",
       "      <td>Republican</td>\n",
       "      <td>First</td>\n",
       "      <td>203000</td>\n",
       "      <td>VICE PRESIDENT OF THE UNITED STATES</td>\n",
       "    </tr>\n",
       "    <tr>\n",
       "      <th>413</th>\n",
       "      <td>2005</td>\n",
       "      <td>Chaney,Richard Bruce</td>\n",
       "      <td>Republican</td>\n",
       "      <td>Second</td>\n",
       "      <td>208100</td>\n",
       "      <td>VICE PRESIDENT OF THE UNITED STATES</td>\n",
       "    </tr>\n",
       "    <tr>\n",
       "      <th>414</th>\n",
       "      <td>2006</td>\n",
       "      <td>Chaney,Richard Bruce</td>\n",
       "      <td>Republican</td>\n",
       "      <td>Second</td>\n",
       "      <td>212100</td>\n",
       "      <td>VICE PRESIDENT OF THE UNITED STATES</td>\n",
       "    </tr>\n",
       "    <tr>\n",
       "      <th>415</th>\n",
       "      <td>2007</td>\n",
       "      <td>Chaney,Richard Bruce</td>\n",
       "      <td>Republican</td>\n",
       "      <td>Second</td>\n",
       "      <td>215700</td>\n",
       "      <td>VICE PRESIDENT OF THE UNITED STATES</td>\n",
       "    </tr>\n",
       "    <tr>\n",
       "      <th>416</th>\n",
       "      <td>2008</td>\n",
       "      <td>Chaney,Richard Bruce</td>\n",
       "      <td>Republican</td>\n",
       "      <td>Second</td>\n",
       "      <td>221100</td>\n",
       "      <td>VICE PRESIDENT OF THE UNITED STATES</td>\n",
       "    </tr>\n",
       "    <tr>\n",
       "      <th>417</th>\n",
       "      <td>2009</td>\n",
       "      <td>Biden,Joseph Robinette,Jr.</td>\n",
       "      <td>Democratic</td>\n",
       "      <td>First</td>\n",
       "      <td>227300</td>\n",
       "      <td>VICE PRESIDENT OF THE UNITED STATES</td>\n",
       "    </tr>\n",
       "    <tr>\n",
       "      <th>418</th>\n",
       "      <td>2010</td>\n",
       "      <td>Biden,Joseph Robinette,Jr.</td>\n",
       "      <td>Democratic</td>\n",
       "      <td>First</td>\n",
       "      <td>230700</td>\n",
       "      <td>VICE PRESIDENT OF THE UNITED STATES</td>\n",
       "    </tr>\n",
       "    <tr>\n",
       "      <th>419</th>\n",
       "      <td>2011</td>\n",
       "      <td>Biden,Joseph Robinette,Jr.</td>\n",
       "      <td>Democratic</td>\n",
       "      <td>First</td>\n",
       "      <td>230700</td>\n",
       "      <td>VICE PRESIDENT OF THE UNITED STATES</td>\n",
       "    </tr>\n",
       "    <tr>\n",
       "      <th>420</th>\n",
       "      <td>2012</td>\n",
       "      <td>Biden,Joseph Robinette,Jr.</td>\n",
       "      <td>Democratic</td>\n",
       "      <td>First</td>\n",
       "      <td>230700</td>\n",
       "      <td>VICE PRESIDENT OF THE UNITED STATES</td>\n",
       "    </tr>\n",
       "    <tr>\n",
       "      <th>421</th>\n",
       "      <td>2013</td>\n",
       "      <td>Biden,Joseph Robinette,Jr.</td>\n",
       "      <td>Democratic</td>\n",
       "      <td>Second</td>\n",
       "      <td>230700</td>\n",
       "      <td>VICE PRESIDENT OF THE UNITED STATES</td>\n",
       "    </tr>\n",
       "    <tr>\n",
       "      <th>422</th>\n",
       "      <td>2014</td>\n",
       "      <td>Biden,Joseph Robinette,Jr.</td>\n",
       "      <td>Democratic</td>\n",
       "      <td>Second</td>\n",
       "      <td>230700</td>\n",
       "      <td>VICE PRESIDENT OF THE UNITED STATES</td>\n",
       "    </tr>\n",
       "    <tr>\n",
       "      <th>423</th>\n",
       "      <td>2015</td>\n",
       "      <td>Biden,Joseph Robinette,Jr.</td>\n",
       "      <td>Democratic</td>\n",
       "      <td>Second</td>\n",
       "      <td>230700</td>\n",
       "      <td>VICE PRESIDENT OF THE UNITED STATES</td>\n",
       "    </tr>\n",
       "    <tr>\n",
       "      <th>424</th>\n",
       "      <td>2016</td>\n",
       "      <td>Biden,Joseph Robinette,Jr.</td>\n",
       "      <td>Democratic</td>\n",
       "      <td>Second</td>\n",
       "      <td>230700</td>\n",
       "      <td>VICE PRESIDENT OF THE UNITED STATES</td>\n",
       "    </tr>\n",
       "    <tr>\n",
       "      <th>425</th>\n",
       "      <td>2017</td>\n",
       "      <td>Pence,Michael Richard</td>\n",
       "      <td>Republican</td>\n",
       "      <td>First</td>\n",
       "      <td>230700</td>\n",
       "      <td>VICE PRESIDENT OF THE UNITED STATES</td>\n",
       "    </tr>\n",
       "    <tr>\n",
       "      <th>426</th>\n",
       "      <td>2018</td>\n",
       "      <td>Pence,Michael Richard</td>\n",
       "      <td>Republican</td>\n",
       "      <td>First</td>\n",
       "      <td>230700</td>\n",
       "      <td>VICE PRESIDENT OF THE UNITED STATES</td>\n",
       "    </tr>\n",
       "    <tr>\n",
       "      <th>427</th>\n",
       "      <td>2019</td>\n",
       "      <td>Pence,Michael Richard</td>\n",
       "      <td>Republican</td>\n",
       "      <td>First</td>\n",
       "      <td>235100</td>\n",
       "      <td>VICE PRESIDENT OF THE UNITED STATES</td>\n",
       "    </tr>\n",
       "    <tr>\n",
       "      <th>428</th>\n",
       "      <td>2020</td>\n",
       "      <td>Pence,Michael Richard</td>\n",
       "      <td>Republican</td>\n",
       "      <td>First</td>\n",
       "      <td>235100</td>\n",
       "      <td>VICE PRESIDENT OF THE UNITED STATES</td>\n",
       "    </tr>\n",
       "  </tbody>\n",
       "</table>\n",
       "</div>"
      ],
      "text/plain": [
       "     year                        name       party    term  salary  \\\n",
       "212  2001          Bush,George Walker  Republican   First  400000   \n",
       "213  2002          Bush,George Walker  Republican   First  400000   \n",
       "214  2003          Bush,George Walker  Republican   First  400000   \n",
       "215  2004          Bush,George Walker  Republican   First  400000   \n",
       "216  2005          Bush,George Walker  Republican  Second  400000   \n",
       "217  2006          Bush,George Walker  Republican  Second  400000   \n",
       "218  2007          Bush,George Walker  Republican  Second  400000   \n",
       "219  2008          Bush,George Walker  Republican  Second  400000   \n",
       "220  2009     Obama,Barack Hussein,II  Democratic   First  400000   \n",
       "221  2010     Obama,Barack Hussein,II  Democratic   First  400000   \n",
       "222  2011     Obama,Barack Hussein,II  Democratic   First  400000   \n",
       "223  2012     Obama,Barack Hussein,II  Democratic   First  400000   \n",
       "224  2013     Obama,Barack Hussein,II  Democratic  Second  400000   \n",
       "225  2014     Obama,Barack Hussein,II  Democratic  Second  400000   \n",
       "226  2015     Obama,Barack Hussein,II  Democratic  Second  400000   \n",
       "227  2016     Obama,Barack Hussein,II  Democratic  Second  400000   \n",
       "228  2017           Trump,Donald John  Republican   First  400000   \n",
       "229  2018           Trump,Donald John  Republican   First  400000   \n",
       "230  2019           Trump,Donald John  Republican   First  400000   \n",
       "231  2020           Trump,Donald John  Republican   First  400000   \n",
       "412  2004        Chaney,Richard Bruce  Republican   First  203000   \n",
       "413  2005        Chaney,Richard Bruce  Republican  Second  208100   \n",
       "414  2006        Chaney,Richard Bruce  Republican  Second  212100   \n",
       "415  2007        Chaney,Richard Bruce  Republican  Second  215700   \n",
       "416  2008        Chaney,Richard Bruce  Republican  Second  221100   \n",
       "417  2009  Biden,Joseph Robinette,Jr.  Democratic   First  227300   \n",
       "418  2010  Biden,Joseph Robinette,Jr.  Democratic   First  230700   \n",
       "419  2011  Biden,Joseph Robinette,Jr.  Democratic   First  230700   \n",
       "420  2012  Biden,Joseph Robinette,Jr.  Democratic   First  230700   \n",
       "421  2013  Biden,Joseph Robinette,Jr.  Democratic  Second  230700   \n",
       "422  2014  Biden,Joseph Robinette,Jr.  Democratic  Second  230700   \n",
       "423  2015  Biden,Joseph Robinette,Jr.  Democratic  Second  230700   \n",
       "424  2016  Biden,Joseph Robinette,Jr.  Democratic  Second  230700   \n",
       "425  2017       Pence,Michael Richard  Republican   First  230700   \n",
       "426  2018       Pence,Michael Richard  Republican   First  230700   \n",
       "427  2019       Pence,Michael Richard  Republican   First  235100   \n",
       "428  2020       Pence,Michael Richard  Republican   First  235100   \n",
       "\n",
       "                          position_title  \n",
       "212       PRESIDENT OF THE UNITED STATES  \n",
       "213       PRESIDENT OF THE UNITED STATES  \n",
       "214       PRESIDENT OF THE UNITED STATES  \n",
       "215       PRESIDENT OF THE UNITED STATES  \n",
       "216       PRESIDENT OF THE UNITED STATES  \n",
       "217       PRESIDENT OF THE UNITED STATES  \n",
       "218       PRESIDENT OF THE UNITED STATES  \n",
       "219       PRESIDENT OF THE UNITED STATES  \n",
       "220       PRESIDENT OF THE UNITED STATES  \n",
       "221       PRESIDENT OF THE UNITED STATES  \n",
       "222       PRESIDENT OF THE UNITED STATES  \n",
       "223       PRESIDENT OF THE UNITED STATES  \n",
       "224       PRESIDENT OF THE UNITED STATES  \n",
       "225       PRESIDENT OF THE UNITED STATES  \n",
       "226       PRESIDENT OF THE UNITED STATES  \n",
       "227       PRESIDENT OF THE UNITED STATES  \n",
       "228       PRESIDENT OF THE UNITED STATES  \n",
       "229       PRESIDENT OF THE UNITED STATES  \n",
       "230       PRESIDENT OF THE UNITED STATES  \n",
       "231       PRESIDENT OF THE UNITED STATES  \n",
       "412  VICE PRESIDENT OF THE UNITED STATES  \n",
       "413  VICE PRESIDENT OF THE UNITED STATES  \n",
       "414  VICE PRESIDENT OF THE UNITED STATES  \n",
       "415  VICE PRESIDENT OF THE UNITED STATES  \n",
       "416  VICE PRESIDENT OF THE UNITED STATES  \n",
       "417  VICE PRESIDENT OF THE UNITED STATES  \n",
       "418  VICE PRESIDENT OF THE UNITED STATES  \n",
       "419  VICE PRESIDENT OF THE UNITED STATES  \n",
       "420  VICE PRESIDENT OF THE UNITED STATES  \n",
       "421  VICE PRESIDENT OF THE UNITED STATES  \n",
       "422  VICE PRESIDENT OF THE UNITED STATES  \n",
       "423  VICE PRESIDENT OF THE UNITED STATES  \n",
       "424  VICE PRESIDENT OF THE UNITED STATES  \n",
       "425  VICE PRESIDENT OF THE UNITED STATES  \n",
       "426  VICE PRESIDENT OF THE UNITED STATES  \n",
       "427  VICE PRESIDENT OF THE UNITED STATES  \n",
       "428  VICE PRESIDENT OF THE UNITED STATES  "
      ]
     },
     "execution_count": 13,
     "metadata": {},
     "output_type": "execute_result"
    }
   ],
   "source": [
    "df_sal=df[df[\"salary\"]>200000]\n",
    "df_sal"
   ]
  },
  {
   "cell_type": "code",
   "execution_count": 14,
   "id": "287d00df",
   "metadata": {},
   "outputs": [],
   "source": [
    "import numpy as np\n",
    "import pandas as pd\n",
    "df=pd.read_csv(r\"C:\\Users\\OJUS\\OneDrive\\Desktop\\⠀\\DS\\Data Set\\data_dictionary.csv\")"
   ]
  },
  {
   "cell_type": "code",
   "execution_count": 18,
   "id": "89988a38",
   "metadata": {},
   "outputs": [
    {
     "data": {
      "text/html": [
       "<div>\n",
       "<style scoped>\n",
       "    .dataframe tbody tr th:only-of-type {\n",
       "        vertical-align: middle;\n",
       "    }\n",
       "\n",
       "    .dataframe tbody tr th {\n",
       "        vertical-align: top;\n",
       "    }\n",
       "\n",
       "    .dataframe thead th {\n",
       "        text-align: right;\n",
       "    }\n",
       "</style>\n",
       "<table border=\"1\" class=\"dataframe\">\n",
       "  <thead>\n",
       "    <tr style=\"text-align: right;\">\n",
       "      <th></th>\n",
       "      <th>College Abbreviation</th>\n",
       "      <th>Meaning</th>\n",
       "      <th>Notes</th>\n",
       "      <th>Undergraduate College</th>\n",
       "    </tr>\n",
       "  </thead>\n",
       "  <tbody>\n",
       "    <tr>\n",
       "      <th>0</th>\n",
       "      <td>Business</td>\n",
       "      <td>Grossman School of Business</td>\n",
       "      <td>NaN</td>\n",
       "      <td>Yes</td>\n",
       "    </tr>\n",
       "    <tr>\n",
       "      <th>1</th>\n",
       "      <td>CALS</td>\n",
       "      <td>College of Agriculture and Life Sciences</td>\n",
       "      <td>NaN</td>\n",
       "      <td>Yes</td>\n",
       "    </tr>\n",
       "    <tr>\n",
       "      <th>2</th>\n",
       "      <td>CAS</td>\n",
       "      <td>College of Arts and Sciences</td>\n",
       "      <td>NaN</td>\n",
       "      <td>Yes</td>\n",
       "    </tr>\n",
       "    <tr>\n",
       "      <th>3</th>\n",
       "      <td>CEMS</td>\n",
       "      <td>College of Engineering and Mathematical Sciences</td>\n",
       "      <td>NaN</td>\n",
       "      <td>Yes</td>\n",
       "    </tr>\n",
       "    <tr>\n",
       "      <th>4</th>\n",
       "      <td>CESS</td>\n",
       "      <td>College of Education and Social Services</td>\n",
       "      <td>NaN</td>\n",
       "      <td>Yes</td>\n",
       "    </tr>\n",
       "    <tr>\n",
       "      <th>5</th>\n",
       "      <td>CNHS</td>\n",
       "      <td>College of Nursing and Health Sciences</td>\n",
       "      <td>NaN</td>\n",
       "      <td>Yes</td>\n",
       "    </tr>\n",
       "    <tr>\n",
       "      <th>6</th>\n",
       "      <td>COM</td>\n",
       "      <td>College of Medicine</td>\n",
       "      <td>NaN</td>\n",
       "      <td>No</td>\n",
       "    </tr>\n",
       "    <tr>\n",
       "      <th>7</th>\n",
       "      <td>Department of Ext</td>\n",
       "      <td>UVM Extension</td>\n",
       "      <td>NaN</td>\n",
       "      <td>No</td>\n",
       "    </tr>\n",
       "    <tr>\n",
       "      <th>8</th>\n",
       "      <td>LCOMEO</td>\n",
       "      <td>NaN</td>\n",
       "      <td>Probably means \"Larner College of Medicine: Co...</td>\n",
       "      <td>No</td>\n",
       "    </tr>\n",
       "    <tr>\n",
       "      <th>9</th>\n",
       "      <td>Learning and Info Tech</td>\n",
       "      <td>NaN</td>\n",
       "      <td>Only used by one faculty; seems to be related ...</td>\n",
       "      <td>No</td>\n",
       "    </tr>\n",
       "    <tr>\n",
       "      <th>10</th>\n",
       "      <td>Library</td>\n",
       "      <td>UVM Libraries</td>\n",
       "      <td>Includes employees of Howe Library, Dana Medic...</td>\n",
       "      <td>No</td>\n",
       "    </tr>\n",
       "    <tr>\n",
       "      <th>11</th>\n",
       "      <td>RSENR</td>\n",
       "      <td>Rubenstein School of Environment and Natural R...</td>\n",
       "      <td>NaN</td>\n",
       "      <td>Yes</td>\n",
       "    </tr>\n",
       "  </tbody>\n",
       "</table>\n",
       "</div>"
      ],
      "text/plain": [
       "      College Abbreviation                                            Meaning  \\\n",
       "0                 Business                        Grossman School of Business   \n",
       "1                     CALS           College of Agriculture and Life Sciences   \n",
       "2                      CAS                       College of Arts and Sciences   \n",
       "3                     CEMS   College of Engineering and Mathematical Sciences   \n",
       "4                     CESS           College of Education and Social Services   \n",
       "5                     CNHS             College of Nursing and Health Sciences   \n",
       "6                      COM                                College of Medicine   \n",
       "7        Department of Ext                                      UVM Extension   \n",
       "8                   LCOMEO                                                NaN   \n",
       "9   Learning and Info Tech                                                NaN   \n",
       "10                 Library                                      UVM Libraries   \n",
       "11                   RSENR  Rubenstein School of Environment and Natural R...   \n",
       "\n",
       "                                                Notes Undergraduate College  \n",
       "0                                                 NaN                   Yes  \n",
       "1                                                 NaN                   Yes  \n",
       "2                                                 NaN                   Yes  \n",
       "3                                                 NaN                   Yes  \n",
       "4                                                 NaN                   Yes  \n",
       "5                                                 NaN                   Yes  \n",
       "6                                                 NaN                    No  \n",
       "7                                                 NaN                    No  \n",
       "8   Probably means \"Larner College of Medicine: Co...                    No  \n",
       "9   Only used by one faculty; seems to be related ...                    No  \n",
       "10  Includes employees of Howe Library, Dana Medic...                    No  \n",
       "11                                                NaN                   Yes  "
      ]
     },
     "execution_count": 18,
     "metadata": {},
     "output_type": "execute_result"
    }
   ],
   "source": [
    "df"
   ]
  },
  {
   "cell_type": "code",
   "execution_count": 20,
   "id": "e9f5328d",
   "metadata": {},
   "outputs": [
    {
     "data": {
      "text/plain": [
       "0                           Grossman School of Business\n",
       "1              College of Agriculture and Life Sciences\n",
       "2                          College of Arts and Sciences\n",
       "3      College of Engineering and Mathematical Sciences\n",
       "4              College of Education and Social Services\n",
       "5                College of Nursing and Health Sciences\n",
       "6                                   College of Medicine\n",
       "7                                         UVM Extension\n",
       "8                                                   NaN\n",
       "9                                                   NaN\n",
       "10                                        UVM Libraries\n",
       "11    Rubenstein School of Environment and Natural R...\n",
       "Name: Meaning, dtype: object"
      ]
     },
     "execution_count": 20,
     "metadata": {},
     "output_type": "execute_result"
    }
   ],
   "source": [
    "df.Meaning"
   ]
  },
  {
   "cell_type": "code",
   "execution_count": 21,
   "id": "50f44d2e",
   "metadata": {},
   "outputs": [
    {
     "data": {
      "text/html": [
       "<div>\n",
       "<style scoped>\n",
       "    .dataframe tbody tr th:only-of-type {\n",
       "        vertical-align: middle;\n",
       "    }\n",
       "\n",
       "    .dataframe tbody tr th {\n",
       "        vertical-align: top;\n",
       "    }\n",
       "\n",
       "    .dataframe thead th {\n",
       "        text-align: right;\n",
       "    }\n",
       "</style>\n",
       "<table border=\"1\" class=\"dataframe\">\n",
       "  <thead>\n",
       "    <tr style=\"text-align: right;\">\n",
       "      <th></th>\n",
       "      <th>College Abbreviation</th>\n",
       "      <th>Meaning</th>\n",
       "      <th>Notes</th>\n",
       "      <th>Undergraduate College</th>\n",
       "    </tr>\n",
       "  </thead>\n",
       "  <tbody>\n",
       "    <tr>\n",
       "      <th>count</th>\n",
       "      <td>12</td>\n",
       "      <td>10</td>\n",
       "      <td>3</td>\n",
       "      <td>12</td>\n",
       "    </tr>\n",
       "    <tr>\n",
       "      <th>unique</th>\n",
       "      <td>12</td>\n",
       "      <td>10</td>\n",
       "      <td>3</td>\n",
       "      <td>2</td>\n",
       "    </tr>\n",
       "    <tr>\n",
       "      <th>top</th>\n",
       "      <td>Business</td>\n",
       "      <td>UVM Extension</td>\n",
       "      <td>Only used by one faculty; seems to be related ...</td>\n",
       "      <td>Yes</td>\n",
       "    </tr>\n",
       "    <tr>\n",
       "      <th>freq</th>\n",
       "      <td>1</td>\n",
       "      <td>1</td>\n",
       "      <td>1</td>\n",
       "      <td>7</td>\n",
       "    </tr>\n",
       "  </tbody>\n",
       "</table>\n",
       "</div>"
      ],
      "text/plain": [
       "       College Abbreviation        Meaning  \\\n",
       "count                    12             10   \n",
       "unique                   12             10   \n",
       "top                Business  UVM Extension   \n",
       "freq                      1              1   \n",
       "\n",
       "                                                    Notes  \\\n",
       "count                                                   3   \n",
       "unique                                                  3   \n",
       "top     Only used by one faculty; seems to be related ...   \n",
       "freq                                                    1   \n",
       "\n",
       "       Undergraduate College  \n",
       "count                     12  \n",
       "unique                     2  \n",
       "top                      Yes  \n",
       "freq                       7  "
      ]
     },
     "execution_count": 21,
     "metadata": {},
     "output_type": "execute_result"
    }
   ],
   "source": [
    "df.describe()"
   ]
  },
  {
   "cell_type": "code",
   "execution_count": 22,
   "id": "e6c8f1c8",
   "metadata": {},
   "outputs": [
    {
     "data": {
      "text/plain": [
       "College Abbreviation     RSENR\n",
       "Undergraduate College      Yes\n",
       "dtype: object"
      ]
     },
     "execution_count": 22,
     "metadata": {},
     "output_type": "execute_result"
    }
   ],
   "source": [
    "df.max()"
   ]
  },
  {
   "cell_type": "code",
   "execution_count": 23,
   "id": "6160a1c5",
   "metadata": {},
   "outputs": [
    {
     "data": {
      "text/plain": [
       "College Abbreviation     Business\n",
       "Undergraduate College          No\n",
       "dtype: object"
      ]
     },
     "execution_count": 23,
     "metadata": {},
     "output_type": "execute_result"
    }
   ],
   "source": [
    "df.min()"
   ]
  },
  {
   "cell_type": "code",
   "execution_count": 24,
   "id": "cac7d142",
   "metadata": {},
   "outputs": [
    {
     "data": {
      "text/plain": [
       "Series([], dtype: float64)"
      ]
     },
     "execution_count": 24,
     "metadata": {},
     "output_type": "execute_result"
    }
   ],
   "source": [
    "df.mean()"
   ]
  },
  {
   "cell_type": "code",
   "execution_count": 25,
   "id": "355cf65c",
   "metadata": {},
   "outputs": [
    {
     "data": {
      "text/plain": [
       "Series([], dtype: float64)"
      ]
     },
     "execution_count": 25,
     "metadata": {},
     "output_type": "execute_result"
    }
   ],
   "source": [
    "df.median()"
   ]
  },
  {
   "cell_type": "code",
   "execution_count": 26,
   "id": "fa9ebb25",
   "metadata": {},
   "outputs": [
    {
     "data": {
      "text/plain": [
       "Series([], dtype: float64)"
      ]
     },
     "execution_count": 26,
     "metadata": {},
     "output_type": "execute_result"
    }
   ],
   "source": [
    "df.std()"
   ]
  },
  {
   "cell_type": "code",
   "execution_count": 27,
   "id": "32a7b70e",
   "metadata": {},
   "outputs": [
    {
     "data": {
      "text/html": [
       "<div>\n",
       "<style scoped>\n",
       "    .dataframe tbody tr th:only-of-type {\n",
       "        vertical-align: middle;\n",
       "    }\n",
       "\n",
       "    .dataframe tbody tr th {\n",
       "        vertical-align: top;\n",
       "    }\n",
       "\n",
       "    .dataframe thead th {\n",
       "        text-align: right;\n",
       "    }\n",
       "</style>\n",
       "<table border=\"1\" class=\"dataframe\">\n",
       "  <thead>\n",
       "    <tr style=\"text-align: right;\">\n",
       "      <th></th>\n",
       "      <th>College Abbreviation</th>\n",
       "      <th>Meaning</th>\n",
       "      <th>Notes</th>\n",
       "      <th>Undergraduate College</th>\n",
       "    </tr>\n",
       "  </thead>\n",
       "  <tbody>\n",
       "    <tr>\n",
       "      <th>10</th>\n",
       "      <td>Library</td>\n",
       "      <td>UVM Libraries</td>\n",
       "      <td>Includes employees of Howe Library, Dana Medic...</td>\n",
       "      <td>No</td>\n",
       "    </tr>\n",
       "  </tbody>\n",
       "</table>\n",
       "</div>"
      ],
      "text/plain": [
       "   College Abbreviation        Meaning  \\\n",
       "10              Library  UVM Libraries   \n",
       "\n",
       "                                                Notes Undergraduate College  \n",
       "10  Includes employees of Howe Library, Dana Medic...                    No  "
      ]
     },
     "execution_count": 27,
     "metadata": {},
     "output_type": "execute_result"
    }
   ],
   "source": [
    "df.dropna()"
   ]
  },
  {
   "cell_type": "code",
   "execution_count": 17,
   "id": "3ca361f4",
   "metadata": {},
   "outputs": [
    {
     "data": {
      "text/html": [
       "<div>\n",
       "<style scoped>\n",
       "    .dataframe tbody tr th:only-of-type {\n",
       "        vertical-align: middle;\n",
       "    }\n",
       "\n",
       "    .dataframe tbody tr th {\n",
       "        vertical-align: top;\n",
       "    }\n",
       "\n",
       "    .dataframe thead th {\n",
       "        text-align: right;\n",
       "    }\n",
       "</style>\n",
       "<table border=\"1\" class=\"dataframe\">\n",
       "  <thead>\n",
       "    <tr style=\"text-align: right;\">\n",
       "      <th></th>\n",
       "      <th>College Abbreviation</th>\n",
       "    </tr>\n",
       "    <tr>\n",
       "      <th>Undergraduate College</th>\n",
       "      <th></th>\n",
       "    </tr>\n",
       "  </thead>\n",
       "  <tbody>\n",
       "    <tr>\n",
       "      <th>No</th>\n",
       "      <td>Library</td>\n",
       "    </tr>\n",
       "    <tr>\n",
       "      <th>Yes</th>\n",
       "      <td>RSENR</td>\n",
       "    </tr>\n",
       "  </tbody>\n",
       "</table>\n",
       "</div>"
      ],
      "text/plain": [
       "                      College Abbreviation\n",
       "Undergraduate College                     \n",
       "No                                 Library\n",
       "Yes                                  RSENR"
      ]
     },
     "execution_count": 17,
     "metadata": {},
     "output_type": "execute_result"
    }
   ],
   "source": [
    "df.groupby(\"Undergraduate College\")[[\"College Abbreviation\"]].max()"
   ]
  },
  {
   "cell_type": "code",
   "execution_count": 18,
   "id": "ceb59478",
   "metadata": {},
   "outputs": [
    {
     "data": {
      "text/html": [
       "<div>\n",
       "<style scoped>\n",
       "    .dataframe tbody tr th:only-of-type {\n",
       "        vertical-align: middle;\n",
       "    }\n",
       "\n",
       "    .dataframe tbody tr th {\n",
       "        vertical-align: top;\n",
       "    }\n",
       "\n",
       "    .dataframe thead th {\n",
       "        text-align: right;\n",
       "    }\n",
       "</style>\n",
       "<table border=\"1\" class=\"dataframe\">\n",
       "  <thead>\n",
       "    <tr style=\"text-align: right;\">\n",
       "      <th></th>\n",
       "      <th>College Abbreviation</th>\n",
       "      <th>Meaning</th>\n",
       "      <th>Notes</th>\n",
       "      <th>Undergraduate College</th>\n",
       "    </tr>\n",
       "  </thead>\n",
       "  <tbody>\n",
       "    <tr>\n",
       "      <th>10</th>\n",
       "      <td>Library</td>\n",
       "      <td>UVM Libraries</td>\n",
       "      <td>Includes employees of Howe Library, Dana Medic...</td>\n",
       "      <td>No</td>\n",
       "    </tr>\n",
       "    <tr>\n",
       "      <th>11</th>\n",
       "      <td>RSENR</td>\n",
       "      <td>Rubenstein School of Environment and Natural R...</td>\n",
       "      <td>NaN</td>\n",
       "      <td>Yes</td>\n",
       "    </tr>\n",
       "  </tbody>\n",
       "</table>\n",
       "</div>"
      ],
      "text/plain": [
       "   College Abbreviation                                            Meaning  \\\n",
       "10              Library                                      UVM Libraries   \n",
       "11                RSENR  Rubenstein School of Environment and Natural R...   \n",
       "\n",
       "                                                Notes Undergraduate College  \n",
       "10  Includes employees of Howe Library, Dana Medic...                    No  \n",
       "11                                                NaN                   Yes  "
      ]
     },
     "execution_count": 18,
     "metadata": {},
     "output_type": "execute_result"
    }
   ],
   "source": [
    "df[10:20]"
   ]
  },
  {
   "cell_type": "code",
   "execution_count": 23,
   "id": "f97920f6",
   "metadata": {},
   "outputs": [
    {
     "data": {
      "text/html": [
       "<div>\n",
       "<style scoped>\n",
       "    .dataframe tbody tr th:only-of-type {\n",
       "        vertical-align: middle;\n",
       "    }\n",
       "\n",
       "    .dataframe tbody tr th {\n",
       "        vertical-align: top;\n",
       "    }\n",
       "\n",
       "    .dataframe thead tr th {\n",
       "        text-align: left;\n",
       "    }\n",
       "\n",
       "    .dataframe thead tr:last-of-type th {\n",
       "        text-align: right;\n",
       "    }\n",
       "</style>\n",
       "<table border=\"1\" class=\"dataframe\">\n",
       "  <thead>\n",
       "    <tr>\n",
       "      <th></th>\n",
       "      <th colspan=\"4\" halign=\"left\">College Abbreviation</th>\n",
       "      <th colspan=\"4\" halign=\"left\">Meaning</th>\n",
       "      <th colspan=\"4\" halign=\"left\">Notes</th>\n",
       "    </tr>\n",
       "    <tr>\n",
       "      <th></th>\n",
       "      <th>count</th>\n",
       "      <th>unique</th>\n",
       "      <th>top</th>\n",
       "      <th>freq</th>\n",
       "      <th>count</th>\n",
       "      <th>unique</th>\n",
       "      <th>top</th>\n",
       "      <th>freq</th>\n",
       "      <th>count</th>\n",
       "      <th>unique</th>\n",
       "      <th>top</th>\n",
       "      <th>freq</th>\n",
       "    </tr>\n",
       "    <tr>\n",
       "      <th>Undergraduate College</th>\n",
       "      <th></th>\n",
       "      <th></th>\n",
       "      <th></th>\n",
       "      <th></th>\n",
       "      <th></th>\n",
       "      <th></th>\n",
       "      <th></th>\n",
       "      <th></th>\n",
       "      <th></th>\n",
       "      <th></th>\n",
       "      <th></th>\n",
       "      <th></th>\n",
       "    </tr>\n",
       "  </thead>\n",
       "  <tbody>\n",
       "    <tr>\n",
       "      <th>No</th>\n",
       "      <td>5</td>\n",
       "      <td>5</td>\n",
       "      <td>Department of Ext</td>\n",
       "      <td>1</td>\n",
       "      <td>3</td>\n",
       "      <td>3</td>\n",
       "      <td>UVM Libraries</td>\n",
       "      <td>1</td>\n",
       "      <td>3</td>\n",
       "      <td>3</td>\n",
       "      <td>Includes employees of Howe Library, Dana Medic...</td>\n",
       "      <td>1</td>\n",
       "    </tr>\n",
       "    <tr>\n",
       "      <th>Yes</th>\n",
       "      <td>7</td>\n",
       "      <td>7</td>\n",
       "      <td>CEMS</td>\n",
       "      <td>1</td>\n",
       "      <td>7</td>\n",
       "      <td>7</td>\n",
       "      <td>Rubenstein School of Environment and Natural R...</td>\n",
       "      <td>1</td>\n",
       "      <td>0</td>\n",
       "      <td>0</td>\n",
       "      <td>NaN</td>\n",
       "      <td>NaN</td>\n",
       "    </tr>\n",
       "  </tbody>\n",
       "</table>\n",
       "</div>"
      ],
      "text/plain": [
       "                      College Abbreviation                                 \\\n",
       "                                     count unique                top freq   \n",
       "Undergraduate College                                                       \n",
       "No                                       5      5  Department of Ext    1   \n",
       "Yes                                      7      7               CEMS    1   \n",
       "\n",
       "                      Meaning         \\\n",
       "                        count unique   \n",
       "Undergraduate College                  \n",
       "No                          3      3   \n",
       "Yes                         7      7   \n",
       "\n",
       "                                                                               \\\n",
       "                                                                     top freq   \n",
       "Undergraduate College                                                           \n",
       "No                                                         UVM Libraries    1   \n",
       "Yes                    Rubenstein School of Environment and Natural R...    1   \n",
       "\n",
       "                      Notes         \\\n",
       "                      count unique   \n",
       "Undergraduate College                \n",
       "No                        3      3   \n",
       "Yes                       0      0   \n",
       "\n",
       "                                                                               \n",
       "                                                                     top freq  \n",
       "Undergraduate College                                                          \n",
       "No                     Includes employees of Howe Library, Dana Medic...    1  \n",
       "Yes                                                                  NaN  NaN  "
      ]
     },
     "execution_count": 23,
     "metadata": {},
     "output_type": "execute_result"
    }
   ],
   "source": [
    "df_ug=df.groupby([\"Undergraduate College\"])\n",
    "df_ug.describe()"
   ]
  },
  {
   "cell_type": "code",
   "execution_count": 24,
   "id": "9edd8993",
   "metadata": {},
   "outputs": [
    {
     "data": {
      "text/html": [
       "<div>\n",
       "<style scoped>\n",
       "    .dataframe tbody tr th:only-of-type {\n",
       "        vertical-align: middle;\n",
       "    }\n",
       "\n",
       "    .dataframe tbody tr th {\n",
       "        vertical-align: top;\n",
       "    }\n",
       "\n",
       "    .dataframe thead th {\n",
       "        text-align: right;\n",
       "    }\n",
       "</style>\n",
       "<table border=\"1\" class=\"dataframe\">\n",
       "  <thead>\n",
       "    <tr style=\"text-align: right;\">\n",
       "      <th></th>\n",
       "      <th>Meaning</th>\n",
       "      <th>Notes</th>\n",
       "    </tr>\n",
       "  </thead>\n",
       "  <tbody>\n",
       "    <tr>\n",
       "      <th>0</th>\n",
       "      <td>Grossman School of Business</td>\n",
       "      <td>NaN</td>\n",
       "    </tr>\n",
       "    <tr>\n",
       "      <th>1</th>\n",
       "      <td>College of Agriculture and Life Sciences</td>\n",
       "      <td>NaN</td>\n",
       "    </tr>\n",
       "    <tr>\n",
       "      <th>2</th>\n",
       "      <td>College of Arts and Sciences</td>\n",
       "      <td>NaN</td>\n",
       "    </tr>\n",
       "    <tr>\n",
       "      <th>3</th>\n",
       "      <td>College of Engineering and Mathematical Sciences</td>\n",
       "      <td>NaN</td>\n",
       "    </tr>\n",
       "    <tr>\n",
       "      <th>4</th>\n",
       "      <td>College of Education and Social Services</td>\n",
       "      <td>NaN</td>\n",
       "    </tr>\n",
       "    <tr>\n",
       "      <th>5</th>\n",
       "      <td>College of Nursing and Health Sciences</td>\n",
       "      <td>NaN</td>\n",
       "    </tr>\n",
       "    <tr>\n",
       "      <th>6</th>\n",
       "      <td>College of Medicine</td>\n",
       "      <td>NaN</td>\n",
       "    </tr>\n",
       "    <tr>\n",
       "      <th>7</th>\n",
       "      <td>UVM Extension</td>\n",
       "      <td>NaN</td>\n",
       "    </tr>\n",
       "    <tr>\n",
       "      <th>8</th>\n",
       "      <td>NaN</td>\n",
       "      <td>Probably means \"Larner College of Medicine: Co...</td>\n",
       "    </tr>\n",
       "    <tr>\n",
       "      <th>9</th>\n",
       "      <td>NaN</td>\n",
       "      <td>Only used by one faculty; seems to be related ...</td>\n",
       "    </tr>\n",
       "    <tr>\n",
       "      <th>10</th>\n",
       "      <td>UVM Libraries</td>\n",
       "      <td>Includes employees of Howe Library, Dana Medic...</td>\n",
       "    </tr>\n",
       "    <tr>\n",
       "      <th>11</th>\n",
       "      <td>Rubenstein School of Environment and Natural R...</td>\n",
       "      <td>NaN</td>\n",
       "    </tr>\n",
       "  </tbody>\n",
       "</table>\n",
       "</div>"
      ],
      "text/plain": [
       "                                              Meaning  \\\n",
       "0                         Grossman School of Business   \n",
       "1            College of Agriculture and Life Sciences   \n",
       "2                        College of Arts and Sciences   \n",
       "3    College of Engineering and Mathematical Sciences   \n",
       "4            College of Education and Social Services   \n",
       "5              College of Nursing and Health Sciences   \n",
       "6                                 College of Medicine   \n",
       "7                                       UVM Extension   \n",
       "8                                                 NaN   \n",
       "9                                                 NaN   \n",
       "10                                      UVM Libraries   \n",
       "11  Rubenstein School of Environment and Natural R...   \n",
       "\n",
       "                                                Notes  \n",
       "0                                                 NaN  \n",
       "1                                                 NaN  \n",
       "2                                                 NaN  \n",
       "3                                                 NaN  \n",
       "4                                                 NaN  \n",
       "5                                                 NaN  \n",
       "6                                                 NaN  \n",
       "7                                                 NaN  \n",
       "8   Probably means \"Larner College of Medicine: Co...  \n",
       "9   Only used by one faculty; seems to be related ...  \n",
       "10  Includes employees of Howe Library, Dana Medic...  \n",
       "11                                                NaN  "
      ]
     },
     "execution_count": 24,
     "metadata": {},
     "output_type": "execute_result"
    }
   ],
   "source": [
    "df[[\"Meaning\",\"Notes\"]]"
   ]
  },
  {
   "cell_type": "code",
   "execution_count": 25,
   "id": "2363935f",
   "metadata": {},
   "outputs": [
    {
     "data": {
      "text/html": [
       "<div>\n",
       "<style scoped>\n",
       "    .dataframe tbody tr th:only-of-type {\n",
       "        vertical-align: middle;\n",
       "    }\n",
       "\n",
       "    .dataframe tbody tr th {\n",
       "        vertical-align: top;\n",
       "    }\n",
       "\n",
       "    .dataframe thead th {\n",
       "        text-align: right;\n",
       "    }\n",
       "</style>\n",
       "<table border=\"1\" class=\"dataframe\">\n",
       "  <thead>\n",
       "    <tr style=\"text-align: right;\">\n",
       "      <th></th>\n",
       "      <th>College Abbreviation</th>\n",
       "      <th>Meaning</th>\n",
       "      <th>Notes</th>\n",
       "      <th>Undergraduate College</th>\n",
       "    </tr>\n",
       "  </thead>\n",
       "  <tbody>\n",
       "    <tr>\n",
       "      <th>0</th>\n",
       "      <td>Business</td>\n",
       "      <td>Grossman School of Business</td>\n",
       "      <td>NaN</td>\n",
       "      <td>Yes</td>\n",
       "    </tr>\n",
       "    <tr>\n",
       "      <th>1</th>\n",
       "      <td>CALS</td>\n",
       "      <td>College of Agriculture and Life Sciences</td>\n",
       "      <td>NaN</td>\n",
       "      <td>Yes</td>\n",
       "    </tr>\n",
       "    <tr>\n",
       "      <th>2</th>\n",
       "      <td>CAS</td>\n",
       "      <td>College of Arts and Sciences</td>\n",
       "      <td>NaN</td>\n",
       "      <td>Yes</td>\n",
       "    </tr>\n",
       "    <tr>\n",
       "      <th>3</th>\n",
       "      <td>CEMS</td>\n",
       "      <td>College of Engineering and Mathematical Sciences</td>\n",
       "      <td>NaN</td>\n",
       "      <td>Yes</td>\n",
       "    </tr>\n",
       "    <tr>\n",
       "      <th>4</th>\n",
       "      <td>CESS</td>\n",
       "      <td>College of Education and Social Services</td>\n",
       "      <td>NaN</td>\n",
       "      <td>Yes</td>\n",
       "    </tr>\n",
       "    <tr>\n",
       "      <th>5</th>\n",
       "      <td>CNHS</td>\n",
       "      <td>College of Nursing and Health Sciences</td>\n",
       "      <td>NaN</td>\n",
       "      <td>Yes</td>\n",
       "    </tr>\n",
       "    <tr>\n",
       "      <th>11</th>\n",
       "      <td>RSENR</td>\n",
       "      <td>Rubenstein School of Environment and Natural R...</td>\n",
       "      <td>NaN</td>\n",
       "      <td>Yes</td>\n",
       "    </tr>\n",
       "  </tbody>\n",
       "</table>\n",
       "</div>"
      ],
      "text/plain": [
       "   College Abbreviation                                            Meaning  \\\n",
       "0              Business                        Grossman School of Business   \n",
       "1                  CALS           College of Agriculture and Life Sciences   \n",
       "2                   CAS                       College of Arts and Sciences   \n",
       "3                  CEMS   College of Engineering and Mathematical Sciences   \n",
       "4                  CESS           College of Education and Social Services   \n",
       "5                  CNHS             College of Nursing and Health Sciences   \n",
       "11                RSENR  Rubenstein School of Environment and Natural R...   \n",
       "\n",
       "   Notes Undergraduate College  \n",
       "0    NaN                   Yes  \n",
       "1    NaN                   Yes  \n",
       "2    NaN                   Yes  \n",
       "3    NaN                   Yes  \n",
       "4    NaN                   Yes  \n",
       "5    NaN                   Yes  \n",
       "11   NaN                   Yes  "
      ]
     },
     "execution_count": 25,
     "metadata": {},
     "output_type": "execute_result"
    }
   ],
   "source": [
    "df_ug=df[df[\"Undergraduate College\"]==\"Yes\"]\n",
    "df_ug"
   ]
  },
  {
   "cell_type": "code",
   "execution_count": 26,
   "id": "0913e25e",
   "metadata": {},
   "outputs": [],
   "source": [
    "import numpy as np\n",
    "import pandas as pd\n",
    "df=pd.read_csv(r\"C:\\Users\\OJUS\\OneDrive\\Desktop\\⠀\\DS\\Data Set\\pima-indians-diabetes.csv\")"
   ]
  },
  {
   "cell_type": "code",
   "execution_count": 29,
   "id": "9c031243",
   "metadata": {},
   "outputs": [
    {
     "data": {
      "text/html": [
       "<div>\n",
       "<style scoped>\n",
       "    .dataframe tbody tr th:only-of-type {\n",
       "        vertical-align: middle;\n",
       "    }\n",
       "\n",
       "    .dataframe tbody tr th {\n",
       "        vertical-align: top;\n",
       "    }\n",
       "\n",
       "    .dataframe thead th {\n",
       "        text-align: right;\n",
       "    }\n",
       "</style>\n",
       "<table border=\"1\" class=\"dataframe\">\n",
       "  <thead>\n",
       "    <tr style=\"text-align: right;\">\n",
       "      <th></th>\n",
       "      <th>6</th>\n",
       "      <th>148</th>\n",
       "      <th>72</th>\n",
       "      <th>35</th>\n",
       "      <th>0</th>\n",
       "      <th>33.6</th>\n",
       "      <th>0.627</th>\n",
       "      <th>50</th>\n",
       "      <th>1</th>\n",
       "    </tr>\n",
       "  </thead>\n",
       "  <tbody>\n",
       "    <tr>\n",
       "      <th>0</th>\n",
       "      <td>1</td>\n",
       "      <td>85</td>\n",
       "      <td>66</td>\n",
       "      <td>29</td>\n",
       "      <td>0</td>\n",
       "      <td>26.6</td>\n",
       "      <td>0.351</td>\n",
       "      <td>31</td>\n",
       "      <td>0</td>\n",
       "    </tr>\n",
       "    <tr>\n",
       "      <th>1</th>\n",
       "      <td>8</td>\n",
       "      <td>183</td>\n",
       "      <td>64</td>\n",
       "      <td>0</td>\n",
       "      <td>0</td>\n",
       "      <td>23.3</td>\n",
       "      <td>0.672</td>\n",
       "      <td>32</td>\n",
       "      <td>1</td>\n",
       "    </tr>\n",
       "    <tr>\n",
       "      <th>2</th>\n",
       "      <td>1</td>\n",
       "      <td>89</td>\n",
       "      <td>66</td>\n",
       "      <td>23</td>\n",
       "      <td>94</td>\n",
       "      <td>28.1</td>\n",
       "      <td>0.167</td>\n",
       "      <td>21</td>\n",
       "      <td>0</td>\n",
       "    </tr>\n",
       "    <tr>\n",
       "      <th>3</th>\n",
       "      <td>0</td>\n",
       "      <td>137</td>\n",
       "      <td>40</td>\n",
       "      <td>35</td>\n",
       "      <td>168</td>\n",
       "      <td>43.1</td>\n",
       "      <td>2.288</td>\n",
       "      <td>33</td>\n",
       "      <td>1</td>\n",
       "    </tr>\n",
       "    <tr>\n",
       "      <th>4</th>\n",
       "      <td>5</td>\n",
       "      <td>116</td>\n",
       "      <td>74</td>\n",
       "      <td>0</td>\n",
       "      <td>0</td>\n",
       "      <td>25.6</td>\n",
       "      <td>0.201</td>\n",
       "      <td>30</td>\n",
       "      <td>0</td>\n",
       "    </tr>\n",
       "    <tr>\n",
       "      <th>...</th>\n",
       "      <td>...</td>\n",
       "      <td>...</td>\n",
       "      <td>...</td>\n",
       "      <td>...</td>\n",
       "      <td>...</td>\n",
       "      <td>...</td>\n",
       "      <td>...</td>\n",
       "      <td>...</td>\n",
       "      <td>...</td>\n",
       "    </tr>\n",
       "    <tr>\n",
       "      <th>762</th>\n",
       "      <td>10</td>\n",
       "      <td>101</td>\n",
       "      <td>76</td>\n",
       "      <td>48</td>\n",
       "      <td>180</td>\n",
       "      <td>32.9</td>\n",
       "      <td>0.171</td>\n",
       "      <td>63</td>\n",
       "      <td>0</td>\n",
       "    </tr>\n",
       "    <tr>\n",
       "      <th>763</th>\n",
       "      <td>2</td>\n",
       "      <td>122</td>\n",
       "      <td>70</td>\n",
       "      <td>27</td>\n",
       "      <td>0</td>\n",
       "      <td>36.8</td>\n",
       "      <td>0.340</td>\n",
       "      <td>27</td>\n",
       "      <td>0</td>\n",
       "    </tr>\n",
       "    <tr>\n",
       "      <th>764</th>\n",
       "      <td>5</td>\n",
       "      <td>121</td>\n",
       "      <td>72</td>\n",
       "      <td>23</td>\n",
       "      <td>112</td>\n",
       "      <td>26.2</td>\n",
       "      <td>0.245</td>\n",
       "      <td>30</td>\n",
       "      <td>0</td>\n",
       "    </tr>\n",
       "    <tr>\n",
       "      <th>765</th>\n",
       "      <td>1</td>\n",
       "      <td>126</td>\n",
       "      <td>60</td>\n",
       "      <td>0</td>\n",
       "      <td>0</td>\n",
       "      <td>30.1</td>\n",
       "      <td>0.349</td>\n",
       "      <td>47</td>\n",
       "      <td>1</td>\n",
       "    </tr>\n",
       "    <tr>\n",
       "      <th>766</th>\n",
       "      <td>1</td>\n",
       "      <td>93</td>\n",
       "      <td>70</td>\n",
       "      <td>31</td>\n",
       "      <td>0</td>\n",
       "      <td>30.4</td>\n",
       "      <td>0.315</td>\n",
       "      <td>23</td>\n",
       "      <td>0</td>\n",
       "    </tr>\n",
       "  </tbody>\n",
       "</table>\n",
       "<p>767 rows × 9 columns</p>\n",
       "</div>"
      ],
      "text/plain": [
       "      6  148  72  35    0  33.6  0.627  50  1\n",
       "0     1   85  66  29    0  26.6  0.351  31  0\n",
       "1     8  183  64   0    0  23.3  0.672  32  1\n",
       "2     1   89  66  23   94  28.1  0.167  21  0\n",
       "3     0  137  40  35  168  43.1  2.288  33  1\n",
       "4     5  116  74   0    0  25.6  0.201  30  0\n",
       "..   ..  ...  ..  ..  ...   ...    ...  .. ..\n",
       "762  10  101  76  48  180  32.9  0.171  63  0\n",
       "763   2  122  70  27    0  36.8  0.340  27  0\n",
       "764   5  121  72  23  112  26.2  0.245  30  0\n",
       "765   1  126  60   0    0  30.1  0.349  47  1\n",
       "766   1   93  70  31    0  30.4  0.315  23  0\n",
       "\n",
       "[767 rows x 9 columns]"
      ]
     },
     "execution_count": 29,
     "metadata": {},
     "output_type": "execute_result"
    }
   ],
   "source": [
    "df"
   ]
  },
  {
   "cell_type": "code",
   "execution_count": 32,
   "id": "1bbd3791",
   "metadata": {},
   "outputs": [
    {
     "data": {
      "text/html": [
       "<div>\n",
       "<style scoped>\n",
       "    .dataframe tbody tr th:only-of-type {\n",
       "        vertical-align: middle;\n",
       "    }\n",
       "\n",
       "    .dataframe tbody tr th {\n",
       "        vertical-align: top;\n",
       "    }\n",
       "\n",
       "    .dataframe thead th {\n",
       "        text-align: right;\n",
       "    }\n",
       "</style>\n",
       "<table border=\"1\" class=\"dataframe\">\n",
       "  <thead>\n",
       "    <tr style=\"text-align: right;\">\n",
       "      <th></th>\n",
       "      <th>6</th>\n",
       "      <th>148</th>\n",
       "      <th>72</th>\n",
       "      <th>35</th>\n",
       "      <th>0</th>\n",
       "      <th>33.6</th>\n",
       "      <th>0.627</th>\n",
       "      <th>50</th>\n",
       "      <th>1</th>\n",
       "    </tr>\n",
       "  </thead>\n",
       "  <tbody>\n",
       "    <tr>\n",
       "      <th>count</th>\n",
       "      <td>767.000000</td>\n",
       "      <td>767.000000</td>\n",
       "      <td>767.000000</td>\n",
       "      <td>767.000000</td>\n",
       "      <td>767.000000</td>\n",
       "      <td>767.000000</td>\n",
       "      <td>767.000000</td>\n",
       "      <td>767.000000</td>\n",
       "      <td>767.000000</td>\n",
       "    </tr>\n",
       "    <tr>\n",
       "      <th>mean</th>\n",
       "      <td>3.842243</td>\n",
       "      <td>120.859192</td>\n",
       "      <td>69.101695</td>\n",
       "      <td>20.517601</td>\n",
       "      <td>79.903520</td>\n",
       "      <td>31.990482</td>\n",
       "      <td>0.471674</td>\n",
       "      <td>33.219035</td>\n",
       "      <td>0.348110</td>\n",
       "    </tr>\n",
       "    <tr>\n",
       "      <th>std</th>\n",
       "      <td>3.370877</td>\n",
       "      <td>31.978468</td>\n",
       "      <td>19.368155</td>\n",
       "      <td>15.954059</td>\n",
       "      <td>115.283105</td>\n",
       "      <td>7.889091</td>\n",
       "      <td>0.331497</td>\n",
       "      <td>11.752296</td>\n",
       "      <td>0.476682</td>\n",
       "    </tr>\n",
       "    <tr>\n",
       "      <th>min</th>\n",
       "      <td>0.000000</td>\n",
       "      <td>0.000000</td>\n",
       "      <td>0.000000</td>\n",
       "      <td>0.000000</td>\n",
       "      <td>0.000000</td>\n",
       "      <td>0.000000</td>\n",
       "      <td>0.078000</td>\n",
       "      <td>21.000000</td>\n",
       "      <td>0.000000</td>\n",
       "    </tr>\n",
       "    <tr>\n",
       "      <th>25%</th>\n",
       "      <td>1.000000</td>\n",
       "      <td>99.000000</td>\n",
       "      <td>62.000000</td>\n",
       "      <td>0.000000</td>\n",
       "      <td>0.000000</td>\n",
       "      <td>27.300000</td>\n",
       "      <td>0.243500</td>\n",
       "      <td>24.000000</td>\n",
       "      <td>0.000000</td>\n",
       "    </tr>\n",
       "    <tr>\n",
       "      <th>50%</th>\n",
       "      <td>3.000000</td>\n",
       "      <td>117.000000</td>\n",
       "      <td>72.000000</td>\n",
       "      <td>23.000000</td>\n",
       "      <td>32.000000</td>\n",
       "      <td>32.000000</td>\n",
       "      <td>0.371000</td>\n",
       "      <td>29.000000</td>\n",
       "      <td>0.000000</td>\n",
       "    </tr>\n",
       "    <tr>\n",
       "      <th>75%</th>\n",
       "      <td>6.000000</td>\n",
       "      <td>140.000000</td>\n",
       "      <td>80.000000</td>\n",
       "      <td>32.000000</td>\n",
       "      <td>127.500000</td>\n",
       "      <td>36.600000</td>\n",
       "      <td>0.625000</td>\n",
       "      <td>41.000000</td>\n",
       "      <td>1.000000</td>\n",
       "    </tr>\n",
       "    <tr>\n",
       "      <th>max</th>\n",
       "      <td>17.000000</td>\n",
       "      <td>199.000000</td>\n",
       "      <td>122.000000</td>\n",
       "      <td>99.000000</td>\n",
       "      <td>846.000000</td>\n",
       "      <td>67.100000</td>\n",
       "      <td>2.420000</td>\n",
       "      <td>81.000000</td>\n",
       "      <td>1.000000</td>\n",
       "    </tr>\n",
       "  </tbody>\n",
       "</table>\n",
       "</div>"
      ],
      "text/plain": [
       "                6         148          72          35           0        33.6  \\\n",
       "count  767.000000  767.000000  767.000000  767.000000  767.000000  767.000000   \n",
       "mean     3.842243  120.859192   69.101695   20.517601   79.903520   31.990482   \n",
       "std      3.370877   31.978468   19.368155   15.954059  115.283105    7.889091   \n",
       "min      0.000000    0.000000    0.000000    0.000000    0.000000    0.000000   \n",
       "25%      1.000000   99.000000   62.000000    0.000000    0.000000   27.300000   \n",
       "50%      3.000000  117.000000   72.000000   23.000000   32.000000   32.000000   \n",
       "75%      6.000000  140.000000   80.000000   32.000000  127.500000   36.600000   \n",
       "max     17.000000  199.000000  122.000000   99.000000  846.000000   67.100000   \n",
       "\n",
       "            0.627          50           1  \n",
       "count  767.000000  767.000000  767.000000  \n",
       "mean     0.471674   33.219035    0.348110  \n",
       "std      0.331497   11.752296    0.476682  \n",
       "min      0.078000   21.000000    0.000000  \n",
       "25%      0.243500   24.000000    0.000000  \n",
       "50%      0.371000   29.000000    0.000000  \n",
       "75%      0.625000   41.000000    1.000000  \n",
       "max      2.420000   81.000000    1.000000  "
      ]
     },
     "execution_count": 32,
     "metadata": {},
     "output_type": "execute_result"
    }
   ],
   "source": [
    "df.describe()"
   ]
  },
  {
   "cell_type": "code",
   "execution_count": 33,
   "id": "8ca37135",
   "metadata": {},
   "outputs": [
    {
     "data": {
      "text/plain": [
       "6         17.00\n",
       "148      199.00\n",
       "72       122.00\n",
       "35        99.00\n",
       "0        846.00\n",
       "33.6      67.10\n",
       "0.627      2.42\n",
       "50        81.00\n",
       "1          1.00\n",
       "dtype: float64"
      ]
     },
     "execution_count": 33,
     "metadata": {},
     "output_type": "execute_result"
    }
   ],
   "source": [
    "df.max()"
   ]
  },
  {
   "cell_type": "code",
   "execution_count": 34,
   "id": "b61f9383",
   "metadata": {},
   "outputs": [
    {
     "data": {
      "text/plain": [
       "6         0.000\n",
       "148       0.000\n",
       "72        0.000\n",
       "35        0.000\n",
       "0         0.000\n",
       "33.6      0.000\n",
       "0.627     0.078\n",
       "50       21.000\n",
       "1         0.000\n",
       "dtype: float64"
      ]
     },
     "execution_count": 34,
     "metadata": {},
     "output_type": "execute_result"
    }
   ],
   "source": [
    "df.min()"
   ]
  },
  {
   "cell_type": "code",
   "execution_count": 35,
   "id": "c65b507c",
   "metadata": {},
   "outputs": [
    {
     "data": {
      "text/plain": [
       "6          3.842243\n",
       "148      120.859192\n",
       "72        69.101695\n",
       "35        20.517601\n",
       "0         79.903520\n",
       "33.6      31.990482\n",
       "0.627      0.471674\n",
       "50        33.219035\n",
       "1          0.348110\n",
       "dtype: float64"
      ]
     },
     "execution_count": 35,
     "metadata": {},
     "output_type": "execute_result"
    }
   ],
   "source": [
    "df.mean()"
   ]
  },
  {
   "cell_type": "code",
   "execution_count": 36,
   "id": "a01070e2",
   "metadata": {},
   "outputs": [
    {
     "data": {
      "text/plain": [
       "6          3.000\n",
       "148      117.000\n",
       "72        72.000\n",
       "35        23.000\n",
       "0         32.000\n",
       "33.6      32.000\n",
       "0.627      0.371\n",
       "50        29.000\n",
       "1          0.000\n",
       "dtype: float64"
      ]
     },
     "execution_count": 36,
     "metadata": {},
     "output_type": "execute_result"
    }
   ],
   "source": [
    "df.median()"
   ]
  },
  {
   "cell_type": "code",
   "execution_count": 37,
   "id": "14c60b11",
   "metadata": {},
   "outputs": [
    {
     "data": {
      "text/plain": [
       "6          3.370877\n",
       "148       31.978468\n",
       "72        19.368155\n",
       "35        15.954059\n",
       "0        115.283105\n",
       "33.6       7.889091\n",
       "0.627      0.331497\n",
       "50        11.752296\n",
       "1          0.476682\n",
       "dtype: float64"
      ]
     },
     "execution_count": 37,
     "metadata": {},
     "output_type": "execute_result"
    }
   ],
   "source": [
    "df.std()"
   ]
  },
  {
   "cell_type": "code",
   "execution_count": 38,
   "id": "c65e4eef",
   "metadata": {},
   "outputs": [
    {
     "data": {
      "text/html": [
       "<div>\n",
       "<style scoped>\n",
       "    .dataframe tbody tr th:only-of-type {\n",
       "        vertical-align: middle;\n",
       "    }\n",
       "\n",
       "    .dataframe tbody tr th {\n",
       "        vertical-align: top;\n",
       "    }\n",
       "\n",
       "    .dataframe thead th {\n",
       "        text-align: right;\n",
       "    }\n",
       "</style>\n",
       "<table border=\"1\" class=\"dataframe\">\n",
       "  <thead>\n",
       "    <tr style=\"text-align: right;\">\n",
       "      <th></th>\n",
       "      <th>6</th>\n",
       "      <th>148</th>\n",
       "      <th>72</th>\n",
       "      <th>35</th>\n",
       "      <th>0</th>\n",
       "      <th>33.6</th>\n",
       "      <th>0.627</th>\n",
       "      <th>50</th>\n",
       "      <th>1</th>\n",
       "    </tr>\n",
       "  </thead>\n",
       "  <tbody>\n",
       "    <tr>\n",
       "      <th>0</th>\n",
       "      <td>1</td>\n",
       "      <td>85</td>\n",
       "      <td>66</td>\n",
       "      <td>29</td>\n",
       "      <td>0</td>\n",
       "      <td>26.6</td>\n",
       "      <td>0.351</td>\n",
       "      <td>31</td>\n",
       "      <td>0</td>\n",
       "    </tr>\n",
       "    <tr>\n",
       "      <th>1</th>\n",
       "      <td>8</td>\n",
       "      <td>183</td>\n",
       "      <td>64</td>\n",
       "      <td>0</td>\n",
       "      <td>0</td>\n",
       "      <td>23.3</td>\n",
       "      <td>0.672</td>\n",
       "      <td>32</td>\n",
       "      <td>1</td>\n",
       "    </tr>\n",
       "    <tr>\n",
       "      <th>2</th>\n",
       "      <td>1</td>\n",
       "      <td>89</td>\n",
       "      <td>66</td>\n",
       "      <td>23</td>\n",
       "      <td>94</td>\n",
       "      <td>28.1</td>\n",
       "      <td>0.167</td>\n",
       "      <td>21</td>\n",
       "      <td>0</td>\n",
       "    </tr>\n",
       "    <tr>\n",
       "      <th>3</th>\n",
       "      <td>0</td>\n",
       "      <td>137</td>\n",
       "      <td>40</td>\n",
       "      <td>35</td>\n",
       "      <td>168</td>\n",
       "      <td>43.1</td>\n",
       "      <td>2.288</td>\n",
       "      <td>33</td>\n",
       "      <td>1</td>\n",
       "    </tr>\n",
       "    <tr>\n",
       "      <th>4</th>\n",
       "      <td>5</td>\n",
       "      <td>116</td>\n",
       "      <td>74</td>\n",
       "      <td>0</td>\n",
       "      <td>0</td>\n",
       "      <td>25.6</td>\n",
       "      <td>0.201</td>\n",
       "      <td>30</td>\n",
       "      <td>0</td>\n",
       "    </tr>\n",
       "    <tr>\n",
       "      <th>...</th>\n",
       "      <td>...</td>\n",
       "      <td>...</td>\n",
       "      <td>...</td>\n",
       "      <td>...</td>\n",
       "      <td>...</td>\n",
       "      <td>...</td>\n",
       "      <td>...</td>\n",
       "      <td>...</td>\n",
       "      <td>...</td>\n",
       "    </tr>\n",
       "    <tr>\n",
       "      <th>762</th>\n",
       "      <td>10</td>\n",
       "      <td>101</td>\n",
       "      <td>76</td>\n",
       "      <td>48</td>\n",
       "      <td>180</td>\n",
       "      <td>32.9</td>\n",
       "      <td>0.171</td>\n",
       "      <td>63</td>\n",
       "      <td>0</td>\n",
       "    </tr>\n",
       "    <tr>\n",
       "      <th>763</th>\n",
       "      <td>2</td>\n",
       "      <td>122</td>\n",
       "      <td>70</td>\n",
       "      <td>27</td>\n",
       "      <td>0</td>\n",
       "      <td>36.8</td>\n",
       "      <td>0.340</td>\n",
       "      <td>27</td>\n",
       "      <td>0</td>\n",
       "    </tr>\n",
       "    <tr>\n",
       "      <th>764</th>\n",
       "      <td>5</td>\n",
       "      <td>121</td>\n",
       "      <td>72</td>\n",
       "      <td>23</td>\n",
       "      <td>112</td>\n",
       "      <td>26.2</td>\n",
       "      <td>0.245</td>\n",
       "      <td>30</td>\n",
       "      <td>0</td>\n",
       "    </tr>\n",
       "    <tr>\n",
       "      <th>765</th>\n",
       "      <td>1</td>\n",
       "      <td>126</td>\n",
       "      <td>60</td>\n",
       "      <td>0</td>\n",
       "      <td>0</td>\n",
       "      <td>30.1</td>\n",
       "      <td>0.349</td>\n",
       "      <td>47</td>\n",
       "      <td>1</td>\n",
       "    </tr>\n",
       "    <tr>\n",
       "      <th>766</th>\n",
       "      <td>1</td>\n",
       "      <td>93</td>\n",
       "      <td>70</td>\n",
       "      <td>31</td>\n",
       "      <td>0</td>\n",
       "      <td>30.4</td>\n",
       "      <td>0.315</td>\n",
       "      <td>23</td>\n",
       "      <td>0</td>\n",
       "    </tr>\n",
       "  </tbody>\n",
       "</table>\n",
       "<p>767 rows × 9 columns</p>\n",
       "</div>"
      ],
      "text/plain": [
       "      6  148  72  35    0  33.6  0.627  50  1\n",
       "0     1   85  66  29    0  26.6  0.351  31  0\n",
       "1     8  183  64   0    0  23.3  0.672  32  1\n",
       "2     1   89  66  23   94  28.1  0.167  21  0\n",
       "3     0  137  40  35  168  43.1  2.288  33  1\n",
       "4     5  116  74   0    0  25.6  0.201  30  0\n",
       "..   ..  ...  ..  ..  ...   ...    ...  .. ..\n",
       "762  10  101  76  48  180  32.9  0.171  63  0\n",
       "763   2  122  70  27    0  36.8  0.340  27  0\n",
       "764   5  121  72  23  112  26.2  0.245  30  0\n",
       "765   1  126  60   0    0  30.1  0.349  47  1\n",
       "766   1   93  70  31    0  30.4  0.315  23  0\n",
       "\n",
       "[767 rows x 9 columns]"
      ]
     },
     "execution_count": 38,
     "metadata": {},
     "output_type": "execute_result"
    }
   ],
   "source": [
    "df.dropna()"
   ]
  },
  {
   "cell_type": "code",
   "execution_count": 28,
   "id": "0f9fa62f",
   "metadata": {},
   "outputs": [
    {
     "data": {
      "text/html": [
       "<div>\n",
       "<style scoped>\n",
       "    .dataframe tbody tr th:only-of-type {\n",
       "        vertical-align: middle;\n",
       "    }\n",
       "\n",
       "    .dataframe tbody tr th {\n",
       "        vertical-align: top;\n",
       "    }\n",
       "\n",
       "    .dataframe thead th {\n",
       "        text-align: right;\n",
       "    }\n",
       "</style>\n",
       "<table border=\"1\" class=\"dataframe\">\n",
       "  <thead>\n",
       "    <tr style=\"text-align: right;\">\n",
       "      <th></th>\n",
       "      <th>72</th>\n",
       "    </tr>\n",
       "    <tr>\n",
       "      <th>6</th>\n",
       "      <th></th>\n",
       "    </tr>\n",
       "  </thead>\n",
       "  <tbody>\n",
       "    <tr>\n",
       "      <th>0</th>\n",
       "      <td>67.153153</td>\n",
       "    </tr>\n",
       "    <tr>\n",
       "      <th>1</th>\n",
       "      <td>67.792593</td>\n",
       "    </tr>\n",
       "    <tr>\n",
       "      <th>2</th>\n",
       "      <td>63.252427</td>\n",
       "    </tr>\n",
       "    <tr>\n",
       "      <th>3</th>\n",
       "      <td>66.586667</td>\n",
       "    </tr>\n",
       "    <tr>\n",
       "      <th>4</th>\n",
       "      <td>70.029412</td>\n",
       "    </tr>\n",
       "    <tr>\n",
       "      <th>5</th>\n",
       "      <td>76.210526</td>\n",
       "    </tr>\n",
       "    <tr>\n",
       "      <th>6</th>\n",
       "      <td>68.346939</td>\n",
       "    </tr>\n",
       "    <tr>\n",
       "      <th>7</th>\n",
       "      <td>70.777778</td>\n",
       "    </tr>\n",
       "    <tr>\n",
       "      <th>8</th>\n",
       "      <td>75.184211</td>\n",
       "    </tr>\n",
       "    <tr>\n",
       "      <th>9</th>\n",
       "      <td>77.892857</td>\n",
       "    </tr>\n",
       "    <tr>\n",
       "      <th>10</th>\n",
       "      <td>70.208333</td>\n",
       "    </tr>\n",
       "    <tr>\n",
       "      <th>11</th>\n",
       "      <td>74.181818</td>\n",
       "    </tr>\n",
       "    <tr>\n",
       "      <th>12</th>\n",
       "      <td>76.333333</td>\n",
       "    </tr>\n",
       "    <tr>\n",
       "      <th>13</th>\n",
       "      <td>73.800000</td>\n",
       "    </tr>\n",
       "    <tr>\n",
       "      <th>14</th>\n",
       "      <td>70.000000</td>\n",
       "    </tr>\n",
       "    <tr>\n",
       "      <th>15</th>\n",
       "      <td>70.000000</td>\n",
       "    </tr>\n",
       "    <tr>\n",
       "      <th>17</th>\n",
       "      <td>72.000000</td>\n",
       "    </tr>\n",
       "  </tbody>\n",
       "</table>\n",
       "</div>"
      ],
      "text/plain": [
       "           72\n",
       "6            \n",
       "0   67.153153\n",
       "1   67.792593\n",
       "2   63.252427\n",
       "3   66.586667\n",
       "4   70.029412\n",
       "5   76.210526\n",
       "6   68.346939\n",
       "7   70.777778\n",
       "8   75.184211\n",
       "9   77.892857\n",
       "10  70.208333\n",
       "11  74.181818\n",
       "12  76.333333\n",
       "13  73.800000\n",
       "14  70.000000\n",
       "15  70.000000\n",
       "17  72.000000"
      ]
     },
     "execution_count": 28,
     "metadata": {},
     "output_type": "execute_result"
    }
   ],
   "source": [
    "df.groupby(\"6\")[[\"72\"]].mean()"
   ]
  },
  {
   "cell_type": "code",
   "execution_count": 29,
   "id": "34e1c3e4",
   "metadata": {},
   "outputs": [
    {
     "data": {
      "text/html": [
       "<div>\n",
       "<style scoped>\n",
       "    .dataframe tbody tr th:only-of-type {\n",
       "        vertical-align: middle;\n",
       "    }\n",
       "\n",
       "    .dataframe tbody tr th {\n",
       "        vertical-align: top;\n",
       "    }\n",
       "\n",
       "    .dataframe thead th {\n",
       "        text-align: right;\n",
       "    }\n",
       "</style>\n",
       "<table border=\"1\" class=\"dataframe\">\n",
       "  <thead>\n",
       "    <tr style=\"text-align: right;\">\n",
       "      <th></th>\n",
       "      <th>6</th>\n",
       "      <th>148</th>\n",
       "      <th>72</th>\n",
       "      <th>35</th>\n",
       "      <th>0</th>\n",
       "      <th>33.6</th>\n",
       "      <th>0.627</th>\n",
       "      <th>50</th>\n",
       "      <th>1</th>\n",
       "    </tr>\n",
       "  </thead>\n",
       "  <tbody>\n",
       "    <tr>\n",
       "      <th>10</th>\n",
       "      <td>10</td>\n",
       "      <td>168</td>\n",
       "      <td>74</td>\n",
       "      <td>0</td>\n",
       "      <td>0</td>\n",
       "      <td>38.0</td>\n",
       "      <td>0.537</td>\n",
       "      <td>34</td>\n",
       "      <td>1</td>\n",
       "    </tr>\n",
       "    <tr>\n",
       "      <th>11</th>\n",
       "      <td>10</td>\n",
       "      <td>139</td>\n",
       "      <td>80</td>\n",
       "      <td>0</td>\n",
       "      <td>0</td>\n",
       "      <td>27.1</td>\n",
       "      <td>1.441</td>\n",
       "      <td>57</td>\n",
       "      <td>0</td>\n",
       "    </tr>\n",
       "    <tr>\n",
       "      <th>12</th>\n",
       "      <td>1</td>\n",
       "      <td>189</td>\n",
       "      <td>60</td>\n",
       "      <td>23</td>\n",
       "      <td>846</td>\n",
       "      <td>30.1</td>\n",
       "      <td>0.398</td>\n",
       "      <td>59</td>\n",
       "      <td>1</td>\n",
       "    </tr>\n",
       "    <tr>\n",
       "      <th>13</th>\n",
       "      <td>5</td>\n",
       "      <td>166</td>\n",
       "      <td>72</td>\n",
       "      <td>19</td>\n",
       "      <td>175</td>\n",
       "      <td>25.8</td>\n",
       "      <td>0.587</td>\n",
       "      <td>51</td>\n",
       "      <td>1</td>\n",
       "    </tr>\n",
       "    <tr>\n",
       "      <th>14</th>\n",
       "      <td>7</td>\n",
       "      <td>100</td>\n",
       "      <td>0</td>\n",
       "      <td>0</td>\n",
       "      <td>0</td>\n",
       "      <td>30.0</td>\n",
       "      <td>0.484</td>\n",
       "      <td>32</td>\n",
       "      <td>1</td>\n",
       "    </tr>\n",
       "    <tr>\n",
       "      <th>15</th>\n",
       "      <td>0</td>\n",
       "      <td>118</td>\n",
       "      <td>84</td>\n",
       "      <td>47</td>\n",
       "      <td>230</td>\n",
       "      <td>45.8</td>\n",
       "      <td>0.551</td>\n",
       "      <td>31</td>\n",
       "      <td>1</td>\n",
       "    </tr>\n",
       "    <tr>\n",
       "      <th>16</th>\n",
       "      <td>7</td>\n",
       "      <td>107</td>\n",
       "      <td>74</td>\n",
       "      <td>0</td>\n",
       "      <td>0</td>\n",
       "      <td>29.6</td>\n",
       "      <td>0.254</td>\n",
       "      <td>31</td>\n",
       "      <td>1</td>\n",
       "    </tr>\n",
       "    <tr>\n",
       "      <th>17</th>\n",
       "      <td>1</td>\n",
       "      <td>103</td>\n",
       "      <td>30</td>\n",
       "      <td>38</td>\n",
       "      <td>83</td>\n",
       "      <td>43.3</td>\n",
       "      <td>0.183</td>\n",
       "      <td>33</td>\n",
       "      <td>0</td>\n",
       "    </tr>\n",
       "    <tr>\n",
       "      <th>18</th>\n",
       "      <td>1</td>\n",
       "      <td>115</td>\n",
       "      <td>70</td>\n",
       "      <td>30</td>\n",
       "      <td>96</td>\n",
       "      <td>34.6</td>\n",
       "      <td>0.529</td>\n",
       "      <td>32</td>\n",
       "      <td>1</td>\n",
       "    </tr>\n",
       "    <tr>\n",
       "      <th>19</th>\n",
       "      <td>3</td>\n",
       "      <td>126</td>\n",
       "      <td>88</td>\n",
       "      <td>41</td>\n",
       "      <td>235</td>\n",
       "      <td>39.3</td>\n",
       "      <td>0.704</td>\n",
       "      <td>27</td>\n",
       "      <td>0</td>\n",
       "    </tr>\n",
       "  </tbody>\n",
       "</table>\n",
       "</div>"
      ],
      "text/plain": [
       "     6  148  72  35    0  33.6  0.627  50  1\n",
       "10  10  168  74   0    0  38.0  0.537  34  1\n",
       "11  10  139  80   0    0  27.1  1.441  57  0\n",
       "12   1  189  60  23  846  30.1  0.398  59  1\n",
       "13   5  166  72  19  175  25.8  0.587  51  1\n",
       "14   7  100   0   0    0  30.0  0.484  32  1\n",
       "15   0  118  84  47  230  45.8  0.551  31  1\n",
       "16   7  107  74   0    0  29.6  0.254  31  1\n",
       "17   1  103  30  38   83  43.3  0.183  33  0\n",
       "18   1  115  70  30   96  34.6  0.529  32  1\n",
       "19   3  126  88  41  235  39.3  0.704  27  0"
      ]
     },
     "execution_count": 29,
     "metadata": {},
     "output_type": "execute_result"
    }
   ],
   "source": [
    "df[10:20]"
   ]
  },
  {
   "cell_type": "code",
   "execution_count": 30,
   "id": "d9697219",
   "metadata": {},
   "outputs": [
    {
     "data": {
      "text/html": [
       "<div>\n",
       "<style scoped>\n",
       "    .dataframe tbody tr th:only-of-type {\n",
       "        vertical-align: middle;\n",
       "    }\n",
       "\n",
       "    .dataframe tbody tr th {\n",
       "        vertical-align: top;\n",
       "    }\n",
       "\n",
       "    .dataframe thead th {\n",
       "        text-align: right;\n",
       "    }\n",
       "</style>\n",
       "<table border=\"1\" class=\"dataframe\">\n",
       "  <thead>\n",
       "    <tr style=\"text-align: right;\">\n",
       "      <th></th>\n",
       "      <th>148</th>\n",
       "      <th>72</th>\n",
       "      <th>35</th>\n",
       "      <th>0</th>\n",
       "      <th>33.6</th>\n",
       "      <th>0.627</th>\n",
       "      <th>50</th>\n",
       "      <th>1</th>\n",
       "    </tr>\n",
       "    <tr>\n",
       "      <th>6</th>\n",
       "      <th></th>\n",
       "      <th></th>\n",
       "      <th></th>\n",
       "      <th></th>\n",
       "      <th></th>\n",
       "      <th></th>\n",
       "      <th></th>\n",
       "      <th></th>\n",
       "    </tr>\n",
       "  </thead>\n",
       "  <tbody>\n",
       "    <tr>\n",
       "      <th>0</th>\n",
       "      <td>123.000000</td>\n",
       "      <td>67.153153</td>\n",
       "      <td>22.270270</td>\n",
       "      <td>81.675676</td>\n",
       "      <td>34.290090</td>\n",
       "      <td>0.520838</td>\n",
       "      <td>27.603604</td>\n",
       "      <td>0.342342</td>\n",
       "    </tr>\n",
       "    <tr>\n",
       "      <th>1</th>\n",
       "      <td>112.748148</td>\n",
       "      <td>67.792593</td>\n",
       "      <td>24.437037</td>\n",
       "      <td>98.674074</td>\n",
       "      <td>31.372593</td>\n",
       "      <td>0.486496</td>\n",
       "      <td>27.370370</td>\n",
       "      <td>0.214815</td>\n",
       "    </tr>\n",
       "    <tr>\n",
       "      <th>2</th>\n",
       "      <td>110.796117</td>\n",
       "      <td>63.252427</td>\n",
       "      <td>21.601942</td>\n",
       "      <td>85.844660</td>\n",
       "      <td>30.583495</td>\n",
       "      <td>0.491660</td>\n",
       "      <td>27.194175</td>\n",
       "      <td>0.184466</td>\n",
       "    </tr>\n",
       "    <tr>\n",
       "      <th>3</th>\n",
       "      <td>123.586667</td>\n",
       "      <td>66.586667</td>\n",
       "      <td>20.080000</td>\n",
       "      <td>87.453333</td>\n",
       "      <td>30.425333</td>\n",
       "      <td>0.432147</td>\n",
       "      <td>29.026667</td>\n",
       "      <td>0.360000</td>\n",
       "    </tr>\n",
       "    <tr>\n",
       "      <th>4</th>\n",
       "      <td>125.117647</td>\n",
       "      <td>70.029412</td>\n",
       "      <td>15.882353</td>\n",
       "      <td>69.441176</td>\n",
       "      <td>32.141176</td>\n",
       "      <td>0.446353</td>\n",
       "      <td>32.779412</td>\n",
       "      <td>0.338235</td>\n",
       "    </tr>\n",
       "    <tr>\n",
       "      <th>5</th>\n",
       "      <td>118.859649</td>\n",
       "      <td>76.210526</td>\n",
       "      <td>17.385965</td>\n",
       "      <td>57.298246</td>\n",
       "      <td>33.192982</td>\n",
       "      <td>0.396421</td>\n",
       "      <td>39.035088</td>\n",
       "      <td>0.368421</td>\n",
       "    </tr>\n",
       "    <tr>\n",
       "      <th>6</th>\n",
       "      <td>120.244898</td>\n",
       "      <td>68.346939</td>\n",
       "      <td>17.285714</td>\n",
       "      <td>64.877551</td>\n",
       "      <td>30.222449</td>\n",
       "      <td>0.425490</td>\n",
       "      <td>39.122449</td>\n",
       "      <td>0.306122</td>\n",
       "    </tr>\n",
       "    <tr>\n",
       "      <th>7</th>\n",
       "      <td>136.444444</td>\n",
       "      <td>70.777778</td>\n",
       "      <td>20.288889</td>\n",
       "      <td>84.466667</td>\n",
       "      <td>32.631111</td>\n",
       "      <td>0.443622</td>\n",
       "      <td>41.111111</td>\n",
       "      <td>0.555556</td>\n",
       "    </tr>\n",
       "    <tr>\n",
       "      <th>8</th>\n",
       "      <td>131.736842</td>\n",
       "      <td>75.184211</td>\n",
       "      <td>17.315789</td>\n",
       "      <td>92.815789</td>\n",
       "      <td>31.568421</td>\n",
       "      <td>0.504711</td>\n",
       "      <td>45.368421</td>\n",
       "      <td>0.578947</td>\n",
       "    </tr>\n",
       "    <tr>\n",
       "      <th>9</th>\n",
       "      <td>131.392857</td>\n",
       "      <td>77.892857</td>\n",
       "      <td>20.892857</td>\n",
       "      <td>62.428571</td>\n",
       "      <td>31.707143</td>\n",
       "      <td>0.550679</td>\n",
       "      <td>44.178571</td>\n",
       "      <td>0.642857</td>\n",
       "    </tr>\n",
       "    <tr>\n",
       "      <th>10</th>\n",
       "      <td>120.916667</td>\n",
       "      <td>70.208333</td>\n",
       "      <td>15.708333</td>\n",
       "      <td>34.791667</td>\n",
       "      <td>30.641667</td>\n",
       "      <td>0.454167</td>\n",
       "      <td>42.666667</td>\n",
       "      <td>0.416667</td>\n",
       "    </tr>\n",
       "    <tr>\n",
       "      <th>11</th>\n",
       "      <td>126.454545</td>\n",
       "      <td>74.181818</td>\n",
       "      <td>21.727273</td>\n",
       "      <td>65.454545</td>\n",
       "      <td>38.563636</td>\n",
       "      <td>0.522545</td>\n",
       "      <td>44.545455</td>\n",
       "      <td>0.636364</td>\n",
       "    </tr>\n",
       "    <tr>\n",
       "      <th>12</th>\n",
       "      <td>113.555556</td>\n",
       "      <td>76.333333</td>\n",
       "      <td>27.111111</td>\n",
       "      <td>112.555556</td>\n",
       "      <td>32.344444</td>\n",
       "      <td>0.444333</td>\n",
       "      <td>47.444444</td>\n",
       "      <td>0.444444</td>\n",
       "    </tr>\n",
       "    <tr>\n",
       "      <th>13</th>\n",
       "      <td>125.500000</td>\n",
       "      <td>73.800000</td>\n",
       "      <td>17.300000</td>\n",
       "      <td>27.900000</td>\n",
       "      <td>35.000000</td>\n",
       "      <td>0.463300</td>\n",
       "      <td>44.500000</td>\n",
       "      <td>0.500000</td>\n",
       "    </tr>\n",
       "    <tr>\n",
       "      <th>14</th>\n",
       "      <td>137.500000</td>\n",
       "      <td>70.000000</td>\n",
       "      <td>27.500000</td>\n",
       "      <td>92.000000</td>\n",
       "      <td>35.100000</td>\n",
       "      <td>0.312000</td>\n",
       "      <td>42.000000</td>\n",
       "      <td>1.000000</td>\n",
       "    </tr>\n",
       "    <tr>\n",
       "      <th>15</th>\n",
       "      <td>136.000000</td>\n",
       "      <td>70.000000</td>\n",
       "      <td>32.000000</td>\n",
       "      <td>110.000000</td>\n",
       "      <td>37.100000</td>\n",
       "      <td>0.153000</td>\n",
       "      <td>43.000000</td>\n",
       "      <td>1.000000</td>\n",
       "    </tr>\n",
       "    <tr>\n",
       "      <th>17</th>\n",
       "      <td>163.000000</td>\n",
       "      <td>72.000000</td>\n",
       "      <td>41.000000</td>\n",
       "      <td>114.000000</td>\n",
       "      <td>40.900000</td>\n",
       "      <td>0.817000</td>\n",
       "      <td>47.000000</td>\n",
       "      <td>1.000000</td>\n",
       "    </tr>\n",
       "  </tbody>\n",
       "</table>\n",
       "</div>"
      ],
      "text/plain": [
       "           148         72         35           0       33.6     0.627  \\\n",
       "6                                                                       \n",
       "0   123.000000  67.153153  22.270270   81.675676  34.290090  0.520838   \n",
       "1   112.748148  67.792593  24.437037   98.674074  31.372593  0.486496   \n",
       "2   110.796117  63.252427  21.601942   85.844660  30.583495  0.491660   \n",
       "3   123.586667  66.586667  20.080000   87.453333  30.425333  0.432147   \n",
       "4   125.117647  70.029412  15.882353   69.441176  32.141176  0.446353   \n",
       "5   118.859649  76.210526  17.385965   57.298246  33.192982  0.396421   \n",
       "6   120.244898  68.346939  17.285714   64.877551  30.222449  0.425490   \n",
       "7   136.444444  70.777778  20.288889   84.466667  32.631111  0.443622   \n",
       "8   131.736842  75.184211  17.315789   92.815789  31.568421  0.504711   \n",
       "9   131.392857  77.892857  20.892857   62.428571  31.707143  0.550679   \n",
       "10  120.916667  70.208333  15.708333   34.791667  30.641667  0.454167   \n",
       "11  126.454545  74.181818  21.727273   65.454545  38.563636  0.522545   \n",
       "12  113.555556  76.333333  27.111111  112.555556  32.344444  0.444333   \n",
       "13  125.500000  73.800000  17.300000   27.900000  35.000000  0.463300   \n",
       "14  137.500000  70.000000  27.500000   92.000000  35.100000  0.312000   \n",
       "15  136.000000  70.000000  32.000000  110.000000  37.100000  0.153000   \n",
       "17  163.000000  72.000000  41.000000  114.000000  40.900000  0.817000   \n",
       "\n",
       "           50         1  \n",
       "6                        \n",
       "0   27.603604  0.342342  \n",
       "1   27.370370  0.214815  \n",
       "2   27.194175  0.184466  \n",
       "3   29.026667  0.360000  \n",
       "4   32.779412  0.338235  \n",
       "5   39.035088  0.368421  \n",
       "6   39.122449  0.306122  \n",
       "7   41.111111  0.555556  \n",
       "8   45.368421  0.578947  \n",
       "9   44.178571  0.642857  \n",
       "10  42.666667  0.416667  \n",
       "11  44.545455  0.636364  \n",
       "12  47.444444  0.444444  \n",
       "13  44.500000  0.500000  \n",
       "14  42.000000  1.000000  \n",
       "15  43.000000  1.000000  \n",
       "17  47.000000  1.000000  "
      ]
     },
     "execution_count": 30,
     "metadata": {},
     "output_type": "execute_result"
    }
   ],
   "source": [
    "df_6=df.groupby(\"6\")\n",
    "df_6.mean()"
   ]
  },
  {
   "cell_type": "code",
   "execution_count": 31,
   "id": "79169c49",
   "metadata": {},
   "outputs": [
    {
     "data": {
      "text/html": [
       "<div>\n",
       "<style scoped>\n",
       "    .dataframe tbody tr th:only-of-type {\n",
       "        vertical-align: middle;\n",
       "    }\n",
       "\n",
       "    .dataframe tbody tr th {\n",
       "        vertical-align: top;\n",
       "    }\n",
       "\n",
       "    .dataframe thead th {\n",
       "        text-align: right;\n",
       "    }\n",
       "</style>\n",
       "<table border=\"1\" class=\"dataframe\">\n",
       "  <thead>\n",
       "    <tr style=\"text-align: right;\">\n",
       "      <th></th>\n",
       "      <th>6</th>\n",
       "      <th>148</th>\n",
       "    </tr>\n",
       "  </thead>\n",
       "  <tbody>\n",
       "    <tr>\n",
       "      <th>0</th>\n",
       "      <td>1</td>\n",
       "      <td>85</td>\n",
       "    </tr>\n",
       "    <tr>\n",
       "      <th>1</th>\n",
       "      <td>8</td>\n",
       "      <td>183</td>\n",
       "    </tr>\n",
       "    <tr>\n",
       "      <th>2</th>\n",
       "      <td>1</td>\n",
       "      <td>89</td>\n",
       "    </tr>\n",
       "    <tr>\n",
       "      <th>3</th>\n",
       "      <td>0</td>\n",
       "      <td>137</td>\n",
       "    </tr>\n",
       "    <tr>\n",
       "      <th>4</th>\n",
       "      <td>5</td>\n",
       "      <td>116</td>\n",
       "    </tr>\n",
       "    <tr>\n",
       "      <th>...</th>\n",
       "      <td>...</td>\n",
       "      <td>...</td>\n",
       "    </tr>\n",
       "    <tr>\n",
       "      <th>762</th>\n",
       "      <td>10</td>\n",
       "      <td>101</td>\n",
       "    </tr>\n",
       "    <tr>\n",
       "      <th>763</th>\n",
       "      <td>2</td>\n",
       "      <td>122</td>\n",
       "    </tr>\n",
       "    <tr>\n",
       "      <th>764</th>\n",
       "      <td>5</td>\n",
       "      <td>121</td>\n",
       "    </tr>\n",
       "    <tr>\n",
       "      <th>765</th>\n",
       "      <td>1</td>\n",
       "      <td>126</td>\n",
       "    </tr>\n",
       "    <tr>\n",
       "      <th>766</th>\n",
       "      <td>1</td>\n",
       "      <td>93</td>\n",
       "    </tr>\n",
       "  </tbody>\n",
       "</table>\n",
       "<p>767 rows × 2 columns</p>\n",
       "</div>"
      ],
      "text/plain": [
       "      6  148\n",
       "0     1   85\n",
       "1     8  183\n",
       "2     1   89\n",
       "3     0  137\n",
       "4     5  116\n",
       "..   ..  ...\n",
       "762  10  101\n",
       "763   2  122\n",
       "764   5  121\n",
       "765   1  126\n",
       "766   1   93\n",
       "\n",
       "[767 rows x 2 columns]"
      ]
     },
     "execution_count": 31,
     "metadata": {},
     "output_type": "execute_result"
    }
   ],
   "source": [
    "df[[\"6\",\"148\"]]"
   ]
  },
  {
   "cell_type": "code",
   "execution_count": 32,
   "id": "5426b281",
   "metadata": {},
   "outputs": [
    {
     "data": {
      "text/html": [
       "<div>\n",
       "<style scoped>\n",
       "    .dataframe tbody tr th:only-of-type {\n",
       "        vertical-align: middle;\n",
       "    }\n",
       "\n",
       "    .dataframe tbody tr th {\n",
       "        vertical-align: top;\n",
       "    }\n",
       "\n",
       "    .dataframe thead th {\n",
       "        text-align: right;\n",
       "    }\n",
       "</style>\n",
       "<table border=\"1\" class=\"dataframe\">\n",
       "  <thead>\n",
       "    <tr style=\"text-align: right;\">\n",
       "      <th></th>\n",
       "      <th>6</th>\n",
       "      <th>148</th>\n",
       "      <th>72</th>\n",
       "      <th>35</th>\n",
       "      <th>0</th>\n",
       "      <th>33.6</th>\n",
       "      <th>0.627</th>\n",
       "      <th>50</th>\n",
       "      <th>1</th>\n",
       "    </tr>\n",
       "  </thead>\n",
       "  <tbody>\n",
       "    <tr>\n",
       "      <th>3</th>\n",
       "      <td>0</td>\n",
       "      <td>137</td>\n",
       "      <td>40</td>\n",
       "      <td>35</td>\n",
       "      <td>168</td>\n",
       "      <td>43.1</td>\n",
       "      <td>2.288</td>\n",
       "      <td>33</td>\n",
       "      <td>1</td>\n",
       "    </tr>\n",
       "    <tr>\n",
       "      <th>5</th>\n",
       "      <td>3</td>\n",
       "      <td>78</td>\n",
       "      <td>50</td>\n",
       "      <td>32</td>\n",
       "      <td>88</td>\n",
       "      <td>31.0</td>\n",
       "      <td>0.248</td>\n",
       "      <td>26</td>\n",
       "      <td>1</td>\n",
       "    </tr>\n",
       "    <tr>\n",
       "      <th>7</th>\n",
       "      <td>2</td>\n",
       "      <td>197</td>\n",
       "      <td>70</td>\n",
       "      <td>45</td>\n",
       "      <td>543</td>\n",
       "      <td>30.5</td>\n",
       "      <td>0.158</td>\n",
       "      <td>53</td>\n",
       "      <td>1</td>\n",
       "    </tr>\n",
       "    <tr>\n",
       "      <th>15</th>\n",
       "      <td>0</td>\n",
       "      <td>118</td>\n",
       "      <td>84</td>\n",
       "      <td>47</td>\n",
       "      <td>230</td>\n",
       "      <td>45.8</td>\n",
       "      <td>0.551</td>\n",
       "      <td>31</td>\n",
       "      <td>1</td>\n",
       "    </tr>\n",
       "    <tr>\n",
       "      <th>17</th>\n",
       "      <td>1</td>\n",
       "      <td>103</td>\n",
       "      <td>30</td>\n",
       "      <td>38</td>\n",
       "      <td>83</td>\n",
       "      <td>43.3</td>\n",
       "      <td>0.183</td>\n",
       "      <td>33</td>\n",
       "      <td>0</td>\n",
       "    </tr>\n",
       "    <tr>\n",
       "      <th>...</th>\n",
       "      <td>...</td>\n",
       "      <td>...</td>\n",
       "      <td>...</td>\n",
       "      <td>...</td>\n",
       "      <td>...</td>\n",
       "      <td>...</td>\n",
       "      <td>...</td>\n",
       "      <td>...</td>\n",
       "      <td>...</td>\n",
       "    </tr>\n",
       "    <tr>\n",
       "      <th>754</th>\n",
       "      <td>1</td>\n",
       "      <td>128</td>\n",
       "      <td>88</td>\n",
       "      <td>39</td>\n",
       "      <td>110</td>\n",
       "      <td>36.5</td>\n",
       "      <td>1.057</td>\n",
       "      <td>37</td>\n",
       "      <td>1</td>\n",
       "    </tr>\n",
       "    <tr>\n",
       "      <th>755</th>\n",
       "      <td>7</td>\n",
       "      <td>137</td>\n",
       "      <td>90</td>\n",
       "      <td>41</td>\n",
       "      <td>0</td>\n",
       "      <td>32.0</td>\n",
       "      <td>0.391</td>\n",
       "      <td>39</td>\n",
       "      <td>0</td>\n",
       "    </tr>\n",
       "    <tr>\n",
       "      <th>760</th>\n",
       "      <td>9</td>\n",
       "      <td>170</td>\n",
       "      <td>74</td>\n",
       "      <td>31</td>\n",
       "      <td>0</td>\n",
       "      <td>44.0</td>\n",
       "      <td>0.403</td>\n",
       "      <td>43</td>\n",
       "      <td>1</td>\n",
       "    </tr>\n",
       "    <tr>\n",
       "      <th>762</th>\n",
       "      <td>10</td>\n",
       "      <td>101</td>\n",
       "      <td>76</td>\n",
       "      <td>48</td>\n",
       "      <td>180</td>\n",
       "      <td>32.9</td>\n",
       "      <td>0.171</td>\n",
       "      <td>63</td>\n",
       "      <td>0</td>\n",
       "    </tr>\n",
       "    <tr>\n",
       "      <th>766</th>\n",
       "      <td>1</td>\n",
       "      <td>93</td>\n",
       "      <td>70</td>\n",
       "      <td>31</td>\n",
       "      <td>0</td>\n",
       "      <td>30.4</td>\n",
       "      <td>0.315</td>\n",
       "      <td>23</td>\n",
       "      <td>0</td>\n",
       "    </tr>\n",
       "  </tbody>\n",
       "</table>\n",
       "<p>237 rows × 9 columns</p>\n",
       "</div>"
      ],
      "text/plain": [
       "      6  148  72  35    0  33.6  0.627  50  1\n",
       "3     0  137  40  35  168  43.1  2.288  33  1\n",
       "5     3   78  50  32   88  31.0  0.248  26  1\n",
       "7     2  197  70  45  543  30.5  0.158  53  1\n",
       "15    0  118  84  47  230  45.8  0.551  31  1\n",
       "17    1  103  30  38   83  43.3  0.183  33  0\n",
       "..   ..  ...  ..  ..  ...   ...    ...  .. ..\n",
       "754   1  128  88  39  110  36.5  1.057  37  1\n",
       "755   7  137  90  41    0  32.0  0.391  39  0\n",
       "760   9  170  74  31    0  44.0  0.403  43  1\n",
       "762  10  101  76  48  180  32.9  0.171  63  0\n",
       "766   1   93  70  31    0  30.4  0.315  23  0\n",
       "\n",
       "[237 rows x 9 columns]"
      ]
     },
     "execution_count": 32,
     "metadata": {},
     "output_type": "execute_result"
    }
   ],
   "source": [
    "df_35=df[df[\"35\"]>30]\n",
    "df_35"
   ]
  },
  {
   "cell_type": "code",
   "execution_count": 33,
   "id": "5744304a",
   "metadata": {},
   "outputs": [],
   "source": [
    "import numpy as np\n",
    "import pandas as pd\n",
    "df=pd.read_csv(r\"C:\\Users\\OJUS\\OneDrive\\Desktop\\⠀\\DS\\Data Set\\PlayTennis.csv\")"
   ]
  },
  {
   "cell_type": "code",
   "execution_count": 40,
   "id": "413d72ce",
   "metadata": {},
   "outputs": [
    {
     "data": {
      "text/html": [
       "<div>\n",
       "<style scoped>\n",
       "    .dataframe tbody tr th:only-of-type {\n",
       "        vertical-align: middle;\n",
       "    }\n",
       "\n",
       "    .dataframe tbody tr th {\n",
       "        vertical-align: top;\n",
       "    }\n",
       "\n",
       "    .dataframe thead th {\n",
       "        text-align: right;\n",
       "    }\n",
       "</style>\n",
       "<table border=\"1\" class=\"dataframe\">\n",
       "  <thead>\n",
       "    <tr style=\"text-align: right;\">\n",
       "      <th></th>\n",
       "      <th>Outlook</th>\n",
       "      <th>Temperature</th>\n",
       "      <th>Humidity</th>\n",
       "      <th>Wind</th>\n",
       "      <th>Play Tennis</th>\n",
       "    </tr>\n",
       "  </thead>\n",
       "  <tbody>\n",
       "    <tr>\n",
       "      <th>0</th>\n",
       "      <td>Sunny</td>\n",
       "      <td>Hot</td>\n",
       "      <td>High</td>\n",
       "      <td>Weak</td>\n",
       "      <td>No</td>\n",
       "    </tr>\n",
       "    <tr>\n",
       "      <th>1</th>\n",
       "      <td>Sunny</td>\n",
       "      <td>Hot</td>\n",
       "      <td>High</td>\n",
       "      <td>Strong</td>\n",
       "      <td>No</td>\n",
       "    </tr>\n",
       "    <tr>\n",
       "      <th>2</th>\n",
       "      <td>Overcast</td>\n",
       "      <td>Hot</td>\n",
       "      <td>High</td>\n",
       "      <td>Weak</td>\n",
       "      <td>Yes</td>\n",
       "    </tr>\n",
       "    <tr>\n",
       "      <th>3</th>\n",
       "      <td>Rain</td>\n",
       "      <td>Mild</td>\n",
       "      <td>High</td>\n",
       "      <td>Weak</td>\n",
       "      <td>Yes</td>\n",
       "    </tr>\n",
       "    <tr>\n",
       "      <th>4</th>\n",
       "      <td>Rain</td>\n",
       "      <td>Cool</td>\n",
       "      <td>Normal</td>\n",
       "      <td>Weak</td>\n",
       "      <td>Yes</td>\n",
       "    </tr>\n",
       "    <tr>\n",
       "      <th>5</th>\n",
       "      <td>Rain</td>\n",
       "      <td>Cool</td>\n",
       "      <td>Normal</td>\n",
       "      <td>Strong</td>\n",
       "      <td>No</td>\n",
       "    </tr>\n",
       "    <tr>\n",
       "      <th>6</th>\n",
       "      <td>Overcast</td>\n",
       "      <td>Cool</td>\n",
       "      <td>Normal</td>\n",
       "      <td>Strong</td>\n",
       "      <td>Yes</td>\n",
       "    </tr>\n",
       "    <tr>\n",
       "      <th>7</th>\n",
       "      <td>Sunny</td>\n",
       "      <td>Mild</td>\n",
       "      <td>High</td>\n",
       "      <td>Weak</td>\n",
       "      <td>No</td>\n",
       "    </tr>\n",
       "    <tr>\n",
       "      <th>8</th>\n",
       "      <td>Sunny</td>\n",
       "      <td>Cool</td>\n",
       "      <td>Normal</td>\n",
       "      <td>Weak</td>\n",
       "      <td>Yes</td>\n",
       "    </tr>\n",
       "    <tr>\n",
       "      <th>9</th>\n",
       "      <td>Rain</td>\n",
       "      <td>Mild</td>\n",
       "      <td>Normal</td>\n",
       "      <td>Weak</td>\n",
       "      <td>Yes</td>\n",
       "    </tr>\n",
       "    <tr>\n",
       "      <th>10</th>\n",
       "      <td>Sunny</td>\n",
       "      <td>Mild</td>\n",
       "      <td>Normal</td>\n",
       "      <td>Strong</td>\n",
       "      <td>Yes</td>\n",
       "    </tr>\n",
       "    <tr>\n",
       "      <th>11</th>\n",
       "      <td>Overcast</td>\n",
       "      <td>Mild</td>\n",
       "      <td>High</td>\n",
       "      <td>Strong</td>\n",
       "      <td>Yes</td>\n",
       "    </tr>\n",
       "    <tr>\n",
       "      <th>12</th>\n",
       "      <td>Overcast</td>\n",
       "      <td>Hot</td>\n",
       "      <td>Normal</td>\n",
       "      <td>Weak</td>\n",
       "      <td>Yes</td>\n",
       "    </tr>\n",
       "    <tr>\n",
       "      <th>13</th>\n",
       "      <td>Rain</td>\n",
       "      <td>Mild</td>\n",
       "      <td>High</td>\n",
       "      <td>Strong</td>\n",
       "      <td>No</td>\n",
       "    </tr>\n",
       "  </tbody>\n",
       "</table>\n",
       "</div>"
      ],
      "text/plain": [
       "     Outlook Temperature Humidity    Wind Play Tennis\n",
       "0      Sunny         Hot     High    Weak          No\n",
       "1      Sunny         Hot     High  Strong          No\n",
       "2   Overcast         Hot     High    Weak         Yes\n",
       "3       Rain        Mild     High    Weak         Yes\n",
       "4       Rain        Cool   Normal    Weak         Yes\n",
       "5       Rain        Cool   Normal  Strong          No\n",
       "6   Overcast        Cool   Normal  Strong         Yes\n",
       "7      Sunny        Mild     High    Weak          No\n",
       "8      Sunny        Cool   Normal    Weak         Yes\n",
       "9       Rain        Mild   Normal    Weak         Yes\n",
       "10     Sunny        Mild   Normal  Strong         Yes\n",
       "11  Overcast        Mild     High  Strong         Yes\n",
       "12  Overcast         Hot   Normal    Weak         Yes\n",
       "13      Rain        Mild     High  Strong          No"
      ]
     },
     "execution_count": 40,
     "metadata": {},
     "output_type": "execute_result"
    }
   ],
   "source": [
    "df"
   ]
  },
  {
   "cell_type": "code",
   "execution_count": 41,
   "id": "1fa74d0c",
   "metadata": {},
   "outputs": [
    {
     "data": {
      "text/plain": [
       "0       Weak\n",
       "1     Strong\n",
       "2       Weak\n",
       "3       Weak\n",
       "4       Weak\n",
       "5     Strong\n",
       "6     Strong\n",
       "7       Weak\n",
       "8       Weak\n",
       "9       Weak\n",
       "10    Strong\n",
       "11    Strong\n",
       "12      Weak\n",
       "13    Strong\n",
       "Name: Wind, dtype: object"
      ]
     },
     "execution_count": 41,
     "metadata": {},
     "output_type": "execute_result"
    }
   ],
   "source": [
    "df.Wind"
   ]
  },
  {
   "cell_type": "code",
   "execution_count": 42,
   "id": "1748cc90",
   "metadata": {},
   "outputs": [
    {
     "data": {
      "text/html": [
       "<div>\n",
       "<style scoped>\n",
       "    .dataframe tbody tr th:only-of-type {\n",
       "        vertical-align: middle;\n",
       "    }\n",
       "\n",
       "    .dataframe tbody tr th {\n",
       "        vertical-align: top;\n",
       "    }\n",
       "\n",
       "    .dataframe thead th {\n",
       "        text-align: right;\n",
       "    }\n",
       "</style>\n",
       "<table border=\"1\" class=\"dataframe\">\n",
       "  <thead>\n",
       "    <tr style=\"text-align: right;\">\n",
       "      <th></th>\n",
       "      <th>Outlook</th>\n",
       "      <th>Temperature</th>\n",
       "      <th>Humidity</th>\n",
       "      <th>Wind</th>\n",
       "      <th>Play Tennis</th>\n",
       "    </tr>\n",
       "  </thead>\n",
       "  <tbody>\n",
       "    <tr>\n",
       "      <th>count</th>\n",
       "      <td>14</td>\n",
       "      <td>14</td>\n",
       "      <td>14</td>\n",
       "      <td>14</td>\n",
       "      <td>14</td>\n",
       "    </tr>\n",
       "    <tr>\n",
       "      <th>unique</th>\n",
       "      <td>3</td>\n",
       "      <td>3</td>\n",
       "      <td>2</td>\n",
       "      <td>2</td>\n",
       "      <td>2</td>\n",
       "    </tr>\n",
       "    <tr>\n",
       "      <th>top</th>\n",
       "      <td>Rain</td>\n",
       "      <td>Mild</td>\n",
       "      <td>Normal</td>\n",
       "      <td>Weak</td>\n",
       "      <td>Yes</td>\n",
       "    </tr>\n",
       "    <tr>\n",
       "      <th>freq</th>\n",
       "      <td>5</td>\n",
       "      <td>6</td>\n",
       "      <td>7</td>\n",
       "      <td>8</td>\n",
       "      <td>9</td>\n",
       "    </tr>\n",
       "  </tbody>\n",
       "</table>\n",
       "</div>"
      ],
      "text/plain": [
       "       Outlook Temperature Humidity  Wind Play Tennis\n",
       "count       14          14       14    14          14\n",
       "unique       3           3        2     2           2\n",
       "top       Rain        Mild   Normal  Weak         Yes\n",
       "freq         5           6        7     8           9"
      ]
     },
     "execution_count": 42,
     "metadata": {},
     "output_type": "execute_result"
    }
   ],
   "source": [
    "df.describe()"
   ]
  },
  {
   "cell_type": "code",
   "execution_count": 45,
   "id": "7e932da5",
   "metadata": {},
   "outputs": [
    {
     "data": {
      "text/plain": [
       "Outlook         Sunny\n",
       "Temperature      Mild\n",
       "Humidity       Normal\n",
       "Wind             Weak\n",
       "Play Tennis       Yes\n",
       "dtype: object"
      ]
     },
     "execution_count": 45,
     "metadata": {},
     "output_type": "execute_result"
    }
   ],
   "source": [
    "df.max()"
   ]
  },
  {
   "cell_type": "code",
   "execution_count": 46,
   "id": "9fc4ec23",
   "metadata": {},
   "outputs": [
    {
     "data": {
      "text/plain": [
       "Outlook        Overcast\n",
       "Temperature        Cool\n",
       "Humidity           High\n",
       "Wind             Strong\n",
       "Play Tennis          No\n",
       "dtype: object"
      ]
     },
     "execution_count": 46,
     "metadata": {},
     "output_type": "execute_result"
    }
   ],
   "source": [
    "df.min()"
   ]
  },
  {
   "cell_type": "code",
   "execution_count": 44,
   "id": "8241a462",
   "metadata": {},
   "outputs": [
    {
     "data": {
      "text/html": [
       "<div>\n",
       "<style scoped>\n",
       "    .dataframe tbody tr th:only-of-type {\n",
       "        vertical-align: middle;\n",
       "    }\n",
       "\n",
       "    .dataframe tbody tr th {\n",
       "        vertical-align: top;\n",
       "    }\n",
       "\n",
       "    .dataframe thead th {\n",
       "        text-align: right;\n",
       "    }\n",
       "</style>\n",
       "<table border=\"1\" class=\"dataframe\">\n",
       "  <thead>\n",
       "    <tr style=\"text-align: right;\">\n",
       "      <th></th>\n",
       "      <th>Outlook</th>\n",
       "      <th>Temperature</th>\n",
       "      <th>Humidity</th>\n",
       "      <th>Wind</th>\n",
       "      <th>Play Tennis</th>\n",
       "    </tr>\n",
       "  </thead>\n",
       "  <tbody>\n",
       "    <tr>\n",
       "      <th>0</th>\n",
       "      <td>Sunny</td>\n",
       "      <td>Hot</td>\n",
       "      <td>High</td>\n",
       "      <td>Weak</td>\n",
       "      <td>No</td>\n",
       "    </tr>\n",
       "    <tr>\n",
       "      <th>1</th>\n",
       "      <td>Sunny</td>\n",
       "      <td>Hot</td>\n",
       "      <td>High</td>\n",
       "      <td>Strong</td>\n",
       "      <td>No</td>\n",
       "    </tr>\n",
       "    <tr>\n",
       "      <th>2</th>\n",
       "      <td>Overcast</td>\n",
       "      <td>Hot</td>\n",
       "      <td>High</td>\n",
       "      <td>Weak</td>\n",
       "      <td>Yes</td>\n",
       "    </tr>\n",
       "    <tr>\n",
       "      <th>3</th>\n",
       "      <td>Rain</td>\n",
       "      <td>Mild</td>\n",
       "      <td>High</td>\n",
       "      <td>Weak</td>\n",
       "      <td>Yes</td>\n",
       "    </tr>\n",
       "    <tr>\n",
       "      <th>4</th>\n",
       "      <td>Rain</td>\n",
       "      <td>Cool</td>\n",
       "      <td>Normal</td>\n",
       "      <td>Weak</td>\n",
       "      <td>Yes</td>\n",
       "    </tr>\n",
       "    <tr>\n",
       "      <th>5</th>\n",
       "      <td>Rain</td>\n",
       "      <td>Cool</td>\n",
       "      <td>Normal</td>\n",
       "      <td>Strong</td>\n",
       "      <td>No</td>\n",
       "    </tr>\n",
       "    <tr>\n",
       "      <th>6</th>\n",
       "      <td>Overcast</td>\n",
       "      <td>Cool</td>\n",
       "      <td>Normal</td>\n",
       "      <td>Strong</td>\n",
       "      <td>Yes</td>\n",
       "    </tr>\n",
       "    <tr>\n",
       "      <th>7</th>\n",
       "      <td>Sunny</td>\n",
       "      <td>Mild</td>\n",
       "      <td>High</td>\n",
       "      <td>Weak</td>\n",
       "      <td>No</td>\n",
       "    </tr>\n",
       "    <tr>\n",
       "      <th>8</th>\n",
       "      <td>Sunny</td>\n",
       "      <td>Cool</td>\n",
       "      <td>Normal</td>\n",
       "      <td>Weak</td>\n",
       "      <td>Yes</td>\n",
       "    </tr>\n",
       "    <tr>\n",
       "      <th>9</th>\n",
       "      <td>Rain</td>\n",
       "      <td>Mild</td>\n",
       "      <td>Normal</td>\n",
       "      <td>Weak</td>\n",
       "      <td>Yes</td>\n",
       "    </tr>\n",
       "    <tr>\n",
       "      <th>10</th>\n",
       "      <td>Sunny</td>\n",
       "      <td>Mild</td>\n",
       "      <td>Normal</td>\n",
       "      <td>Strong</td>\n",
       "      <td>Yes</td>\n",
       "    </tr>\n",
       "    <tr>\n",
       "      <th>11</th>\n",
       "      <td>Overcast</td>\n",
       "      <td>Mild</td>\n",
       "      <td>High</td>\n",
       "      <td>Strong</td>\n",
       "      <td>Yes</td>\n",
       "    </tr>\n",
       "    <tr>\n",
       "      <th>12</th>\n",
       "      <td>Overcast</td>\n",
       "      <td>Hot</td>\n",
       "      <td>Normal</td>\n",
       "      <td>Weak</td>\n",
       "      <td>Yes</td>\n",
       "    </tr>\n",
       "    <tr>\n",
       "      <th>13</th>\n",
       "      <td>Rain</td>\n",
       "      <td>Mild</td>\n",
       "      <td>High</td>\n",
       "      <td>Strong</td>\n",
       "      <td>No</td>\n",
       "    </tr>\n",
       "  </tbody>\n",
       "</table>\n",
       "</div>"
      ],
      "text/plain": [
       "     Outlook Temperature Humidity    Wind Play Tennis\n",
       "0      Sunny         Hot     High    Weak          No\n",
       "1      Sunny         Hot     High  Strong          No\n",
       "2   Overcast         Hot     High    Weak         Yes\n",
       "3       Rain        Mild     High    Weak         Yes\n",
       "4       Rain        Cool   Normal    Weak         Yes\n",
       "5       Rain        Cool   Normal  Strong          No\n",
       "6   Overcast        Cool   Normal  Strong         Yes\n",
       "7      Sunny        Mild     High    Weak          No\n",
       "8      Sunny        Cool   Normal    Weak         Yes\n",
       "9       Rain        Mild   Normal    Weak         Yes\n",
       "10     Sunny        Mild   Normal  Strong         Yes\n",
       "11  Overcast        Mild     High  Strong         Yes\n",
       "12  Overcast         Hot   Normal    Weak         Yes\n",
       "13      Rain        Mild     High  Strong          No"
      ]
     },
     "execution_count": 44,
     "metadata": {},
     "output_type": "execute_result"
    }
   ],
   "source": [
    "df.dropna()"
   ]
  },
  {
   "cell_type": "code",
   "execution_count": 35,
   "id": "ad7aa267",
   "metadata": {},
   "outputs": [
    {
     "data": {
      "text/html": [
       "<div>\n",
       "<style scoped>\n",
       "    .dataframe tbody tr th:only-of-type {\n",
       "        vertical-align: middle;\n",
       "    }\n",
       "\n",
       "    .dataframe tbody tr th {\n",
       "        vertical-align: top;\n",
       "    }\n",
       "\n",
       "    .dataframe thead tr th {\n",
       "        text-align: left;\n",
       "    }\n",
       "\n",
       "    .dataframe thead tr:last-of-type th {\n",
       "        text-align: right;\n",
       "    }\n",
       "</style>\n",
       "<table border=\"1\" class=\"dataframe\">\n",
       "  <thead>\n",
       "    <tr>\n",
       "      <th></th>\n",
       "      <th colspan=\"4\" halign=\"left\">Outlook</th>\n",
       "    </tr>\n",
       "    <tr>\n",
       "      <th></th>\n",
       "      <th>count</th>\n",
       "      <th>unique</th>\n",
       "      <th>top</th>\n",
       "      <th>freq</th>\n",
       "    </tr>\n",
       "    <tr>\n",
       "      <th>Play Tennis</th>\n",
       "      <th></th>\n",
       "      <th></th>\n",
       "      <th></th>\n",
       "      <th></th>\n",
       "    </tr>\n",
       "  </thead>\n",
       "  <tbody>\n",
       "    <tr>\n",
       "      <th>No</th>\n",
       "      <td>5</td>\n",
       "      <td>2</td>\n",
       "      <td>Sunny</td>\n",
       "      <td>3</td>\n",
       "    </tr>\n",
       "    <tr>\n",
       "      <th>Yes</th>\n",
       "      <td>9</td>\n",
       "      <td>3</td>\n",
       "      <td>Overcast</td>\n",
       "      <td>4</td>\n",
       "    </tr>\n",
       "  </tbody>\n",
       "</table>\n",
       "</div>"
      ],
      "text/plain": [
       "            Outlook                      \n",
       "              count unique       top freq\n",
       "Play Tennis                              \n",
       "No                5      2     Sunny    3\n",
       "Yes               9      3  Overcast    4"
      ]
     },
     "execution_count": 35,
     "metadata": {},
     "output_type": "execute_result"
    }
   ],
   "source": [
    "df.groupby(\"Play Tennis\")[[\"Outlook\"]].describe()"
   ]
  },
  {
   "cell_type": "code",
   "execution_count": 36,
   "id": "672e418f",
   "metadata": {},
   "outputs": [
    {
     "data": {
      "text/html": [
       "<div>\n",
       "<style scoped>\n",
       "    .dataframe tbody tr th:only-of-type {\n",
       "        vertical-align: middle;\n",
       "    }\n",
       "\n",
       "    .dataframe tbody tr th {\n",
       "        vertical-align: top;\n",
       "    }\n",
       "\n",
       "    .dataframe thead th {\n",
       "        text-align: right;\n",
       "    }\n",
       "</style>\n",
       "<table border=\"1\" class=\"dataframe\">\n",
       "  <thead>\n",
       "    <tr style=\"text-align: right;\">\n",
       "      <th></th>\n",
       "      <th>Outlook</th>\n",
       "      <th>Temperature</th>\n",
       "      <th>Humidity</th>\n",
       "      <th>Wind</th>\n",
       "      <th>Play Tennis</th>\n",
       "    </tr>\n",
       "  </thead>\n",
       "  <tbody>\n",
       "    <tr>\n",
       "      <th>1</th>\n",
       "      <td>Sunny</td>\n",
       "      <td>Hot</td>\n",
       "      <td>High</td>\n",
       "      <td>Strong</td>\n",
       "      <td>No</td>\n",
       "    </tr>\n",
       "    <tr>\n",
       "      <th>2</th>\n",
       "      <td>Overcast</td>\n",
       "      <td>Hot</td>\n",
       "      <td>High</td>\n",
       "      <td>Weak</td>\n",
       "      <td>Yes</td>\n",
       "    </tr>\n",
       "    <tr>\n",
       "      <th>3</th>\n",
       "      <td>Rain</td>\n",
       "      <td>Mild</td>\n",
       "      <td>High</td>\n",
       "      <td>Weak</td>\n",
       "      <td>Yes</td>\n",
       "    </tr>\n",
       "    <tr>\n",
       "      <th>4</th>\n",
       "      <td>Rain</td>\n",
       "      <td>Cool</td>\n",
       "      <td>Normal</td>\n",
       "      <td>Weak</td>\n",
       "      <td>Yes</td>\n",
       "    </tr>\n",
       "    <tr>\n",
       "      <th>5</th>\n",
       "      <td>Rain</td>\n",
       "      <td>Cool</td>\n",
       "      <td>Normal</td>\n",
       "      <td>Strong</td>\n",
       "      <td>No</td>\n",
       "    </tr>\n",
       "    <tr>\n",
       "      <th>6</th>\n",
       "      <td>Overcast</td>\n",
       "      <td>Cool</td>\n",
       "      <td>Normal</td>\n",
       "      <td>Strong</td>\n",
       "      <td>Yes</td>\n",
       "    </tr>\n",
       "    <tr>\n",
       "      <th>7</th>\n",
       "      <td>Sunny</td>\n",
       "      <td>Mild</td>\n",
       "      <td>High</td>\n",
       "      <td>Weak</td>\n",
       "      <td>No</td>\n",
       "    </tr>\n",
       "    <tr>\n",
       "      <th>8</th>\n",
       "      <td>Sunny</td>\n",
       "      <td>Cool</td>\n",
       "      <td>Normal</td>\n",
       "      <td>Weak</td>\n",
       "      <td>Yes</td>\n",
       "    </tr>\n",
       "    <tr>\n",
       "      <th>9</th>\n",
       "      <td>Rain</td>\n",
       "      <td>Mild</td>\n",
       "      <td>Normal</td>\n",
       "      <td>Weak</td>\n",
       "      <td>Yes</td>\n",
       "    </tr>\n",
       "    <tr>\n",
       "      <th>10</th>\n",
       "      <td>Sunny</td>\n",
       "      <td>Mild</td>\n",
       "      <td>Normal</td>\n",
       "      <td>Strong</td>\n",
       "      <td>Yes</td>\n",
       "    </tr>\n",
       "  </tbody>\n",
       "</table>\n",
       "</div>"
      ],
      "text/plain": [
       "     Outlook Temperature Humidity    Wind Play Tennis\n",
       "1      Sunny         Hot     High  Strong          No\n",
       "2   Overcast         Hot     High    Weak         Yes\n",
       "3       Rain        Mild     High    Weak         Yes\n",
       "4       Rain        Cool   Normal    Weak         Yes\n",
       "5       Rain        Cool   Normal  Strong          No\n",
       "6   Overcast        Cool   Normal  Strong         Yes\n",
       "7      Sunny        Mild     High    Weak          No\n",
       "8      Sunny        Cool   Normal    Weak         Yes\n",
       "9       Rain        Mild   Normal    Weak         Yes\n",
       "10     Sunny        Mild   Normal  Strong         Yes"
      ]
     },
     "execution_count": 36,
     "metadata": {},
     "output_type": "execute_result"
    }
   ],
   "source": [
    "df[1:11]"
   ]
  },
  {
   "cell_type": "code",
   "execution_count": 37,
   "id": "d76a7383",
   "metadata": {},
   "outputs": [
    {
     "data": {
      "text/html": [
       "<div>\n",
       "<style scoped>\n",
       "    .dataframe tbody tr th:only-of-type {\n",
       "        vertical-align: middle;\n",
       "    }\n",
       "\n",
       "    .dataframe tbody tr th {\n",
       "        vertical-align: top;\n",
       "    }\n",
       "\n",
       "    .dataframe thead tr th {\n",
       "        text-align: left;\n",
       "    }\n",
       "\n",
       "    .dataframe thead tr:last-of-type th {\n",
       "        text-align: right;\n",
       "    }\n",
       "</style>\n",
       "<table border=\"1\" class=\"dataframe\">\n",
       "  <thead>\n",
       "    <tr>\n",
       "      <th></th>\n",
       "      <th colspan=\"4\" halign=\"left\">Outlook</th>\n",
       "      <th colspan=\"4\" halign=\"left\">Temperature</th>\n",
       "      <th colspan=\"4\" halign=\"left\">Humidity</th>\n",
       "      <th colspan=\"4\" halign=\"left\">Play Tennis</th>\n",
       "    </tr>\n",
       "    <tr>\n",
       "      <th></th>\n",
       "      <th>count</th>\n",
       "      <th>unique</th>\n",
       "      <th>top</th>\n",
       "      <th>freq</th>\n",
       "      <th>count</th>\n",
       "      <th>unique</th>\n",
       "      <th>top</th>\n",
       "      <th>freq</th>\n",
       "      <th>count</th>\n",
       "      <th>unique</th>\n",
       "      <th>top</th>\n",
       "      <th>freq</th>\n",
       "      <th>count</th>\n",
       "      <th>unique</th>\n",
       "      <th>top</th>\n",
       "      <th>freq</th>\n",
       "    </tr>\n",
       "    <tr>\n",
       "      <th>Wind</th>\n",
       "      <th></th>\n",
       "      <th></th>\n",
       "      <th></th>\n",
       "      <th></th>\n",
       "      <th></th>\n",
       "      <th></th>\n",
       "      <th></th>\n",
       "      <th></th>\n",
       "      <th></th>\n",
       "      <th></th>\n",
       "      <th></th>\n",
       "      <th></th>\n",
       "      <th></th>\n",
       "      <th></th>\n",
       "      <th></th>\n",
       "      <th></th>\n",
       "    </tr>\n",
       "  </thead>\n",
       "  <tbody>\n",
       "    <tr>\n",
       "      <th>Strong</th>\n",
       "      <td>6</td>\n",
       "      <td>3</td>\n",
       "      <td>Rain</td>\n",
       "      <td>2</td>\n",
       "      <td>6</td>\n",
       "      <td>3</td>\n",
       "      <td>Mild</td>\n",
       "      <td>3</td>\n",
       "      <td>6</td>\n",
       "      <td>2</td>\n",
       "      <td>High</td>\n",
       "      <td>3</td>\n",
       "      <td>6</td>\n",
       "      <td>2</td>\n",
       "      <td>Yes</td>\n",
       "      <td>3</td>\n",
       "    </tr>\n",
       "    <tr>\n",
       "      <th>Weak</th>\n",
       "      <td>8</td>\n",
       "      <td>3</td>\n",
       "      <td>Sunny</td>\n",
       "      <td>3</td>\n",
       "      <td>8</td>\n",
       "      <td>3</td>\n",
       "      <td>Hot</td>\n",
       "      <td>3</td>\n",
       "      <td>8</td>\n",
       "      <td>2</td>\n",
       "      <td>High</td>\n",
       "      <td>4</td>\n",
       "      <td>8</td>\n",
       "      <td>2</td>\n",
       "      <td>Yes</td>\n",
       "      <td>6</td>\n",
       "    </tr>\n",
       "  </tbody>\n",
       "</table>\n",
       "</div>"
      ],
      "text/plain": [
       "       Outlook                    Temperature                   Humidity  \\\n",
       "         count unique    top freq       count unique   top freq    count   \n",
       "Wind                                                                       \n",
       "Strong       6      3   Rain    2           6      3  Mild    3        6   \n",
       "Weak         8      3  Sunny    3           8      3   Hot    3        8   \n",
       "\n",
       "                         Play Tennis                   \n",
       "       unique   top freq       count unique  top freq  \n",
       "Wind                                                   \n",
       "Strong      2  High    3           6      2  Yes    3  \n",
       "Weak        2  High    4           8      2  Yes    6  "
      ]
     },
     "execution_count": 37,
     "metadata": {},
     "output_type": "execute_result"
    }
   ],
   "source": [
    "df_wind=df.groupby(\"Wind\")\n",
    "df_wind.describe()"
   ]
  },
  {
   "cell_type": "code",
   "execution_count": 38,
   "id": "c1059558",
   "metadata": {},
   "outputs": [
    {
     "data": {
      "text/html": [
       "<div>\n",
       "<style scoped>\n",
       "    .dataframe tbody tr th:only-of-type {\n",
       "        vertical-align: middle;\n",
       "    }\n",
       "\n",
       "    .dataframe tbody tr th {\n",
       "        vertical-align: top;\n",
       "    }\n",
       "\n",
       "    .dataframe thead th {\n",
       "        text-align: right;\n",
       "    }\n",
       "</style>\n",
       "<table border=\"1\" class=\"dataframe\">\n",
       "  <thead>\n",
       "    <tr style=\"text-align: right;\">\n",
       "      <th></th>\n",
       "      <th>Outlook</th>\n",
       "      <th>Temperature</th>\n",
       "    </tr>\n",
       "  </thead>\n",
       "  <tbody>\n",
       "    <tr>\n",
       "      <th>0</th>\n",
       "      <td>Sunny</td>\n",
       "      <td>Hot</td>\n",
       "    </tr>\n",
       "    <tr>\n",
       "      <th>1</th>\n",
       "      <td>Sunny</td>\n",
       "      <td>Hot</td>\n",
       "    </tr>\n",
       "    <tr>\n",
       "      <th>2</th>\n",
       "      <td>Overcast</td>\n",
       "      <td>Hot</td>\n",
       "    </tr>\n",
       "    <tr>\n",
       "      <th>3</th>\n",
       "      <td>Rain</td>\n",
       "      <td>Mild</td>\n",
       "    </tr>\n",
       "    <tr>\n",
       "      <th>4</th>\n",
       "      <td>Rain</td>\n",
       "      <td>Cool</td>\n",
       "    </tr>\n",
       "    <tr>\n",
       "      <th>5</th>\n",
       "      <td>Rain</td>\n",
       "      <td>Cool</td>\n",
       "    </tr>\n",
       "    <tr>\n",
       "      <th>6</th>\n",
       "      <td>Overcast</td>\n",
       "      <td>Cool</td>\n",
       "    </tr>\n",
       "    <tr>\n",
       "      <th>7</th>\n",
       "      <td>Sunny</td>\n",
       "      <td>Mild</td>\n",
       "    </tr>\n",
       "    <tr>\n",
       "      <th>8</th>\n",
       "      <td>Sunny</td>\n",
       "      <td>Cool</td>\n",
       "    </tr>\n",
       "    <tr>\n",
       "      <th>9</th>\n",
       "      <td>Rain</td>\n",
       "      <td>Mild</td>\n",
       "    </tr>\n",
       "    <tr>\n",
       "      <th>10</th>\n",
       "      <td>Sunny</td>\n",
       "      <td>Mild</td>\n",
       "    </tr>\n",
       "    <tr>\n",
       "      <th>11</th>\n",
       "      <td>Overcast</td>\n",
       "      <td>Mild</td>\n",
       "    </tr>\n",
       "    <tr>\n",
       "      <th>12</th>\n",
       "      <td>Overcast</td>\n",
       "      <td>Hot</td>\n",
       "    </tr>\n",
       "    <tr>\n",
       "      <th>13</th>\n",
       "      <td>Rain</td>\n",
       "      <td>Mild</td>\n",
       "    </tr>\n",
       "  </tbody>\n",
       "</table>\n",
       "</div>"
      ],
      "text/plain": [
       "     Outlook Temperature\n",
       "0      Sunny         Hot\n",
       "1      Sunny         Hot\n",
       "2   Overcast         Hot\n",
       "3       Rain        Mild\n",
       "4       Rain        Cool\n",
       "5       Rain        Cool\n",
       "6   Overcast        Cool\n",
       "7      Sunny        Mild\n",
       "8      Sunny        Cool\n",
       "9       Rain        Mild\n",
       "10     Sunny        Mild\n",
       "11  Overcast        Mild\n",
       "12  Overcast         Hot\n",
       "13      Rain        Mild"
      ]
     },
     "execution_count": 38,
     "metadata": {},
     "output_type": "execute_result"
    }
   ],
   "source": [
    "df[[\"Outlook\",\"Temperature\"]]"
   ]
  },
  {
   "cell_type": "code",
   "execution_count": 39,
   "id": "ecc91404",
   "metadata": {},
   "outputs": [
    {
     "data": {
      "text/html": [
       "<div>\n",
       "<style scoped>\n",
       "    .dataframe tbody tr th:only-of-type {\n",
       "        vertical-align: middle;\n",
       "    }\n",
       "\n",
       "    .dataframe tbody tr th {\n",
       "        vertical-align: top;\n",
       "    }\n",
       "\n",
       "    .dataframe thead th {\n",
       "        text-align: right;\n",
       "    }\n",
       "</style>\n",
       "<table border=\"1\" class=\"dataframe\">\n",
       "  <thead>\n",
       "    <tr style=\"text-align: right;\">\n",
       "      <th></th>\n",
       "      <th>Outlook</th>\n",
       "      <th>Temperature</th>\n",
       "      <th>Humidity</th>\n",
       "      <th>Wind</th>\n",
       "      <th>Play Tennis</th>\n",
       "    </tr>\n",
       "  </thead>\n",
       "  <tbody>\n",
       "    <tr>\n",
       "      <th>0</th>\n",
       "      <td>Sunny</td>\n",
       "      <td>Hot</td>\n",
       "      <td>High</td>\n",
       "      <td>Weak</td>\n",
       "      <td>No</td>\n",
       "    </tr>\n",
       "    <tr>\n",
       "      <th>1</th>\n",
       "      <td>Sunny</td>\n",
       "      <td>Hot</td>\n",
       "      <td>High</td>\n",
       "      <td>Strong</td>\n",
       "      <td>No</td>\n",
       "    </tr>\n",
       "    <tr>\n",
       "      <th>2</th>\n",
       "      <td>Overcast</td>\n",
       "      <td>Hot</td>\n",
       "      <td>High</td>\n",
       "      <td>Weak</td>\n",
       "      <td>Yes</td>\n",
       "    </tr>\n",
       "    <tr>\n",
       "      <th>12</th>\n",
       "      <td>Overcast</td>\n",
       "      <td>Hot</td>\n",
       "      <td>Normal</td>\n",
       "      <td>Weak</td>\n",
       "      <td>Yes</td>\n",
       "    </tr>\n",
       "  </tbody>\n",
       "</table>\n",
       "</div>"
      ],
      "text/plain": [
       "     Outlook Temperature Humidity    Wind Play Tennis\n",
       "0      Sunny         Hot     High    Weak          No\n",
       "1      Sunny         Hot     High  Strong          No\n",
       "2   Overcast         Hot     High    Weak         Yes\n",
       "12  Overcast         Hot   Normal    Weak         Yes"
      ]
     },
     "execution_count": 39,
     "metadata": {},
     "output_type": "execute_result"
    }
   ],
   "source": [
    "df_temp=df[df[\"Temperature\"]==\"Hot\"]\n",
    "df_temp"
   ]
  },
  {
   "cell_type": "code",
   "execution_count": 40,
   "id": "25c2ec34",
   "metadata": {},
   "outputs": [],
   "source": [
    "import numpy as np\n",
    "import pandas as pd\n",
    "df=pd.read_csv(r\"C:\\Users\\OJUS\\OneDrive\\Desktop\\⠀\\DS\\Data Set\\salaries_final.csv\")"
   ]
  },
  {
   "cell_type": "code",
   "execution_count": 48,
   "id": "9c85b4b9",
   "metadata": {},
   "outputs": [
    {
     "data": {
      "text/html": [
       "<div>\n",
       "<style scoped>\n",
       "    .dataframe tbody tr th:only-of-type {\n",
       "        vertical-align: middle;\n",
       "    }\n",
       "\n",
       "    .dataframe tbody tr th {\n",
       "        vertical-align: top;\n",
       "    }\n",
       "\n",
       "    .dataframe thead th {\n",
       "        text-align: right;\n",
       "    }\n",
       "</style>\n",
       "<table border=\"1\" class=\"dataframe\">\n",
       "  <thead>\n",
       "    <tr style=\"text-align: right;\">\n",
       "      <th></th>\n",
       "      <th>Year</th>\n",
       "      <th>Name</th>\n",
       "      <th>Primary Job Title</th>\n",
       "      <th>Base Pay</th>\n",
       "      <th>Department</th>\n",
       "      <th>College</th>\n",
       "    </tr>\n",
       "  </thead>\n",
       "  <tbody>\n",
       "    <tr>\n",
       "      <th>0</th>\n",
       "      <td>2010</td>\n",
       "      <td>Abaied, Jamie L.</td>\n",
       "      <td>Assistant Professor</td>\n",
       "      <td>64000.0</td>\n",
       "      <td>Department of Psychological Science</td>\n",
       "      <td>CAS</td>\n",
       "    </tr>\n",
       "    <tr>\n",
       "      <th>1</th>\n",
       "      <td>2011</td>\n",
       "      <td>Abaied, Jamie L.</td>\n",
       "      <td>Assistant Professor</td>\n",
       "      <td>64000.0</td>\n",
       "      <td>Department of Psychological Science</td>\n",
       "      <td>CAS</td>\n",
       "    </tr>\n",
       "    <tr>\n",
       "      <th>2</th>\n",
       "      <td>2012</td>\n",
       "      <td>Abaied, Jamie L.</td>\n",
       "      <td>Assistant Professor</td>\n",
       "      <td>65229.0</td>\n",
       "      <td>Department of Psychological Science</td>\n",
       "      <td>CAS</td>\n",
       "    </tr>\n",
       "    <tr>\n",
       "      <th>3</th>\n",
       "      <td>2013</td>\n",
       "      <td>Abaied, Jamie L.</td>\n",
       "      <td>Assistant Professor</td>\n",
       "      <td>66969.0</td>\n",
       "      <td>Department of Psychological Science</td>\n",
       "      <td>CAS</td>\n",
       "    </tr>\n",
       "    <tr>\n",
       "      <th>4</th>\n",
       "      <td>2014</td>\n",
       "      <td>Abaied, Jamie L.</td>\n",
       "      <td>Assistant Professor</td>\n",
       "      <td>68658.0</td>\n",
       "      <td>Department of Psychological Science</td>\n",
       "      <td>CAS</td>\n",
       "    </tr>\n",
       "    <tr>\n",
       "      <th>...</th>\n",
       "      <td>...</td>\n",
       "      <td>...</td>\n",
       "      <td>...</td>\n",
       "      <td>...</td>\n",
       "      <td>...</td>\n",
       "      <td>...</td>\n",
       "    </tr>\n",
       "    <tr>\n",
       "      <th>14465</th>\n",
       "      <td>2016</td>\n",
       "      <td>van der Vliet, Albert</td>\n",
       "      <td>Professor</td>\n",
       "      <td>163635.0</td>\n",
       "      <td>Department of Pathology&amp;Laboratory Medicine</td>\n",
       "      <td>COM</td>\n",
       "    </tr>\n",
       "    <tr>\n",
       "      <th>14466</th>\n",
       "      <td>2017</td>\n",
       "      <td>van der Vliet, Albert</td>\n",
       "      <td>Professor</td>\n",
       "      <td>175294.0</td>\n",
       "      <td>Department of Pathology&amp;Laboratory Medicine</td>\n",
       "      <td>COM</td>\n",
       "    </tr>\n",
       "    <tr>\n",
       "      <th>14467</th>\n",
       "      <td>2018</td>\n",
       "      <td>van der Vliet, Albert</td>\n",
       "      <td>Professor</td>\n",
       "      <td>191000.0</td>\n",
       "      <td>Department of Pathology&amp;Laboratory Medicine</td>\n",
       "      <td>COM</td>\n",
       "    </tr>\n",
       "    <tr>\n",
       "      <th>14468</th>\n",
       "      <td>2019</td>\n",
       "      <td>van der Vliet, Albert</td>\n",
       "      <td>Professor</td>\n",
       "      <td>196000.0</td>\n",
       "      <td>Department of Pathology&amp;Laboratory Medicine</td>\n",
       "      <td>COM</td>\n",
       "    </tr>\n",
       "    <tr>\n",
       "      <th>14469</th>\n",
       "      <td>2020</td>\n",
       "      <td>van der Vliet, Albert</td>\n",
       "      <td>Professor</td>\n",
       "      <td>186200.0</td>\n",
       "      <td>Department of Pathology&amp;Laboratory Medicine</td>\n",
       "      <td>COM</td>\n",
       "    </tr>\n",
       "  </tbody>\n",
       "</table>\n",
       "<p>14470 rows × 6 columns</p>\n",
       "</div>"
      ],
      "text/plain": [
       "       Year                   Name    Primary Job Title  Base Pay  \\\n",
       "0      2010       Abaied, Jamie L.  Assistant Professor   64000.0   \n",
       "1      2011       Abaied, Jamie L.  Assistant Professor   64000.0   \n",
       "2      2012       Abaied, Jamie L.  Assistant Professor   65229.0   \n",
       "3      2013       Abaied, Jamie L.  Assistant Professor   66969.0   \n",
       "4      2014       Abaied, Jamie L.  Assistant Professor   68658.0   \n",
       "...     ...                    ...                  ...       ...   \n",
       "14465  2016  van der Vliet, Albert            Professor  163635.0   \n",
       "14466  2017  van der Vliet, Albert            Professor  175294.0   \n",
       "14467  2018  van der Vliet, Albert            Professor  191000.0   \n",
       "14468  2019  van der Vliet, Albert            Professor  196000.0   \n",
       "14469  2020  van der Vliet, Albert            Professor  186200.0   \n",
       "\n",
       "                                        Department College  \n",
       "0              Department of Psychological Science     CAS  \n",
       "1              Department of Psychological Science     CAS  \n",
       "2              Department of Psychological Science     CAS  \n",
       "3              Department of Psychological Science     CAS  \n",
       "4              Department of Psychological Science     CAS  \n",
       "...                                            ...     ...  \n",
       "14465  Department of Pathology&Laboratory Medicine     COM  \n",
       "14466  Department of Pathology&Laboratory Medicine     COM  \n",
       "14467  Department of Pathology&Laboratory Medicine     COM  \n",
       "14468  Department of Pathology&Laboratory Medicine     COM  \n",
       "14469  Department of Pathology&Laboratory Medicine     COM  \n",
       "\n",
       "[14470 rows x 6 columns]"
      ]
     },
     "execution_count": 48,
     "metadata": {},
     "output_type": "execute_result"
    }
   ],
   "source": [
    "df"
   ]
  },
  {
   "cell_type": "code",
   "execution_count": 50,
   "id": "c7581110",
   "metadata": {},
   "outputs": [
    {
     "data": {
      "text/plain": [
       "0        2010\n",
       "1        2011\n",
       "2        2012\n",
       "3        2013\n",
       "4        2014\n",
       "         ... \n",
       "14465    2016\n",
       "14466    2017\n",
       "14467    2018\n",
       "14468    2019\n",
       "14469    2020\n",
       "Name: Year, Length: 14470, dtype: int64"
      ]
     },
     "execution_count": 50,
     "metadata": {},
     "output_type": "execute_result"
    }
   ],
   "source": [
    "df.Year"
   ]
  },
  {
   "cell_type": "code",
   "execution_count": 51,
   "id": "d207ce87",
   "metadata": {},
   "outputs": [
    {
     "data": {
      "text/html": [
       "<div>\n",
       "<style scoped>\n",
       "    .dataframe tbody tr th:only-of-type {\n",
       "        vertical-align: middle;\n",
       "    }\n",
       "\n",
       "    .dataframe tbody tr th {\n",
       "        vertical-align: top;\n",
       "    }\n",
       "\n",
       "    .dataframe thead th {\n",
       "        text-align: right;\n",
       "    }\n",
       "</style>\n",
       "<table border=\"1\" class=\"dataframe\">\n",
       "  <thead>\n",
       "    <tr style=\"text-align: right;\">\n",
       "      <th></th>\n",
       "      <th>Year</th>\n",
       "      <th>Base Pay</th>\n",
       "    </tr>\n",
       "  </thead>\n",
       "  <tbody>\n",
       "    <tr>\n",
       "      <th>count</th>\n",
       "      <td>14470.000000</td>\n",
       "      <td>14470.000000</td>\n",
       "    </tr>\n",
       "    <tr>\n",
       "      <th>mean</th>\n",
       "      <td>2015.382308</td>\n",
       "      <td>70986.426381</td>\n",
       "    </tr>\n",
       "    <tr>\n",
       "      <th>std</th>\n",
       "      <td>3.373690</td>\n",
       "      <td>47287.464370</td>\n",
       "    </tr>\n",
       "    <tr>\n",
       "      <th>min</th>\n",
       "      <td>2009.000000</td>\n",
       "      <td>1707.000000</td>\n",
       "    </tr>\n",
       "    <tr>\n",
       "      <th>25%</th>\n",
       "      <td>2013.000000</td>\n",
       "      <td>35000.000000</td>\n",
       "    </tr>\n",
       "    <tr>\n",
       "      <th>50%</th>\n",
       "      <td>2016.000000</td>\n",
       "      <td>63550.000000</td>\n",
       "    </tr>\n",
       "    <tr>\n",
       "      <th>75%</th>\n",
       "      <td>2018.000000</td>\n",
       "      <td>90529.250000</td>\n",
       "    </tr>\n",
       "    <tr>\n",
       "      <th>max</th>\n",
       "      <td>2020.000000</td>\n",
       "      <td>446429.000000</td>\n",
       "    </tr>\n",
       "  </tbody>\n",
       "</table>\n",
       "</div>"
      ],
      "text/plain": [
       "               Year       Base Pay\n",
       "count  14470.000000   14470.000000\n",
       "mean    2015.382308   70986.426381\n",
       "std        3.373690   47287.464370\n",
       "min     2009.000000    1707.000000\n",
       "25%     2013.000000   35000.000000\n",
       "50%     2016.000000   63550.000000\n",
       "75%     2018.000000   90529.250000\n",
       "max     2020.000000  446429.000000"
      ]
     },
     "execution_count": 51,
     "metadata": {},
     "output_type": "execute_result"
    }
   ],
   "source": [
    "df.describe()"
   ]
  },
  {
   "cell_type": "code",
   "execution_count": 52,
   "id": "991d91ca",
   "metadata": {},
   "outputs": [
    {
     "data": {
      "text/plain": [
       "Year                                         2020\n",
       "Name                        van der Vliet, Albert\n",
       "Primary Job Title               Visiting Lecturer\n",
       "Base Pay                                 446429.0\n",
       "Department           Rubenstein Sch Env & Nat Res\n",
       "College                                     RSENR\n",
       "dtype: object"
      ]
     },
     "execution_count": 52,
     "metadata": {},
     "output_type": "execute_result"
    }
   ],
   "source": [
    "df.max()"
   ]
  },
  {
   "cell_type": "code",
   "execution_count": 53,
   "id": "e0f9829d",
   "metadata": {},
   "outputs": [
    {
     "data": {
      "text/plain": [
       "Year                                         2009\n",
       "Name                             Abaied, Jamie L.\n",
       "Primary Job Title     Academic Srvcs Professional\n",
       "Base Pay                                   1707.0\n",
       "Department           Department of Anesthesiology\n",
       "College                                  Business\n",
       "dtype: object"
      ]
     },
     "execution_count": 53,
     "metadata": {},
     "output_type": "execute_result"
    }
   ],
   "source": [
    "df.min()"
   ]
  },
  {
   "cell_type": "code",
   "execution_count": 54,
   "id": "03d8bc5f",
   "metadata": {},
   "outputs": [
    {
     "data": {
      "text/plain": [
       "Year         2015.382308\n",
       "Base Pay    70986.426381\n",
       "dtype: float64"
      ]
     },
     "execution_count": 54,
     "metadata": {},
     "output_type": "execute_result"
    }
   ],
   "source": [
    "df.mean()"
   ]
  },
  {
   "cell_type": "code",
   "execution_count": 55,
   "id": "d4e451ba",
   "metadata": {},
   "outputs": [
    {
     "data": {
      "text/plain": [
       "Year         2016.0\n",
       "Base Pay    63550.0\n",
       "dtype: float64"
      ]
     },
     "execution_count": 55,
     "metadata": {},
     "output_type": "execute_result"
    }
   ],
   "source": [
    "df.median()"
   ]
  },
  {
   "cell_type": "code",
   "execution_count": 56,
   "id": "e8f161f0",
   "metadata": {},
   "outputs": [
    {
     "data": {
      "text/plain": [
       "Year            3.37369\n",
       "Base Pay    47287.46437\n",
       "dtype: float64"
      ]
     },
     "execution_count": 56,
     "metadata": {},
     "output_type": "execute_result"
    }
   ],
   "source": [
    "df.std()"
   ]
  },
  {
   "cell_type": "code",
   "execution_count": 57,
   "id": "6970df9c",
   "metadata": {},
   "outputs": [
    {
     "data": {
      "text/html": [
       "<div>\n",
       "<style scoped>\n",
       "    .dataframe tbody tr th:only-of-type {\n",
       "        vertical-align: middle;\n",
       "    }\n",
       "\n",
       "    .dataframe tbody tr th {\n",
       "        vertical-align: top;\n",
       "    }\n",
       "\n",
       "    .dataframe thead th {\n",
       "        text-align: right;\n",
       "    }\n",
       "</style>\n",
       "<table border=\"1\" class=\"dataframe\">\n",
       "  <thead>\n",
       "    <tr style=\"text-align: right;\">\n",
       "      <th></th>\n",
       "      <th>Year</th>\n",
       "      <th>Name</th>\n",
       "      <th>Primary Job Title</th>\n",
       "      <th>Base Pay</th>\n",
       "      <th>Department</th>\n",
       "      <th>College</th>\n",
       "    </tr>\n",
       "  </thead>\n",
       "  <tbody>\n",
       "    <tr>\n",
       "      <th>0</th>\n",
       "      <td>2010</td>\n",
       "      <td>Abaied, Jamie L.</td>\n",
       "      <td>Assistant Professor</td>\n",
       "      <td>64000.0</td>\n",
       "      <td>Department of Psychological Science</td>\n",
       "      <td>CAS</td>\n",
       "    </tr>\n",
       "    <tr>\n",
       "      <th>1</th>\n",
       "      <td>2011</td>\n",
       "      <td>Abaied, Jamie L.</td>\n",
       "      <td>Assistant Professor</td>\n",
       "      <td>64000.0</td>\n",
       "      <td>Department of Psychological Science</td>\n",
       "      <td>CAS</td>\n",
       "    </tr>\n",
       "    <tr>\n",
       "      <th>2</th>\n",
       "      <td>2012</td>\n",
       "      <td>Abaied, Jamie L.</td>\n",
       "      <td>Assistant Professor</td>\n",
       "      <td>65229.0</td>\n",
       "      <td>Department of Psychological Science</td>\n",
       "      <td>CAS</td>\n",
       "    </tr>\n",
       "    <tr>\n",
       "      <th>3</th>\n",
       "      <td>2013</td>\n",
       "      <td>Abaied, Jamie L.</td>\n",
       "      <td>Assistant Professor</td>\n",
       "      <td>66969.0</td>\n",
       "      <td>Department of Psychological Science</td>\n",
       "      <td>CAS</td>\n",
       "    </tr>\n",
       "    <tr>\n",
       "      <th>4</th>\n",
       "      <td>2014</td>\n",
       "      <td>Abaied, Jamie L.</td>\n",
       "      <td>Assistant Professor</td>\n",
       "      <td>68658.0</td>\n",
       "      <td>Department of Psychological Science</td>\n",
       "      <td>CAS</td>\n",
       "    </tr>\n",
       "    <tr>\n",
       "      <th>...</th>\n",
       "      <td>...</td>\n",
       "      <td>...</td>\n",
       "      <td>...</td>\n",
       "      <td>...</td>\n",
       "      <td>...</td>\n",
       "      <td>...</td>\n",
       "    </tr>\n",
       "    <tr>\n",
       "      <th>14465</th>\n",
       "      <td>2016</td>\n",
       "      <td>van der Vliet, Albert</td>\n",
       "      <td>Professor</td>\n",
       "      <td>163635.0</td>\n",
       "      <td>Department of Pathology&amp;Laboratory Medicine</td>\n",
       "      <td>COM</td>\n",
       "    </tr>\n",
       "    <tr>\n",
       "      <th>14466</th>\n",
       "      <td>2017</td>\n",
       "      <td>van der Vliet, Albert</td>\n",
       "      <td>Professor</td>\n",
       "      <td>175294.0</td>\n",
       "      <td>Department of Pathology&amp;Laboratory Medicine</td>\n",
       "      <td>COM</td>\n",
       "    </tr>\n",
       "    <tr>\n",
       "      <th>14467</th>\n",
       "      <td>2018</td>\n",
       "      <td>van der Vliet, Albert</td>\n",
       "      <td>Professor</td>\n",
       "      <td>191000.0</td>\n",
       "      <td>Department of Pathology&amp;Laboratory Medicine</td>\n",
       "      <td>COM</td>\n",
       "    </tr>\n",
       "    <tr>\n",
       "      <th>14468</th>\n",
       "      <td>2019</td>\n",
       "      <td>van der Vliet, Albert</td>\n",
       "      <td>Professor</td>\n",
       "      <td>196000.0</td>\n",
       "      <td>Department of Pathology&amp;Laboratory Medicine</td>\n",
       "      <td>COM</td>\n",
       "    </tr>\n",
       "    <tr>\n",
       "      <th>14469</th>\n",
       "      <td>2020</td>\n",
       "      <td>van der Vliet, Albert</td>\n",
       "      <td>Professor</td>\n",
       "      <td>186200.0</td>\n",
       "      <td>Department of Pathology&amp;Laboratory Medicine</td>\n",
       "      <td>COM</td>\n",
       "    </tr>\n",
       "  </tbody>\n",
       "</table>\n",
       "<p>14470 rows × 6 columns</p>\n",
       "</div>"
      ],
      "text/plain": [
       "       Year                   Name    Primary Job Title  Base Pay  \\\n",
       "0      2010       Abaied, Jamie L.  Assistant Professor   64000.0   \n",
       "1      2011       Abaied, Jamie L.  Assistant Professor   64000.0   \n",
       "2      2012       Abaied, Jamie L.  Assistant Professor   65229.0   \n",
       "3      2013       Abaied, Jamie L.  Assistant Professor   66969.0   \n",
       "4      2014       Abaied, Jamie L.  Assistant Professor   68658.0   \n",
       "...     ...                    ...                  ...       ...   \n",
       "14465  2016  van der Vliet, Albert            Professor  163635.0   \n",
       "14466  2017  van der Vliet, Albert            Professor  175294.0   \n",
       "14467  2018  van der Vliet, Albert            Professor  191000.0   \n",
       "14468  2019  van der Vliet, Albert            Professor  196000.0   \n",
       "14469  2020  van der Vliet, Albert            Professor  186200.0   \n",
       "\n",
       "                                        Department College  \n",
       "0              Department of Psychological Science     CAS  \n",
       "1              Department of Psychological Science     CAS  \n",
       "2              Department of Psychological Science     CAS  \n",
       "3              Department of Psychological Science     CAS  \n",
       "4              Department of Psychological Science     CAS  \n",
       "...                                            ...     ...  \n",
       "14465  Department of Pathology&Laboratory Medicine     COM  \n",
       "14466  Department of Pathology&Laboratory Medicine     COM  \n",
       "14467  Department of Pathology&Laboratory Medicine     COM  \n",
       "14468  Department of Pathology&Laboratory Medicine     COM  \n",
       "14469  Department of Pathology&Laboratory Medicine     COM  \n",
       "\n",
       "[14470 rows x 6 columns]"
      ]
     },
     "execution_count": 57,
     "metadata": {},
     "output_type": "execute_result"
    }
   ],
   "source": [
    "df.dropna()"
   ]
  },
  {
   "cell_type": "code",
   "execution_count": 58,
   "id": "a52e76ee",
   "metadata": {},
   "outputs": [
    {
     "data": {
      "text/plain": [
       "0        2010\n",
       "1        2011\n",
       "2        2012\n",
       "3        2013\n",
       "4        2014\n",
       "         ... \n",
       "14465    2016\n",
       "14466    2017\n",
       "14467    2018\n",
       "14468    2019\n",
       "14469    2020\n",
       "Name: Year, Length: 14470, dtype: int64"
      ]
     },
     "execution_count": 58,
     "metadata": {},
     "output_type": "execute_result"
    }
   ],
   "source": [
    "df['Year']"
   ]
  },
  {
   "cell_type": "code",
   "execution_count": 59,
   "id": "98c6c0b5",
   "metadata": {},
   "outputs": [
    {
     "data": {
      "text/plain": [
       "dtype('int64')"
      ]
     },
     "execution_count": 59,
     "metadata": {},
     "output_type": "execute_result"
    }
   ],
   "source": [
    "df['Year'].dtype"
   ]
  },
  {
   "cell_type": "code",
   "execution_count": 60,
   "id": "37d1eda3",
   "metadata": {},
   "outputs": [
    {
     "data": {
      "text/plain": [
       "Year                   int64\n",
       "Name                  object\n",
       "Primary Job Title     object\n",
       "Base Pay             float64\n",
       "Department            object\n",
       "College               object\n",
       "dtype: object"
      ]
     },
     "execution_count": 60,
     "metadata": {},
     "output_type": "execute_result"
    }
   ],
   "source": [
    "df.dtypes"
   ]
  },
  {
   "cell_type": "code",
   "execution_count": 61,
   "id": "929e7cd9",
   "metadata": {},
   "outputs": [
    {
     "data": {
      "text/plain": [
       "Index(['Year', 'Name', 'Primary Job Title', 'Base Pay', 'Department',\n",
       "       'College'],\n",
       "      dtype='object')"
      ]
     },
     "execution_count": 61,
     "metadata": {},
     "output_type": "execute_result"
    }
   ],
   "source": [
    "df.columns"
   ]
  },
  {
   "cell_type": "code",
   "execution_count": 62,
   "id": "b8cc6829",
   "metadata": {},
   "outputs": [
    {
     "data": {
      "text/plain": [
       "[RangeIndex(start=0, stop=14470, step=1),\n",
       " Index(['Year', 'Name', 'Primary Job Title', 'Base Pay', 'Department',\n",
       "        'College'],\n",
       "       dtype='object')]"
      ]
     },
     "execution_count": 62,
     "metadata": {},
     "output_type": "execute_result"
    }
   ],
   "source": [
    "df.axes"
   ]
  },
  {
   "cell_type": "code",
   "execution_count": 63,
   "id": "61bf077e",
   "metadata": {},
   "outputs": [
    {
     "data": {
      "text/plain": [
       "2"
      ]
     },
     "execution_count": 63,
     "metadata": {},
     "output_type": "execute_result"
    }
   ],
   "source": [
    "df.ndim"
   ]
  },
  {
   "cell_type": "code",
   "execution_count": 65,
   "id": "074290fc",
   "metadata": {},
   "outputs": [
    {
     "data": {
      "text/plain": [
       "86820"
      ]
     },
     "execution_count": 65,
     "metadata": {},
     "output_type": "execute_result"
    }
   ],
   "source": [
    "df.size"
   ]
  },
  {
   "cell_type": "code",
   "execution_count": 66,
   "id": "5c6efb4f",
   "metadata": {},
   "outputs": [
    {
     "data": {
      "text/plain": [
       "(14470, 6)"
      ]
     },
     "execution_count": 66,
     "metadata": {},
     "output_type": "execute_result"
    }
   ],
   "source": [
    "df.shape"
   ]
  },
  {
   "cell_type": "code",
   "execution_count": 67,
   "id": "3fed4b19",
   "metadata": {},
   "outputs": [
    {
     "data": {
      "text/plain": [
       "array([[2010, 'Abaied, Jamie L.', 'Assistant Professor', 64000.0,\n",
       "        'Department of Psychological Science', 'CAS'],\n",
       "       [2011, 'Abaied, Jamie L.', 'Assistant Professor', 64000.0,\n",
       "        'Department of Psychological Science', 'CAS'],\n",
       "       [2012, 'Abaied, Jamie L.', 'Assistant Professor', 65229.0,\n",
       "        'Department of Psychological Science', 'CAS'],\n",
       "       ...,\n",
       "       [2018, 'van der Vliet, Albert', 'Professor', 191000.0,\n",
       "        'Department of Pathology&Laboratory Medicine', 'COM'],\n",
       "       [2019, 'van der Vliet, Albert', 'Professor', 196000.0,\n",
       "        'Department of Pathology&Laboratory Medicine', 'COM'],\n",
       "       [2020, 'van der Vliet, Albert', 'Professor', 186200.0,\n",
       "        'Department of Pathology&Laboratory Medicine', 'COM']],\n",
       "      dtype=object)"
      ]
     },
     "execution_count": 67,
     "metadata": {},
     "output_type": "execute_result"
    }
   ],
   "source": [
    "df.values"
   ]
  },
  {
   "cell_type": "code",
   "execution_count": 41,
   "id": "59fe7669",
   "metadata": {},
   "outputs": [
    {
     "data": {
      "text/html": [
       "<div>\n",
       "<style scoped>\n",
       "    .dataframe tbody tr th:only-of-type {\n",
       "        vertical-align: middle;\n",
       "    }\n",
       "\n",
       "    .dataframe tbody tr th {\n",
       "        vertical-align: top;\n",
       "    }\n",
       "\n",
       "    .dataframe thead th {\n",
       "        text-align: right;\n",
       "    }\n",
       "</style>\n",
       "<table border=\"1\" class=\"dataframe\">\n",
       "  <thead>\n",
       "    <tr style=\"text-align: right;\">\n",
       "      <th></th>\n",
       "      <th>Base Pay</th>\n",
       "    </tr>\n",
       "    <tr>\n",
       "      <th>Name</th>\n",
       "      <th></th>\n",
       "    </tr>\n",
       "  </thead>\n",
       "  <tbody>\n",
       "    <tr>\n",
       "      <th>Abaied, Jamie L.</th>\n",
       "      <td>71838.095455</td>\n",
       "    </tr>\n",
       "    <tr>\n",
       "      <th>Abajian, Michael John</th>\n",
       "      <td>39014.299000</td>\n",
       "    </tr>\n",
       "    <tr>\n",
       "      <th>Abajian, Michelle A</th>\n",
       "      <td>48000.000000</td>\n",
       "    </tr>\n",
       "    <tr>\n",
       "      <th>Abbott, John D.</th>\n",
       "      <td>49446.227273</td>\n",
       "    </tr>\n",
       "    <tr>\n",
       "      <th>Abdul-Karim, Yasmeen</th>\n",
       "      <td>30000.000000</td>\n",
       "    </tr>\n",
       "    <tr>\n",
       "      <th>...</th>\n",
       "      <td>...</td>\n",
       "    </tr>\n",
       "    <tr>\n",
       "      <th>deLaBruere, Lucie Y.</th>\n",
       "      <td>5253.000000</td>\n",
       "    </tr>\n",
       "    <tr>\n",
       "      <th>deRosset, Louis H.</th>\n",
       "      <td>83190.750000</td>\n",
       "    </tr>\n",
       "    <tr>\n",
       "      <th>van den Berg, Abby Katrien</th>\n",
       "      <td>78488.601667</td>\n",
       "    </tr>\n",
       "    <tr>\n",
       "      <th>van den Broek-Altenburg, Eline</th>\n",
       "      <td>115966.666667</td>\n",
       "    </tr>\n",
       "    <tr>\n",
       "      <th>van der Vliet, Albert</th>\n",
       "      <td>162578.166667</td>\n",
       "    </tr>\n",
       "  </tbody>\n",
       "</table>\n",
       "<p>2047 rows × 1 columns</p>\n",
       "</div>"
      ],
      "text/plain": [
       "                                     Base Pay\n",
       "Name                                         \n",
       "Abaied, Jamie L.                 71838.095455\n",
       "Abajian, Michael John            39014.299000\n",
       "Abajian, Michelle A              48000.000000\n",
       "Abbott, John D.                  49446.227273\n",
       "Abdul-Karim, Yasmeen             30000.000000\n",
       "...                                       ...\n",
       "deLaBruere, Lucie Y.              5253.000000\n",
       "deRosset, Louis H.               83190.750000\n",
       "van den Berg, Abby Katrien       78488.601667\n",
       "van den Broek-Altenburg, Eline  115966.666667\n",
       "van der Vliet, Albert           162578.166667\n",
       "\n",
       "[2047 rows x 1 columns]"
      ]
     },
     "execution_count": 41,
     "metadata": {},
     "output_type": "execute_result"
    }
   ],
   "source": [
    "df.groupby(\"Name\")[[\"Base Pay\"]].mean()"
   ]
  },
  {
   "cell_type": "code",
   "execution_count": 42,
   "id": "7aea6f27",
   "metadata": {},
   "outputs": [
    {
     "data": {
      "text/html": [
       "<div>\n",
       "<style scoped>\n",
       "    .dataframe tbody tr th:only-of-type {\n",
       "        vertical-align: middle;\n",
       "    }\n",
       "\n",
       "    .dataframe tbody tr th {\n",
       "        vertical-align: top;\n",
       "    }\n",
       "\n",
       "    .dataframe thead th {\n",
       "        text-align: right;\n",
       "    }\n",
       "</style>\n",
       "<table border=\"1\" class=\"dataframe\">\n",
       "  <thead>\n",
       "    <tr style=\"text-align: right;\">\n",
       "      <th></th>\n",
       "      <th>Year</th>\n",
       "      <th>Name</th>\n",
       "      <th>Primary Job Title</th>\n",
       "      <th>Base Pay</th>\n",
       "      <th>Department</th>\n",
       "      <th>College</th>\n",
       "    </tr>\n",
       "  </thead>\n",
       "  <tbody>\n",
       "    <tr>\n",
       "      <th>10</th>\n",
       "      <td>2020</td>\n",
       "      <td>Abaied, Jamie L.</td>\n",
       "      <td>Associate Professor</td>\n",
       "      <td>86934.00</td>\n",
       "      <td>Department of Psychological Science</td>\n",
       "      <td>CAS</td>\n",
       "    </tr>\n",
       "    <tr>\n",
       "      <th>11</th>\n",
       "      <td>2011</td>\n",
       "      <td>Abajian, Michael John</td>\n",
       "      <td>Lecturer</td>\n",
       "      <td>5000.00</td>\n",
       "      <td>Department of Nursing</td>\n",
       "      <td>CNHS</td>\n",
       "    </tr>\n",
       "    <tr>\n",
       "      <th>12</th>\n",
       "      <td>2012</td>\n",
       "      <td>Abajian, Michael John</td>\n",
       "      <td>Lecturer</td>\n",
       "      <td>5101.00</td>\n",
       "      <td>Department of Nursing</td>\n",
       "      <td>CNHS</td>\n",
       "    </tr>\n",
       "    <tr>\n",
       "      <th>13</th>\n",
       "      <td>2013</td>\n",
       "      <td>Abajian, Michael John</td>\n",
       "      <td>Lecturer</td>\n",
       "      <td>40580.00</td>\n",
       "      <td>Department of Nursing</td>\n",
       "      <td>CNHS</td>\n",
       "    </tr>\n",
       "    <tr>\n",
       "      <th>14</th>\n",
       "      <td>2014</td>\n",
       "      <td>Abajian, Michael John</td>\n",
       "      <td>Lecturer</td>\n",
       "      <td>41972.00</td>\n",
       "      <td>Department of Nursing</td>\n",
       "      <td>CNHS</td>\n",
       "    </tr>\n",
       "    <tr>\n",
       "      <th>15</th>\n",
       "      <td>2015</td>\n",
       "      <td>Abajian, Michael John</td>\n",
       "      <td>Lecturer</td>\n",
       "      <td>43786.00</td>\n",
       "      <td>Department of Nursing</td>\n",
       "      <td>CNHS</td>\n",
       "    </tr>\n",
       "    <tr>\n",
       "      <th>16</th>\n",
       "      <td>2016</td>\n",
       "      <td>Abajian, Michael John</td>\n",
       "      <td>Lecturer</td>\n",
       "      <td>47344.99</td>\n",
       "      <td>Department of Nursing</td>\n",
       "      <td>CNHS</td>\n",
       "    </tr>\n",
       "    <tr>\n",
       "      <th>17</th>\n",
       "      <td>2017</td>\n",
       "      <td>Abajian, Michael John</td>\n",
       "      <td>Lecturer</td>\n",
       "      <td>47345.00</td>\n",
       "      <td>Department of Nursing</td>\n",
       "      <td>CNHS</td>\n",
       "    </tr>\n",
       "    <tr>\n",
       "      <th>18</th>\n",
       "      <td>2018</td>\n",
       "      <td>Abajian, Michael John</td>\n",
       "      <td>Lecturer</td>\n",
       "      <td>51790.00</td>\n",
       "      <td>Department of Nursing</td>\n",
       "      <td>CNHS</td>\n",
       "    </tr>\n",
       "    <tr>\n",
       "      <th>19</th>\n",
       "      <td>2019</td>\n",
       "      <td>Abajian, Michael John</td>\n",
       "      <td>Lecturer</td>\n",
       "      <td>53612.00</td>\n",
       "      <td>Department of Nursing</td>\n",
       "      <td>CNHS</td>\n",
       "    </tr>\n",
       "  </tbody>\n",
       "</table>\n",
       "</div>"
      ],
      "text/plain": [
       "    Year                   Name    Primary Job Title  Base Pay  \\\n",
       "10  2020       Abaied, Jamie L.  Associate Professor  86934.00   \n",
       "11  2011  Abajian, Michael John             Lecturer   5000.00   \n",
       "12  2012  Abajian, Michael John             Lecturer   5101.00   \n",
       "13  2013  Abajian, Michael John             Lecturer  40580.00   \n",
       "14  2014  Abajian, Michael John             Lecturer  41972.00   \n",
       "15  2015  Abajian, Michael John             Lecturer  43786.00   \n",
       "16  2016  Abajian, Michael John             Lecturer  47344.99   \n",
       "17  2017  Abajian, Michael John             Lecturer  47345.00   \n",
       "18  2018  Abajian, Michael John             Lecturer  51790.00   \n",
       "19  2019  Abajian, Michael John             Lecturer  53612.00   \n",
       "\n",
       "                             Department College  \n",
       "10  Department of Psychological Science     CAS  \n",
       "11                Department of Nursing    CNHS  \n",
       "12                Department of Nursing    CNHS  \n",
       "13                Department of Nursing    CNHS  \n",
       "14                Department of Nursing    CNHS  \n",
       "15                Department of Nursing    CNHS  \n",
       "16                Department of Nursing    CNHS  \n",
       "17                Department of Nursing    CNHS  \n",
       "18                Department of Nursing    CNHS  \n",
       "19                Department of Nursing    CNHS  "
      ]
     },
     "execution_count": 42,
     "metadata": {},
     "output_type": "execute_result"
    }
   ],
   "source": [
    "df[10:20]"
   ]
  },
  {
   "cell_type": "code",
   "execution_count": 43,
   "id": "48299749",
   "metadata": {},
   "outputs": [
    {
     "data": {
      "text/html": [
       "<div>\n",
       "<style scoped>\n",
       "    .dataframe tbody tr th:only-of-type {\n",
       "        vertical-align: middle;\n",
       "    }\n",
       "\n",
       "    .dataframe tbody tr th {\n",
       "        vertical-align: top;\n",
       "    }\n",
       "\n",
       "    .dataframe thead th {\n",
       "        text-align: right;\n",
       "    }\n",
       "</style>\n",
       "<table border=\"1\" class=\"dataframe\">\n",
       "  <thead>\n",
       "    <tr style=\"text-align: right;\">\n",
       "      <th></th>\n",
       "      <th>Year</th>\n",
       "      <th>Name</th>\n",
       "      <th>Primary Job Title</th>\n",
       "      <th>Department</th>\n",
       "      <th>College</th>\n",
       "    </tr>\n",
       "    <tr>\n",
       "      <th>Base Pay</th>\n",
       "      <th></th>\n",
       "      <th></th>\n",
       "      <th></th>\n",
       "      <th></th>\n",
       "      <th></th>\n",
       "    </tr>\n",
       "  </thead>\n",
       "  <tbody>\n",
       "    <tr>\n",
       "      <th>1707.00</th>\n",
       "      <td>2019</td>\n",
       "      <td>Wilson, Jennifer E</td>\n",
       "      <td>Lecturer I</td>\n",
       "      <td>Department of Mathematics &amp; Statistics</td>\n",
       "      <td>CEMS</td>\n",
       "    </tr>\n",
       "    <tr>\n",
       "      <th>1737.00</th>\n",
       "      <td>2015</td>\n",
       "      <td>Lamore, Tricia Jean</td>\n",
       "      <td>Lecturer</td>\n",
       "      <td>Department of Biomedical and Health Sci</td>\n",
       "      <td>CNHS</td>\n",
       "    </tr>\n",
       "    <tr>\n",
       "      <th>1772.00</th>\n",
       "      <td>2018</td>\n",
       "      <td>Lamore, Tricia Jean</td>\n",
       "      <td>Lecturer</td>\n",
       "      <td>Department of Biomedical and Health Sci</td>\n",
       "      <td>CNHS</td>\n",
       "    </tr>\n",
       "    <tr>\n",
       "      <th>1804.00</th>\n",
       "      <td>2016</td>\n",
       "      <td>Ringler, Sarah Rose</td>\n",
       "      <td>Lecturer</td>\n",
       "      <td>Department of Psychological Science</td>\n",
       "      <td>CAS</td>\n",
       "    </tr>\n",
       "    <tr>\n",
       "      <th>1862.00</th>\n",
       "      <td>2016</td>\n",
       "      <td>Thompson, Ethan N.</td>\n",
       "      <td>Lecturer</td>\n",
       "      <td>Department of Plant Biology</td>\n",
       "      <td>CALS</td>\n",
       "    </tr>\n",
       "    <tr>\n",
       "      <th>...</th>\n",
       "      <td>...</td>\n",
       "      <td>...</td>\n",
       "      <td>...</td>\n",
       "      <td>...</td>\n",
       "      <td>...</td>\n",
       "    </tr>\n",
       "    <tr>\n",
       "      <th>427673.00</th>\n",
       "      <td>2019</td>\n",
       "      <td>Stein, Gary Stephen</td>\n",
       "      <td>Professor</td>\n",
       "      <td>Department of Biochemistry</td>\n",
       "      <td>CAS</td>\n",
       "    </tr>\n",
       "    <tr>\n",
       "      <th>429093.00</th>\n",
       "      <td>2015</td>\n",
       "      <td>Sullivan, E. Thomas</td>\n",
       "      <td>President</td>\n",
       "      <td>Department of Political Science</td>\n",
       "      <td>CAS</td>\n",
       "    </tr>\n",
       "    <tr>\n",
       "      <th>437674.86</th>\n",
       "      <td>2016</td>\n",
       "      <td>Sullivan, E. Thomas</td>\n",
       "      <td>President</td>\n",
       "      <td>Department of Political Science</td>\n",
       "      <td>CAS</td>\n",
       "    </tr>\n",
       "    <tr>\n",
       "      <th>437675.00</th>\n",
       "      <td>2017</td>\n",
       "      <td>Sullivan, E. Thomas</td>\n",
       "      <td>President</td>\n",
       "      <td>Department of Political Science</td>\n",
       "      <td>CAS</td>\n",
       "    </tr>\n",
       "    <tr>\n",
       "      <th>446429.00</th>\n",
       "      <td>2018</td>\n",
       "      <td>Sullivan, E. Thomas</td>\n",
       "      <td>President</td>\n",
       "      <td>Department of Political Science</td>\n",
       "      <td>CAS</td>\n",
       "    </tr>\n",
       "  </tbody>\n",
       "</table>\n",
       "<p>7551 rows × 5 columns</p>\n",
       "</div>"
      ],
      "text/plain": [
       "           Year                 Name Primary Job Title  \\\n",
       "Base Pay                                                 \n",
       "1707.00    2019   Wilson, Jennifer E        Lecturer I   \n",
       "1737.00    2015  Lamore, Tricia Jean          Lecturer   \n",
       "1772.00    2018  Lamore, Tricia Jean          Lecturer   \n",
       "1804.00    2016  Ringler, Sarah Rose          Lecturer   \n",
       "1862.00    2016   Thompson, Ethan N.          Lecturer   \n",
       "...         ...                  ...               ...   \n",
       "427673.00  2019  Stein, Gary Stephen         Professor   \n",
       "429093.00  2015  Sullivan, E. Thomas         President   \n",
       "437674.86  2016  Sullivan, E. Thomas         President   \n",
       "437675.00  2017  Sullivan, E. Thomas         President   \n",
       "446429.00  2018  Sullivan, E. Thomas         President   \n",
       "\n",
       "                                        Department College  \n",
       "Base Pay                                                    \n",
       "1707.00     Department of Mathematics & Statistics    CEMS  \n",
       "1737.00    Department of Biomedical and Health Sci    CNHS  \n",
       "1772.00    Department of Biomedical and Health Sci    CNHS  \n",
       "1804.00        Department of Psychological Science     CAS  \n",
       "1862.00                Department of Plant Biology    CALS  \n",
       "...                                            ...     ...  \n",
       "427673.00               Department of Biochemistry     CAS  \n",
       "429093.00          Department of Political Science     CAS  \n",
       "437674.86          Department of Political Science     CAS  \n",
       "437675.00          Department of Political Science     CAS  \n",
       "446429.00          Department of Political Science     CAS  \n",
       "\n",
       "[7551 rows x 5 columns]"
      ]
     },
     "execution_count": 43,
     "metadata": {},
     "output_type": "execute_result"
    }
   ],
   "source": [
    "df_bp=df.groupby(\"Base Pay\")\n",
    "df_bp.max()"
   ]
  },
  {
   "cell_type": "code",
   "execution_count": 44,
   "id": "f12bb40c",
   "metadata": {},
   "outputs": [
    {
     "data": {
      "text/html": [
       "<div>\n",
       "<style scoped>\n",
       "    .dataframe tbody tr th:only-of-type {\n",
       "        vertical-align: middle;\n",
       "    }\n",
       "\n",
       "    .dataframe tbody tr th {\n",
       "        vertical-align: top;\n",
       "    }\n",
       "\n",
       "    .dataframe thead th {\n",
       "        text-align: right;\n",
       "    }\n",
       "</style>\n",
       "<table border=\"1\" class=\"dataframe\">\n",
       "  <thead>\n",
       "    <tr style=\"text-align: right;\">\n",
       "      <th></th>\n",
       "      <th>Year</th>\n",
       "      <th>Name</th>\n",
       "    </tr>\n",
       "  </thead>\n",
       "  <tbody>\n",
       "    <tr>\n",
       "      <th>0</th>\n",
       "      <td>2010</td>\n",
       "      <td>Abaied, Jamie L.</td>\n",
       "    </tr>\n",
       "    <tr>\n",
       "      <th>1</th>\n",
       "      <td>2011</td>\n",
       "      <td>Abaied, Jamie L.</td>\n",
       "    </tr>\n",
       "    <tr>\n",
       "      <th>2</th>\n",
       "      <td>2012</td>\n",
       "      <td>Abaied, Jamie L.</td>\n",
       "    </tr>\n",
       "    <tr>\n",
       "      <th>3</th>\n",
       "      <td>2013</td>\n",
       "      <td>Abaied, Jamie L.</td>\n",
       "    </tr>\n",
       "    <tr>\n",
       "      <th>4</th>\n",
       "      <td>2014</td>\n",
       "      <td>Abaied, Jamie L.</td>\n",
       "    </tr>\n",
       "    <tr>\n",
       "      <th>...</th>\n",
       "      <td>...</td>\n",
       "      <td>...</td>\n",
       "    </tr>\n",
       "    <tr>\n",
       "      <th>14465</th>\n",
       "      <td>2016</td>\n",
       "      <td>van der Vliet, Albert</td>\n",
       "    </tr>\n",
       "    <tr>\n",
       "      <th>14466</th>\n",
       "      <td>2017</td>\n",
       "      <td>van der Vliet, Albert</td>\n",
       "    </tr>\n",
       "    <tr>\n",
       "      <th>14467</th>\n",
       "      <td>2018</td>\n",
       "      <td>van der Vliet, Albert</td>\n",
       "    </tr>\n",
       "    <tr>\n",
       "      <th>14468</th>\n",
       "      <td>2019</td>\n",
       "      <td>van der Vliet, Albert</td>\n",
       "    </tr>\n",
       "    <tr>\n",
       "      <th>14469</th>\n",
       "      <td>2020</td>\n",
       "      <td>van der Vliet, Albert</td>\n",
       "    </tr>\n",
       "  </tbody>\n",
       "</table>\n",
       "<p>14470 rows × 2 columns</p>\n",
       "</div>"
      ],
      "text/plain": [
       "       Year                   Name\n",
       "0      2010       Abaied, Jamie L.\n",
       "1      2011       Abaied, Jamie L.\n",
       "2      2012       Abaied, Jamie L.\n",
       "3      2013       Abaied, Jamie L.\n",
       "4      2014       Abaied, Jamie L.\n",
       "...     ...                    ...\n",
       "14465  2016  van der Vliet, Albert\n",
       "14466  2017  van der Vliet, Albert\n",
       "14467  2018  van der Vliet, Albert\n",
       "14468  2019  van der Vliet, Albert\n",
       "14469  2020  van der Vliet, Albert\n",
       "\n",
       "[14470 rows x 2 columns]"
      ]
     },
     "execution_count": 44,
     "metadata": {},
     "output_type": "execute_result"
    }
   ],
   "source": [
    "df[[\"Year\",\"Name\"]]"
   ]
  },
  {
   "cell_type": "code",
   "execution_count": 46,
   "id": "03a43d90",
   "metadata": {},
   "outputs": [
    {
     "data": {
      "text/html": [
       "<div>\n",
       "<style scoped>\n",
       "    .dataframe tbody tr th:only-of-type {\n",
       "        vertical-align: middle;\n",
       "    }\n",
       "\n",
       "    .dataframe tbody tr th {\n",
       "        vertical-align: top;\n",
       "    }\n",
       "\n",
       "    .dataframe thead th {\n",
       "        text-align: right;\n",
       "    }\n",
       "</style>\n",
       "<table border=\"1\" class=\"dataframe\">\n",
       "  <thead>\n",
       "    <tr style=\"text-align: right;\">\n",
       "      <th></th>\n",
       "      <th>Year</th>\n",
       "      <th>Name</th>\n",
       "      <th>Primary Job Title</th>\n",
       "      <th>Base Pay</th>\n",
       "      <th>Department</th>\n",
       "      <th>College</th>\n",
       "    </tr>\n",
       "  </thead>\n",
       "  <tbody>\n",
       "    <tr>\n",
       "      <th>8</th>\n",
       "      <td>2018</td>\n",
       "      <td>Abaied, Jamie L.</td>\n",
       "      <td>Associate Professor</td>\n",
       "      <td>84603.00</td>\n",
       "      <td>Department of Psychological Science</td>\n",
       "      <td>CAS</td>\n",
       "    </tr>\n",
       "    <tr>\n",
       "      <th>10</th>\n",
       "      <td>2020</td>\n",
       "      <td>Abaied, Jamie L.</td>\n",
       "      <td>Associate Professor</td>\n",
       "      <td>86934.00</td>\n",
       "      <td>Department of Psychological Science</td>\n",
       "      <td>CAS</td>\n",
       "    </tr>\n",
       "    <tr>\n",
       "      <th>90</th>\n",
       "      <td>2014</td>\n",
       "      <td>Acquisto, Joseph T.</td>\n",
       "      <td>Professor</td>\n",
       "      <td>87532.00</td>\n",
       "      <td>Department of Romance Languages</td>\n",
       "      <td>CAS</td>\n",
       "    </tr>\n",
       "    <tr>\n",
       "      <th>91</th>\n",
       "      <td>2015</td>\n",
       "      <td>Acquisto, Joseph T.</td>\n",
       "      <td>Professor</td>\n",
       "      <td>90415.00</td>\n",
       "      <td>Department of Romance Languages</td>\n",
       "      <td>CAS</td>\n",
       "    </tr>\n",
       "    <tr>\n",
       "      <th>92</th>\n",
       "      <td>2016</td>\n",
       "      <td>Acquisto, Joseph T.</td>\n",
       "      <td>Professor</td>\n",
       "      <td>109375.25</td>\n",
       "      <td>Department of Romance Languages</td>\n",
       "      <td>CAS</td>\n",
       "    </tr>\n",
       "    <tr>\n",
       "      <th>...</th>\n",
       "      <td>...</td>\n",
       "      <td>...</td>\n",
       "      <td>...</td>\n",
       "      <td>...</td>\n",
       "      <td>...</td>\n",
       "      <td>...</td>\n",
       "    </tr>\n",
       "    <tr>\n",
       "      <th>14465</th>\n",
       "      <td>2016</td>\n",
       "      <td>van der Vliet, Albert</td>\n",
       "      <td>Professor</td>\n",
       "      <td>163635.00</td>\n",
       "      <td>Department of Pathology&amp;Laboratory Medicine</td>\n",
       "      <td>COM</td>\n",
       "    </tr>\n",
       "    <tr>\n",
       "      <th>14466</th>\n",
       "      <td>2017</td>\n",
       "      <td>van der Vliet, Albert</td>\n",
       "      <td>Professor</td>\n",
       "      <td>175294.00</td>\n",
       "      <td>Department of Pathology&amp;Laboratory Medicine</td>\n",
       "      <td>COM</td>\n",
       "    </tr>\n",
       "    <tr>\n",
       "      <th>14467</th>\n",
       "      <td>2018</td>\n",
       "      <td>van der Vliet, Albert</td>\n",
       "      <td>Professor</td>\n",
       "      <td>191000.00</td>\n",
       "      <td>Department of Pathology&amp;Laboratory Medicine</td>\n",
       "      <td>COM</td>\n",
       "    </tr>\n",
       "    <tr>\n",
       "      <th>14468</th>\n",
       "      <td>2019</td>\n",
       "      <td>van der Vliet, Albert</td>\n",
       "      <td>Professor</td>\n",
       "      <td>196000.00</td>\n",
       "      <td>Department of Pathology&amp;Laboratory Medicine</td>\n",
       "      <td>COM</td>\n",
       "    </tr>\n",
       "    <tr>\n",
       "      <th>14469</th>\n",
       "      <td>2020</td>\n",
       "      <td>van der Vliet, Albert</td>\n",
       "      <td>Professor</td>\n",
       "      <td>186200.00</td>\n",
       "      <td>Department of Pathology&amp;Laboratory Medicine</td>\n",
       "      <td>COM</td>\n",
       "    </tr>\n",
       "  </tbody>\n",
       "</table>\n",
       "<p>4802 rows × 6 columns</p>\n",
       "</div>"
      ],
      "text/plain": [
       "       Year                   Name    Primary Job Title   Base Pay  \\\n",
       "8      2018       Abaied, Jamie L.  Associate Professor   84603.00   \n",
       "10     2020       Abaied, Jamie L.  Associate Professor   86934.00   \n",
       "90     2014    Acquisto, Joseph T.            Professor   87532.00   \n",
       "91     2015    Acquisto, Joseph T.            Professor   90415.00   \n",
       "92     2016    Acquisto, Joseph T.            Professor  109375.25   \n",
       "...     ...                    ...                  ...        ...   \n",
       "14465  2016  van der Vliet, Albert            Professor  163635.00   \n",
       "14466  2017  van der Vliet, Albert            Professor  175294.00   \n",
       "14467  2018  van der Vliet, Albert            Professor  191000.00   \n",
       "14468  2019  van der Vliet, Albert            Professor  196000.00   \n",
       "14469  2020  van der Vliet, Albert            Professor  186200.00   \n",
       "\n",
       "                                        Department College  \n",
       "8              Department of Psychological Science     CAS  \n",
       "10             Department of Psychological Science     CAS  \n",
       "90                 Department of Romance Languages     CAS  \n",
       "91                 Department of Romance Languages     CAS  \n",
       "92                 Department of Romance Languages     CAS  \n",
       "...                                            ...     ...  \n",
       "14465  Department of Pathology&Laboratory Medicine     COM  \n",
       "14466  Department of Pathology&Laboratory Medicine     COM  \n",
       "14467  Department of Pathology&Laboratory Medicine     COM  \n",
       "14468  Department of Pathology&Laboratory Medicine     COM  \n",
       "14469  Department of Pathology&Laboratory Medicine     COM  \n",
       "\n",
       "[4802 rows x 6 columns]"
      ]
     },
     "execution_count": 46,
     "metadata": {},
     "output_type": "execute_result"
    }
   ],
   "source": [
    "df_bp=df[df[\"Base Pay\"]>80000]\n",
    "df_bp"
   ]
  },
  {
   "cell_type": "code",
   "execution_count": null,
   "id": "605c12dd",
   "metadata": {},
   "outputs": [],
   "source": []
  }
 ],
 "metadata": {
  "kernelspec": {
   "display_name": "Python 3",
   "language": "python",
   "name": "python3"
  },
  "language_info": {
   "codemirror_mode": {
    "name": "ipython",
    "version": 3
   },
   "file_extension": ".py",
   "mimetype": "text/x-python",
   "name": "python",
   "nbconvert_exporter": "python",
   "pygments_lexer": "ipython3",
   "version": "3.8.8"
  }
 },
 "nbformat": 4,
 "nbformat_minor": 5
}
