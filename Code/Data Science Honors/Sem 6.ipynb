{
 "cells": [
  {
   "cell_type": "code",
   "execution_count": 5,
   "id": "adcd21c2",
   "metadata": {},
   "outputs": [
    {
     "name": "stdout",
     "output_type": "stream",
     "text": [
      "    Company     TV  Radio  News  Units\n",
      "0    Amazon  230.1   37.8  69.1   22.1\n",
      "1    Google   44.5   39.3  23.1   10.4\n",
      "2  Facebook   17.2   45.9  34.7   18.3\n",
      "3     Apple  151.5   41.3  13.2   18.5\n",
      "\n",
      "Predicted Units =  [226.75605304]\n"
     ]
    }
   ],
   "source": [
    "import pandas as pd\n",
    "import numpy as np\n",
    "from sklearn import linear_model \n",
    "\n",
    "data = {'Company' : ['Amazon', 'Google', 'Facebook', 'Apple'],\n",
    "        'TV' : [230.1, 44.5, 17.2, 151.5],\n",
    "        'Radio' : [37.8, 39.3, 45.9, 41.3],\n",
    "        'News' : [69.1, 23.1, 34.7, 13.2],\n",
    "        'Units' : [22.1, 10.4, 18.3, 18.5]}\n",
    "\n",
    "df =  pd.DataFrame(data)\n",
    "\n",
    "print(df)\n",
    "\n",
    "x = df[['TV', 'Radio']]\n",
    "y = df['Units']\n",
    "\n",
    "regr = linear_model.LinearRegression()\n",
    "\n",
    "regr.fit(x, y)\n",
    "\n",
    "predictUnit = regr.predict([[100, 200]])\n",
    "\n",
    "print(\"\\nPredicted Units = \", predictUnit)"
   ]
  },
  {
   "cell_type": "code",
   "execution_count": null,
   "id": "630011f7",
   "metadata": {},
   "outputs": [],
   "source": []
  }
 ],
 "metadata": {
  "kernelspec": {
   "display_name": "Python 3",
   "language": "python",
   "name": "python3"
  },
  "language_info": {
   "codemirror_mode": {
    "name": "ipython",
    "version": 3
   },
   "file_extension": ".py",
   "mimetype": "text/x-python",
   "name": "python",
   "nbconvert_exporter": "python",
   "pygments_lexer": "ipython3",
   "version": "3.8.8"
  }
 },
 "nbformat": 4,
 "nbformat_minor": 5
}
