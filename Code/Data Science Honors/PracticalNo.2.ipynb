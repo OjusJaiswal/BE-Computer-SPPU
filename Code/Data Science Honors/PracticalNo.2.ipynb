{
 "cells": [
  {
   "cell_type": "code",
   "execution_count": null,
   "metadata": {},
   "outputs": [],
   "source": [
    "# Practical No. 2\n",
    "# Data Science and Visualization\n",
    "\n",
    "'''Build training and testing dataset of assignment 1 to predict the probability of a survival\n",
    "of a person based on gender, age and passenger-class.'''"
   ]
  },
  {
   "cell_type": "code",
   "execution_count": 2,
   "metadata": {},
   "outputs": [],
   "source": [
    "import numpy as np\n",
    "import seaborn as sns\n",
    "import pandas as pd"
   ]
  },
  {
   "cell_type": "code",
   "execution_count": 3,
   "metadata": {},
   "outputs": [],
   "source": [
    "ds = sns.load_dataset('titanic')"
   ]
  },
  {
   "cell_type": "code",
   "execution_count": 4,
   "metadata": {},
   "outputs": [
    {
     "data": {
      "text/html": [
       "<div>\n",
       "<style scoped>\n",
       "    .dataframe tbody tr th:only-of-type {\n",
       "        vertical-align: middle;\n",
       "    }\n",
       "\n",
       "    .dataframe tbody tr th {\n",
       "        vertical-align: top;\n",
       "    }\n",
       "\n",
       "    .dataframe thead th {\n",
       "        text-align: right;\n",
       "    }\n",
       "</style>\n",
       "<table border=\"1\" class=\"dataframe\">\n",
       "  <thead>\n",
       "    <tr style=\"text-align: right;\">\n",
       "      <th></th>\n",
       "      <th>survived</th>\n",
       "      <th>pclass</th>\n",
       "      <th>sex</th>\n",
       "      <th>age</th>\n",
       "      <th>sibsp</th>\n",
       "      <th>parch</th>\n",
       "      <th>fare</th>\n",
       "      <th>embarked</th>\n",
       "      <th>class</th>\n",
       "      <th>who</th>\n",
       "      <th>adult_male</th>\n",
       "      <th>deck</th>\n",
       "      <th>embark_town</th>\n",
       "      <th>alive</th>\n",
       "      <th>alone</th>\n",
       "    </tr>\n",
       "  </thead>\n",
       "  <tbody>\n",
       "    <tr>\n",
       "      <th>0</th>\n",
       "      <td>0</td>\n",
       "      <td>3</td>\n",
       "      <td>male</td>\n",
       "      <td>22.0</td>\n",
       "      <td>1</td>\n",
       "      <td>0</td>\n",
       "      <td>7.2500</td>\n",
       "      <td>S</td>\n",
       "      <td>Third</td>\n",
       "      <td>man</td>\n",
       "      <td>True</td>\n",
       "      <td>NaN</td>\n",
       "      <td>Southampton</td>\n",
       "      <td>no</td>\n",
       "      <td>False</td>\n",
       "    </tr>\n",
       "    <tr>\n",
       "      <th>1</th>\n",
       "      <td>1</td>\n",
       "      <td>1</td>\n",
       "      <td>female</td>\n",
       "      <td>38.0</td>\n",
       "      <td>1</td>\n",
       "      <td>0</td>\n",
       "      <td>71.2833</td>\n",
       "      <td>C</td>\n",
       "      <td>First</td>\n",
       "      <td>woman</td>\n",
       "      <td>False</td>\n",
       "      <td>C</td>\n",
       "      <td>Cherbourg</td>\n",
       "      <td>yes</td>\n",
       "      <td>False</td>\n",
       "    </tr>\n",
       "    <tr>\n",
       "      <th>2</th>\n",
       "      <td>1</td>\n",
       "      <td>3</td>\n",
       "      <td>female</td>\n",
       "      <td>26.0</td>\n",
       "      <td>0</td>\n",
       "      <td>0</td>\n",
       "      <td>7.9250</td>\n",
       "      <td>S</td>\n",
       "      <td>Third</td>\n",
       "      <td>woman</td>\n",
       "      <td>False</td>\n",
       "      <td>NaN</td>\n",
       "      <td>Southampton</td>\n",
       "      <td>yes</td>\n",
       "      <td>True</td>\n",
       "    </tr>\n",
       "    <tr>\n",
       "      <th>3</th>\n",
       "      <td>1</td>\n",
       "      <td>1</td>\n",
       "      <td>female</td>\n",
       "      <td>35.0</td>\n",
       "      <td>1</td>\n",
       "      <td>0</td>\n",
       "      <td>53.1000</td>\n",
       "      <td>S</td>\n",
       "      <td>First</td>\n",
       "      <td>woman</td>\n",
       "      <td>False</td>\n",
       "      <td>C</td>\n",
       "      <td>Southampton</td>\n",
       "      <td>yes</td>\n",
       "      <td>False</td>\n",
       "    </tr>\n",
       "    <tr>\n",
       "      <th>4</th>\n",
       "      <td>0</td>\n",
       "      <td>3</td>\n",
       "      <td>male</td>\n",
       "      <td>35.0</td>\n",
       "      <td>0</td>\n",
       "      <td>0</td>\n",
       "      <td>8.0500</td>\n",
       "      <td>S</td>\n",
       "      <td>Third</td>\n",
       "      <td>man</td>\n",
       "      <td>True</td>\n",
       "      <td>NaN</td>\n",
       "      <td>Southampton</td>\n",
       "      <td>no</td>\n",
       "      <td>True</td>\n",
       "    </tr>\n",
       "  </tbody>\n",
       "</table>\n",
       "</div>"
      ],
      "text/plain": [
       "   survived  pclass     sex   age  sibsp  parch     fare embarked  class  \\\n",
       "0         0       3    male  22.0      1      0   7.2500        S  Third   \n",
       "1         1       1  female  38.0      1      0  71.2833        C  First   \n",
       "2         1       3  female  26.0      0      0   7.9250        S  Third   \n",
       "3         1       1  female  35.0      1      0  53.1000        S  First   \n",
       "4         0       3    male  35.0      0      0   8.0500        S  Third   \n",
       "\n",
       "     who  adult_male deck  embark_town alive  alone  \n",
       "0    man        True  NaN  Southampton    no  False  \n",
       "1  woman       False    C    Cherbourg   yes  False  \n",
       "2  woman       False  NaN  Southampton   yes   True  \n",
       "3  woman       False    C  Southampton   yes  False  \n",
       "4    man        True  NaN  Southampton    no   True  "
      ]
     },
     "execution_count": 4,
     "metadata": {},
     "output_type": "execute_result"
    }
   ],
   "source": [
    "ds.head()"
   ]
  },
  {
   "cell_type": "code",
   "execution_count": 5,
   "metadata": {},
   "outputs": [
    {
     "data": {
      "text/plain": [
       "891"
      ]
     },
     "execution_count": 5,
     "metadata": {},
     "output_type": "execute_result"
    }
   ],
   "source": [
    "len(ds)"
   ]
  },
  {
   "cell_type": "code",
   "execution_count": 6,
   "metadata": {},
   "outputs": [],
   "source": [
    "ds['age'] = ds['age'].fillna(ds['age'].median())\n",
    "# Data Cleaning\n",
    "\n",
    "x = ds['age'].values  #input\n",
    "y = ds['survived'] #output"
   ]
  },
  {
   "cell_type": "code",
   "execution_count": 7,
   "metadata": {},
   "outputs": [
    {
     "data": {
      "text/plain": [
       "(891, 1)"
      ]
     },
     "execution_count": 7,
     "metadata": {},
     "output_type": "execute_result"
    }
   ],
   "source": [
    "x = x.reshape(-1,1)\n",
    "x.shape"
   ]
  },
  {
   "cell_type": "code",
   "execution_count": 8,
   "metadata": {},
   "outputs": [],
   "source": [
    "from sklearn.model_selection import train_test_split"
   ]
  },
  {
   "cell_type": "code",
   "execution_count": 9,
   "metadata": {},
   "outputs": [],
   "source": [
    "x_train,x_test,y_train,y_test=train_test_split(\n",
    "    x, y, random_state = 0, test_size = 0.25)  \n",
    "# build train and test"
   ]
  },
  {
   "cell_type": "code",
   "execution_count": 10,
   "metadata": {},
   "outputs": [
    {
     "data": {
      "text/plain": [
       "668"
      ]
     },
     "execution_count": 10,
     "metadata": {},
     "output_type": "execute_result"
    }
   ],
   "source": [
    "len(x_train)"
   ]
  },
  {
   "cell_type": "code",
   "execution_count": 11,
   "metadata": {},
   "outputs": [
    {
     "data": {
      "text/plain": [
       "223"
      ]
     },
     "execution_count": 11,
     "metadata": {},
     "output_type": "execute_result"
    }
   ],
   "source": [
    "len(x_test)"
   ]
  },
  {
   "cell_type": "code",
   "execution_count": 12,
   "metadata": {},
   "outputs": [],
   "source": [
    "from collections import Counter"
   ]
  },
  {
   "cell_type": "code",
   "execution_count": 13,
   "metadata": {},
   "outputs": [
    {
     "data": {
      "text/plain": [
       "Counter({0: 549, 1: 342})"
      ]
     },
     "execution_count": 13,
     "metadata": {},
     "output_type": "execute_result"
    }
   ],
   "source": [
    "Counter(y)"
   ]
  },
  {
   "cell_type": "code",
   "execution_count": 14,
   "metadata": {},
   "outputs": [
    {
     "data": {
      "text/plain": [
       "<AxesSubplot:xlabel='survived', ylabel='count'>"
      ]
     },
     "execution_count": 14,
     "metadata": {},
     "output_type": "execute_result"
    },
    {
     "data": {
      "image/png": "[encoded data removed]",
      "text/plain": [
       "<Figure size 432x288 with 1 Axes>"
      ]
     },
     "metadata": {
      "needs_background": "light"
     },
     "output_type": "display_data"
    }
   ],
   "source": [
    "sns.countplot(x=y)"
   ]
  },
  {
   "cell_type": "code",
   "execution_count": 15,
   "metadata": {},
   "outputs": [],
   "source": [
    "from sklearn.naive_bayes import GaussianNB"
   ]
  },
  {
   "cell_type": "code",
   "execution_count": 16,
   "metadata": {},
   "outputs": [],
   "source": [
    "model = GaussianNB()"
   ]
  },
  {
   "cell_type": "code",
   "execution_count": 17,
   "metadata": {},
   "outputs": [
    {
     "data": {
      "text/plain": [
       "GaussianNB()"
      ]
     },
     "execution_count": 17,
     "metadata": {},
     "output_type": "execute_result"
    }
   ],
   "source": [
    "# train the algorithm with given training data\n",
    "model.fit(x_train, y_train)"
   ]
  },
  {
   "cell_type": "code",
   "execution_count": 18,
   "metadata": {},
   "outputs": [],
   "source": [
    "y_pred = model.predict_proba(x_test)"
   ]
  },
  {
   "cell_type": "code",
   "execution_count": 19,
   "metadata": {},
   "outputs": [
    {
     "data": {
      "text/plain": [
       "array([[0.62876821, 0.37123179],\n",
       "       [0.62876821, 0.37123179],\n",
       "       [0.51657653, 0.48342347],\n",
       "       [0.62876821, 0.37123179],\n",
       "       [0.63148867, 0.36851133],\n",
       "       [0.62876821, 0.37123179],\n",
       "       [0.64689984, 0.35310016],\n",
       "       [0.63625703, 0.36374297],\n",
       "       [0.6192395 , 0.3807605 ],\n",
       "       [0.62876821, 0.37123179],\n",
       "       [0.62264556, 0.37735444],\n",
       "       [0.64689984, 0.35310016],\n",
       "       [0.62876821, 0.37123179],\n",
       "       [0.51657653, 0.48342347],\n",
       "       [0.61560095, 0.38439905],\n",
       "       [0.56600603, 0.43399397],\n",
       "       [0.61172787, 0.38827213],\n",
       "       [0.59385049, 0.40614951],\n",
       "       [0.64314813, 0.35685187],\n",
       "       [0.45943048, 0.54056952],\n",
       "       [0.58877545, 0.41122455],\n",
       "       [0.60761825, 0.39238175],\n",
       "       [0.62876821, 0.37123179],\n",
       "       [0.62876821, 0.37123179],\n",
       "       [0.60761825, 0.39238175],\n",
       "       [0.64689984, 0.35310016],\n",
       "       [0.63830829, 0.36169171],\n",
       "       [0.60761825, 0.39238175],\n",
       "       [0.6192395 , 0.3807605 ],\n",
       "       [0.47403058, 0.52596942],\n",
       "       [0.64013966, 0.35986034],\n",
       "       [0.63835894, 0.36164106],\n",
       "       [0.62876821, 0.37123179],\n",
       "       [0.62876821, 0.37123179],\n",
       "       [0.63148867, 0.36851133],\n",
       "       [0.63830829, 0.36169171],\n",
       "       [0.64658851, 0.35341149],\n",
       "       [0.62876821, 0.37123179],\n",
       "       [0.6192395 , 0.3807605 ],\n",
       "       [0.62884219, 0.37115781],\n",
       "       [0.60772869, 0.39227131],\n",
       "       [0.6192395 , 0.3807605 ],\n",
       "       [0.62876821, 0.37123179],\n",
       "       [0.56600603, 0.43399397],\n",
       "       [0.64314813, 0.35685187],\n",
       "       [0.62876821, 0.37123179],\n",
       "       [0.62876821, 0.37123179],\n",
       "       [0.58877545, 0.41122455],\n",
       "       [0.64657737, 0.35342263],\n",
       "       [0.6340466 , 0.3659534 ],\n",
       "       [0.62876821, 0.37123179],\n",
       "       [0.61172787, 0.38827213],\n",
       "       [0.49173773, 0.50826227],\n",
       "       [0.59385049, 0.40614951],\n",
       "       [0.62876821, 0.37123179],\n",
       "       [0.61560095, 0.38439905],\n",
       "       [0.59880446, 0.40119554],\n",
       "       [0.5463121 , 0.4536879 ],\n",
       "       [0.53924847, 0.46075153],\n",
       "       [0.62876821, 0.37123179],\n",
       "       [0.60761825, 0.39238175],\n",
       "       [0.63148867, 0.36851133],\n",
       "       [0.62884219, 0.37115781],\n",
       "       [0.62876821, 0.37123179],\n",
       "       [0.62582114, 0.37417886],\n",
       "       [0.63830829, 0.36169171],\n",
       "       [0.64018459, 0.35981541],\n",
       "       [0.62876821, 0.37123179],\n",
       "       [0.47403058, 0.52596942],\n",
       "       [0.59385049, 0.40614951],\n",
       "       [0.61560095, 0.38439905],\n",
       "       [0.64179176, 0.35820824],\n",
       "       [0.62876821, 0.37123179],\n",
       "       [0.62876821, 0.37123179],\n",
       "       [0.61744941, 0.38255059],\n",
       "       [0.63398437, 0.36601563],\n",
       "       [0.59385049, 0.40614951],\n",
       "       [0.64689984, 0.35310016],\n",
       "       [0.64175253, 0.35824747],\n",
       "       [0.62876821, 0.37123179],\n",
       "       [0.62876821, 0.37123179],\n",
       "       [0.53193679, 0.46806321],\n",
       "       [0.62264556, 0.37735444],\n",
       "       [0.57788703, 0.42211297],\n",
       "       [0.64435549, 0.35564451],\n",
       "       [0.6032701 , 0.3967299 ],\n",
       "       [0.64690541, 0.35309459],\n",
       "       [0.59397985, 0.40602015],\n",
       "       [0.64175253, 0.35824747],\n",
       "       [0.58877545, 0.41122455],\n",
       "       [0.62876821, 0.37123179],\n",
       "       [0.59385049, 0.40614951],\n",
       "       [0.48299524, 0.51700476],\n",
       "       [0.64605821, 0.35394179],\n",
       "       [0.53193679, 0.46806321],\n",
       "       [0.62876821, 0.37123179],\n",
       "       [0.61560095, 0.38439905],\n",
       "       [0.57788703, 0.42211297],\n",
       "       [0.60772869, 0.39227131],\n",
       "       [0.62582114, 0.37417886],\n",
       "       [0.56600603, 0.43399397],\n",
       "       [0.62884219, 0.37115781],\n",
       "       [0.59385049, 0.40614951],\n",
       "       [0.58877545, 0.41122455],\n",
       "       [0.63148867, 0.36851133],\n",
       "       [0.64314813, 0.35685187],\n",
       "       [0.62876821, 0.37123179],\n",
       "       [0.64700915, 0.35299085],\n",
       "       [0.6192395 , 0.3807605 ],\n",
       "       [0.62876821, 0.37123179],\n",
       "       [0.64179176, 0.35820824],\n",
       "       [0.60761825, 0.39238175],\n",
       "       [0.63830829, 0.36169171],\n",
       "       [0.62876821, 0.37123179],\n",
       "       [0.64432756, 0.35567244],\n",
       "       [0.62876821, 0.37123179],\n",
       "       [0.61560095, 0.38439905],\n",
       "       [0.58877545, 0.41122455],\n",
       "       [0.64689984, 0.35310016],\n",
       "       [0.64531408, 0.35468592],\n",
       "       [0.62876821, 0.37123179],\n",
       "       [0.62876821, 0.37123179],\n",
       "       [0.59868146, 0.40131854],\n",
       "       [0.64604149, 0.35395851],\n",
       "       [0.64013966, 0.35986034],\n",
       "       [0.61569902, 0.38430098],\n",
       "       [0.62876821, 0.37123179],\n",
       "       [0.6192395 , 0.3807605 ],\n",
       "       [0.62876821, 0.37123179],\n",
       "       [0.63631345, 0.36368655],\n",
       "       [0.6032701 , 0.3967299 ],\n",
       "       [0.6032701 , 0.3967299 ],\n",
       "       [0.6192395 , 0.3807605 ],\n",
       "       [0.59868146, 0.40131854],\n",
       "       [0.58891121, 0.41108879],\n",
       "       [0.6032701 , 0.3967299 ],\n",
       "       [0.62876821, 0.37123179],\n",
       "       [0.64689984, 0.35310016],\n",
       "       [0.64605821, 0.35394179],\n",
       "       [0.61172787, 0.38827213],\n",
       "       [0.62876821, 0.37123179],\n",
       "       [0.64013966, 0.35986034],\n",
       "       [0.62876821, 0.37123179],\n",
       "       [0.58877545, 0.41122455],\n",
       "       [0.62876821, 0.37123179],\n",
       "       [0.61560095, 0.38439905],\n",
       "       [0.63398437, 0.36601563],\n",
       "       [0.64690541, 0.35309459],\n",
       "       [0.63835894, 0.36164106],\n",
       "       [0.62876821, 0.37123179],\n",
       "       [0.64531408, 0.35468592],\n",
       "       [0.63398437, 0.36601563],\n",
       "       [0.64529175, 0.35470825],\n",
       "       [0.63148867, 0.36851133],\n",
       "       [0.58345477, 0.41654523],\n",
       "       [0.62264556, 0.37735444],\n",
       "       [0.64531408, 0.35468592],\n",
       "       [0.59880446, 0.40119554],\n",
       "       [0.62876821, 0.37123179],\n",
       "       [0.46252279, 0.53747721],\n",
       "       [0.62876821, 0.37123179],\n",
       "       [0.59868146, 0.40131854],\n",
       "       [0.62884219, 0.37115781],\n",
       "       [0.64013966, 0.35986034],\n",
       "       [0.57207109, 0.42792891],\n",
       "       [0.6192395 , 0.3807605 ],\n",
       "       [0.63631345, 0.36368655],\n",
       "       [0.60761825, 0.39238175],\n",
       "       [0.61560095, 0.38439905],\n",
       "       [0.58345477, 0.41654523],\n",
       "       [0.63631345, 0.36368655],\n",
       "       [0.64604149, 0.35395851],\n",
       "       [0.62876821, 0.37123179],\n",
       "       [0.62876821, 0.37123179],\n",
       "       [0.55969127, 0.44030873],\n",
       "       [0.62876821, 0.37123179],\n",
       "       [0.63625703, 0.36374297],\n",
       "       [0.61172787, 0.38827213],\n",
       "       [0.59385049, 0.40614951],\n",
       "       [0.62876821, 0.37123179],\n",
       "       [0.63625703, 0.36374297],\n",
       "       [0.63625703, 0.36374297],\n",
       "       [0.59868146, 0.40131854],\n",
       "       [0.6032701 , 0.3967299 ],\n",
       "       [0.64486164, 0.35513836],\n",
       "       [0.60761825, 0.39238175],\n",
       "       [0.62876821, 0.37123179],\n",
       "       [0.62876821, 0.37123179],\n",
       "       [0.62264556, 0.37735444],\n",
       "       [0.6192395 , 0.3807605 ],\n",
       "       [0.6032701 , 0.3967299 ],\n",
       "       [0.63625703, 0.36374297],\n",
       "       [0.57207109, 0.42792891],\n",
       "       [0.62876821, 0.37123179],\n",
       "       [0.62876821, 0.37123179],\n",
       "       [0.58359697, 0.41640303],\n",
       "       [0.62876821, 0.37123179],\n",
       "       [0.46485056, 0.53514944],\n",
       "       [0.64175253, 0.35824747],\n",
       "       [0.64018459, 0.35981541],\n",
       "       [0.58877545, 0.41122455],\n",
       "       [0.62876821, 0.37123179],\n",
       "       [0.55330133, 0.44669867],\n",
       "       [0.56600603, 0.43399397],\n",
       "       [0.59385049, 0.40614951],\n",
       "       [0.63398437, 0.36601563],\n",
       "       [0.63625703, 0.36374297],\n",
       "       [0.63830829, 0.36169171],\n",
       "       [0.57788703, 0.42211297],\n",
       "       [0.63835894, 0.36164106],\n",
       "       [0.61560095, 0.38439905],\n",
       "       [0.62273148, 0.37726852],\n",
       "       [0.51657653, 0.48342347],\n",
       "       [0.53193679, 0.46806321],\n",
       "       [0.64013966, 0.35986034],\n",
       "       [0.59385049, 0.40614951],\n",
       "       [0.63925137, 0.36074863],\n",
       "       [0.46485056, 0.53514944],\n",
       "       [0.64531408, 0.35468592],\n",
       "       [0.62876821, 0.37123179],\n",
       "       [0.59385049, 0.40614951],\n",
       "       [0.6032701 , 0.3967299 ],\n",
       "       [0.49173773, 0.50826227]])"
      ]
     },
     "execution_count": 19,
     "metadata": {},
     "output_type": "execute_result"
    }
   ],
   "source": [
    "y_pred"
   ]
  },
  {
   "cell_type": "code",
   "execution_count": 20,
   "metadata": {},
   "outputs": [],
   "source": [
    "y_pred = model.predict(x_test)\n",
    "from sklearn.metrics import accuracy_score"
   ]
  },
  {
   "cell_type": "code",
   "execution_count": 21,
   "metadata": {},
   "outputs": [
    {
     "data": {
      "text/plain": [
       "65.47085201793722"
      ]
     },
     "execution_count": 21,
     "metadata": {},
     "output_type": "execute_result"
    }
   ],
   "source": [
    "accuracy_score(y_test, y_pred) * 100"
   ]
  },
  {
   "cell_type": "code",
   "execution_count": 22,
   "metadata": {},
   "outputs": [],
   "source": [
    "x = ds['pclass'].values\n",
    "y = ds['survived']\n",
    "x = x.reshape(-1,1)"
   ]
  },
  {
   "cell_type": "code",
   "execution_count": 23,
   "metadata": {},
   "outputs": [],
   "source": [
    "x_train,x_test,y_train,y_test=train_test_split(\n",
    "    x, y, random_state = 0, test_size = 0.25)  \n",
    "# build train and test"
   ]
  },
  {
   "cell_type": "code",
   "execution_count": 24,
   "metadata": {},
   "outputs": [
    {
     "data": {
      "text/plain": [
       "GaussianNB()"
      ]
     },
     "execution_count": 24,
     "metadata": {},
     "output_type": "execute_result"
    }
   ],
   "source": [
    "model = GaussianNB()\n",
    "model.fit(x_train, y_train)"
   ]
  },
  {
   "cell_type": "code",
   "execution_count": 25,
   "metadata": {},
   "outputs": [],
   "source": [
    "model.predict_proba(x_test);"
   ]
  },
  {
   "cell_type": "code",
   "execution_count": 26,
   "metadata": {},
   "outputs": [],
   "source": [
    "y_pred = model.predict(x_test)"
   ]
  },
  {
   "cell_type": "code",
   "execution_count": 27,
   "metadata": {},
   "outputs": [
    {
     "data": {
      "text/plain": [
       "70.85201793721974"
      ]
     },
     "execution_count": 27,
     "metadata": {},
     "output_type": "execute_result"
    }
   ],
   "source": [
    "accuracy_score(y_test, y_pred) * 100"
   ]
  },
  {
   "cell_type": "code",
   "execution_count": 28,
   "metadata": {},
   "outputs": [],
   "source": [
    "x = ds[['sex','pclass']]\n",
    "y = ds['survived']"
   ]
  },
  {
   "cell_type": "code",
   "execution_count": 29,
   "metadata": {},
   "outputs": [
    {
     "name": "stderr",
     "output_type": "stream",
     "text": [
      "<ipython-input-29-61f95b308646>:3: SettingWithCopyWarning: \n",
      "A value is trying to be set on a copy of a slice from a DataFrame.\n",
      "Try using .loc[row_indexer,col_indexer] = value instead\n",
      "\n",
      "See the caveats in the documentation: https://pandas.pydata.org/pandas-docs/stable/user_guide/indexing.html#returning-a-view-versus-a-copy\n",
      "  x['sex'] = enc.fit_transform(x['sex'])\n"
     ]
    }
   ],
   "source": [
    "from sklearn.preprocessing import LabelEncoder\n",
    "enc = LabelEncoder()\n",
    "x['sex'] = enc.fit_transform(x['sex'])"
   ]
  },
  {
   "cell_type": "code",
   "execution_count": 30,
   "metadata": {},
   "outputs": [],
   "source": [
    "#x =  x.reshape(-1,1)"
   ]
  },
  {
   "cell_type": "code",
   "execution_count": 31,
   "metadata": {},
   "outputs": [
    {
     "data": {
      "text/plain": [
       "GaussianNB()"
      ]
     },
     "execution_count": 31,
     "metadata": {},
     "output_type": "execute_result"
    }
   ],
   "source": [
    "x_train,x_test,y_train,y_test=train_test_split(\n",
    "    x, y, random_state = 0, test_size = 0.25)  \n",
    "# build train and test\n",
    "model = GaussianNB()\n",
    "model.fit(x_train, y_train)"
   ]
  },
  {
   "cell_type": "code",
   "execution_count": 32,
   "metadata": {},
   "outputs": [],
   "source": [
    "model.predict_proba(x_test);"
   ]
  },
  {
   "cell_type": "code",
   "execution_count": 33,
   "metadata": {},
   "outputs": [
    {
     "data": {
      "text/plain": [
       "78.02690582959642"
      ]
     },
     "execution_count": 33,
     "metadata": {},
     "output_type": "execute_result"
    }
   ],
   "source": [
    "y_pred = model.predict(x_test)\n",
    "accuracy_score(y_test, y_pred) * 100"
   ]
  },
  {
   "cell_type": "code",
   "execution_count": null,
   "metadata": {},
   "outputs": [],
   "source": []
  }
 ],
 "metadata": {
  "kernelspec": {
   "display_name": "Python 3",
   "language": "python",
   "name": "python3"
  },
  "language_info": {
   "codemirror_mode": {
    "name": "ipython",
    "version": 3
   },
   "file_extension": ".py",
   "mimetype": "text/x-python",
   "name": "python",
   "nbconvert_exporter": "python",
   "pygments_lexer": "ipython3",
   "version": "3.8.8"
  }
 },
 "nbformat": 4,
 "nbformat_minor": 4
}
