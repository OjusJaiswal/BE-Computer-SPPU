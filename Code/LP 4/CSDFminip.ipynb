{
 "cells": [
  {
   "cell_type": "code",
   "execution_count": 3,
   "metadata": {},
   "outputs": [],
   "source": [
    "from PIL import Image\n",
    "from PIL.ExifTags import TAGS"
   ]
  },
  {
   "cell_type": "code",
   "execution_count": 4,
   "metadata": {},
   "outputs": [],
   "source": [
    "# path to the image or video\n",
    "imagename =\"C://Users//OJUS//LP 4//CSDF_Image.jpg\"\n",
    "\n",
    "# read the image data using PIL\n",
    "image = Image.open(imagename)"
   ]
  },
  {
   "cell_type": "code",
   "execution_count": 5,
   "metadata": {},
   "outputs": [
    {
     "name": "stdout",
     "output_type": "stream",
     "text": [
      "Filename                 : C://Users//OJUS//LP 4//CSDF_Image.jpg\n",
      "Image Size               : (800, 600)\n",
      "Image Height             : 600\n",
      "Image Width              : 800\n",
      "Image Format             : JPEG\n",
      "Image Mode               : RGB\n",
      "Image is Animated        : False\n",
      "Frames in Image          : 1\n"
     ]
    }
   ],
   "source": [
    "# extract other basic metadata\n",
    "info_dict = {\n",
    "    \"Filename\": image.filename,\n",
    "    \"Image Size\": image.size,\n",
    "    \"Image Height\": image.height,\n",
    "    \"Image Width\": image.width,\n",
    "    \"Image Format\": image.format,\n",
    "    \"Image Mode\": image.mode,\n",
    "    \"Image is Animated\": getattr(image, \"is_animated\", False),\n",
    "    \"Frames in Image\": getattr(image, \"n_frames\", 1)\n",
    "}\n",
    "\n",
    "for label,value in info_dict.items():\n",
    "    print(f\"{label:25}: {value}\")"
   ]
  },
  {
   "cell_type": "code",
   "execution_count": 6,
   "metadata": {},
   "outputs": [],
   "source": [
    "# extract EXIF data\n",
    "exifdata = image.getexif()"
   ]
  },
  {
   "cell_type": "code",
   "execution_count": 7,
   "metadata": {},
   "outputs": [
    {
     "name": "stdout",
     "output_type": "stream",
     "text": [
      "ResolutionUnit           : 2\n",
      "ExifOffset               : 284\n",
      "ImageDescription         :           \n",
      "Make                     : NIKON\n",
      "Model                    : E950\n",
      "Software                 : v981-79\n",
      "Orientation              : 1\n",
      "DateTime                 : 2001:04:06 11:51:40\n",
      "YCbCrPositioning         : 2\n",
      "XResolution              : 300.0\n",
      "YResolution              : 300.0\n"
     ]
    }
   ],
   "source": [
    "# iterating over all EXIF data fields\n",
    "for tag_id in exifdata:\n",
    "    # get the tag name, instead of human unreadable tag id\n",
    "    tag = TAGS.get(tag_id, tag_id)\n",
    "    data = exifdata.get(tag_id)\n",
    "    # decode bytes \n",
    "    if isinstance(data, bytes):\n",
    "        data = data.decode()\n",
    "    print(f\"{tag:25}: {data}\")"
   ]
  },
  {
   "cell_type": "code",
   "execution_count": null,
   "metadata": {},
   "outputs": [],
   "source": []
  }
 ],
 "metadata": {
  "kernelspec": {
   "display_name": "Python 3",
   "language": "python",
   "name": "python3"
  },
  "language_info": {
   "codemirror_mode": {
    "name": "ipython",
    "version": 3
   },
   "file_extension": ".py",
   "mimetype": "text/x-python",
   "name": "python",
   "nbconvert_exporter": "python",
   "pygments_lexer": "ipython3",
   "version": "3.8.8"
  }
 },
 "nbformat": 4,
 "nbformat_minor": 4
}
