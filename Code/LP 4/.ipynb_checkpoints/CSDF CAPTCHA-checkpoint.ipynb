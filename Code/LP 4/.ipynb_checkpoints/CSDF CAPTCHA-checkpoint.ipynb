{
 "cells": [
  {
   "cell_type": "code",
   "execution_count": 1,
   "metadata": {},
   "outputs": [
    {
     "name": "stdout",
     "output_type": "stream",
     "text": [
      "ZogyfBpgu\n",
      "Enter above CAPTCHA:\n",
      "ZogyfBpgu\n",
      "CAPTCHA Matched\n"
     ]
    }
   ],
   "source": [
    "import random\n",
    " \n",
    "\n",
    "def checkCaptcha(captcha, user_captcha):\n",
    "    if captcha == user_captcha:\n",
    "        return True\n",
    "    return False\n",
    " \n",
    "\n",
    "def generateCaptcha(n):\n",
    "     \n",
    "    \n",
    "    chrs = \"abcdefghijklmnopqrstuvwxyzABCDEFGHIJKLMNOPQRSTUVWXYZ0123456789\"\n",
    "     \n",
    "    \n",
    "    captcha = \"\"\n",
    "    while (n):\n",
    "        captcha += chrs[random.randint(1, 1000) % 62]\n",
    "        n -= 1\n",
    "    return captcha\n",
    " \n",
    "captcha = generateCaptcha(9)\n",
    "print(captcha)\n",
    " \n",
    "\n",
    "print(\"Enter above CAPTCHA:\")\n",
    "usr_captcha = input()\n",
    " \n",
    "\n",
    "if (checkCaptcha(captcha, usr_captcha)):\n",
    "    print(\"CAPTCHA Matched\")\n",
    "else:\n",
    "    print(\"CAPTCHA Not Matched\")"
   ]
  },
  {
   "cell_type": "code",
   "execution_count": null,
   "metadata": {},
   "outputs": [],
   "source": []
  }
 ],
 "metadata": {
  "kernelspec": {
   "display_name": "Python 3",
   "language": "python",
   "name": "python3"
  },
  "language_info": {
   "codemirror_mode": {
    "name": "ipython",
    "version": 3
   },
   "file_extension": ".py",
   "mimetype": "text/x-python",
   "name": "python",
   "nbconvert_exporter": "python",
   "pygments_lexer": "ipython3",
   "version": "3.8.8"
  }
 },
 "nbformat": 4,
 "nbformat_minor": 4
}
