{
 "cells": [
  {
   "cell_type": "code",
   "execution_count": 1,
   "metadata": {},
   "outputs": [
    {
     "name": "stdout",
     "output_type": "stream",
     "text": [
      "128 Bit Key =  11111111000110000101110001100101100001010101010110010000001110101010011000101100111000100011010001110011000000101001110100010\n",
      "128 Random Bits Generated =  101010011110011010001000001111001110110111101001000011000101010001111101101000111001000011000011011100110001010111011111001011\n",
      "SRES =  01100111010010100001010000101000\n"
     ]
    }
   ],
   "source": [
    "import random\n",
    "\n",
    "k=random.getrandbits(128)\n",
    "m=random.getrandbits(128)\n",
    "kb=bin(k)[2:]\n",
    "mb=bin(m)[2:]\n",
    "kbl=kb[0:64]\n",
    "kbr=kb[64:]\n",
    "mbl=mb[0:64]\n",
    "mbr=mb[64:]\n",
    "a1=int(kbl,2)^int(mbr,2)\n",
    "a2=int(kbr,2)^int(mbl,2)\n",
    "a3=a1^a2\n",
    "a4=bin(a3)[2:].zfill(64)\n",
    "a5=a4[0:32]\n",
    "a6=a4[32:]\n",
    "a7=int(a5,2)^int(a6,2)\n",
    "print(\"128 Bit Key = \",kb)\n",
    "print(\"128 Random Bits Generated = \",mb)\n",
    "print(\"SRES = \",bin(a7)[2:].zfill(len(a5)))\n"
   ]
  },
  {
   "cell_type": "code",
   "execution_count": null,
   "metadata": {},
   "outputs": [],
   "source": []
  }
 ],
 "metadata": {
  "kernelspec": {
   "display_name": "Python 3",
   "language": "python",
   "name": "python3"
  },
  "language_info": {
   "codemirror_mode": {
    "name": "ipython",
    "version": 3
   },
   "file_extension": ".py",
   "mimetype": "text/x-python",
   "name": "python",
   "nbconvert_exporter": "python",
   "pygments_lexer": "ipython3",
   "version": "3.8.8"
  }
 },
 "nbformat": 4,
 "nbformat_minor": 4
}
