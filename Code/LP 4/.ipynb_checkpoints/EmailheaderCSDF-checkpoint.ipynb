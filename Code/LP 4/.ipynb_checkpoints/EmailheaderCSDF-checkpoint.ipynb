{
 "cells": [
  {
   "cell_type": "code",
   "execution_count": 1,
   "metadata": {
    "scrolled": true
   },
   "outputs": [
    {
     "name": "stdout",
     "output_type": "stream",
     "text": [
      "Enter path for email header file\n",
      "C:\\Users\\OJUS\\LP 4\\Email.txt\n",
      "mime-version:from:date\n",
      "Date: Wed, 26 Oct 2022 15:22:53 +0000 (UTC)\n",
      "subject:message-id:mime-version:from:date\n",
      "Delivered-To: ojusjaiswal2001@gmail.com\n",
      "from:date\n",
      "To: ojusjaiswal2001@gmail.com\n"
     ]
    }
   ],
   "source": [
    "import re\n",
    "def matchre(data,*args):\n",
    "    for regstr in args:\n",
    "        matchObj = re.search( regstr+'.*', data, re.M|re.I)\n",
    "        if matchObj:\n",
    "            print(matchObj.group(0).lstrip().rstrip())\n",
    "        else:\n",
    "            print(\"No \",regstr,\"found\")\n",
    "\n",
    "filename= input(\"Enter path for email header file\\n\");\n",
    "fo = open(filename, \"r\") #fo=filehandle\n",
    "data=fo.read()\n",
    "matchre(data,\"MIME-version\",\"Date:\",\"Subject:\",\"delivered-to:\",\"From:\",\"^to:\")\n",
    "fo.close()\n"
   ]
  }
 ],
 "metadata": {
  "kernelspec": {
   "display_name": "Python 3",
   "language": "python",
   "name": "python3"
  },
  "language_info": {
   "codemirror_mode": {
    "name": "ipython",
    "version": 3
   },
   "file_extension": ".py",
   "mimetype": "text/x-python",
   "name": "python",
   "nbconvert_exporter": "python",
   "pygments_lexer": "ipython3",
   "version": "3.8.8"
  }
 },
 "nbformat": 4,
 "nbformat_minor": 4
}
